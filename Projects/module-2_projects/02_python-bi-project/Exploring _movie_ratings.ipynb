{
 "cells": [
  {
   "cell_type": "code",
   "execution_count": 72,
   "metadata": {},
   "outputs": [],
   "source": [
    "import pandas as pd\n",
    "import numpy as np\n",
    "import seaborn as sns\n",
    "import matplotlib.pyplot as plt\n",
    "pd.set_option('display.max_columns',None)\n",
    "import warnings\n",
    "warnings.filterwarnings('ignore')\n",
    "%matplotlib inline"
   ]
  },
  {
   "cell_type": "markdown",
   "metadata": {},
   "source": [
    "### Datasets of movies, ratings and cast csv"
   ]
  },
  {
   "cell_type": "code",
   "execution_count": 73,
   "metadata": {},
   "outputs": [],
   "source": [
    "#load the movies and rating data\n",
    "movies_df = pd.read_csv('movies_metadata.csv')\n",
    "ratings_df = pd.read_csv('ratings_small.csv')\n",
    "cast_df = pd.read_csv('cast.csv')"
   ]
  },
  {
   "cell_type": "code",
   "execution_count": 74,
   "metadata": {},
   "outputs": [
    {
     "data": {
      "text/html": [
       "<div>\n",
       "<style scoped>\n",
       "    .dataframe tbody tr th:only-of-type {\n",
       "        vertical-align: middle;\n",
       "    }\n",
       "\n",
       "    .dataframe tbody tr th {\n",
       "        vertical-align: top;\n",
       "    }\n",
       "\n",
       "    .dataframe thead th {\n",
       "        text-align: right;\n",
       "    }\n",
       "</style>\n",
       "<table border=\"1\" class=\"dataframe\">\n",
       "  <thead>\n",
       "    <tr style=\"text-align: right;\">\n",
       "      <th></th>\n",
       "      <th>adult</th>\n",
       "      <th>belongs_to_collection</th>\n",
       "      <th>budget</th>\n",
       "      <th>genres</th>\n",
       "      <th>homepage</th>\n",
       "      <th>id</th>\n",
       "      <th>imdb_id</th>\n",
       "      <th>original_language</th>\n",
       "      <th>original_title</th>\n",
       "      <th>overview</th>\n",
       "      <th>popularity</th>\n",
       "      <th>poster_path</th>\n",
       "      <th>production_companies</th>\n",
       "      <th>production_countries</th>\n",
       "      <th>release_date</th>\n",
       "      <th>revenue</th>\n",
       "      <th>runtime</th>\n",
       "      <th>spoken_languages</th>\n",
       "      <th>status</th>\n",
       "      <th>tagline</th>\n",
       "      <th>title</th>\n",
       "      <th>video</th>\n",
       "      <th>vote_average</th>\n",
       "      <th>vote_count</th>\n",
       "    </tr>\n",
       "  </thead>\n",
       "  <tbody>\n",
       "    <tr>\n",
       "      <th>0</th>\n",
       "      <td>False</td>\n",
       "      <td>{'id': 10194, 'name': 'Toy Story Collection', ...</td>\n",
       "      <td>30000000</td>\n",
       "      <td>[{'id': 16, 'name': 'Animation'}, {'id': 35, '...</td>\n",
       "      <td>http://toystory.disney.com/toy-story</td>\n",
       "      <td>862</td>\n",
       "      <td>tt0114709</td>\n",
       "      <td>en</td>\n",
       "      <td>Toy Story</td>\n",
       "      <td>Led by Woody, Andy's toys live happily in his ...</td>\n",
       "      <td>21.9469</td>\n",
       "      <td>/rhIRbceoE9lR4veEXuwCC2wARtG.jpg</td>\n",
       "      <td>[{'name': 'Pixar Animation Studios', 'id': 3}]</td>\n",
       "      <td>[{'iso_3166_1': 'US', 'name': 'United States o...</td>\n",
       "      <td>1995-10-30</td>\n",
       "      <td>373554033.0</td>\n",
       "      <td>81.0</td>\n",
       "      <td>[{'iso_639_1': 'en', 'name': 'English'}]</td>\n",
       "      <td>Released</td>\n",
       "      <td>NaN</td>\n",
       "      <td>Toy Story</td>\n",
       "      <td>False</td>\n",
       "      <td>7.7</td>\n",
       "      <td>5415.0</td>\n",
       "    </tr>\n",
       "    <tr>\n",
       "      <th>1</th>\n",
       "      <td>False</td>\n",
       "      <td>NaN</td>\n",
       "      <td>65000000</td>\n",
       "      <td>[{'id': 12, 'name': 'Adventure'}, {'id': 14, '...</td>\n",
       "      <td>NaN</td>\n",
       "      <td>8844</td>\n",
       "      <td>tt0113497</td>\n",
       "      <td>en</td>\n",
       "      <td>Jumanji</td>\n",
       "      <td>When siblings Judy and Peter discover an encha...</td>\n",
       "      <td>17.0155</td>\n",
       "      <td>/vzmL6fP7aPKNKPRTFnZmiUfciyV.jpg</td>\n",
       "      <td>[{'name': 'TriStar Pictures', 'id': 559}, {'na...</td>\n",
       "      <td>[{'iso_3166_1': 'US', 'name': 'United States o...</td>\n",
       "      <td>1995-12-15</td>\n",
       "      <td>262797249.0</td>\n",
       "      <td>104.0</td>\n",
       "      <td>[{'iso_639_1': 'en', 'name': 'English'}, {'iso...</td>\n",
       "      <td>Released</td>\n",
       "      <td>Roll the dice and unleash the excitement!</td>\n",
       "      <td>Jumanji</td>\n",
       "      <td>False</td>\n",
       "      <td>6.9</td>\n",
       "      <td>2413.0</td>\n",
       "    </tr>\n",
       "    <tr>\n",
       "      <th>2</th>\n",
       "      <td>False</td>\n",
       "      <td>{'id': 119050, 'name': 'Grumpy Old Men Collect...</td>\n",
       "      <td>0</td>\n",
       "      <td>[{'id': 10749, 'name': 'Romance'}, {'id': 35, ...</td>\n",
       "      <td>NaN</td>\n",
       "      <td>15602</td>\n",
       "      <td>tt0113228</td>\n",
       "      <td>en</td>\n",
       "      <td>Grumpier Old Men</td>\n",
       "      <td>A family wedding reignites the ancient feud be...</td>\n",
       "      <td>11.7129</td>\n",
       "      <td>/6ksm1sjKMFLbO7UY2i6G1ju9SML.jpg</td>\n",
       "      <td>[{'name': 'Warner Bros.', 'id': 6194}, {'name'...</td>\n",
       "      <td>[{'iso_3166_1': 'US', 'name': 'United States o...</td>\n",
       "      <td>1995-12-22</td>\n",
       "      <td>0.0</td>\n",
       "      <td>101.0</td>\n",
       "      <td>[{'iso_639_1': 'en', 'name': 'English'}]</td>\n",
       "      <td>Released</td>\n",
       "      <td>Still Yelling. Still Fighting. Still Ready for...</td>\n",
       "      <td>Grumpier Old Men</td>\n",
       "      <td>False</td>\n",
       "      <td>6.5</td>\n",
       "      <td>92.0</td>\n",
       "    </tr>\n",
       "    <tr>\n",
       "      <th>3</th>\n",
       "      <td>False</td>\n",
       "      <td>NaN</td>\n",
       "      <td>16000000</td>\n",
       "      <td>[{'id': 35, 'name': 'Comedy'}, {'id': 18, 'nam...</td>\n",
       "      <td>NaN</td>\n",
       "      <td>31357</td>\n",
       "      <td>tt0114885</td>\n",
       "      <td>en</td>\n",
       "      <td>Waiting to Exhale</td>\n",
       "      <td>Cheated on, mistreated and stepped on, the wom...</td>\n",
       "      <td>3.85949</td>\n",
       "      <td>/16XOMpEaLWkrcPqSQqhTmeJuqQl.jpg</td>\n",
       "      <td>[{'name': 'Twentieth Century Fox Film Corporat...</td>\n",
       "      <td>[{'iso_3166_1': 'US', 'name': 'United States o...</td>\n",
       "      <td>1995-12-22</td>\n",
       "      <td>81452156.0</td>\n",
       "      <td>127.0</td>\n",
       "      <td>[{'iso_639_1': 'en', 'name': 'English'}]</td>\n",
       "      <td>Released</td>\n",
       "      <td>Friends are the people who let you be yourself...</td>\n",
       "      <td>Waiting to Exhale</td>\n",
       "      <td>False</td>\n",
       "      <td>6.1</td>\n",
       "      <td>34.0</td>\n",
       "    </tr>\n",
       "  </tbody>\n",
       "</table>\n",
       "</div>"
      ],
      "text/plain": [
       "   adult                              belongs_to_collection    budget  \\\n",
       "0  False  {'id': 10194, 'name': 'Toy Story Collection', ...  30000000   \n",
       "1  False                                                NaN  65000000   \n",
       "2  False  {'id': 119050, 'name': 'Grumpy Old Men Collect...         0   \n",
       "3  False                                                NaN  16000000   \n",
       "\n",
       "                                              genres  \\\n",
       "0  [{'id': 16, 'name': 'Animation'}, {'id': 35, '...   \n",
       "1  [{'id': 12, 'name': 'Adventure'}, {'id': 14, '...   \n",
       "2  [{'id': 10749, 'name': 'Romance'}, {'id': 35, ...   \n",
       "3  [{'id': 35, 'name': 'Comedy'}, {'id': 18, 'nam...   \n",
       "\n",
       "                               homepage     id    imdb_id original_language  \\\n",
       "0  http://toystory.disney.com/toy-story    862  tt0114709                en   \n",
       "1                                   NaN   8844  tt0113497                en   \n",
       "2                                   NaN  15602  tt0113228                en   \n",
       "3                                   NaN  31357  tt0114885                en   \n",
       "\n",
       "      original_title                                           overview  \\\n",
       "0          Toy Story  Led by Woody, Andy's toys live happily in his ...   \n",
       "1            Jumanji  When siblings Judy and Peter discover an encha...   \n",
       "2   Grumpier Old Men  A family wedding reignites the ancient feud be...   \n",
       "3  Waiting to Exhale  Cheated on, mistreated and stepped on, the wom...   \n",
       "\n",
       "  popularity                       poster_path  \\\n",
       "0    21.9469  /rhIRbceoE9lR4veEXuwCC2wARtG.jpg   \n",
       "1    17.0155  /vzmL6fP7aPKNKPRTFnZmiUfciyV.jpg   \n",
       "2    11.7129  /6ksm1sjKMFLbO7UY2i6G1ju9SML.jpg   \n",
       "3    3.85949  /16XOMpEaLWkrcPqSQqhTmeJuqQl.jpg   \n",
       "\n",
       "                                production_companies  \\\n",
       "0     [{'name': 'Pixar Animation Studios', 'id': 3}]   \n",
       "1  [{'name': 'TriStar Pictures', 'id': 559}, {'na...   \n",
       "2  [{'name': 'Warner Bros.', 'id': 6194}, {'name'...   \n",
       "3  [{'name': 'Twentieth Century Fox Film Corporat...   \n",
       "\n",
       "                                production_countries release_date  \\\n",
       "0  [{'iso_3166_1': 'US', 'name': 'United States o...   1995-10-30   \n",
       "1  [{'iso_3166_1': 'US', 'name': 'United States o...   1995-12-15   \n",
       "2  [{'iso_3166_1': 'US', 'name': 'United States o...   1995-12-22   \n",
       "3  [{'iso_3166_1': 'US', 'name': 'United States o...   1995-12-22   \n",
       "\n",
       "       revenue  runtime                                   spoken_languages  \\\n",
       "0  373554033.0     81.0           [{'iso_639_1': 'en', 'name': 'English'}]   \n",
       "1  262797249.0    104.0  [{'iso_639_1': 'en', 'name': 'English'}, {'iso...   \n",
       "2          0.0    101.0           [{'iso_639_1': 'en', 'name': 'English'}]   \n",
       "3   81452156.0    127.0           [{'iso_639_1': 'en', 'name': 'English'}]   \n",
       "\n",
       "     status                                            tagline  \\\n",
       "0  Released                                                NaN   \n",
       "1  Released          Roll the dice and unleash the excitement!   \n",
       "2  Released  Still Yelling. Still Fighting. Still Ready for...   \n",
       "3  Released  Friends are the people who let you be yourself...   \n",
       "\n",
       "               title  video  vote_average  vote_count  \n",
       "0          Toy Story  False           7.7      5415.0  \n",
       "1            Jumanji  False           6.9      2413.0  \n",
       "2   Grumpier Old Men  False           6.5        92.0  \n",
       "3  Waiting to Exhale  False           6.1        34.0  "
      ]
     },
     "execution_count": 74,
     "metadata": {},
     "output_type": "execute_result"
    }
   ],
   "source": [
    "movies_df.head(4)"
   ]
  },
  {
   "cell_type": "code",
   "execution_count": 75,
   "metadata": {},
   "outputs": [
    {
     "data": {
      "text/html": [
       "<div>\n",
       "<style scoped>\n",
       "    .dataframe tbody tr th:only-of-type {\n",
       "        vertical-align: middle;\n",
       "    }\n",
       "\n",
       "    .dataframe tbody tr th {\n",
       "        vertical-align: top;\n",
       "    }\n",
       "\n",
       "    .dataframe thead th {\n",
       "        text-align: right;\n",
       "    }\n",
       "</style>\n",
       "<table border=\"1\" class=\"dataframe\">\n",
       "  <thead>\n",
       "    <tr style=\"text-align: right;\">\n",
       "      <th></th>\n",
       "      <th>userId</th>\n",
       "      <th>movieId</th>\n",
       "      <th>rating</th>\n",
       "      <th>timestamp</th>\n",
       "    </tr>\n",
       "  </thead>\n",
       "  <tbody>\n",
       "    <tr>\n",
       "      <th>0</th>\n",
       "      <td>1</td>\n",
       "      <td>31</td>\n",
       "      <td>2.5</td>\n",
       "      <td>1260759144</td>\n",
       "    </tr>\n",
       "    <tr>\n",
       "      <th>1</th>\n",
       "      <td>1</td>\n",
       "      <td>1029</td>\n",
       "      <td>3.0</td>\n",
       "      <td>1260759179</td>\n",
       "    </tr>\n",
       "    <tr>\n",
       "      <th>2</th>\n",
       "      <td>1</td>\n",
       "      <td>1061</td>\n",
       "      <td>3.0</td>\n",
       "      <td>1260759182</td>\n",
       "    </tr>\n",
       "  </tbody>\n",
       "</table>\n",
       "</div>"
      ],
      "text/plain": [
       "   userId  movieId  rating   timestamp\n",
       "0       1       31     2.5  1260759144\n",
       "1       1     1029     3.0  1260759179\n",
       "2       1     1061     3.0  1260759182"
      ]
     },
     "execution_count": 75,
     "metadata": {},
     "output_type": "execute_result"
    }
   ],
   "source": [
    "ratings_df.head(3)"
   ]
  },
  {
   "cell_type": "code",
   "execution_count": 76,
   "metadata": {},
   "outputs": [
    {
     "data": {
      "text/html": [
       "<div>\n",
       "<style scoped>\n",
       "    .dataframe tbody tr th:only-of-type {\n",
       "        vertical-align: middle;\n",
       "    }\n",
       "\n",
       "    .dataframe tbody tr th {\n",
       "        vertical-align: top;\n",
       "    }\n",
       "\n",
       "    .dataframe thead th {\n",
       "        text-align: right;\n",
       "    }\n",
       "</style>\n",
       "<table border=\"1\" class=\"dataframe\">\n",
       "  <thead>\n",
       "    <tr style=\"text-align: right;\">\n",
       "      <th></th>\n",
       "      <th>Unnamed: 0</th>\n",
       "      <th>movie_id</th>\n",
       "      <th>0</th>\n",
       "      <th>cast_id</th>\n",
       "      <th>character</th>\n",
       "      <th>credit_id</th>\n",
       "      <th>gender</th>\n",
       "      <th>id</th>\n",
       "      <th>name</th>\n",
       "      <th>order</th>\n",
       "      <th>profile_path</th>\n",
       "    </tr>\n",
       "  </thead>\n",
       "  <tbody>\n",
       "    <tr>\n",
       "      <th>0</th>\n",
       "      <td>0</td>\n",
       "      <td>862</td>\n",
       "      <td>NaN</td>\n",
       "      <td>14.0</td>\n",
       "      <td>Woody (voice)</td>\n",
       "      <td>52fe4284c3a36847f8024f95</td>\n",
       "      <td>2.0</td>\n",
       "      <td>31.0</td>\n",
       "      <td>Tom Hanks</td>\n",
       "      <td>0.0</td>\n",
       "      <td>/pQFoyx7rp09CJTAb932F2g8Nlho.jpg</td>\n",
       "    </tr>\n",
       "    <tr>\n",
       "      <th>1</th>\n",
       "      <td>0</td>\n",
       "      <td>862</td>\n",
       "      <td>NaN</td>\n",
       "      <td>15.0</td>\n",
       "      <td>Buzz Lightyear (voice)</td>\n",
       "      <td>52fe4284c3a36847f8024f99</td>\n",
       "      <td>2.0</td>\n",
       "      <td>12898.0</td>\n",
       "      <td>Tim Allen</td>\n",
       "      <td>1.0</td>\n",
       "      <td>/uX2xVf6pMmPepxnvFWyBtjexzgY.jpg</td>\n",
       "    </tr>\n",
       "    <tr>\n",
       "      <th>2</th>\n",
       "      <td>0</td>\n",
       "      <td>862</td>\n",
       "      <td>NaN</td>\n",
       "      <td>16.0</td>\n",
       "      <td>Mr. Potato Head (voice)</td>\n",
       "      <td>52fe4284c3a36847f8024f9d</td>\n",
       "      <td>2.0</td>\n",
       "      <td>7167.0</td>\n",
       "      <td>Don Rickles</td>\n",
       "      <td>2.0</td>\n",
       "      <td>/h5BcaDMPRVLHLDzbQavec4xfSdt.jpg</td>\n",
       "    </tr>\n",
       "    <tr>\n",
       "      <th>3</th>\n",
       "      <td>0</td>\n",
       "      <td>862</td>\n",
       "      <td>NaN</td>\n",
       "      <td>17.0</td>\n",
       "      <td>Slinky Dog (voice)</td>\n",
       "      <td>52fe4284c3a36847f8024fa1</td>\n",
       "      <td>2.0</td>\n",
       "      <td>12899.0</td>\n",
       "      <td>Jim Varney</td>\n",
       "      <td>3.0</td>\n",
       "      <td>/eIo2jVVXYgjDtaHoF19Ll9vtW7h.jpg</td>\n",
       "    </tr>\n",
       "    <tr>\n",
       "      <th>4</th>\n",
       "      <td>0</td>\n",
       "      <td>862</td>\n",
       "      <td>NaN</td>\n",
       "      <td>18.0</td>\n",
       "      <td>Rex (voice)</td>\n",
       "      <td>52fe4284c3a36847f8024fa5</td>\n",
       "      <td>2.0</td>\n",
       "      <td>12900.0</td>\n",
       "      <td>Wallace Shawn</td>\n",
       "      <td>4.0</td>\n",
       "      <td>/oGE6JqPP2xH4tNORKNqxbNPYi7u.jpg</td>\n",
       "    </tr>\n",
       "  </tbody>\n",
       "</table>\n",
       "</div>"
      ],
      "text/plain": [
       "   Unnamed: 0  movie_id   0  cast_id                character  \\\n",
       "0           0       862 NaN     14.0            Woody (voice)   \n",
       "1           0       862 NaN     15.0   Buzz Lightyear (voice)   \n",
       "2           0       862 NaN     16.0  Mr. Potato Head (voice)   \n",
       "3           0       862 NaN     17.0       Slinky Dog (voice)   \n",
       "4           0       862 NaN     18.0              Rex (voice)   \n",
       "\n",
       "                  credit_id  gender       id           name  order  \\\n",
       "0  52fe4284c3a36847f8024f95     2.0     31.0      Tom Hanks    0.0   \n",
       "1  52fe4284c3a36847f8024f99     2.0  12898.0      Tim Allen    1.0   \n",
       "2  52fe4284c3a36847f8024f9d     2.0   7167.0    Don Rickles    2.0   \n",
       "3  52fe4284c3a36847f8024fa1     2.0  12899.0     Jim Varney    3.0   \n",
       "4  52fe4284c3a36847f8024fa5     2.0  12900.0  Wallace Shawn    4.0   \n",
       "\n",
       "                       profile_path  \n",
       "0  /pQFoyx7rp09CJTAb932F2g8Nlho.jpg  \n",
       "1  /uX2xVf6pMmPepxnvFWyBtjexzgY.jpg  \n",
       "2  /h5BcaDMPRVLHLDzbQavec4xfSdt.jpg  \n",
       "3  /eIo2jVVXYgjDtaHoF19Ll9vtW7h.jpg  \n",
       "4  /oGE6JqPP2xH4tNORKNqxbNPYi7u.jpg  "
      ]
     },
     "execution_count": 76,
     "metadata": {},
     "output_type": "execute_result"
    }
   ],
   "source": [
    "cast_df.head(5)"
   ]
  },
  {
   "cell_type": "code",
   "execution_count": 77,
   "metadata": {},
   "outputs": [],
   "source": [
    "# Working with sample to prevent kernel breakdown due to very large dataset"
   ]
  },
  {
   "cell_type": "code",
   "execution_count": 78,
   "metadata": {},
   "outputs": [],
   "source": [
    "cast_df_sample = cast_df.sample(n=1000, random_state=42)"
   ]
  },
  {
   "cell_type": "code",
   "execution_count": 79,
   "metadata": {},
   "outputs": [],
   "source": [
    "#Utilize the most important features from the movie metadata\n",
    "movies_df = movies_df[['id', 'revenue', 'runtime', 'status', 'vote_average', 'title', 'genres', 'original_language','overview','popularity', 'tagline'  ]]"
   ]
  },
  {
   "cell_type": "code",
   "execution_count": 80,
   "metadata": {},
   "outputs": [],
   "source": [
    "# Renaming the id columns\n",
    "movies_df.rename(columns={'id': 'movies_id'}, inplace=True)"
   ]
  },
  {
   "cell_type": "markdown",
   "metadata": {},
   "source": [
    "### The genre column has a list of dictionary and it has to be unpacked and exploded to be able to work on it"
   ]
  },
  {
   "cell_type": "code",
   "execution_count": 81,
   "metadata": {},
   "outputs": [
    {
     "data": {
      "text/plain": [
       "0        [{'id': 16, 'name': 'Animation'}, {'id': 35, '...\n",
       "1        [{'id': 12, 'name': 'Adventure'}, {'id': 14, '...\n",
       "2        [{'id': 10749, 'name': 'Romance'}, {'id': 35, ...\n",
       "3        [{'id': 35, 'name': 'Comedy'}, {'id': 18, 'nam...\n",
       "4                           [{'id': 35, 'name': 'Comedy'}]\n",
       "                               ...                        \n",
       "45461    [{'id': 18, 'name': 'Drama'}, {'id': 10751, 'n...\n",
       "45462                        [{'id': 18, 'name': 'Drama'}]\n",
       "45463    [{'id': 28, 'name': 'Action'}, {'id': 18, 'nam...\n",
       "45464                                                   []\n",
       "45465                                                   []\n",
       "Name: genres, Length: 45466, dtype: object"
      ]
     },
     "execution_count": 81,
     "metadata": {},
     "output_type": "execute_result"
    }
   ],
   "source": [
    "# This column has list of dictionary and we have to unpack it to be able to work with this data\n",
    "movies_df['genres']"
   ]
  },
  {
   "cell_type": "code",
   "execution_count": 82,
   "metadata": {},
   "outputs": [
    {
     "data": {
      "text/plain": [
       "\"[{'id': 16, 'name': 'Animation'}, {'id': 35, 'name': 'Comedy'}, {'id': 10751, 'name': 'Family'}]\""
      ]
     },
     "execution_count": 82,
     "metadata": {},
     "output_type": "execute_result"
    }
   ],
   "source": [
    "movies_df['genres'][0]"
   ]
  },
  {
   "cell_type": "code",
   "execution_count": 83,
   "metadata": {},
   "outputs": [
    {
     "data": {
      "text/plain": [
       "[{'id': 16, 'name': 'Animation'},\n",
       " {'id': 35, 'name': 'Comedy'},\n",
       " {'id': 10751, 'name': 'Family'}]"
      ]
     },
     "execution_count": 83,
     "metadata": {},
     "output_type": "execute_result"
    }
   ],
   "source": [
    "#eval function. It should actually be a list, not a str. This is how you know its stored in a json file\n",
    "eval(movies_df['genres'][0])"
   ]
  },
  {
   "cell_type": "code",
   "execution_count": 84,
   "metadata": {},
   "outputs": [],
   "source": [
    "movies_df['genres'] = movies_df['genres'].apply(lambda x: eval(x))"
   ]
  },
  {
   "cell_type": "code",
   "execution_count": 85,
   "metadata": {},
   "outputs": [
    {
     "data": {
      "text/html": [
       "<div>\n",
       "<style scoped>\n",
       "    .dataframe tbody tr th:only-of-type {\n",
       "        vertical-align: middle;\n",
       "    }\n",
       "\n",
       "    .dataframe tbody tr th {\n",
       "        vertical-align: top;\n",
       "    }\n",
       "\n",
       "    .dataframe thead th {\n",
       "        text-align: right;\n",
       "    }\n",
       "</style>\n",
       "<table border=\"1\" class=\"dataframe\">\n",
       "  <thead>\n",
       "    <tr style=\"text-align: right;\">\n",
       "      <th></th>\n",
       "      <th>genres</th>\n",
       "      <th>movies_id</th>\n",
       "    </tr>\n",
       "  </thead>\n",
       "  <tbody>\n",
       "    <tr>\n",
       "      <th>0</th>\n",
       "      <td>[{'id': 16, 'name': 'Animation'}, {'id': 35, '...</td>\n",
       "      <td>862</td>\n",
       "    </tr>\n",
       "    <tr>\n",
       "      <th>1</th>\n",
       "      <td>[{'id': 12, 'name': 'Adventure'}, {'id': 14, '...</td>\n",
       "      <td>8844</td>\n",
       "    </tr>\n",
       "    <tr>\n",
       "      <th>2</th>\n",
       "      <td>[{'id': 10749, 'name': 'Romance'}, {'id': 35, ...</td>\n",
       "      <td>15602</td>\n",
       "    </tr>\n",
       "    <tr>\n",
       "      <th>3</th>\n",
       "      <td>[{'id': 35, 'name': 'Comedy'}, {'id': 18, 'nam...</td>\n",
       "      <td>31357</td>\n",
       "    </tr>\n",
       "    <tr>\n",
       "      <th>4</th>\n",
       "      <td>[{'id': 35, 'name': 'Comedy'}]</td>\n",
       "      <td>11862</td>\n",
       "    </tr>\n",
       "  </tbody>\n",
       "</table>\n",
       "</div>"
      ],
      "text/plain": [
       "                                              genres movies_id\n",
       "0  [{'id': 16, 'name': 'Animation'}, {'id': 35, '...       862\n",
       "1  [{'id': 12, 'name': 'Adventure'}, {'id': 14, '...      8844\n",
       "2  [{'id': 10749, 'name': 'Romance'}, {'id': 35, ...     15602\n",
       "3  [{'id': 35, 'name': 'Comedy'}, {'id': 18, 'nam...     31357\n",
       "4                     [{'id': 35, 'name': 'Comedy'}]     11862"
      ]
     },
     "execution_count": 85,
     "metadata": {},
     "output_type": "execute_result"
    }
   ],
   "source": [
    "genre = movies_df[['genres', 'movies_id']]\n",
    "genre.head()\n",
    "\n"
   ]
  },
  {
   "cell_type": "code",
   "execution_count": 86,
   "metadata": {},
   "outputs": [
    {
     "data": {
      "text/html": [
       "<div>\n",
       "<style scoped>\n",
       "    .dataframe tbody tr th:only-of-type {\n",
       "        vertical-align: middle;\n",
       "    }\n",
       "\n",
       "    .dataframe tbody tr th {\n",
       "        vertical-align: top;\n",
       "    }\n",
       "\n",
       "    .dataframe thead th {\n",
       "        text-align: right;\n",
       "    }\n",
       "</style>\n",
       "<table border=\"1\" class=\"dataframe\">\n",
       "  <thead>\n",
       "    <tr style=\"text-align: right;\">\n",
       "      <th></th>\n",
       "      <th>genres</th>\n",
       "      <th>movies_id</th>\n",
       "    </tr>\n",
       "  </thead>\n",
       "  <tbody>\n",
       "    <tr>\n",
       "      <th>0</th>\n",
       "      <td>{'id': 16, 'name': 'Animation'}</td>\n",
       "      <td>862</td>\n",
       "    </tr>\n",
       "    <tr>\n",
       "      <th>0</th>\n",
       "      <td>{'id': 35, 'name': 'Comedy'}</td>\n",
       "      <td>862</td>\n",
       "    </tr>\n",
       "    <tr>\n",
       "      <th>0</th>\n",
       "      <td>{'id': 10751, 'name': 'Family'}</td>\n",
       "      <td>862</td>\n",
       "    </tr>\n",
       "    <tr>\n",
       "      <th>1</th>\n",
       "      <td>{'id': 12, 'name': 'Adventure'}</td>\n",
       "      <td>8844</td>\n",
       "    </tr>\n",
       "    <tr>\n",
       "      <th>1</th>\n",
       "      <td>{'id': 14, 'name': 'Fantasy'}</td>\n",
       "      <td>8844</td>\n",
       "    </tr>\n",
       "    <tr>\n",
       "      <th>...</th>\n",
       "      <td>...</td>\n",
       "      <td>...</td>\n",
       "    </tr>\n",
       "    <tr>\n",
       "      <th>45463</th>\n",
       "      <td>{'id': 28, 'name': 'Action'}</td>\n",
       "      <td>67758</td>\n",
       "    </tr>\n",
       "    <tr>\n",
       "      <th>45463</th>\n",
       "      <td>{'id': 18, 'name': 'Drama'}</td>\n",
       "      <td>67758</td>\n",
       "    </tr>\n",
       "    <tr>\n",
       "      <th>45463</th>\n",
       "      <td>{'id': 53, 'name': 'Thriller'}</td>\n",
       "      <td>67758</td>\n",
       "    </tr>\n",
       "    <tr>\n",
       "      <th>45464</th>\n",
       "      <td>NaN</td>\n",
       "      <td>227506</td>\n",
       "    </tr>\n",
       "    <tr>\n",
       "      <th>45465</th>\n",
       "      <td>NaN</td>\n",
       "      <td>461257</td>\n",
       "    </tr>\n",
       "  </tbody>\n",
       "</table>\n",
       "<p>93548 rows × 2 columns</p>\n",
       "</div>"
      ],
      "text/plain": [
       "                                genres movies_id\n",
       "0      {'id': 16, 'name': 'Animation'}       862\n",
       "0         {'id': 35, 'name': 'Comedy'}       862\n",
       "0      {'id': 10751, 'name': 'Family'}       862\n",
       "1      {'id': 12, 'name': 'Adventure'}      8844\n",
       "1        {'id': 14, 'name': 'Fantasy'}      8844\n",
       "...                                ...       ...\n",
       "45463     {'id': 28, 'name': 'Action'}     67758\n",
       "45463      {'id': 18, 'name': 'Drama'}     67758\n",
       "45463   {'id': 53, 'name': 'Thriller'}     67758\n",
       "45464                              NaN    227506\n",
       "45465                              NaN    461257\n",
       "\n",
       "[93548 rows x 2 columns]"
      ]
     },
     "execution_count": 86,
     "metadata": {},
     "output_type": "execute_result"
    }
   ],
   "source": [
    "genres_explode = genre.explode('genres')\n",
    "genres_explode"
   ]
  },
  {
   "cell_type": "code",
   "execution_count": 87,
   "metadata": {},
   "outputs": [],
   "source": [
    "genres_undict = pd.concat([genres_explode.drop(['genres'], axis=1), genres_explode[\"genres\"].apply(pd.Series)], axis=1)"
   ]
  },
  {
   "cell_type": "code",
   "execution_count": 88,
   "metadata": {},
   "outputs": [],
   "source": [
    "# Exploding the dictionaries\n",
    "genres_undict = genres_undict[['movies_id', 'name']]"
   ]
  },
  {
   "cell_type": "code",
   "execution_count": 89,
   "metadata": {},
   "outputs": [],
   "source": [
    "# Now that we have succesfully exploded this dictionary columns, let's merge it back to the original data set.\n",
    "movies_df_genre = pd.merge(movies_df, genres_undict, on = 'movies_id', how = 'left')\n"
   ]
  },
  {
   "cell_type": "code",
   "execution_count": 90,
   "metadata": {},
   "outputs": [],
   "source": [
    "movies_df_genre = movies_df_genre.drop(columns='genres')"
   ]
  },
  {
   "cell_type": "markdown",
   "metadata": {},
   "source": [
    "converting some columns that are originally supposed to be integer, but displaying as objects back to int."
   ]
  },
  {
   "cell_type": "code",
   "execution_count": 91,
   "metadata": {},
   "outputs": [],
   "source": [
    "#convert column from object to integer using python functions, I just learned this method using google\n",
    "def to_numeric(data, column):\n",
    "    '''\n",
    "    to_numeric: function name\n",
    "    data: pandas dataframe (movies_df)\n",
    "    column: column that needs to be chanaged\n",
    "    read more on pd.numeric documentation\n",
    "    '''\n",
    "    data[column] = pd.to_numeric(data[column], errors='coerce', downcast='integer')\n",
    "    data = data.fillna(0)\n",
    "    data[column] = data[column].astype(int)\n",
    "    return data"
   ]
  },
  {
   "cell_type": "code",
   "execution_count": 92,
   "metadata": {},
   "outputs": [],
   "source": [
    "# Id column converted to type integer\n",
    "movies_df_genre = to_numeric(movies_df_genre, column='movies_id')"
   ]
  },
  {
   "cell_type": "markdown",
   "metadata": {},
   "source": [
    "### Merging ratings_csv data and Movies_csv to one dataset"
   ]
  },
  {
   "cell_type": "code",
   "execution_count": 93,
   "metadata": {},
   "outputs": [],
   "source": [
    "# Merging the ratings and movies dataset to look at the relationship on the key userid and movie_id\n",
    "movies_df_genre_ratings = pd.merge(ratings_df, movies_df_genre, left_on='movieId', right_on='movies_id')"
   ]
  },
  {
   "cell_type": "code",
   "execution_count": 94,
   "metadata": {},
   "outputs": [],
   "source": [
    "movies_ratings_cast_df = pd.merge(movies_df_genre_ratings, cast_df_sample, left_on='movieId', right_on='movie_id')\n"
   ]
  },
  {
   "cell_type": "code",
   "execution_count": 95,
   "metadata": {},
   "outputs": [
    {
     "data": {
      "text/plain": [
       "Index(['userId', 'movieId', 'rating', 'timestamp', 'movies_id', 'revenue',\n",
       "       'runtime', 'status', 'vote_average', 'title', 'original_language',\n",
       "       'overview', 'popularity', 'tagline', 'name_x', 'Unnamed: 0', 'movie_id',\n",
       "       '0', 'cast_id', 'character', 'credit_id', 'gender', 'id', 'name_y',\n",
       "       'order', 'profile_path'],\n",
       "      dtype='object')"
      ]
     },
     "execution_count": 95,
     "metadata": {},
     "output_type": "execute_result"
    }
   ],
   "source": [
    "movies_ratings_cast_df.columns"
   ]
  },
  {
   "cell_type": "code",
   "execution_count": 96,
   "metadata": {},
   "outputs": [],
   "source": [
    "movies_ratings_cast_df = movies_ratings_cast_df.drop(columns='movies_id')"
   ]
  },
  {
   "cell_type": "code",
   "execution_count": 97,
   "metadata": {},
   "outputs": [],
   "source": [
    "movies_ratings_cast_df = movies_ratings_cast_df.drop(columns='movie_id')"
   ]
  },
  {
   "cell_type": "code",
   "execution_count": 98,
   "metadata": {},
   "outputs": [],
   "source": [
    "#replace missing values to Unkown on 'status' column\n",
    "movies_ratings_cast_df['status'] = movies_ratings_cast_df[['status']].fillna('Unknown')"
   ]
  },
  {
   "cell_type": "code",
   "execution_count": 99,
   "metadata": {},
   "outputs": [],
   "source": [
    "#drop the timestamp column\n",
    "movies_ratings_cast_df = movies_ratings_cast_df.drop(['timestamp'], axis=1)\n"
   ]
  },
  {
   "cell_type": "markdown",
   "metadata": {},
   "source": [
    "### Ploting of ratings in the dataset to see frequencies in movie rating, that is the overall movies with its rating point"
   ]
  },
  {
   "cell_type": "code",
   "execution_count": 100,
   "metadata": {},
   "outputs": [
    {
     "data": {
      "image/png": "[encoded data removed]",
      "text/plain": [
       "<Figure size 432x288 with 1 Axes>"
      ]
     },
     "metadata": {
      "needs_background": "light"
     },
     "output_type": "display_data"
    }
   ],
   "source": [
    "# plot of ratings and their frequencies in the data\n",
    "movies_ratings_cast_df['rating'].value_counts().plot(kind='bar')\n",
    "plt.xlabel('Ratings')\n",
    "plt.ylabel('Frequencies')\n",
    "plt.show()"
   ]
  },
  {
   "cell_type": "code",
   "execution_count": 101,
   "metadata": {},
   "outputs": [
    {
     "data": {
      "text/plain": [
       "Index(['userId', 'movieId', 'rating', 'revenue', 'runtime', 'status',\n",
       "       'vote_average', 'title', 'original_language', 'overview', 'popularity',\n",
       "       'tagline', 'name_x', 'Unnamed: 0', '0', 'cast_id', 'character',\n",
       "       'credit_id', 'gender', 'id', 'name_y', 'order', 'profile_path'],\n",
       "      dtype='object')"
      ]
     },
     "execution_count": 101,
     "metadata": {},
     "output_type": "execute_result"
    }
   ],
   "source": [
    "movies_ratings_cast_df.columns"
   ]
  },
  {
   "cell_type": "markdown",
   "metadata": {},
   "source": [
    "Further subsets of columns of interest"
   ]
  },
  {
   "cell_type": "code",
   "execution_count": 103,
   "metadata": {},
   "outputs": [],
   "source": [
    "movies_ratings_cast_df = movies_ratings_cast_df[['userId', 'movieId', 'rating', 'revenue',\n",
    "                                                'status', 'vote_average', 'title', 'original_language',\n",
    "                                                'overview', 'popularity', 'tagline', 'name_x', 'cast_id',\n",
    "                                                'character', 'gender', 'name_y']]"
   ]
  },
  {
   "cell_type": "code",
   "execution_count": 104,
   "metadata": {
    "scrolled": true
   },
   "outputs": [
    {
     "data": {
      "text/html": [
       "<div>\n",
       "<style scoped>\n",
       "    .dataframe tbody tr th:only-of-type {\n",
       "        vertical-align: middle;\n",
       "    }\n",
       "\n",
       "    .dataframe tbody tr th {\n",
       "        vertical-align: top;\n",
       "    }\n",
       "\n",
       "    .dataframe thead th {\n",
       "        text-align: right;\n",
       "    }\n",
       "</style>\n",
       "<table border=\"1\" class=\"dataframe\">\n",
       "  <thead>\n",
       "    <tr style=\"text-align: right;\">\n",
       "      <th></th>\n",
       "      <th>userId</th>\n",
       "      <th>movieId</th>\n",
       "      <th>rating</th>\n",
       "      <th>revenue</th>\n",
       "      <th>status</th>\n",
       "      <th>vote_average</th>\n",
       "      <th>title</th>\n",
       "      <th>original_language</th>\n",
       "      <th>overview</th>\n",
       "      <th>popularity</th>\n",
       "      <th>tagline</th>\n",
       "      <th>genre</th>\n",
       "      <th>cast_id</th>\n",
       "      <th>character</th>\n",
       "      <th>gender</th>\n",
       "      <th>actor_name</th>\n",
       "    </tr>\n",
       "  </thead>\n",
       "  <tbody>\n",
       "    <tr>\n",
       "      <th>0</th>\n",
       "      <td>2</td>\n",
       "      <td>272</td>\n",
       "      <td>3.0</td>\n",
       "      <td>374218673.0</td>\n",
       "      <td>Released</td>\n",
       "      <td>7.5</td>\n",
       "      <td>Batman Begins</td>\n",
       "      <td>en</td>\n",
       "      <td>Driven by tragedy, billionaire Bruce Wayne ded...</td>\n",
       "      <td>28.5053</td>\n",
       "      <td>Evil fears the knight.</td>\n",
       "      <td>Action</td>\n",
       "      <td>36.0</td>\n",
       "      <td>Finch</td>\n",
       "      <td>2.0</td>\n",
       "      <td>Larry Holden</td>\n",
       "    </tr>\n",
       "    <tr>\n",
       "      <th>1</th>\n",
       "      <td>2</td>\n",
       "      <td>272</td>\n",
       "      <td>3.0</td>\n",
       "      <td>374218673.0</td>\n",
       "      <td>Released</td>\n",
       "      <td>7.5</td>\n",
       "      <td>Batman Begins</td>\n",
       "      <td>en</td>\n",
       "      <td>Driven by tragedy, billionaire Bruce Wayne ded...</td>\n",
       "      <td>28.5053</td>\n",
       "      <td>Evil fears the knight.</td>\n",
       "      <td>Crime</td>\n",
       "      <td>36.0</td>\n",
       "      <td>Finch</td>\n",
       "      <td>2.0</td>\n",
       "      <td>Larry Holden</td>\n",
       "    </tr>\n",
       "    <tr>\n",
       "      <th>2</th>\n",
       "      <td>2</td>\n",
       "      <td>272</td>\n",
       "      <td>3.0</td>\n",
       "      <td>374218673.0</td>\n",
       "      <td>Released</td>\n",
       "      <td>7.5</td>\n",
       "      <td>Batman Begins</td>\n",
       "      <td>en</td>\n",
       "      <td>Driven by tragedy, billionaire Bruce Wayne ded...</td>\n",
       "      <td>28.5053</td>\n",
       "      <td>Evil fears the knight.</td>\n",
       "      <td>Drama</td>\n",
       "      <td>36.0</td>\n",
       "      <td>Finch</td>\n",
       "      <td>2.0</td>\n",
       "      <td>Larry Holden</td>\n",
       "    </tr>\n",
       "    <tr>\n",
       "      <th>3</th>\n",
       "      <td>7</td>\n",
       "      <td>272</td>\n",
       "      <td>3.0</td>\n",
       "      <td>374218673.0</td>\n",
       "      <td>Released</td>\n",
       "      <td>7.5</td>\n",
       "      <td>Batman Begins</td>\n",
       "      <td>en</td>\n",
       "      <td>Driven by tragedy, billionaire Bruce Wayne ded...</td>\n",
       "      <td>28.5053</td>\n",
       "      <td>Evil fears the knight.</td>\n",
       "      <td>Action</td>\n",
       "      <td>36.0</td>\n",
       "      <td>Finch</td>\n",
       "      <td>2.0</td>\n",
       "      <td>Larry Holden</td>\n",
       "    </tr>\n",
       "    <tr>\n",
       "      <th>4</th>\n",
       "      <td>7</td>\n",
       "      <td>272</td>\n",
       "      <td>3.0</td>\n",
       "      <td>374218673.0</td>\n",
       "      <td>Released</td>\n",
       "      <td>7.5</td>\n",
       "      <td>Batman Begins</td>\n",
       "      <td>en</td>\n",
       "      <td>Driven by tragedy, billionaire Bruce Wayne ded...</td>\n",
       "      <td>28.5053</td>\n",
       "      <td>Evil fears the knight.</td>\n",
       "      <td>Crime</td>\n",
       "      <td>36.0</td>\n",
       "      <td>Finch</td>\n",
       "      <td>2.0</td>\n",
       "      <td>Larry Holden</td>\n",
       "    </tr>\n",
       "  </tbody>\n",
       "</table>\n",
       "</div>"
      ],
      "text/plain": [
       "   userId  movieId  rating      revenue    status  vote_average  \\\n",
       "0       2      272     3.0  374218673.0  Released           7.5   \n",
       "1       2      272     3.0  374218673.0  Released           7.5   \n",
       "2       2      272     3.0  374218673.0  Released           7.5   \n",
       "3       7      272     3.0  374218673.0  Released           7.5   \n",
       "4       7      272     3.0  374218673.0  Released           7.5   \n",
       "\n",
       "           title original_language  \\\n",
       "0  Batman Begins                en   \n",
       "1  Batman Begins                en   \n",
       "2  Batman Begins                en   \n",
       "3  Batman Begins                en   \n",
       "4  Batman Begins                en   \n",
       "\n",
       "                                            overview popularity  \\\n",
       "0  Driven by tragedy, billionaire Bruce Wayne ded...    28.5053   \n",
       "1  Driven by tragedy, billionaire Bruce Wayne ded...    28.5053   \n",
       "2  Driven by tragedy, billionaire Bruce Wayne ded...    28.5053   \n",
       "3  Driven by tragedy, billionaire Bruce Wayne ded...    28.5053   \n",
       "4  Driven by tragedy, billionaire Bruce Wayne ded...    28.5053   \n",
       "\n",
       "                  tagline   genre  cast_id character  gender    actor_name  \n",
       "0  Evil fears the knight.  Action     36.0     Finch     2.0  Larry Holden  \n",
       "1  Evil fears the knight.   Crime     36.0     Finch     2.0  Larry Holden  \n",
       "2  Evil fears the knight.   Drama     36.0     Finch     2.0  Larry Holden  \n",
       "3  Evil fears the knight.  Action     36.0     Finch     2.0  Larry Holden  \n",
       "4  Evil fears the knight.   Crime     36.0     Finch     2.0  Larry Holden  "
      ]
     },
     "execution_count": 104,
     "metadata": {},
     "output_type": "execute_result"
    }
   ],
   "source": [
    "movies_ratings_cast_df = movies_ratings_cast_df.rename(columns={'name_x':'genre', 'name_y':'actor_name'})\n",
    "\n",
    "movies_ratings_cast_df.head(5)"
   ]
  },
  {
   "cell_type": "markdown",
   "metadata": {},
   "source": [
    "### Highest and lowest rated movies:\n",
    "I want to know if the language column contributed to high ratings of the movies"
   ]
  },
  {
   "cell_type": "code",
   "execution_count": 110,
   "metadata": {},
   "outputs": [],
   "source": [
    "highest_rated_movies = movies_ratings_cast_df.loc[movies_ratings_cast_df['rating'] == 5.0]\n"
   ]
  },
  {
   "cell_type": "code",
   "execution_count": 111,
   "metadata": {},
   "outputs": [
    {
     "data": {
      "text/plain": [
       "(942, 16)"
      ]
     },
     "execution_count": 111,
     "metadata": {},
     "output_type": "execute_result"
    }
   ],
   "source": [
    "highest_rated_movies.shape"
   ]
  },
  {
   "cell_type": "code",
   "execution_count": 112,
   "metadata": {
    "scrolled": true
   },
   "outputs": [
    {
     "data": {
      "text/html": [
       "<div>\n",
       "<style scoped>\n",
       "    .dataframe tbody tr th:only-of-type {\n",
       "        vertical-align: middle;\n",
       "    }\n",
       "\n",
       "    .dataframe tbody tr th {\n",
       "        vertical-align: top;\n",
       "    }\n",
       "\n",
       "    .dataframe thead th {\n",
       "        text-align: right;\n",
       "    }\n",
       "</style>\n",
       "<table border=\"1\" class=\"dataframe\">\n",
       "  <thead>\n",
       "    <tr style=\"text-align: right;\">\n",
       "      <th></th>\n",
       "      <th>userId</th>\n",
       "      <th>movieId</th>\n",
       "      <th>rating</th>\n",
       "      <th>revenue</th>\n",
       "      <th>status</th>\n",
       "      <th>vote_average</th>\n",
       "      <th>title</th>\n",
       "      <th>original_language</th>\n",
       "      <th>overview</th>\n",
       "      <th>popularity</th>\n",
       "      <th>tagline</th>\n",
       "      <th>genre</th>\n",
       "      <th>cast_id</th>\n",
       "      <th>character</th>\n",
       "      <th>gender</th>\n",
       "      <th>actor_name</th>\n",
       "    </tr>\n",
       "  </thead>\n",
       "  <tbody>\n",
       "    <tr>\n",
       "      <th>12</th>\n",
       "      <td>67</td>\n",
       "      <td>272</td>\n",
       "      <td>5.0</td>\n",
       "      <td>374218673.0</td>\n",
       "      <td>Released</td>\n",
       "      <td>7.5</td>\n",
       "      <td>Batman Begins</td>\n",
       "      <td>en</td>\n",
       "      <td>Driven by tragedy, billionaire Bruce Wayne ded...</td>\n",
       "      <td>28.5053</td>\n",
       "      <td>Evil fears the knight.</td>\n",
       "      <td>Action</td>\n",
       "      <td>36.0</td>\n",
       "      <td>Finch</td>\n",
       "      <td>2.0</td>\n",
       "      <td>Larry Holden</td>\n",
       "    </tr>\n",
       "    <tr>\n",
       "      <th>13</th>\n",
       "      <td>67</td>\n",
       "      <td>272</td>\n",
       "      <td>5.0</td>\n",
       "      <td>374218673.0</td>\n",
       "      <td>Released</td>\n",
       "      <td>7.5</td>\n",
       "      <td>Batman Begins</td>\n",
       "      <td>en</td>\n",
       "      <td>Driven by tragedy, billionaire Bruce Wayne ded...</td>\n",
       "      <td>28.5053</td>\n",
       "      <td>Evil fears the knight.</td>\n",
       "      <td>Crime</td>\n",
       "      <td>36.0</td>\n",
       "      <td>Finch</td>\n",
       "      <td>2.0</td>\n",
       "      <td>Larry Holden</td>\n",
       "    </tr>\n",
       "    <tr>\n",
       "      <th>14</th>\n",
       "      <td>67</td>\n",
       "      <td>272</td>\n",
       "      <td>5.0</td>\n",
       "      <td>374218673.0</td>\n",
       "      <td>Released</td>\n",
       "      <td>7.5</td>\n",
       "      <td>Batman Begins</td>\n",
       "      <td>en</td>\n",
       "      <td>Driven by tragedy, billionaire Bruce Wayne ded...</td>\n",
       "      <td>28.5053</td>\n",
       "      <td>Evil fears the knight.</td>\n",
       "      <td>Drama</td>\n",
       "      <td>36.0</td>\n",
       "      <td>Finch</td>\n",
       "      <td>2.0</td>\n",
       "      <td>Larry Holden</td>\n",
       "    </tr>\n",
       "    <tr>\n",
       "      <th>27</th>\n",
       "      <td>119</td>\n",
       "      <td>272</td>\n",
       "      <td>5.0</td>\n",
       "      <td>374218673.0</td>\n",
       "      <td>Released</td>\n",
       "      <td>7.5</td>\n",
       "      <td>Batman Begins</td>\n",
       "      <td>en</td>\n",
       "      <td>Driven by tragedy, billionaire Bruce Wayne ded...</td>\n",
       "      <td>28.5053</td>\n",
       "      <td>Evil fears the knight.</td>\n",
       "      <td>Action</td>\n",
       "      <td>36.0</td>\n",
       "      <td>Finch</td>\n",
       "      <td>2.0</td>\n",
       "      <td>Larry Holden</td>\n",
       "    </tr>\n",
       "    <tr>\n",
       "      <th>28</th>\n",
       "      <td>119</td>\n",
       "      <td>272</td>\n",
       "      <td>5.0</td>\n",
       "      <td>374218673.0</td>\n",
       "      <td>Released</td>\n",
       "      <td>7.5</td>\n",
       "      <td>Batman Begins</td>\n",
       "      <td>en</td>\n",
       "      <td>Driven by tragedy, billionaire Bruce Wayne ded...</td>\n",
       "      <td>28.5053</td>\n",
       "      <td>Evil fears the knight.</td>\n",
       "      <td>Crime</td>\n",
       "      <td>36.0</td>\n",
       "      <td>Finch</td>\n",
       "      <td>2.0</td>\n",
       "      <td>Larry Holden</td>\n",
       "    </tr>\n",
       "    <tr>\n",
       "      <th>29</th>\n",
       "      <td>119</td>\n",
       "      <td>272</td>\n",
       "      <td>5.0</td>\n",
       "      <td>374218673.0</td>\n",
       "      <td>Released</td>\n",
       "      <td>7.5</td>\n",
       "      <td>Batman Begins</td>\n",
       "      <td>en</td>\n",
       "      <td>Driven by tragedy, billionaire Bruce Wayne ded...</td>\n",
       "      <td>28.5053</td>\n",
       "      <td>Evil fears the knight.</td>\n",
       "      <td>Drama</td>\n",
       "      <td>36.0</td>\n",
       "      <td>Finch</td>\n",
       "      <td>2.0</td>\n",
       "      <td>Larry Holden</td>\n",
       "    </tr>\n",
       "    <tr>\n",
       "      <th>39</th>\n",
       "      <td>220</td>\n",
       "      <td>272</td>\n",
       "      <td>5.0</td>\n",
       "      <td>374218673.0</td>\n",
       "      <td>Released</td>\n",
       "      <td>7.5</td>\n",
       "      <td>Batman Begins</td>\n",
       "      <td>en</td>\n",
       "      <td>Driven by tragedy, billionaire Bruce Wayne ded...</td>\n",
       "      <td>28.5053</td>\n",
       "      <td>Evil fears the knight.</td>\n",
       "      <td>Action</td>\n",
       "      <td>36.0</td>\n",
       "      <td>Finch</td>\n",
       "      <td>2.0</td>\n",
       "      <td>Larry Holden</td>\n",
       "    </tr>\n",
       "    <tr>\n",
       "      <th>40</th>\n",
       "      <td>220</td>\n",
       "      <td>272</td>\n",
       "      <td>5.0</td>\n",
       "      <td>374218673.0</td>\n",
       "      <td>Released</td>\n",
       "      <td>7.5</td>\n",
       "      <td>Batman Begins</td>\n",
       "      <td>en</td>\n",
       "      <td>Driven by tragedy, billionaire Bruce Wayne ded...</td>\n",
       "      <td>28.5053</td>\n",
       "      <td>Evil fears the knight.</td>\n",
       "      <td>Crime</td>\n",
       "      <td>36.0</td>\n",
       "      <td>Finch</td>\n",
       "      <td>2.0</td>\n",
       "      <td>Larry Holden</td>\n",
       "    </tr>\n",
       "    <tr>\n",
       "      <th>41</th>\n",
       "      <td>220</td>\n",
       "      <td>272</td>\n",
       "      <td>5.0</td>\n",
       "      <td>374218673.0</td>\n",
       "      <td>Released</td>\n",
       "      <td>7.5</td>\n",
       "      <td>Batman Begins</td>\n",
       "      <td>en</td>\n",
       "      <td>Driven by tragedy, billionaire Bruce Wayne ded...</td>\n",
       "      <td>28.5053</td>\n",
       "      <td>Evil fears the knight.</td>\n",
       "      <td>Drama</td>\n",
       "      <td>36.0</td>\n",
       "      <td>Finch</td>\n",
       "      <td>2.0</td>\n",
       "      <td>Larry Holden</td>\n",
       "    </tr>\n",
       "    <tr>\n",
       "      <th>57</th>\n",
       "      <td>391</td>\n",
       "      <td>272</td>\n",
       "      <td>5.0</td>\n",
       "      <td>374218673.0</td>\n",
       "      <td>Released</td>\n",
       "      <td>7.5</td>\n",
       "      <td>Batman Begins</td>\n",
       "      <td>en</td>\n",
       "      <td>Driven by tragedy, billionaire Bruce Wayne ded...</td>\n",
       "      <td>28.5053</td>\n",
       "      <td>Evil fears the knight.</td>\n",
       "      <td>Action</td>\n",
       "      <td>36.0</td>\n",
       "      <td>Finch</td>\n",
       "      <td>2.0</td>\n",
       "      <td>Larry Holden</td>\n",
       "    </tr>\n",
       "  </tbody>\n",
       "</table>\n",
       "</div>"
      ],
      "text/plain": [
       "    userId  movieId  rating      revenue    status  vote_average  \\\n",
       "12      67      272     5.0  374218673.0  Released           7.5   \n",
       "13      67      272     5.0  374218673.0  Released           7.5   \n",
       "14      67      272     5.0  374218673.0  Released           7.5   \n",
       "27     119      272     5.0  374218673.0  Released           7.5   \n",
       "28     119      272     5.0  374218673.0  Released           7.5   \n",
       "29     119      272     5.0  374218673.0  Released           7.5   \n",
       "39     220      272     5.0  374218673.0  Released           7.5   \n",
       "40     220      272     5.0  374218673.0  Released           7.5   \n",
       "41     220      272     5.0  374218673.0  Released           7.5   \n",
       "57     391      272     5.0  374218673.0  Released           7.5   \n",
       "\n",
       "            title original_language  \\\n",
       "12  Batman Begins                en   \n",
       "13  Batman Begins                en   \n",
       "14  Batman Begins                en   \n",
       "27  Batman Begins                en   \n",
       "28  Batman Begins                en   \n",
       "29  Batman Begins                en   \n",
       "39  Batman Begins                en   \n",
       "40  Batman Begins                en   \n",
       "41  Batman Begins                en   \n",
       "57  Batman Begins                en   \n",
       "\n",
       "                                             overview popularity  \\\n",
       "12  Driven by tragedy, billionaire Bruce Wayne ded...    28.5053   \n",
       "13  Driven by tragedy, billionaire Bruce Wayne ded...    28.5053   \n",
       "14  Driven by tragedy, billionaire Bruce Wayne ded...    28.5053   \n",
       "27  Driven by tragedy, billionaire Bruce Wayne ded...    28.5053   \n",
       "28  Driven by tragedy, billionaire Bruce Wayne ded...    28.5053   \n",
       "29  Driven by tragedy, billionaire Bruce Wayne ded...    28.5053   \n",
       "39  Driven by tragedy, billionaire Bruce Wayne ded...    28.5053   \n",
       "40  Driven by tragedy, billionaire Bruce Wayne ded...    28.5053   \n",
       "41  Driven by tragedy, billionaire Bruce Wayne ded...    28.5053   \n",
       "57  Driven by tragedy, billionaire Bruce Wayne ded...    28.5053   \n",
       "\n",
       "                   tagline   genre  cast_id character  gender    actor_name  \n",
       "12  Evil fears the knight.  Action     36.0     Finch     2.0  Larry Holden  \n",
       "13  Evil fears the knight.   Crime     36.0     Finch     2.0  Larry Holden  \n",
       "14  Evil fears the knight.   Drama     36.0     Finch     2.0  Larry Holden  \n",
       "27  Evil fears the knight.  Action     36.0     Finch     2.0  Larry Holden  \n",
       "28  Evil fears the knight.   Crime     36.0     Finch     2.0  Larry Holden  \n",
       "29  Evil fears the knight.   Drama     36.0     Finch     2.0  Larry Holden  \n",
       "39  Evil fears the knight.  Action     36.0     Finch     2.0  Larry Holden  \n",
       "40  Evil fears the knight.   Crime     36.0     Finch     2.0  Larry Holden  \n",
       "41  Evil fears the knight.   Drama     36.0     Finch     2.0  Larry Holden  \n",
       "57  Evil fears the knight.  Action     36.0     Finch     2.0  Larry Holden  "
      ]
     },
     "execution_count": 112,
     "metadata": {},
     "output_type": "execute_result"
    }
   ],
   "source": [
    "# The best rated movie is titled Batman Begins\n",
    "\n",
    "highest_rated_movies.head(10)"
   ]
  },
  {
   "cell_type": "markdown",
   "metadata": {},
   "source": [
    "Dropping duplicates of the titled movies"
   ]
  },
  {
   "cell_type": "code",
   "execution_count": 113,
   "metadata": {},
   "outputs": [],
   "source": [
    "highest_rated_movies.drop_duplicates(subset=['title'], inplace=True)"
   ]
  },
  {
   "cell_type": "code",
   "execution_count": 114,
   "metadata": {},
   "outputs": [
    {
     "data": {
      "text/plain": [
       "14.586087             1\n",
       "10.996825999999999    1\n",
       "10.989442             1\n",
       "29.455314             1\n",
       "28.505340999999998    1\n",
       "19.10673              1\n",
       "6.064954              1\n",
       "11.066473             1\n",
       "20.40426              1\n",
       "2.9676720000000003    1\n",
       "0.609931              1\n",
       "16.646029000000002    1\n",
       "15.321902             1\n",
       "14.471373000000002    1\n",
       "13.246795             1\n",
       "12.477872             1\n",
       "11.624866             1\n",
       "8.552967              1\n",
       "9.339316              1\n",
       "8.369176              1\n",
       "7.834351              1\n",
       "6.933646              1\n",
       "5.061725              1\n",
       "4.42224               1\n",
       "3.295206              1\n",
       "2.6172720000000003    1\n",
       "1.888149              1\n",
       "2.0778689999999997    1\n",
       "4.972236              1\n",
       "10.627364             1\n",
       "0.35565               1\n",
       "7.857078              1\n",
       "12.677592             1\n",
       "14.430310999999998    1\n",
       "36.629307             1\n",
       "12.490891             1\n",
       "6.218351              1\n",
       "3.3605300000000002    1\n",
       "11.267366             1\n",
       "14.825586999999999    1\n",
       "10.255315             1\n",
       "20.477329             1\n",
       "10.793324             1\n",
       "5.670679              1\n",
       "8.489499              1\n",
       "1.233052              1\n",
       "8.168694              1\n",
       "4.928589              1\n",
       "6.051227              1\n",
       "11.267467             1\n",
       "6.183051              1\n",
       "3.67003               1\n",
       "7.692239999999999     1\n",
       "48.307194             1\n",
       "47.326665000000006    1\n",
       "0.398853              1\n",
       "Name: popularity, dtype: int64"
      ]
     },
     "execution_count": 114,
     "metadata": {},
     "output_type": "execute_result"
    }
   ],
   "source": [
    "highest_rated_movies['popularity'].value_counts()"
   ]
  },
  {
   "cell_type": "code",
   "execution_count": 115,
   "metadata": {},
   "outputs": [],
   "source": [
    "# Id column converted to type integer\n",
    "highest_rated_movies = to_numeric(highest_rated_movies, column='popularity')"
   ]
  },
  {
   "cell_type": "markdown",
   "metadata": {},
   "source": [
    "#### Highest rated movies based on popularity"
   ]
  },
  {
   "cell_type": "code",
   "execution_count": 116,
   "metadata": {},
   "outputs": [],
   "source": [
    "\n",
    "top_5 = highest_rated_movies.sort_values(by='popularity', ascending=False).head(5)"
   ]
  },
  {
   "cell_type": "code",
   "execution_count": 117,
   "metadata": {},
   "outputs": [
    {
     "data": {
      "text/html": [
       "<div>\n",
       "<style scoped>\n",
       "    .dataframe tbody tr th:only-of-type {\n",
       "        vertical-align: middle;\n",
       "    }\n",
       "\n",
       "    .dataframe tbody tr th {\n",
       "        vertical-align: top;\n",
       "    }\n",
       "\n",
       "    .dataframe thead th {\n",
       "        text-align: right;\n",
       "    }\n",
       "</style>\n",
       "<table border=\"1\" class=\"dataframe\">\n",
       "  <thead>\n",
       "    <tr style=\"text-align: right;\">\n",
       "      <th></th>\n",
       "      <th>userId</th>\n",
       "      <th>movieId</th>\n",
       "      <th>rating</th>\n",
       "      <th>revenue</th>\n",
       "      <th>status</th>\n",
       "      <th>vote_average</th>\n",
       "      <th>title</th>\n",
       "      <th>original_language</th>\n",
       "      <th>overview</th>\n",
       "      <th>popularity</th>\n",
       "      <th>tagline</th>\n",
       "      <th>genre</th>\n",
       "      <th>cast_id</th>\n",
       "      <th>character</th>\n",
       "      <th>gender</th>\n",
       "      <th>actor_name</th>\n",
       "    </tr>\n",
       "  </thead>\n",
       "  <tbody>\n",
       "    <tr>\n",
       "      <th>5504</th>\n",
       "      <td>518</td>\n",
       "      <td>13</td>\n",
       "      <td>5.0</td>\n",
       "      <td>6.779454e+08</td>\n",
       "      <td>Released</td>\n",
       "      <td>8.2</td>\n",
       "      <td>Forrest Gump</td>\n",
       "      <td>en</td>\n",
       "      <td>A man with a low IQ has accomplished great thi...</td>\n",
       "      <td>48</td>\n",
       "      <td>The world will never be the same, once you've ...</td>\n",
       "      <td>Comedy</td>\n",
       "      <td>113.0</td>\n",
       "      <td>Jenny's Father</td>\n",
       "      <td>0.0</td>\n",
       "      <td>Kevin Mangan</td>\n",
       "    </tr>\n",
       "    <tr>\n",
       "      <th>3300</th>\n",
       "      <td>487</td>\n",
       "      <td>22</td>\n",
       "      <td>5.0</td>\n",
       "      <td>6.550112e+08</td>\n",
       "      <td>Released</td>\n",
       "      <td>7.5</td>\n",
       "      <td>Pirates of the Caribbean: The Curse of the Bla...</td>\n",
       "      <td>en</td>\n",
       "      <td>Jack Sparrow, a freewheeling 17th-century pira...</td>\n",
       "      <td>47</td>\n",
       "      <td>Prepare to be blown out of the water.</td>\n",
       "      <td>Adventure</td>\n",
       "      <td>1.0</td>\n",
       "      <td>Will Turner</td>\n",
       "      <td>2.0</td>\n",
       "      <td>Orlando Bloom</td>\n",
       "    </tr>\n",
       "    <tr>\n",
       "      <th>5483</th>\n",
       "      <td>564</td>\n",
       "      <td>240</td>\n",
       "      <td>5.0</td>\n",
       "      <td>4.754284e+07</td>\n",
       "      <td>Released</td>\n",
       "      <td>8.3</td>\n",
       "      <td>The Godfather: Part II</td>\n",
       "      <td>en</td>\n",
       "      <td>In the continuing saga of the Corleone crime f...</td>\n",
       "      <td>36</td>\n",
       "      <td>I don't feel I have to wipe everybody out, Tom...</td>\n",
       "      <td>Drama</td>\n",
       "      <td>60.0</td>\n",
       "      <td>Policeman</td>\n",
       "      <td>2.0</td>\n",
       "      <td>Carmine Foresta</td>\n",
       "    </tr>\n",
       "    <tr>\n",
       "      <th>4651</th>\n",
       "      <td>28</td>\n",
       "      <td>58</td>\n",
       "      <td>5.0</td>\n",
       "      <td>1.065660e+09</td>\n",
       "      <td>Released</td>\n",
       "      <td>7.0</td>\n",
       "      <td>Pirates of the Caribbean: Dead Man's Chest</td>\n",
       "      <td>en</td>\n",
       "      <td>Captain Jack Sparrow works his way out of a bl...</td>\n",
       "      <td>29</td>\n",
       "      <td>Jack is back!</td>\n",
       "      <td>Adventure</td>\n",
       "      <td>57.0</td>\n",
       "      <td>Jimmy Legs</td>\n",
       "      <td>2.0</td>\n",
       "      <td>Christopher Adamson</td>\n",
       "    </tr>\n",
       "    <tr>\n",
       "      <th>12</th>\n",
       "      <td>67</td>\n",
       "      <td>272</td>\n",
       "      <td>5.0</td>\n",
       "      <td>3.742187e+08</td>\n",
       "      <td>Released</td>\n",
       "      <td>7.5</td>\n",
       "      <td>Batman Begins</td>\n",
       "      <td>en</td>\n",
       "      <td>Driven by tragedy, billionaire Bruce Wayne ded...</td>\n",
       "      <td>28</td>\n",
       "      <td>Evil fears the knight.</td>\n",
       "      <td>Action</td>\n",
       "      <td>36.0</td>\n",
       "      <td>Finch</td>\n",
       "      <td>2.0</td>\n",
       "      <td>Larry Holden</td>\n",
       "    </tr>\n",
       "  </tbody>\n",
       "</table>\n",
       "</div>"
      ],
      "text/plain": [
       "      userId  movieId  rating       revenue    status  vote_average  \\\n",
       "5504     518       13     5.0  6.779454e+08  Released           8.2   \n",
       "3300     487       22     5.0  6.550112e+08  Released           7.5   \n",
       "5483     564      240     5.0  4.754284e+07  Released           8.3   \n",
       "4651      28       58     5.0  1.065660e+09  Released           7.0   \n",
       "12        67      272     5.0  3.742187e+08  Released           7.5   \n",
       "\n",
       "                                                  title original_language  \\\n",
       "5504                                       Forrest Gump                en   \n",
       "3300  Pirates of the Caribbean: The Curse of the Bla...                en   \n",
       "5483                             The Godfather: Part II                en   \n",
       "4651         Pirates of the Caribbean: Dead Man's Chest                en   \n",
       "12                                        Batman Begins                en   \n",
       "\n",
       "                                               overview  popularity  \\\n",
       "5504  A man with a low IQ has accomplished great thi...          48   \n",
       "3300  Jack Sparrow, a freewheeling 17th-century pira...          47   \n",
       "5483  In the continuing saga of the Corleone crime f...          36   \n",
       "4651  Captain Jack Sparrow works his way out of a bl...          29   \n",
       "12    Driven by tragedy, billionaire Bruce Wayne ded...          28   \n",
       "\n",
       "                                                tagline      genre  cast_id  \\\n",
       "5504  The world will never be the same, once you've ...     Comedy    113.0   \n",
       "3300              Prepare to be blown out of the water.  Adventure      1.0   \n",
       "5483  I don't feel I have to wipe everybody out, Tom...      Drama     60.0   \n",
       "4651                                      Jack is back!  Adventure     57.0   \n",
       "12                               Evil fears the knight.     Action     36.0   \n",
       "\n",
       "           character  gender           actor_name  \n",
       "5504  Jenny's Father     0.0         Kevin Mangan  \n",
       "3300     Will Turner     2.0        Orlando Bloom  \n",
       "5483       Policeman     2.0      Carmine Foresta  \n",
       "4651      Jimmy Legs     2.0  Christopher Adamson  \n",
       "12             Finch     2.0         Larry Holden  "
      ]
     },
     "execution_count": 117,
     "metadata": {},
     "output_type": "execute_result"
    }
   ],
   "source": [
    "top_5"
   ]
  },
  {
   "cell_type": "code",
   "execution_count": 118,
   "metadata": {},
   "outputs": [
    {
     "data": {
      "text/plain": [
       "(5, 16)"
      ]
     },
     "execution_count": 118,
     "metadata": {},
     "output_type": "execute_result"
    }
   ],
   "source": [
    "top_5.shape"
   ]
  },
  {
   "cell_type": "markdown",
   "metadata": {},
   "source": [
    "### Best rated movies based on its original language in the dataset"
   ]
  },
  {
   "cell_type": "code",
   "execution_count": 119,
   "metadata": {},
   "outputs": [
    {
     "data": {
      "text/plain": [
       "<AxesSubplot:xlabel='original_language', ylabel='rating'>"
      ]
     },
     "execution_count": 119,
     "metadata": {},
     "output_type": "execute_result"
    },
    {
     "data": {
      "image/png": "[encoded data removed]",
      "text/plain": [
       "<Figure size 432x288 with 1 Axes>"
      ]
     },
     "metadata": {
      "needs_background": "light"
     },
     "output_type": "display_data"
    }
   ],
   "source": [
    "sns.barplot(data=movies_ratings_cast_df, x=\"original_language\", y=\"rating\")  \n",
    "\n",
    "# Best rated movie in its original language is Danish."
   ]
  },
  {
   "cell_type": "markdown",
   "metadata": {},
   "source": [
    "### Best rated based on its genre"
   ]
  },
  {
   "cell_type": "code",
   "execution_count": 120,
   "metadata": {},
   "outputs": [
    {
     "data": {
      "image/png": "[encoded data removed]",
      "text/plain": [
       "<Figure size 720x288 with 1 Axes>"
      ]
     },
     "metadata": {
      "needs_background": "light"
     },
     "output_type": "display_data"
    }
   ],
   "source": [
    "# Ratings generally for all the genre\n",
    "plt.figure(figsize=(10,4))\n",
    "\n",
    "\n",
    "ax = sns.barplot(data=movies_ratings_cast_df, x=\"genre\", y=\"rating\")\n",
    "ax.set_xticklabels(ax.get_xticklabels(),rotation=60)\n",
    "plt.show()"
   ]
  },
  {
   "cell_type": "markdown",
   "metadata": {},
   "source": [
    "### Top 5 rated movies based on its genre and frequency"
   ]
  },
  {
   "cell_type": "code",
   "execution_count": 121,
   "metadata": {},
   "outputs": [
    {
     "data": {
      "image/png": "[encoded data removed]",
      "text/plain": [
       "<Figure size 432x288 with 1 Axes>"
      ]
     },
     "metadata": {
      "needs_background": "light"
     },
     "output_type": "display_data"
    }
   ],
   "source": [
    "# plot top 5 rated movies based on its frequency,\n",
    "\n",
    "top_5['genre'].value_counts().plot(kind='bar')\n",
    "plt.xlabel('genres')\n",
    "plt.ylabel('Frequency')\n",
    "plt.show()"
   ]
  },
  {
   "cell_type": "markdown",
   "metadata": {},
   "source": [
    "### Best and highly rated and popular actors that contributed to the high ratings in movies"
   ]
  },
  {
   "cell_type": "code",
   "execution_count": 122,
   "metadata": {},
   "outputs": [
    {
     "name": "stdout",
     "output_type": "stream",
     "text": [
      "['Kevin Mangan', 'Orlando Bloom', 'Carmine Foresta', 'Christopher Adamson', 'Larry Holden']\n"
     ]
    }
   ],
   "source": [
    "# Top_5 actors you may know\n",
    "\n",
    "best_rated_actors = list(top_5['actor_name'])\n",
    "print(best_rated_actors)"
   ]
  },
  {
   "cell_type": "code",
   "execution_count": 123,
   "metadata": {},
   "outputs": [
    {
     "data": {
      "image/png": "[encoded data removed]",
      "text/plain": [
       "<Figure size 432x288 with 1 Axes>"
      ]
     },
     "metadata": {
      "needs_background": "light"
     },
     "output_type": "display_data"
    }
   ],
   "source": [
    "top_5['actor_name'].value_counts().plot(kind='bar')\n",
    "plt.xlabel('actors')\n",
    "plt.ylabel('Frequency')\n",
    "plt.show()"
   ]
  },
  {
   "cell_type": "markdown",
   "metadata": {},
   "source": [
    "### Worst Ratings"
   ]
  },
  {
   "cell_type": "code",
   "execution_count": 124,
   "metadata": {},
   "outputs": [
    {
     "data": {
      "text/plain": [
       "0.5"
      ]
     },
     "execution_count": 124,
     "metadata": {},
     "output_type": "execute_result"
    }
   ],
   "source": [
    "# Inspecting the ratings for the lowest ratings\n",
    "\n",
    "\n",
    "Lowest_rating_movies = movies_ratings_cast_df['rating'].min()\n",
    "\n",
    "Lowest_rating_movies"
   ]
  },
  {
   "cell_type": "code",
   "execution_count": 125,
   "metadata": {
    "scrolled": true
   },
   "outputs": [
    {
     "data": {
      "text/html": [
       "<div>\n",
       "<style scoped>\n",
       "    .dataframe tbody tr th:only-of-type {\n",
       "        vertical-align: middle;\n",
       "    }\n",
       "\n",
       "    .dataframe tbody tr th {\n",
       "        vertical-align: top;\n",
       "    }\n",
       "\n",
       "    .dataframe thead th {\n",
       "        text-align: right;\n",
       "    }\n",
       "</style>\n",
       "<table border=\"1\" class=\"dataframe\">\n",
       "  <thead>\n",
       "    <tr style=\"text-align: right;\">\n",
       "      <th></th>\n",
       "      <th>userId</th>\n",
       "      <th>movieId</th>\n",
       "      <th>rating</th>\n",
       "      <th>revenue</th>\n",
       "      <th>status</th>\n",
       "      <th>vote_average</th>\n",
       "      <th>title</th>\n",
       "      <th>original_language</th>\n",
       "      <th>overview</th>\n",
       "      <th>popularity</th>\n",
       "      <th>tagline</th>\n",
       "      <th>genre</th>\n",
       "      <th>cast_id</th>\n",
       "      <th>character</th>\n",
       "      <th>gender</th>\n",
       "      <th>actor_name</th>\n",
       "    </tr>\n",
       "  </thead>\n",
       "  <tbody>\n",
       "    <tr>\n",
       "      <th>240</th>\n",
       "      <td>59</td>\n",
       "      <td>380</td>\n",
       "      <td>0.5</td>\n",
       "      <td>412800000.0</td>\n",
       "      <td>Released</td>\n",
       "      <td>7.6</td>\n",
       "      <td>Rain Man</td>\n",
       "      <td>en</td>\n",
       "      <td>Selfish yuppie Charlie Babbitt's father left a...</td>\n",
       "      <td>11.2675</td>\n",
       "      <td>A journey through understanding and fellowship.</td>\n",
       "      <td>Drama</td>\n",
       "      <td>10.0</td>\n",
       "      <td>Lenny</td>\n",
       "      <td>2.0</td>\n",
       "      <td>Ralph Seymour</td>\n",
       "    </tr>\n",
       "    <tr>\n",
       "      <th>904</th>\n",
       "      <td>187</td>\n",
       "      <td>1372</td>\n",
       "      <td>0.5</td>\n",
       "      <td>170877916.0</td>\n",
       "      <td>Released</td>\n",
       "      <td>7.4</td>\n",
       "      <td>Blood Diamond</td>\n",
       "      <td>en</td>\n",
       "      <td>An ex-mercenary turned smuggler. A Mende fishe...</td>\n",
       "      <td>12.4779</td>\n",
       "      <td>It will cost you everything.</td>\n",
       "      <td>Drama</td>\n",
       "      <td>31.0</td>\n",
       "      <td>Colonel Coetzee</td>\n",
       "      <td>2.0</td>\n",
       "      <td>Arnold Vosloo</td>\n",
       "    </tr>\n",
       "    <tr>\n",
       "      <th>905</th>\n",
       "      <td>187</td>\n",
       "      <td>1372</td>\n",
       "      <td>0.5</td>\n",
       "      <td>170877916.0</td>\n",
       "      <td>Released</td>\n",
       "      <td>7.4</td>\n",
       "      <td>Blood Diamond</td>\n",
       "      <td>en</td>\n",
       "      <td>An ex-mercenary turned smuggler. A Mende fishe...</td>\n",
       "      <td>12.4779</td>\n",
       "      <td>It will cost you everything.</td>\n",
       "      <td>Thriller</td>\n",
       "      <td>31.0</td>\n",
       "      <td>Colonel Coetzee</td>\n",
       "      <td>2.0</td>\n",
       "      <td>Arnold Vosloo</td>\n",
       "    </tr>\n",
       "    <tr>\n",
       "      <th>906</th>\n",
       "      <td>187</td>\n",
       "      <td>1372</td>\n",
       "      <td>0.5</td>\n",
       "      <td>170877916.0</td>\n",
       "      <td>Released</td>\n",
       "      <td>7.4</td>\n",
       "      <td>Blood Diamond</td>\n",
       "      <td>en</td>\n",
       "      <td>An ex-mercenary turned smuggler. A Mende fishe...</td>\n",
       "      <td>12.4779</td>\n",
       "      <td>It will cost you everything.</td>\n",
       "      <td>Action</td>\n",
       "      <td>31.0</td>\n",
       "      <td>Colonel Coetzee</td>\n",
       "      <td>2.0</td>\n",
       "      <td>Arnold Vosloo</td>\n",
       "    </tr>\n",
       "    <tr>\n",
       "      <th>937</th>\n",
       "      <td>332</td>\n",
       "      <td>1372</td>\n",
       "      <td>0.5</td>\n",
       "      <td>170877916.0</td>\n",
       "      <td>Released</td>\n",
       "      <td>7.4</td>\n",
       "      <td>Blood Diamond</td>\n",
       "      <td>en</td>\n",
       "      <td>An ex-mercenary turned smuggler. A Mende fishe...</td>\n",
       "      <td>12.4779</td>\n",
       "      <td>It will cost you everything.</td>\n",
       "      <td>Drama</td>\n",
       "      <td>31.0</td>\n",
       "      <td>Colonel Coetzee</td>\n",
       "      <td>2.0</td>\n",
       "      <td>Arnold Vosloo</td>\n",
       "    </tr>\n",
       "  </tbody>\n",
       "</table>\n",
       "</div>"
      ],
      "text/plain": [
       "     userId  movieId  rating      revenue    status  vote_average  \\\n",
       "240      59      380     0.5  412800000.0  Released           7.6   \n",
       "904     187     1372     0.5  170877916.0  Released           7.4   \n",
       "905     187     1372     0.5  170877916.0  Released           7.4   \n",
       "906     187     1372     0.5  170877916.0  Released           7.4   \n",
       "937     332     1372     0.5  170877916.0  Released           7.4   \n",
       "\n",
       "             title original_language  \\\n",
       "240       Rain Man                en   \n",
       "904  Blood Diamond                en   \n",
       "905  Blood Diamond                en   \n",
       "906  Blood Diamond                en   \n",
       "937  Blood Diamond                en   \n",
       "\n",
       "                                              overview popularity  \\\n",
       "240  Selfish yuppie Charlie Babbitt's father left a...    11.2675   \n",
       "904  An ex-mercenary turned smuggler. A Mende fishe...    12.4779   \n",
       "905  An ex-mercenary turned smuggler. A Mende fishe...    12.4779   \n",
       "906  An ex-mercenary turned smuggler. A Mende fishe...    12.4779   \n",
       "937  An ex-mercenary turned smuggler. A Mende fishe...    12.4779   \n",
       "\n",
       "                                             tagline     genre  cast_id  \\\n",
       "240  A journey through understanding and fellowship.     Drama     10.0   \n",
       "904                     It will cost you everything.     Drama     31.0   \n",
       "905                     It will cost you everything.  Thriller     31.0   \n",
       "906                     It will cost you everything.    Action     31.0   \n",
       "937                     It will cost you everything.     Drama     31.0   \n",
       "\n",
       "           character  gender     actor_name  \n",
       "240            Lenny     2.0  Ralph Seymour  \n",
       "904  Colonel Coetzee     2.0  Arnold Vosloo  \n",
       "905  Colonel Coetzee     2.0  Arnold Vosloo  \n",
       "906  Colonel Coetzee     2.0  Arnold Vosloo  \n",
       "937  Colonel Coetzee     2.0  Arnold Vosloo  "
      ]
     },
     "execution_count": 125,
     "metadata": {},
     "output_type": "execute_result"
    }
   ],
   "source": [
    "lowest_rating_movies = movies_ratings_cast_df.loc[movies_ratings_cast_df['rating'] == 0.5]\n",
    "\n",
    "lowest_rating_movies.head(5)"
   ]
  },
  {
   "cell_type": "code",
   "execution_count": 127,
   "metadata": {},
   "outputs": [
    {
     "data": {
      "image/png": "[encoded data removed]",
      "text/plain": [
       "<Figure size 432x288 with 1 Axes>"
      ]
     },
     "metadata": {
      "needs_background": "light"
     },
     "output_type": "display_data"
    }
   ],
   "source": [
    "lowest_rating_movies['actor_name'].value_counts().plot(kind='bar')\n",
    "plt.xlabel('actors')\n",
    "plt.ylabel('Frequency')\n",
    "plt.show()"
   ]
  },
  {
   "cell_type": "code",
   "execution_count": 130,
   "metadata": {},
   "outputs": [
    {
     "data": {
      "image/png": "[encoded data removed]",
      "text/plain": [
       "<Figure size 432x288 with 1 Axes>"
      ]
     },
     "metadata": {
      "needs_background": "light"
     },
     "output_type": "display_data"
    }
   ],
   "source": [
    "lowest_rating_movies['genre'].value_counts().plot(kind='bar')\n",
    "plt.xlabel('actors')\n",
    "plt.ylabel('Frequency')\n",
    "plt.show()"
   ]
  },
  {
   "cell_type": "markdown",
   "metadata": {},
   "source": [
    "Worst rated movie is titled Rain Man"
   ]
  },
  {
   "cell_type": "code",
   "execution_count": 131,
   "metadata": {},
   "outputs": [
    {
     "data": {
      "text/html": [
       "<div>\n",
       "<style scoped>\n",
       "    .dataframe tbody tr th:only-of-type {\n",
       "        vertical-align: middle;\n",
       "    }\n",
       "\n",
       "    .dataframe tbody tr th {\n",
       "        vertical-align: top;\n",
       "    }\n",
       "\n",
       "    .dataframe thead th {\n",
       "        text-align: right;\n",
       "    }\n",
       "</style>\n",
       "<table border=\"1\" class=\"dataframe\">\n",
       "  <thead>\n",
       "    <tr style=\"text-align: right;\">\n",
       "      <th></th>\n",
       "      <th>userId</th>\n",
       "      <th>movieId</th>\n",
       "      <th>rating</th>\n",
       "      <th>revenue</th>\n",
       "      <th>status</th>\n",
       "      <th>vote_average</th>\n",
       "      <th>title</th>\n",
       "      <th>original_language</th>\n",
       "      <th>overview</th>\n",
       "      <th>popularity</th>\n",
       "      <th>tagline</th>\n",
       "      <th>genre</th>\n",
       "      <th>cast_id</th>\n",
       "      <th>character</th>\n",
       "      <th>gender</th>\n",
       "      <th>actor_name</th>\n",
       "    </tr>\n",
       "  </thead>\n",
       "  <tbody>\n",
       "    <tr>\n",
       "      <th>240</th>\n",
       "      <td>59</td>\n",
       "      <td>380</td>\n",
       "      <td>0.5</td>\n",
       "      <td>412800000.0</td>\n",
       "      <td>Released</td>\n",
       "      <td>7.6</td>\n",
       "      <td>Rain Man</td>\n",
       "      <td>en</td>\n",
       "      <td>Selfish yuppie Charlie Babbitt's father left a...</td>\n",
       "      <td>11.2675</td>\n",
       "      <td>A journey through understanding and fellowship.</td>\n",
       "      <td>Drama</td>\n",
       "      <td>10.0</td>\n",
       "      <td>Lenny</td>\n",
       "      <td>2.0</td>\n",
       "      <td>Ralph Seymour</td>\n",
       "    </tr>\n",
       "  </tbody>\n",
       "</table>\n",
       "</div>"
      ],
      "text/plain": [
       "     userId  movieId  rating      revenue    status  vote_average     title  \\\n",
       "240      59      380     0.5  412800000.0  Released           7.6  Rain Man   \n",
       "\n",
       "    original_language                                           overview  \\\n",
       "240                en  Selfish yuppie Charlie Babbitt's father left a...   \n",
       "\n",
       "    popularity                                          tagline  genre  \\\n",
       "240    11.2675  A journey through understanding and fellowship.  Drama   \n",
       "\n",
       "     cast_id character  gender     actor_name  \n",
       "240     10.0     Lenny     2.0  Ralph Seymour  "
      ]
     },
     "execution_count": 131,
     "metadata": {},
     "output_type": "execute_result"
    }
   ],
   "source": [
    "lowest_rating_movies.head(5).sort_values(by='rating').head(1)"
   ]
  },
  {
   "cell_type": "markdown",
   "metadata": {},
   "source": [
    "Ratings against genre"
   ]
  },
  {
   "cell_type": "markdown",
   "metadata": {},
   "source": [
    "### Converting categorical values to numerical for linear regression relationship of different features against ratings"
   ]
  },
  {
   "cell_type": "code",
   "execution_count": 132,
   "metadata": {},
   "outputs": [
    {
     "data": {
      "text/html": [
       "<div>\n",
       "<style scoped>\n",
       "    .dataframe tbody tr th:only-of-type {\n",
       "        vertical-align: middle;\n",
       "    }\n",
       "\n",
       "    .dataframe tbody tr th {\n",
       "        vertical-align: top;\n",
       "    }\n",
       "\n",
       "    .dataframe thead th {\n",
       "        text-align: right;\n",
       "    }\n",
       "</style>\n",
       "<table border=\"1\" class=\"dataframe\">\n",
       "  <thead>\n",
       "    <tr style=\"text-align: right;\">\n",
       "      <th></th>\n",
       "      <th>status</th>\n",
       "      <th>title</th>\n",
       "      <th>original_language</th>\n",
       "      <th>overview</th>\n",
       "      <th>popularity</th>\n",
       "      <th>tagline</th>\n",
       "      <th>genre</th>\n",
       "      <th>character</th>\n",
       "      <th>actor_name</th>\n",
       "    </tr>\n",
       "  </thead>\n",
       "  <tbody>\n",
       "    <tr>\n",
       "      <th>0</th>\n",
       "      <td>Released</td>\n",
       "      <td>Batman Begins</td>\n",
       "      <td>en</td>\n",
       "      <td>Driven by tragedy, billionaire Bruce Wayne ded...</td>\n",
       "      <td>28.5053</td>\n",
       "      <td>Evil fears the knight.</td>\n",
       "      <td>Action</td>\n",
       "      <td>Finch</td>\n",
       "      <td>Larry Holden</td>\n",
       "    </tr>\n",
       "    <tr>\n",
       "      <th>1</th>\n",
       "      <td>Released</td>\n",
       "      <td>Batman Begins</td>\n",
       "      <td>en</td>\n",
       "      <td>Driven by tragedy, billionaire Bruce Wayne ded...</td>\n",
       "      <td>28.5053</td>\n",
       "      <td>Evil fears the knight.</td>\n",
       "      <td>Crime</td>\n",
       "      <td>Finch</td>\n",
       "      <td>Larry Holden</td>\n",
       "    </tr>\n",
       "    <tr>\n",
       "      <th>2</th>\n",
       "      <td>Released</td>\n",
       "      <td>Batman Begins</td>\n",
       "      <td>en</td>\n",
       "      <td>Driven by tragedy, billionaire Bruce Wayne ded...</td>\n",
       "      <td>28.5053</td>\n",
       "      <td>Evil fears the knight.</td>\n",
       "      <td>Drama</td>\n",
       "      <td>Finch</td>\n",
       "      <td>Larry Holden</td>\n",
       "    </tr>\n",
       "    <tr>\n",
       "      <th>3</th>\n",
       "      <td>Released</td>\n",
       "      <td>Batman Begins</td>\n",
       "      <td>en</td>\n",
       "      <td>Driven by tragedy, billionaire Bruce Wayne ded...</td>\n",
       "      <td>28.5053</td>\n",
       "      <td>Evil fears the knight.</td>\n",
       "      <td>Action</td>\n",
       "      <td>Finch</td>\n",
       "      <td>Larry Holden</td>\n",
       "    </tr>\n",
       "    <tr>\n",
       "      <th>4</th>\n",
       "      <td>Released</td>\n",
       "      <td>Batman Begins</td>\n",
       "      <td>en</td>\n",
       "      <td>Driven by tragedy, billionaire Bruce Wayne ded...</td>\n",
       "      <td>28.5053</td>\n",
       "      <td>Evil fears the knight.</td>\n",
       "      <td>Crime</td>\n",
       "      <td>Finch</td>\n",
       "      <td>Larry Holden</td>\n",
       "    </tr>\n",
       "  </tbody>\n",
       "</table>\n",
       "</div>"
      ],
      "text/plain": [
       "     status          title original_language  \\\n",
       "0  Released  Batman Begins                en   \n",
       "1  Released  Batman Begins                en   \n",
       "2  Released  Batman Begins                en   \n",
       "3  Released  Batman Begins                en   \n",
       "4  Released  Batman Begins                en   \n",
       "\n",
       "                                            overview popularity  \\\n",
       "0  Driven by tragedy, billionaire Bruce Wayne ded...    28.5053   \n",
       "1  Driven by tragedy, billionaire Bruce Wayne ded...    28.5053   \n",
       "2  Driven by tragedy, billionaire Bruce Wayne ded...    28.5053   \n",
       "3  Driven by tragedy, billionaire Bruce Wayne ded...    28.5053   \n",
       "4  Driven by tragedy, billionaire Bruce Wayne ded...    28.5053   \n",
       "\n",
       "                  tagline   genre character    actor_name  \n",
       "0  Evil fears the knight.  Action     Finch  Larry Holden  \n",
       "1  Evil fears the knight.   Crime     Finch  Larry Holden  \n",
       "2  Evil fears the knight.   Drama     Finch  Larry Holden  \n",
       "3  Evil fears the knight.  Action     Finch  Larry Holden  \n",
       "4  Evil fears the knight.   Crime     Finch  Larry Holden  "
      ]
     },
     "execution_count": 132,
     "metadata": {},
     "output_type": "execute_result"
    }
   ],
   "source": [
    "# I want to see the categorical columns to be able to convert it to numerical for linear regression relationships\n",
    "\n",
    "\n",
    "obj_df = movies_ratings_cast_df.select_dtypes(include=['object']).copy()\n",
    "obj_df.head()\n",
    "\n",
    "# pd.get_dummies(data=df, columns=['A', 'B'])"
   ]
  },
  {
   "cell_type": "markdown",
   "metadata": {},
   "source": [
    "##### Compute field relationship scores with the chosen statistical model.\n",
    "###### Presenting findings in statistical summary and data visualizations ###\n",
    "\n",
    "\n",
    "\n",
    "Looking at the relationship between original_language against ratings, that is, if this feature has impact with the high ratings"
   ]
  },
  {
   "cell_type": "code",
   "execution_count": 136,
   "metadata": {},
   "outputs": [],
   "source": [
    "lan_x = pd.get_dummies(movies_ratings_cast_df[['original_language']])\n",
    "#print(lan_x)\n",
    "\n",
    "lan_x.drop(columns=['original_language_sv'], inplace=True)\n",
    "#print(lan_x)"
   ]
  },
  {
   "cell_type": "code",
   "execution_count": 137,
   "metadata": {},
   "outputs": [],
   "source": [
    "y = movies_ratings_cast_df[['rating']]"
   ]
  },
  {
   "cell_type": "code",
   "execution_count": 138,
   "metadata": {},
   "outputs": [
    {
     "data": {
      "text/html": [
       "<table class=\"simpletable\">\n",
       "<caption>OLS Regression Results</caption>\n",
       "<tr>\n",
       "  <th>Dep. Variable:</th>         <td>rating</td>      <th>  R-squared (uncentered):</th>      <td>   0.932</td> \n",
       "</tr>\n",
       "<tr>\n",
       "  <th>Model:</th>                   <td>OLS</td>       <th>  Adj. R-squared (uncentered):</th> <td>   0.932</td> \n",
       "</tr>\n",
       "<tr>\n",
       "  <th>Method:</th>             <td>Least Squares</td>  <th>  F-statistic:       </th>          <td>   8873.</td> \n",
       "</tr>\n",
       "<tr>\n",
       "  <th>Date:</th>             <td>Sun, 13 Dec 2020</td> <th>  Prob (F-statistic):</th>           <td>  0.00</td>  \n",
       "</tr>\n",
       "<tr>\n",
       "  <th>Time:</th>                 <td>19:37:49</td>     <th>  Log-Likelihood:    </th>          <td> -8150.8</td> \n",
       "</tr>\n",
       "<tr>\n",
       "  <th>No. Observations:</th>      <td>  5808</td>      <th>  AIC:               </th>          <td>1.632e+04</td>\n",
       "</tr>\n",
       "<tr>\n",
       "  <th>Df Residuals:</th>          <td>  5799</td>      <th>  BIC:               </th>          <td>1.638e+04</td>\n",
       "</tr>\n",
       "<tr>\n",
       "  <th>Df Model:</th>              <td>     9</td>      <th>                     </th>              <td> </td>    \n",
       "</tr>\n",
       "<tr>\n",
       "  <th>Covariance Type:</th>      <td>nonrobust</td>    <th>                     </th>              <td> </td>    \n",
       "</tr>\n",
       "</table>\n",
       "<table class=\"simpletable\">\n",
       "<tr>\n",
       "            <td></td>              <th>coef</th>     <th>std err</th>      <th>t</th>      <th>P>|t|</th>  <th>[0.025</th>    <th>0.975]</th>  \n",
       "</tr>\n",
       "<tr>\n",
       "  <th>original_language_da</th> <td>    5.0000</td> <td>    0.569</td> <td>    8.789</td> <td> 0.000</td> <td>    3.885</td> <td>    6.115</td>\n",
       "</tr>\n",
       "<tr>\n",
       "  <th>original_language_de</th> <td>    3.6941</td> <td>    0.040</td> <td>   92.445</td> <td> 0.000</td> <td>    3.616</td> <td>    3.772</td>\n",
       "</tr>\n",
       "<tr>\n",
       "  <th>original_language_en</th> <td>    3.6313</td> <td>    0.015</td> <td>  246.096</td> <td> 0.000</td> <td>    3.602</td> <td>    3.660</td>\n",
       "</tr>\n",
       "<tr>\n",
       "  <th>original_language_fr</th> <td>    3.6410</td> <td>    0.112</td> <td>   32.636</td> <td> 0.000</td> <td>    3.422</td> <td>    3.860</td>\n",
       "</tr>\n",
       "<tr>\n",
       "  <th>original_language_hi</th> <td>    4.0000</td> <td>    0.493</td> <td>    8.119</td> <td> 0.000</td> <td>    3.034</td> <td>    4.966</td>\n",
       "</tr>\n",
       "<tr>\n",
       "  <th>original_language_it</th> <td>    2.7000</td> <td>    0.441</td> <td>    6.127</td> <td> 0.000</td> <td>    1.836</td> <td>    3.564</td>\n",
       "</tr>\n",
       "<tr>\n",
       "  <th>original_language_ja</th> <td>    3.8125</td> <td>    0.040</td> <td>   96.034</td> <td> 0.000</td> <td>    3.735</td> <td>    3.890</td>\n",
       "</tr>\n",
       "<tr>\n",
       "  <th>original_language_ko</th> <td>    3.1667</td> <td>    0.284</td> <td>   11.133</td> <td> 0.000</td> <td>    2.609</td> <td>    3.724</td>\n",
       "</tr>\n",
       "<tr>\n",
       "  <th>original_language_ru</th> <td>    3.5000</td> <td>    0.284</td> <td>   12.305</td> <td> 0.000</td> <td>    2.942</td> <td>    4.058</td>\n",
       "</tr>\n",
       "</table>\n",
       "<table class=\"simpletable\">\n",
       "<tr>\n",
       "  <th>Omnibus:</th>       <td>344.930</td> <th>  Durbin-Watson:     </th> <td>   0.656</td>\n",
       "</tr>\n",
       "<tr>\n",
       "  <th>Prob(Omnibus):</th> <td> 0.000</td>  <th>  Jarque-Bera (JB):  </th> <td> 408.207</td>\n",
       "</tr>\n",
       "<tr>\n",
       "  <th>Skew:</th>          <td>-0.628</td>  <th>  Prob(JB):          </th> <td>2.29e-89</td>\n",
       "</tr>\n",
       "<tr>\n",
       "  <th>Kurtosis:</th>      <td> 3.334</td>  <th>  Cond. No.          </th> <td>    38.6</td>\n",
       "</tr>\n",
       "</table><br/><br/>Notes:<br/>[1] R² is computed without centering (uncentered) since the model does not contain a constant.<br/>[2] Standard Errors assume that the covariance matrix of the errors is correctly specified."
      ],
      "text/plain": [
       "<class 'statsmodels.iolib.summary.Summary'>\n",
       "\"\"\"\n",
       "                                 OLS Regression Results                                \n",
       "=======================================================================================\n",
       "Dep. Variable:                 rating   R-squared (uncentered):                   0.932\n",
       "Model:                            OLS   Adj. R-squared (uncentered):              0.932\n",
       "Method:                 Least Squares   F-statistic:                              8873.\n",
       "Date:                Sun, 13 Dec 2020   Prob (F-statistic):                        0.00\n",
       "Time:                        19:37:49   Log-Likelihood:                         -8150.8\n",
       "No. Observations:                5808   AIC:                                  1.632e+04\n",
       "Df Residuals:                    5799   BIC:                                  1.638e+04\n",
       "Df Model:                           9                                                  \n",
       "Covariance Type:            nonrobust                                                  \n",
       "========================================================================================\n",
       "                           coef    std err          t      P>|t|      [0.025      0.975]\n",
       "----------------------------------------------------------------------------------------\n",
       "original_language_da     5.0000      0.569      8.789      0.000       3.885       6.115\n",
       "original_language_de     3.6941      0.040     92.445      0.000       3.616       3.772\n",
       "original_language_en     3.6313      0.015    246.096      0.000       3.602       3.660\n",
       "original_language_fr     3.6410      0.112     32.636      0.000       3.422       3.860\n",
       "original_language_hi     4.0000      0.493      8.119      0.000       3.034       4.966\n",
       "original_language_it     2.7000      0.441      6.127      0.000       1.836       3.564\n",
       "original_language_ja     3.8125      0.040     96.034      0.000       3.735       3.890\n",
       "original_language_ko     3.1667      0.284     11.133      0.000       2.609       3.724\n",
       "original_language_ru     3.5000      0.284     12.305      0.000       2.942       4.058\n",
       "==============================================================================\n",
       "Omnibus:                      344.930   Durbin-Watson:                   0.656\n",
       "Prob(Omnibus):                  0.000   Jarque-Bera (JB):              408.207\n",
       "Skew:                          -0.628   Prob(JB):                     2.29e-89\n",
       "Kurtosis:                       3.334   Cond. No.                         38.6\n",
       "==============================================================================\n",
       "\n",
       "Notes:\n",
       "[1] R² is computed without centering (uncentered) since the model does not contain a constant.\n",
       "[2] Standard Errors assume that the covariance matrix of the errors is correctly specified.\n",
       "\"\"\""
      ]
     },
     "execution_count": 138,
     "metadata": {},
     "output_type": "execute_result"
    }
   ],
   "source": [
    "import statsmodels.api as sm\n",
    "\n",
    "#X = movies_ratings_cast_df['rating']\n",
    "#Y = movies_ratings_cast_df['original_language']\n",
    "\n",
    "X = sm.add_constant(lan_x)\n",
    "model = sm.OLS(y, lan_x)\n",
    "results = model.fit()\n",
    "results.summary()"
   ]
  },
  {
   "cell_type": "markdown",
   "metadata": {},
   "source": [
    "Danish language is the most language which contributes to the highest ratings of the movies"
   ]
  },
  {
   "cell_type": "markdown",
   "metadata": {},
   "source": [
    "original_language_da has the highest ratings with high coefficient"
   ]
  },
  {
   "cell_type": "code",
   "execution_count": null,
   "metadata": {},
   "outputs": [],
   "source": []
  },
  {
   "cell_type": "code",
   "execution_count": 139,
   "metadata": {},
   "outputs": [],
   "source": [
    "# Best rated genres\n",
    "\n",
    "#highest_rated_movies_genre = movies_ratings_cast_df.loc[movies_ratings_cast_df['rating'] == 5.0]\n",
    "#highest_rated_movies_genre.head(3)"
   ]
  },
  {
   "cell_type": "code",
   "execution_count": 140,
   "metadata": {},
   "outputs": [
    {
     "data": {
      "text/html": [
       "<table class=\"simpletable\">\n",
       "<caption>OLS Regression Results</caption>\n",
       "<tr>\n",
       "  <th>Dep. Variable:</th>         <td>rating</td>      <th>  R-squared:         </th> <td>   0.018</td> \n",
       "</tr>\n",
       "<tr>\n",
       "  <th>Model:</th>                   <td>OLS</td>       <th>  Adj. R-squared:    </th> <td>   0.015</td> \n",
       "</tr>\n",
       "<tr>\n",
       "  <th>Method:</th>             <td>Least Squares</td>  <th>  F-statistic:       </th> <td>   5.536</td> \n",
       "</tr>\n",
       "<tr>\n",
       "  <th>Date:</th>             <td>Sun, 13 Dec 2020</td> <th>  Prob (F-statistic):</th> <td>8.52e-14</td> \n",
       "</tr>\n",
       "<tr>\n",
       "  <th>Time:</th>                 <td>19:38:16</td>     <th>  Log-Likelihood:    </th> <td> -8089.1</td> \n",
       "</tr>\n",
       "<tr>\n",
       "  <th>No. Observations:</th>      <td>  5808</td>      <th>  AIC:               </th> <td>1.622e+04</td>\n",
       "</tr>\n",
       "<tr>\n",
       "  <th>Df Residuals:</th>          <td>  5788</td>      <th>  BIC:               </th> <td>1.635e+04</td>\n",
       "</tr>\n",
       "<tr>\n",
       "  <th>Df Model:</th>              <td>    19</td>      <th>                     </th>     <td> </td>    \n",
       "</tr>\n",
       "<tr>\n",
       "  <th>Covariance Type:</th>      <td>nonrobust</td>    <th>                     </th>     <td> </td>    \n",
       "</tr>\n",
       "</table>\n",
       "<table class=\"simpletable\">\n",
       "<tr>\n",
       "            <td></td>               <th>coef</th>     <th>std err</th>      <th>t</th>      <th>P>|t|</th>  <th>[0.025</th>    <th>0.975]</th>  \n",
       "</tr>\n",
       "<tr>\n",
       "  <th>genre_Action</th>          <td>    3.7134</td> <td>    0.035</td> <td>  106.140</td> <td> 0.000</td> <td>    3.645</td> <td>    3.782</td>\n",
       "</tr>\n",
       "<tr>\n",
       "  <th>genre_Adventure</th>       <td>    3.7124</td> <td>    0.039</td> <td>   94.651</td> <td> 0.000</td> <td>    3.636</td> <td>    3.789</td>\n",
       "</tr>\n",
       "<tr>\n",
       "  <th>genre_Animation</th>       <td>    3.8750</td> <td>    0.135</td> <td>   28.635</td> <td> 0.000</td> <td>    3.610</td> <td>    4.140</td>\n",
       "</tr>\n",
       "<tr>\n",
       "  <th>genre_Comedy</th>          <td>    3.7506</td> <td>    0.046</td> <td>   80.712</td> <td> 0.000</td> <td>    3.659</td> <td>    3.842</td>\n",
       "</tr>\n",
       "<tr>\n",
       "  <th>genre_Crime</th>           <td>    3.7208</td> <td>    0.055</td> <td>   67.887</td> <td> 0.000</td> <td>    3.613</td> <td>    3.828</td>\n",
       "</tr>\n",
       "<tr>\n",
       "  <th>genre_Documentary</th>     <td>    2.5000</td> <td>    0.976</td> <td>    2.562</td> <td> 0.010</td> <td>    0.587</td> <td>    4.413</td>\n",
       "</tr>\n",
       "<tr>\n",
       "  <th>genre_Drama</th>           <td>    3.5246</td> <td>    0.030</td> <td>  118.479</td> <td> 0.000</td> <td>    3.466</td> <td>    3.583</td>\n",
       "</tr>\n",
       "<tr>\n",
       "  <th>genre_Family</th>          <td>    4.0636</td> <td>    0.132</td> <td>   30.883</td> <td> 0.000</td> <td>    3.806</td> <td>    4.322</td>\n",
       "</tr>\n",
       "<tr>\n",
       "  <th>genre_Fantasy</th>         <td>    3.7897</td> <td>    0.046</td> <td>   82.107</td> <td> 0.000</td> <td>    3.699</td> <td>    3.880</td>\n",
       "</tr>\n",
       "<tr>\n",
       "  <th>genre_Foreign</th>         <td>    5.0000</td> <td>    0.976</td> <td>    5.124</td> <td> 0.000</td> <td>    3.087</td> <td>    6.913</td>\n",
       "</tr>\n",
       "<tr>\n",
       "  <th>genre_History</th>         <td>    3.6701</td> <td>    0.070</td> <td>   52.787</td> <td> 0.000</td> <td>    3.534</td> <td>    3.806</td>\n",
       "</tr>\n",
       "<tr>\n",
       "  <th>genre_Horror</th>          <td>    3.5029</td> <td>    0.074</td> <td>   47.214</td> <td> 0.000</td> <td>    3.357</td> <td>    3.648</td>\n",
       "</tr>\n",
       "<tr>\n",
       "  <th>genre_Music</th>           <td>    2.8750</td> <td>    0.345</td> <td>    8.333</td> <td> 0.000</td> <td>    2.199</td> <td>    3.551</td>\n",
       "</tr>\n",
       "<tr>\n",
       "  <th>genre_Mystery</th>         <td>    3.3022</td> <td>    0.102</td> <td>   32.281</td> <td> 0.000</td> <td>    3.102</td> <td>    3.503</td>\n",
       "</tr>\n",
       "<tr>\n",
       "  <th>genre_Romance</th>         <td>    3.4083</td> <td>    0.075</td> <td>   45.405</td> <td> 0.000</td> <td>    3.261</td> <td>    3.555</td>\n",
       "</tr>\n",
       "<tr>\n",
       "  <th>genre_Science Fiction</th> <td>    3.7692</td> <td>    0.045</td> <td>   83.560</td> <td> 0.000</td> <td>    3.681</td> <td>    3.858</td>\n",
       "</tr>\n",
       "<tr>\n",
       "  <th>genre_TV Movie</th>        <td>    3.9318</td> <td>    0.120</td> <td>   32.733</td> <td> 0.000</td> <td>    3.696</td> <td>    4.167</td>\n",
       "</tr>\n",
       "<tr>\n",
       "  <th>genre_Thriller</th>        <td>    3.5845</td> <td>    0.037</td> <td>   97.462</td> <td> 0.000</td> <td>    3.512</td> <td>    3.657</td>\n",
       "</tr>\n",
       "<tr>\n",
       "  <th>genre_War</th>             <td>    3.4965</td> <td>    0.082</td> <td>   42.847</td> <td> 0.000</td> <td>    3.337</td> <td>    3.656</td>\n",
       "</tr>\n",
       "<tr>\n",
       "  <th>genre_Western</th>         <td>    3.5000</td> <td>    0.690</td> <td>    5.072</td> <td> 0.000</td> <td>    2.147</td> <td>    4.853</td>\n",
       "</tr>\n",
       "</table>\n",
       "<table class=\"simpletable\">\n",
       "<tr>\n",
       "  <th>Omnibus:</th>       <td>374.112</td> <th>  Durbin-Watson:     </th> <td>   0.688</td>\n",
       "</tr>\n",
       "<tr>\n",
       "  <th>Prob(Omnibus):</th> <td> 0.000</td>  <th>  Jarque-Bera (JB):  </th> <td> 448.104</td>\n",
       "</tr>\n",
       "<tr>\n",
       "  <th>Skew:</th>          <td>-0.665</td>  <th>  Prob(JB):          </th> <td>4.96e-98</td>\n",
       "</tr>\n",
       "<tr>\n",
       "  <th>Kurtosis:</th>      <td> 3.286</td>  <th>  Cond. No.          </th> <td>    32.8</td>\n",
       "</tr>\n",
       "</table><br/><br/>Notes:<br/>[1] Standard Errors assume that the covariance matrix of the errors is correctly specified."
      ],
      "text/plain": [
       "<class 'statsmodels.iolib.summary.Summary'>\n",
       "\"\"\"\n",
       "                            OLS Regression Results                            \n",
       "==============================================================================\n",
       "Dep. Variable:                 rating   R-squared:                       0.018\n",
       "Model:                            OLS   Adj. R-squared:                  0.015\n",
       "Method:                 Least Squares   F-statistic:                     5.536\n",
       "Date:                Sun, 13 Dec 2020   Prob (F-statistic):           8.52e-14\n",
       "Time:                        19:38:16   Log-Likelihood:                -8089.1\n",
       "No. Observations:                5808   AIC:                         1.622e+04\n",
       "Df Residuals:                    5788   BIC:                         1.635e+04\n",
       "Df Model:                          19                                         \n",
       "Covariance Type:            nonrobust                                         \n",
       "=========================================================================================\n",
       "                            coef    std err          t      P>|t|      [0.025      0.975]\n",
       "-----------------------------------------------------------------------------------------\n",
       "genre_Action              3.7134      0.035    106.140      0.000       3.645       3.782\n",
       "genre_Adventure           3.7124      0.039     94.651      0.000       3.636       3.789\n",
       "genre_Animation           3.8750      0.135     28.635      0.000       3.610       4.140\n",
       "genre_Comedy              3.7506      0.046     80.712      0.000       3.659       3.842\n",
       "genre_Crime               3.7208      0.055     67.887      0.000       3.613       3.828\n",
       "genre_Documentary         2.5000      0.976      2.562      0.010       0.587       4.413\n",
       "genre_Drama               3.5246      0.030    118.479      0.000       3.466       3.583\n",
       "genre_Family              4.0636      0.132     30.883      0.000       3.806       4.322\n",
       "genre_Fantasy             3.7897      0.046     82.107      0.000       3.699       3.880\n",
       "genre_Foreign             5.0000      0.976      5.124      0.000       3.087       6.913\n",
       "genre_History             3.6701      0.070     52.787      0.000       3.534       3.806\n",
       "genre_Horror              3.5029      0.074     47.214      0.000       3.357       3.648\n",
       "genre_Music               2.8750      0.345      8.333      0.000       2.199       3.551\n",
       "genre_Mystery             3.3022      0.102     32.281      0.000       3.102       3.503\n",
       "genre_Romance             3.4083      0.075     45.405      0.000       3.261       3.555\n",
       "genre_Science Fiction     3.7692      0.045     83.560      0.000       3.681       3.858\n",
       "genre_TV Movie            3.9318      0.120     32.733      0.000       3.696       4.167\n",
       "genre_Thriller            3.5845      0.037     97.462      0.000       3.512       3.657\n",
       "genre_War                 3.4965      0.082     42.847      0.000       3.337       3.656\n",
       "genre_Western             3.5000      0.690      5.072      0.000       2.147       4.853\n",
       "==============================================================================\n",
       "Omnibus:                      374.112   Durbin-Watson:                   0.688\n",
       "Prob(Omnibus):                  0.000   Jarque-Bera (JB):              448.104\n",
       "Skew:                          -0.665   Prob(JB):                     4.96e-98\n",
       "Kurtosis:                       3.286   Cond. No.                         32.8\n",
       "==============================================================================\n",
       "\n",
       "Notes:\n",
       "[1] Standard Errors assume that the covariance matrix of the errors is correctly specified.\n",
       "\"\"\""
      ]
     },
     "execution_count": 140,
     "metadata": {},
     "output_type": "execute_result"
    }
   ],
   "source": [
    "genre_x = pd.get_dummies(movies_ratings_cast_df[['genre']])\n",
    "#print(lan_x)\n",
    "\n",
    "#lan_x.drop(columns=['original_language_sv'], inplace=True)\n",
    "#print(lan_x)\n",
    "\n",
    "X = sm.add_constant(genre_x, lan_x)\n",
    "model = sm.OLS(y, genre_x)\n",
    "results = model.fit()\n",
    "results.summary()"
   ]
  },
  {
   "cell_type": "code",
   "execution_count": null,
   "metadata": {},
   "outputs": [],
   "source": []
  },
  {
   "cell_type": "code",
   "execution_count": 141,
   "metadata": {},
   "outputs": [],
   "source": [
    "#movies_ratings_cast_df.columns"
   ]
  },
  {
   "cell_type": "code",
   "execution_count": 65,
   "metadata": {},
   "outputs": [
    {
     "ename": "KeyError",
     "evalue": "'actor_name'",
     "output_type": "error",
     "traceback": [
      "\u001b[1;31m---------------------------------------------------------------------------\u001b[0m",
      "\u001b[1;31mKeyError\u001b[0m                                  Traceback (most recent call last)",
      "\u001b[1;32m~\\anaconda3\\envs\\kittycat\\lib\\site-packages\\pandas\\core\\indexes\\base.py\u001b[0m in \u001b[0;36mget_loc\u001b[1;34m(self, key, method, tolerance)\u001b[0m\n\u001b[0;32m   2888\u001b[0m             \u001b[1;32mtry\u001b[0m\u001b[1;33m:\u001b[0m\u001b[1;33m\u001b[0m\u001b[1;33m\u001b[0m\u001b[0m\n\u001b[1;32m-> 2889\u001b[1;33m                 \u001b[1;32mreturn\u001b[0m \u001b[0mself\u001b[0m\u001b[1;33m.\u001b[0m\u001b[0m_engine\u001b[0m\u001b[1;33m.\u001b[0m\u001b[0mget_loc\u001b[0m\u001b[1;33m(\u001b[0m\u001b[0mcasted_key\u001b[0m\u001b[1;33m)\u001b[0m\u001b[1;33m\u001b[0m\u001b[1;33m\u001b[0m\u001b[0m\n\u001b[0m\u001b[0;32m   2890\u001b[0m             \u001b[1;32mexcept\u001b[0m \u001b[0mKeyError\u001b[0m \u001b[1;32mas\u001b[0m \u001b[0merr\u001b[0m\u001b[1;33m:\u001b[0m\u001b[1;33m\u001b[0m\u001b[1;33m\u001b[0m\u001b[0m\n",
      "\u001b[1;32mpandas\\_libs\\index.pyx\u001b[0m in \u001b[0;36mpandas._libs.index.IndexEngine.get_loc\u001b[1;34m()\u001b[0m\n",
      "\u001b[1;32mpandas\\_libs\\index.pyx\u001b[0m in \u001b[0;36mpandas._libs.index.IndexEngine.get_loc\u001b[1;34m()\u001b[0m\n",
      "\u001b[1;32mpandas\\_libs\\hashtable_class_helper.pxi\u001b[0m in \u001b[0;36mpandas._libs.hashtable.PyObjectHashTable.get_item\u001b[1;34m()\u001b[0m\n",
      "\u001b[1;32mpandas\\_libs\\hashtable_class_helper.pxi\u001b[0m in \u001b[0;36mpandas._libs.hashtable.PyObjectHashTable.get_item\u001b[1;34m()\u001b[0m\n",
      "\u001b[1;31mKeyError\u001b[0m: 'actor_name'",
      "\nThe above exception was the direct cause of the following exception:\n",
      "\u001b[1;31mKeyError\u001b[0m                                  Traceback (most recent call last)",
      "\u001b[1;32m<ipython-input-65-15c35df7b36b>\u001b[0m in \u001b[0;36m<module>\u001b[1;34m\u001b[0m\n\u001b[0;32m      1\u001b[0m \u001b[1;31m#pop_x = pd.get_dummies(movies_ratings_cast_df['popularity'],drop_first=True)\u001b[0m\u001b[1;33m\u001b[0m\u001b[1;33m\u001b[0m\u001b[1;33m\u001b[0m\u001b[0m\n\u001b[0;32m      2\u001b[0m \u001b[0mvote_x\u001b[0m \u001b[1;33m=\u001b[0m \u001b[0mpd\u001b[0m\u001b[1;33m.\u001b[0m\u001b[0mget_dummies\u001b[0m\u001b[1;33m(\u001b[0m\u001b[0mmovies_ratings_cast_df\u001b[0m\u001b[1;33m[\u001b[0m\u001b[1;34m'vote_average'\u001b[0m\u001b[1;33m]\u001b[0m\u001b[1;33m,\u001b[0m\u001b[0mdrop_first\u001b[0m\u001b[1;33m=\u001b[0m\u001b[1;32mTrue\u001b[0m\u001b[1;33m)\u001b[0m\u001b[1;33m\u001b[0m\u001b[1;33m\u001b[0m\u001b[0m\n\u001b[1;32m----> 3\u001b[1;33m \u001b[0mactor_x\u001b[0m \u001b[1;33m=\u001b[0m \u001b[0mpd\u001b[0m\u001b[1;33m.\u001b[0m\u001b[0mget_dummies\u001b[0m\u001b[1;33m(\u001b[0m\u001b[0mmovies_ratings_cast_df\u001b[0m\u001b[1;33m[\u001b[0m\u001b[1;34m'actor_name'\u001b[0m\u001b[1;33m]\u001b[0m\u001b[1;33m,\u001b[0m \u001b[0mdrop_first\u001b[0m\u001b[1;33m=\u001b[0m\u001b[1;32mTrue\u001b[0m\u001b[1;33m)\u001b[0m\u001b[1;33m\u001b[0m\u001b[1;33m\u001b[0m\u001b[0m\n\u001b[0m\u001b[0;32m      4\u001b[0m \u001b[0mgenre_x\u001b[0m \u001b[1;33m=\u001b[0m \u001b[0mpd\u001b[0m\u001b[1;33m.\u001b[0m\u001b[0mget_dummies\u001b[0m\u001b[1;33m(\u001b[0m\u001b[0mmovies_ratings_cast_df\u001b[0m\u001b[1;33m[\u001b[0m\u001b[1;34m'genre'\u001b[0m\u001b[1;33m]\u001b[0m\u001b[1;33m,\u001b[0m \u001b[0mdrop_first\u001b[0m\u001b[1;33m=\u001b[0m\u001b[1;32mTrue\u001b[0m\u001b[1;33m)\u001b[0m\u001b[1;33m\u001b[0m\u001b[1;33m\u001b[0m\u001b[0m\n",
      "\u001b[1;32m~\\anaconda3\\envs\\kittycat\\lib\\site-packages\\pandas\\core\\frame.py\u001b[0m in \u001b[0;36m__getitem__\u001b[1;34m(self, key)\u001b[0m\n\u001b[0;32m   2900\u001b[0m             \u001b[1;32mif\u001b[0m \u001b[0mself\u001b[0m\u001b[1;33m.\u001b[0m\u001b[0mcolumns\u001b[0m\u001b[1;33m.\u001b[0m\u001b[0mnlevels\u001b[0m \u001b[1;33m>\u001b[0m \u001b[1;36m1\u001b[0m\u001b[1;33m:\u001b[0m\u001b[1;33m\u001b[0m\u001b[1;33m\u001b[0m\u001b[0m\n\u001b[0;32m   2901\u001b[0m                 \u001b[1;32mreturn\u001b[0m \u001b[0mself\u001b[0m\u001b[1;33m.\u001b[0m\u001b[0m_getitem_multilevel\u001b[0m\u001b[1;33m(\u001b[0m\u001b[0mkey\u001b[0m\u001b[1;33m)\u001b[0m\u001b[1;33m\u001b[0m\u001b[1;33m\u001b[0m\u001b[0m\n\u001b[1;32m-> 2902\u001b[1;33m             \u001b[0mindexer\u001b[0m \u001b[1;33m=\u001b[0m \u001b[0mself\u001b[0m\u001b[1;33m.\u001b[0m\u001b[0mcolumns\u001b[0m\u001b[1;33m.\u001b[0m\u001b[0mget_loc\u001b[0m\u001b[1;33m(\u001b[0m\u001b[0mkey\u001b[0m\u001b[1;33m)\u001b[0m\u001b[1;33m\u001b[0m\u001b[1;33m\u001b[0m\u001b[0m\n\u001b[0m\u001b[0;32m   2903\u001b[0m             \u001b[1;32mif\u001b[0m \u001b[0mis_integer\u001b[0m\u001b[1;33m(\u001b[0m\u001b[0mindexer\u001b[0m\u001b[1;33m)\u001b[0m\u001b[1;33m:\u001b[0m\u001b[1;33m\u001b[0m\u001b[1;33m\u001b[0m\u001b[0m\n\u001b[0;32m   2904\u001b[0m                 \u001b[0mindexer\u001b[0m \u001b[1;33m=\u001b[0m \u001b[1;33m[\u001b[0m\u001b[0mindexer\u001b[0m\u001b[1;33m]\u001b[0m\u001b[1;33m\u001b[0m\u001b[1;33m\u001b[0m\u001b[0m\n",
      "\u001b[1;32m~\\anaconda3\\envs\\kittycat\\lib\\site-packages\\pandas\\core\\indexes\\base.py\u001b[0m in \u001b[0;36mget_loc\u001b[1;34m(self, key, method, tolerance)\u001b[0m\n\u001b[0;32m   2889\u001b[0m                 \u001b[1;32mreturn\u001b[0m \u001b[0mself\u001b[0m\u001b[1;33m.\u001b[0m\u001b[0m_engine\u001b[0m\u001b[1;33m.\u001b[0m\u001b[0mget_loc\u001b[0m\u001b[1;33m(\u001b[0m\u001b[0mcasted_key\u001b[0m\u001b[1;33m)\u001b[0m\u001b[1;33m\u001b[0m\u001b[1;33m\u001b[0m\u001b[0m\n\u001b[0;32m   2890\u001b[0m             \u001b[1;32mexcept\u001b[0m \u001b[0mKeyError\u001b[0m \u001b[1;32mas\u001b[0m \u001b[0merr\u001b[0m\u001b[1;33m:\u001b[0m\u001b[1;33m\u001b[0m\u001b[1;33m\u001b[0m\u001b[0m\n\u001b[1;32m-> 2891\u001b[1;33m                 \u001b[1;32mraise\u001b[0m \u001b[0mKeyError\u001b[0m\u001b[1;33m(\u001b[0m\u001b[0mkey\u001b[0m\u001b[1;33m)\u001b[0m \u001b[1;32mfrom\u001b[0m \u001b[0merr\u001b[0m\u001b[1;33m\u001b[0m\u001b[1;33m\u001b[0m\u001b[0m\n\u001b[0m\u001b[0;32m   2892\u001b[0m \u001b[1;33m\u001b[0m\u001b[0m\n\u001b[0;32m   2893\u001b[0m         \u001b[1;32mif\u001b[0m \u001b[0mtolerance\u001b[0m \u001b[1;32mis\u001b[0m \u001b[1;32mnot\u001b[0m \u001b[1;32mNone\u001b[0m\u001b[1;33m:\u001b[0m\u001b[1;33m\u001b[0m\u001b[1;33m\u001b[0m\u001b[0m\n",
      "\u001b[1;31mKeyError\u001b[0m: 'actor_name'"
     ]
    }
   ],
   "source": [
    "#pop_x = pd.get_dummies(movies_ratings_cast_df['popularity'],drop_first=True)\n",
    "vote_x = pd.get_dummies(movies_ratings_cast_df['vote_average'],drop_first=True)\n",
    "actor_x = pd.get_dummies(movies_ratings_cast_df['actor_name'], drop_first=True)\n",
    "genre_x = pd.get_dummies(movies_ratings_cast_df['genre'], drop_first=True)"
   ]
  },
  {
   "cell_type": "code",
   "execution_count": 66,
   "metadata": {},
   "outputs": [],
   "source": [
    "#print(pop_x)"
   ]
  },
  {
   "cell_type": "code",
   "execution_count": 67,
   "metadata": {},
   "outputs": [
    {
     "ename": "NameError",
     "evalue": "name 'sm' is not defined",
     "output_type": "error",
     "traceback": [
      "\u001b[1;31m---------------------------------------------------------------------------\u001b[0m",
      "\u001b[1;31mNameError\u001b[0m                                 Traceback (most recent call last)",
      "\u001b[1;32m<ipython-input-67-b9a2d347e3b7>\u001b[0m in \u001b[0;36m<module>\u001b[1;34m\u001b[0m\n\u001b[0;32m      1\u001b[0m \u001b[0my\u001b[0m \u001b[1;33m=\u001b[0m \u001b[0mmovies_ratings_cast_df\u001b[0m\u001b[1;33m[\u001b[0m\u001b[1;33m[\u001b[0m\u001b[1;34m'rating'\u001b[0m\u001b[1;33m]\u001b[0m\u001b[1;33m]\u001b[0m\u001b[1;33m\u001b[0m\u001b[1;33m\u001b[0m\u001b[0m\n\u001b[0;32m      2\u001b[0m \u001b[1;33m\u001b[0m\u001b[0m\n\u001b[1;32m----> 3\u001b[1;33m \u001b[0mX\u001b[0m \u001b[1;33m=\u001b[0m \u001b[0msm\u001b[0m\u001b[1;33m.\u001b[0m\u001b[0madd_constant\u001b[0m\u001b[1;33m(\u001b[0m\u001b[0mactor_x\u001b[0m\u001b[1;33m)\u001b[0m\u001b[1;33m\u001b[0m\u001b[1;33m\u001b[0m\u001b[0m\n\u001b[0m\u001b[0;32m      4\u001b[0m \u001b[0mmodel\u001b[0m \u001b[1;33m=\u001b[0m \u001b[0msm\u001b[0m\u001b[1;33m.\u001b[0m\u001b[0mOLS\u001b[0m\u001b[1;33m(\u001b[0m\u001b[0my\u001b[0m\u001b[1;33m,\u001b[0m \u001b[0mactor_x\u001b[0m\u001b[1;33m)\u001b[0m\u001b[1;33m\u001b[0m\u001b[1;33m\u001b[0m\u001b[0m\n\u001b[0;32m      5\u001b[0m \u001b[0mresults\u001b[0m \u001b[1;33m=\u001b[0m \u001b[0mmodel\u001b[0m\u001b[1;33m.\u001b[0m\u001b[0mfit\u001b[0m\u001b[1;33m(\u001b[0m\u001b[1;33m)\u001b[0m\u001b[1;33m\u001b[0m\u001b[1;33m\u001b[0m\u001b[0m\n",
      "\u001b[1;31mNameError\u001b[0m: name 'sm' is not defined"
     ]
    }
   ],
   "source": [
    "y = movies_ratings_cast_df[['rating']]\n",
    "\n",
    "X = sm.add_constant(actor_x)\n",
    "model = sm.OLS(y, actor_x)\n",
    "results = model.fit()\n",
    "results.summary()"
   ]
  },
  {
   "cell_type": "code",
   "execution_count": null,
   "metadata": {},
   "outputs": [],
   "source": []
  },
  {
   "cell_type": "code",
   "execution_count": null,
   "metadata": {},
   "outputs": [],
   "source": []
  },
  {
   "cell_type": "code",
   "execution_count": null,
   "metadata": {},
   "outputs": [],
   "source": []
  }
 ],
 "metadata": {
  "kernelspec": {
   "display_name": "Python 3",
   "language": "python",
   "name": "python3"
  },
  "language_info": {
   "codemirror_mode": {
    "name": "ipython",
    "version": 3
   },
   "file_extension": ".py",
   "mimetype": "text/x-python",
   "name": "python",
   "nbconvert_exporter": "python",
   "pygments_lexer": "ipython3",
   "version": "3.8.5"
  }
 },
 "nbformat": 4,
 "nbformat_minor": 4
}
