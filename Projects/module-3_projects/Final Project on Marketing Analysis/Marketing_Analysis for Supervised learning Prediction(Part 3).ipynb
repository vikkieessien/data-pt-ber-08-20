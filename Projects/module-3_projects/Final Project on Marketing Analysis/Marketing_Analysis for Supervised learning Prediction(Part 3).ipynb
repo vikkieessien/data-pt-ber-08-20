{
 "cells": [
  {
   "cell_type": "code",
   "execution_count": 399,
   "metadata": {},
   "outputs": [],
   "source": [
    "import numpy as np \n",
    "import pandas as pd\n",
    "import matplotlib.pyplot as plt\n",
    "import seaborn as sns\n",
    "\n",
    "%matplotlib inline"
   ]
  },
  {
   "cell_type": "code",
   "execution_count": 400,
   "metadata": {},
   "outputs": [],
   "source": [
    "df = pd.read_csv('marketing_df.csv')"
   ]
  },
  {
   "cell_type": "code",
   "execution_count": 401,
   "metadata": {
    "scrolled": true
   },
   "outputs": [
    {
     "data": {
      "text/html": [
       "<div>\n",
       "<style scoped>\n",
       "    .dataframe tbody tr th:only-of-type {\n",
       "        vertical-align: middle;\n",
       "    }\n",
       "\n",
       "    .dataframe tbody tr th {\n",
       "        vertical-align: top;\n",
       "    }\n",
       "\n",
       "    .dataframe thead th {\n",
       "        text-align: right;\n",
       "    }\n",
       "</style>\n",
       "<table border=\"1\" class=\"dataframe\">\n",
       "  <thead>\n",
       "    <tr style=\"text-align: right;\">\n",
       "      <th></th>\n",
       "      <th>Unnamed: 0</th>\n",
       "      <th>Education</th>\n",
       "      <th>Marital_Status</th>\n",
       "      <th>Income</th>\n",
       "      <th>Kidhome</th>\n",
       "      <th>Teenhome</th>\n",
       "      <th>Recency</th>\n",
       "      <th>MntWines</th>\n",
       "      <th>MntFruits</th>\n",
       "      <th>MntMeatProducts</th>\n",
       "      <th>...</th>\n",
       "      <th>AcceptedCmp1</th>\n",
       "      <th>AcceptedCmp2</th>\n",
       "      <th>Response</th>\n",
       "      <th>Complain</th>\n",
       "      <th>Country</th>\n",
       "      <th>Children</th>\n",
       "      <th>Age</th>\n",
       "      <th>Total_Spent</th>\n",
       "      <th>customer_lifetime</th>\n",
       "      <th>cluster</th>\n",
       "    </tr>\n",
       "  </thead>\n",
       "  <tbody>\n",
       "    <tr>\n",
       "      <th>0</th>\n",
       "      <td>0</td>\n",
       "      <td>2</td>\n",
       "      <td>2</td>\n",
       "      <td>84835.0</td>\n",
       "      <td>0</td>\n",
       "      <td>0</td>\n",
       "      <td>0</td>\n",
       "      <td>189</td>\n",
       "      <td>104</td>\n",
       "      <td>379</td>\n",
       "      <td>...</td>\n",
       "      <td>0</td>\n",
       "      <td>0</td>\n",
       "      <td>1</td>\n",
       "      <td>0</td>\n",
       "      <td>6</td>\n",
       "      <td>0</td>\n",
       "      <td>51</td>\n",
       "      <td>1190</td>\n",
       "      <td>6.7</td>\n",
       "      <td>1</td>\n",
       "    </tr>\n",
       "    <tr>\n",
       "      <th>1</th>\n",
       "      <td>1</td>\n",
       "      <td>2</td>\n",
       "      <td>4</td>\n",
       "      <td>57091.0</td>\n",
       "      <td>0</td>\n",
       "      <td>0</td>\n",
       "      <td>0</td>\n",
       "      <td>464</td>\n",
       "      <td>5</td>\n",
       "      <td>64</td>\n",
       "      <td>...</td>\n",
       "      <td>0</td>\n",
       "      <td>1</td>\n",
       "      <td>1</td>\n",
       "      <td>0</td>\n",
       "      <td>1</td>\n",
       "      <td>0</td>\n",
       "      <td>60</td>\n",
       "      <td>577</td>\n",
       "      <td>6.7</td>\n",
       "      <td>0</td>\n",
       "    </tr>\n",
       "    <tr>\n",
       "      <th>2</th>\n",
       "      <td>2</td>\n",
       "      <td>2</td>\n",
       "      <td>3</td>\n",
       "      <td>67267.0</td>\n",
       "      <td>0</td>\n",
       "      <td>1</td>\n",
       "      <td>0</td>\n",
       "      <td>134</td>\n",
       "      <td>11</td>\n",
       "      <td>59</td>\n",
       "      <td>...</td>\n",
       "      <td>0</td>\n",
       "      <td>0</td>\n",
       "      <td>0</td>\n",
       "      <td>0</td>\n",
       "      <td>7</td>\n",
       "      <td>1</td>\n",
       "      <td>63</td>\n",
       "      <td>251</td>\n",
       "      <td>6.7</td>\n",
       "      <td>2</td>\n",
       "    </tr>\n",
       "    <tr>\n",
       "      <th>3</th>\n",
       "      <td>3</td>\n",
       "      <td>2</td>\n",
       "      <td>5</td>\n",
       "      <td>32474.0</td>\n",
       "      <td>1</td>\n",
       "      <td>1</td>\n",
       "      <td>0</td>\n",
       "      <td>10</td>\n",
       "      <td>0</td>\n",
       "      <td>1</td>\n",
       "      <td>...</td>\n",
       "      <td>0</td>\n",
       "      <td>0</td>\n",
       "      <td>0</td>\n",
       "      <td>0</td>\n",
       "      <td>0</td>\n",
       "      <td>2</td>\n",
       "      <td>54</td>\n",
       "      <td>11</td>\n",
       "      <td>6.8</td>\n",
       "      <td>2</td>\n",
       "    </tr>\n",
       "    <tr>\n",
       "      <th>4</th>\n",
       "      <td>4</td>\n",
       "      <td>2</td>\n",
       "      <td>4</td>\n",
       "      <td>21474.0</td>\n",
       "      <td>1</td>\n",
       "      <td>0</td>\n",
       "      <td>0</td>\n",
       "      <td>6</td>\n",
       "      <td>16</td>\n",
       "      <td>24</td>\n",
       "      <td>...</td>\n",
       "      <td>0</td>\n",
       "      <td>0</td>\n",
       "      <td>1</td>\n",
       "      <td>0</td>\n",
       "      <td>6</td>\n",
       "      <td>1</td>\n",
       "      <td>32</td>\n",
       "      <td>91</td>\n",
       "      <td>6.8</td>\n",
       "      <td>2</td>\n",
       "    </tr>\n",
       "  </tbody>\n",
       "</table>\n",
       "<p>5 rows × 31 columns</p>\n",
       "</div>"
      ],
      "text/plain": [
       "   Unnamed: 0  Education  Marital_Status   Income  Kidhome  Teenhome  Recency  \\\n",
       "0           0          2               2  84835.0        0         0        0   \n",
       "1           1          2               4  57091.0        0         0        0   \n",
       "2           2          2               3  67267.0        0         1        0   \n",
       "3           3          2               5  32474.0        1         1        0   \n",
       "4           4          2               4  21474.0        1         0        0   \n",
       "\n",
       "   MntWines  MntFruits  MntMeatProducts  ...  AcceptedCmp1  AcceptedCmp2  \\\n",
       "0       189        104              379  ...             0             0   \n",
       "1       464          5               64  ...             0             1   \n",
       "2       134         11               59  ...             0             0   \n",
       "3        10          0                1  ...             0             0   \n",
       "4         6         16               24  ...             0             0   \n",
       "\n",
       "   Response  Complain  Country  Children  Age  Total_Spent  customer_lifetime  \\\n",
       "0         1         0        6         0   51         1190                6.7   \n",
       "1         1         0        1         0   60          577                6.7   \n",
       "2         0         0        7         1   63          251                6.7   \n",
       "3         0         0        0         2   54           11                6.8   \n",
       "4         1         0        6         1   32           91                6.8   \n",
       "\n",
       "   cluster  \n",
       "0        1  \n",
       "1        0  \n",
       "2        2  \n",
       "3        2  \n",
       "4        2  \n",
       "\n",
       "[5 rows x 31 columns]"
      ]
     },
     "execution_count": 401,
     "metadata": {},
     "output_type": "execute_result"
    }
   ],
   "source": [
    "df.head()"
   ]
  },
  {
   "cell_type": "code",
   "execution_count": 402,
   "metadata": {},
   "outputs": [
    {
     "data": {
      "text/plain": [
       "Index(['Unnamed: 0', 'Education', 'Marital_Status', 'Income', 'Kidhome',\n",
       "       'Teenhome', 'Recency', 'MntWines', 'MntFruits', 'MntMeatProducts',\n",
       "       'MntFishProducts', 'MntSweetProducts', 'MntGoldProds',\n",
       "       'NumDealsPurchases', 'NumWebPurchases', 'NumCatalogPurchases',\n",
       "       'NumStorePurchases', 'NumWebVisitsMonth', 'AcceptedCmp3',\n",
       "       'AcceptedCmp4', 'AcceptedCmp5', 'AcceptedCmp1', 'AcceptedCmp2',\n",
       "       'Response', 'Complain', 'Country', 'Children', 'Age', 'Total_Spent',\n",
       "       'customer_lifetime', 'cluster'],\n",
       "      dtype='object')"
      ]
     },
     "execution_count": 402,
     "metadata": {},
     "output_type": "execute_result"
    }
   ],
   "source": [
    "df.columns"
   ]
  },
  {
   "cell_type": "code",
   "execution_count": 403,
   "metadata": {},
   "outputs": [],
   "source": [
    "df.drop(['Children'],axis=1, inplace=True)"
   ]
  },
  {
   "cell_type": "code",
   "execution_count": 404,
   "metadata": {},
   "outputs": [
    {
     "data": {
      "text/html": [
       "<div>\n",
       "<style scoped>\n",
       "    .dataframe tbody tr th:only-of-type {\n",
       "        vertical-align: middle;\n",
       "    }\n",
       "\n",
       "    .dataframe tbody tr th {\n",
       "        vertical-align: top;\n",
       "    }\n",
       "\n",
       "    .dataframe thead th {\n",
       "        text-align: right;\n",
       "    }\n",
       "</style>\n",
       "<table border=\"1\" class=\"dataframe\">\n",
       "  <thead>\n",
       "    <tr style=\"text-align: right;\">\n",
       "      <th></th>\n",
       "      <th>Unnamed: 0</th>\n",
       "      <th>Education</th>\n",
       "      <th>Marital_Status</th>\n",
       "      <th>Income</th>\n",
       "      <th>Kidhome</th>\n",
       "      <th>Teenhome</th>\n",
       "      <th>Recency</th>\n",
       "      <th>MntWines</th>\n",
       "      <th>MntFruits</th>\n",
       "      <th>MntMeatProducts</th>\n",
       "      <th>...</th>\n",
       "      <th>AcceptedCmp5</th>\n",
       "      <th>AcceptedCmp1</th>\n",
       "      <th>AcceptedCmp2</th>\n",
       "      <th>Response</th>\n",
       "      <th>Complain</th>\n",
       "      <th>Country</th>\n",
       "      <th>Age</th>\n",
       "      <th>Total_Spent</th>\n",
       "      <th>customer_lifetime</th>\n",
       "      <th>cluster</th>\n",
       "    </tr>\n",
       "  </thead>\n",
       "  <tbody>\n",
       "    <tr>\n",
       "      <th>0</th>\n",
       "      <td>0</td>\n",
       "      <td>2</td>\n",
       "      <td>2</td>\n",
       "      <td>84835.0</td>\n",
       "      <td>0</td>\n",
       "      <td>0</td>\n",
       "      <td>0</td>\n",
       "      <td>189</td>\n",
       "      <td>104</td>\n",
       "      <td>379</td>\n",
       "      <td>...</td>\n",
       "      <td>0</td>\n",
       "      <td>0</td>\n",
       "      <td>0</td>\n",
       "      <td>1</td>\n",
       "      <td>0</td>\n",
       "      <td>6</td>\n",
       "      <td>51</td>\n",
       "      <td>1190</td>\n",
       "      <td>6.7</td>\n",
       "      <td>1</td>\n",
       "    </tr>\n",
       "    <tr>\n",
       "      <th>1</th>\n",
       "      <td>1</td>\n",
       "      <td>2</td>\n",
       "      <td>4</td>\n",
       "      <td>57091.0</td>\n",
       "      <td>0</td>\n",
       "      <td>0</td>\n",
       "      <td>0</td>\n",
       "      <td>464</td>\n",
       "      <td>5</td>\n",
       "      <td>64</td>\n",
       "      <td>...</td>\n",
       "      <td>0</td>\n",
       "      <td>0</td>\n",
       "      <td>1</td>\n",
       "      <td>1</td>\n",
       "      <td>0</td>\n",
       "      <td>1</td>\n",
       "      <td>60</td>\n",
       "      <td>577</td>\n",
       "      <td>6.7</td>\n",
       "      <td>0</td>\n",
       "    </tr>\n",
       "    <tr>\n",
       "      <th>2</th>\n",
       "      <td>2</td>\n",
       "      <td>2</td>\n",
       "      <td>3</td>\n",
       "      <td>67267.0</td>\n",
       "      <td>0</td>\n",
       "      <td>1</td>\n",
       "      <td>0</td>\n",
       "      <td>134</td>\n",
       "      <td>11</td>\n",
       "      <td>59</td>\n",
       "      <td>...</td>\n",
       "      <td>0</td>\n",
       "      <td>0</td>\n",
       "      <td>0</td>\n",
       "      <td>0</td>\n",
       "      <td>0</td>\n",
       "      <td>7</td>\n",
       "      <td>63</td>\n",
       "      <td>251</td>\n",
       "      <td>6.7</td>\n",
       "      <td>2</td>\n",
       "    </tr>\n",
       "    <tr>\n",
       "      <th>3</th>\n",
       "      <td>3</td>\n",
       "      <td>2</td>\n",
       "      <td>5</td>\n",
       "      <td>32474.0</td>\n",
       "      <td>1</td>\n",
       "      <td>1</td>\n",
       "      <td>0</td>\n",
       "      <td>10</td>\n",
       "      <td>0</td>\n",
       "      <td>1</td>\n",
       "      <td>...</td>\n",
       "      <td>0</td>\n",
       "      <td>0</td>\n",
       "      <td>0</td>\n",
       "      <td>0</td>\n",
       "      <td>0</td>\n",
       "      <td>0</td>\n",
       "      <td>54</td>\n",
       "      <td>11</td>\n",
       "      <td>6.8</td>\n",
       "      <td>2</td>\n",
       "    </tr>\n",
       "    <tr>\n",
       "      <th>4</th>\n",
       "      <td>4</td>\n",
       "      <td>2</td>\n",
       "      <td>4</td>\n",
       "      <td>21474.0</td>\n",
       "      <td>1</td>\n",
       "      <td>0</td>\n",
       "      <td>0</td>\n",
       "      <td>6</td>\n",
       "      <td>16</td>\n",
       "      <td>24</td>\n",
       "      <td>...</td>\n",
       "      <td>0</td>\n",
       "      <td>0</td>\n",
       "      <td>0</td>\n",
       "      <td>1</td>\n",
       "      <td>0</td>\n",
       "      <td>6</td>\n",
       "      <td>32</td>\n",
       "      <td>91</td>\n",
       "      <td>6.8</td>\n",
       "      <td>2</td>\n",
       "    </tr>\n",
       "  </tbody>\n",
       "</table>\n",
       "<p>5 rows × 30 columns</p>\n",
       "</div>"
      ],
      "text/plain": [
       "   Unnamed: 0  Education  Marital_Status   Income  Kidhome  Teenhome  Recency  \\\n",
       "0           0          2               2  84835.0        0         0        0   \n",
       "1           1          2               4  57091.0        0         0        0   \n",
       "2           2          2               3  67267.0        0         1        0   \n",
       "3           3          2               5  32474.0        1         1        0   \n",
       "4           4          2               4  21474.0        1         0        0   \n",
       "\n",
       "   MntWines  MntFruits  MntMeatProducts  ...  AcceptedCmp5  AcceptedCmp1  \\\n",
       "0       189        104              379  ...             0             0   \n",
       "1       464          5               64  ...             0             0   \n",
       "2       134         11               59  ...             0             0   \n",
       "3        10          0                1  ...             0             0   \n",
       "4         6         16               24  ...             0             0   \n",
       "\n",
       "   AcceptedCmp2  Response  Complain  Country  Age  Total_Spent  \\\n",
       "0             0         1         0        6   51         1190   \n",
       "1             1         1         0        1   60          577   \n",
       "2             0         0         0        7   63          251   \n",
       "3             0         0         0        0   54           11   \n",
       "4             0         1         0        6   32           91   \n",
       "\n",
       "   customer_lifetime  cluster  \n",
       "0                6.7        1  \n",
       "1                6.7        0  \n",
       "2                6.7        2  \n",
       "3                6.8        2  \n",
       "4                6.8        2  \n",
       "\n",
       "[5 rows x 30 columns]"
      ]
     },
     "execution_count": 404,
     "metadata": {},
     "output_type": "execute_result"
    }
   ],
   "source": [
    "df.head()"
   ]
  },
  {
   "cell_type": "code",
   "execution_count": 405,
   "metadata": {},
   "outputs": [],
   "source": [
    "from sklearn.preprocessing import StandardScaler"
   ]
  },
  {
   "cell_type": "code",
   "execution_count": 406,
   "metadata": {},
   "outputs": [
    {
     "name": "stdout",
     "output_type": "stream",
     "text": [
      "   Unnamed: 0  Education  Marital_Status    Income   Kidhome  Teenhome  \\\n",
      "0   -1.729064  -0.352454       -1.602398  1.294980 -0.823208 -0.929307   \n",
      "1   -1.727516  -0.352454        0.254202  0.192843 -0.823208 -0.929307   \n",
      "2   -1.725969  -0.352454       -0.674098  0.597087 -0.823208  0.908545   \n",
      "3   -1.724421  -0.352454        1.182503 -0.785073  1.039532  0.908545   \n",
      "4   -1.722874  -0.352454        0.254202 -1.222051  1.039532 -0.929307   \n",
      "\n",
      "    Recency  MntWines  MntFruits  MntMeatProducts  ...  AcceptedCmp4  \\\n",
      "0 -1.693697 -0.344435   1.955247         0.945855  ...     -0.282912   \n",
      "1 -1.693697  0.471034  -0.536764        -0.459294  ...     -0.282912   \n",
      "2 -1.693697 -0.507529  -0.385733        -0.481598  ...     -0.282912   \n",
      "3 -1.693697 -0.875231  -0.662623        -0.740324  ...     -0.282912   \n",
      "4 -1.693697 -0.887093  -0.259874        -0.637726  ...     -0.282912   \n",
      "\n",
      "   AcceptedCmp5  AcceptedCmp1  AcceptedCmp2  Complain   Country       Age  \\\n",
      "0     -0.280107     -0.261851     -0.117229 -0.095498  0.694790 -0.092557   \n",
      "1     -0.280107     -0.261851      8.530338 -0.095498 -1.600776  0.676833   \n",
      "2     -0.280107     -0.261851     -0.117229 -0.095498  1.153903  0.933297   \n",
      "3     -0.280107     -0.261851     -0.117229 -0.095498 -2.059889  0.163906   \n",
      "4     -0.280107     -0.261851     -0.117229 -0.095498  0.694790 -1.716826   \n",
      "\n",
      "   Total_Spent  customer_lifetime   cluster  \n",
      "0     0.967836          -1.599987 -0.231739  \n",
      "1    -0.049841          -1.599987 -1.413397  \n",
      "2    -0.591052          -1.599987  0.949918  \n",
      "3    -0.989490          -1.420060  0.949918  \n",
      "4    -0.856677          -1.420060  0.949918  \n",
      "\n",
      "[5 rows x 29 columns]\n"
     ]
    }
   ],
   "source": [
    "marketing_df = df.drop(columns=['Response'])\n",
    "transformer = StandardScaler().fit(marketing_df)\n",
    "marketing_df_standardized = transformer.transform(marketing_df)\n",
    "X = pd.DataFrame(marketing_df_standardized, columns = marketing_df.columns)\n",
    "\n",
    "print(X.head())"
   ]
  },
  {
   "cell_type": "code",
   "execution_count": 407,
   "metadata": {},
   "outputs": [],
   "source": [
    "X.drop(['cluster'],axis=1, inplace=True)"
   ]
  },
  {
   "cell_type": "code",
   "execution_count": 408,
   "metadata": {},
   "outputs": [
    {
     "data": {
      "text/html": [
       "<div>\n",
       "<style scoped>\n",
       "    .dataframe tbody tr th:only-of-type {\n",
       "        vertical-align: middle;\n",
       "    }\n",
       "\n",
       "    .dataframe tbody tr th {\n",
       "        vertical-align: top;\n",
       "    }\n",
       "\n",
       "    .dataframe thead th {\n",
       "        text-align: right;\n",
       "    }\n",
       "</style>\n",
       "<table border=\"1\" class=\"dataframe\">\n",
       "  <thead>\n",
       "    <tr style=\"text-align: right;\">\n",
       "      <th></th>\n",
       "      <th>Unnamed: 0</th>\n",
       "      <th>Education</th>\n",
       "      <th>Marital_Status</th>\n",
       "      <th>Income</th>\n",
       "      <th>Kidhome</th>\n",
       "      <th>Teenhome</th>\n",
       "      <th>Recency</th>\n",
       "      <th>MntWines</th>\n",
       "      <th>MntFruits</th>\n",
       "      <th>MntMeatProducts</th>\n",
       "      <th>...</th>\n",
       "      <th>AcceptedCmp3</th>\n",
       "      <th>AcceptedCmp4</th>\n",
       "      <th>AcceptedCmp5</th>\n",
       "      <th>AcceptedCmp1</th>\n",
       "      <th>AcceptedCmp2</th>\n",
       "      <th>Complain</th>\n",
       "      <th>Country</th>\n",
       "      <th>Age</th>\n",
       "      <th>Total_Spent</th>\n",
       "      <th>customer_lifetime</th>\n",
       "    </tr>\n",
       "  </thead>\n",
       "  <tbody>\n",
       "    <tr>\n",
       "      <th>0</th>\n",
       "      <td>-1.729064</td>\n",
       "      <td>-0.352454</td>\n",
       "      <td>-1.602398</td>\n",
       "      <td>1.294980</td>\n",
       "      <td>-0.823208</td>\n",
       "      <td>-0.929307</td>\n",
       "      <td>-1.693697</td>\n",
       "      <td>-0.344435</td>\n",
       "      <td>1.955247</td>\n",
       "      <td>0.945855</td>\n",
       "      <td>...</td>\n",
       "      <td>-0.281979</td>\n",
       "      <td>-0.282912</td>\n",
       "      <td>-0.280107</td>\n",
       "      <td>-0.261851</td>\n",
       "      <td>-0.117229</td>\n",
       "      <td>-0.095498</td>\n",
       "      <td>0.694790</td>\n",
       "      <td>-0.092557</td>\n",
       "      <td>0.967836</td>\n",
       "      <td>-1.599987</td>\n",
       "    </tr>\n",
       "    <tr>\n",
       "      <th>1</th>\n",
       "      <td>-1.727516</td>\n",
       "      <td>-0.352454</td>\n",
       "      <td>0.254202</td>\n",
       "      <td>0.192843</td>\n",
       "      <td>-0.823208</td>\n",
       "      <td>-0.929307</td>\n",
       "      <td>-1.693697</td>\n",
       "      <td>0.471034</td>\n",
       "      <td>-0.536764</td>\n",
       "      <td>-0.459294</td>\n",
       "      <td>...</td>\n",
       "      <td>-0.281979</td>\n",
       "      <td>-0.282912</td>\n",
       "      <td>-0.280107</td>\n",
       "      <td>-0.261851</td>\n",
       "      <td>8.530338</td>\n",
       "      <td>-0.095498</td>\n",
       "      <td>-1.600776</td>\n",
       "      <td>0.676833</td>\n",
       "      <td>-0.049841</td>\n",
       "      <td>-1.599987</td>\n",
       "    </tr>\n",
       "    <tr>\n",
       "      <th>2</th>\n",
       "      <td>-1.725969</td>\n",
       "      <td>-0.352454</td>\n",
       "      <td>-0.674098</td>\n",
       "      <td>0.597087</td>\n",
       "      <td>-0.823208</td>\n",
       "      <td>0.908545</td>\n",
       "      <td>-1.693697</td>\n",
       "      <td>-0.507529</td>\n",
       "      <td>-0.385733</td>\n",
       "      <td>-0.481598</td>\n",
       "      <td>...</td>\n",
       "      <td>-0.281979</td>\n",
       "      <td>-0.282912</td>\n",
       "      <td>-0.280107</td>\n",
       "      <td>-0.261851</td>\n",
       "      <td>-0.117229</td>\n",
       "      <td>-0.095498</td>\n",
       "      <td>1.153903</td>\n",
       "      <td>0.933297</td>\n",
       "      <td>-0.591052</td>\n",
       "      <td>-1.599987</td>\n",
       "    </tr>\n",
       "    <tr>\n",
       "      <th>3</th>\n",
       "      <td>-1.724421</td>\n",
       "      <td>-0.352454</td>\n",
       "      <td>1.182503</td>\n",
       "      <td>-0.785073</td>\n",
       "      <td>1.039532</td>\n",
       "      <td>0.908545</td>\n",
       "      <td>-1.693697</td>\n",
       "      <td>-0.875231</td>\n",
       "      <td>-0.662623</td>\n",
       "      <td>-0.740324</td>\n",
       "      <td>...</td>\n",
       "      <td>-0.281979</td>\n",
       "      <td>-0.282912</td>\n",
       "      <td>-0.280107</td>\n",
       "      <td>-0.261851</td>\n",
       "      <td>-0.117229</td>\n",
       "      <td>-0.095498</td>\n",
       "      <td>-2.059889</td>\n",
       "      <td>0.163906</td>\n",
       "      <td>-0.989490</td>\n",
       "      <td>-1.420060</td>\n",
       "    </tr>\n",
       "    <tr>\n",
       "      <th>4</th>\n",
       "      <td>-1.722874</td>\n",
       "      <td>-0.352454</td>\n",
       "      <td>0.254202</td>\n",
       "      <td>-1.222051</td>\n",
       "      <td>1.039532</td>\n",
       "      <td>-0.929307</td>\n",
       "      <td>-1.693697</td>\n",
       "      <td>-0.887093</td>\n",
       "      <td>-0.259874</td>\n",
       "      <td>-0.637726</td>\n",
       "      <td>...</td>\n",
       "      <td>3.546363</td>\n",
       "      <td>-0.282912</td>\n",
       "      <td>-0.280107</td>\n",
       "      <td>-0.261851</td>\n",
       "      <td>-0.117229</td>\n",
       "      <td>-0.095498</td>\n",
       "      <td>0.694790</td>\n",
       "      <td>-1.716826</td>\n",
       "      <td>-0.856677</td>\n",
       "      <td>-1.420060</td>\n",
       "    </tr>\n",
       "  </tbody>\n",
       "</table>\n",
       "<p>5 rows × 28 columns</p>\n",
       "</div>"
      ],
      "text/plain": [
       "   Unnamed: 0  Education  Marital_Status    Income   Kidhome  Teenhome  \\\n",
       "0   -1.729064  -0.352454       -1.602398  1.294980 -0.823208 -0.929307   \n",
       "1   -1.727516  -0.352454        0.254202  0.192843 -0.823208 -0.929307   \n",
       "2   -1.725969  -0.352454       -0.674098  0.597087 -0.823208  0.908545   \n",
       "3   -1.724421  -0.352454        1.182503 -0.785073  1.039532  0.908545   \n",
       "4   -1.722874  -0.352454        0.254202 -1.222051  1.039532 -0.929307   \n",
       "\n",
       "    Recency  MntWines  MntFruits  MntMeatProducts  ...  AcceptedCmp3  \\\n",
       "0 -1.693697 -0.344435   1.955247         0.945855  ...     -0.281979   \n",
       "1 -1.693697  0.471034  -0.536764        -0.459294  ...     -0.281979   \n",
       "2 -1.693697 -0.507529  -0.385733        -0.481598  ...     -0.281979   \n",
       "3 -1.693697 -0.875231  -0.662623        -0.740324  ...     -0.281979   \n",
       "4 -1.693697 -0.887093  -0.259874        -0.637726  ...      3.546363   \n",
       "\n",
       "   AcceptedCmp4  AcceptedCmp5  AcceptedCmp1  AcceptedCmp2  Complain   Country  \\\n",
       "0     -0.282912     -0.280107     -0.261851     -0.117229 -0.095498  0.694790   \n",
       "1     -0.282912     -0.280107     -0.261851      8.530338 -0.095498 -1.600776   \n",
       "2     -0.282912     -0.280107     -0.261851     -0.117229 -0.095498  1.153903   \n",
       "3     -0.282912     -0.280107     -0.261851     -0.117229 -0.095498 -2.059889   \n",
       "4     -0.282912     -0.280107     -0.261851     -0.117229 -0.095498  0.694790   \n",
       "\n",
       "        Age  Total_Spent  customer_lifetime  \n",
       "0 -0.092557     0.967836          -1.599987  \n",
       "1  0.676833    -0.049841          -1.599987  \n",
       "2  0.933297    -0.591052          -1.599987  \n",
       "3  0.163906    -0.989490          -1.420060  \n",
       "4 -1.716826    -0.856677          -1.420060  \n",
       "\n",
       "[5 rows x 28 columns]"
      ]
     },
     "execution_count": 408,
     "metadata": {},
     "output_type": "execute_result"
    }
   ],
   "source": [
    "X.head()"
   ]
  },
  {
   "cell_type": "code",
   "execution_count": 409,
   "metadata": {},
   "outputs": [
    {
     "data": {
      "text/plain": [
       "0    1880\n",
       "1     333\n",
       "Name: Response, dtype: int64"
      ]
     },
     "execution_count": 409,
     "metadata": {},
     "output_type": "execute_result"
    }
   ],
   "source": [
    "df['Response'].value_counts()"
   ]
  },
  {
   "cell_type": "code",
   "execution_count": 410,
   "metadata": {},
   "outputs": [],
   "source": [
    "y = df['Response']"
   ]
  },
  {
   "cell_type": "markdown",
   "metadata": {},
   "source": [
    "\n",
    "### Splitting into train and test set"
   ]
  },
  {
   "cell_type": "code",
   "execution_count": 411,
   "metadata": {},
   "outputs": [],
   "source": [
    "from sklearn.model_selection import train_test_split\n",
    "\n",
    "X_train, X_test, y_train, y_test = train_test_split(X, y, test_size=0.2, random_state=100)"
   ]
  },
  {
   "cell_type": "code",
   "execution_count": 412,
   "metadata": {},
   "outputs": [
    {
     "data": {
      "text/plain": [
       "0    1501\n",
       "1     269\n",
       "Name: Response, dtype: int64"
      ]
     },
     "execution_count": 412,
     "metadata": {},
     "output_type": "execute_result"
    }
   ],
   "source": [
    "y_train.value_counts() # Whether customer accepted the offer in the last campaign"
   ]
  },
  {
   "cell_type": "markdown",
   "metadata": {},
   "source": [
    "0 - the customer did not accept the offer in the last campaign\n",
    "\n",
    "1 - the customer accepted the campaign in the last campaign"
   ]
  },
  {
   "cell_type": "markdown",
   "metadata": {},
   "source": [
    "### Logistic Regression"
   ]
  },
  {
   "cell_type": "code",
   "execution_count": 413,
   "metadata": {},
   "outputs": [],
   "source": [
    "from sklearn.linear_model import LogisticRegression\n",
    "\n",
    "logisticr = LogisticRegression().fit(X_train, y_train)"
   ]
  },
  {
   "cell_type": "code",
   "execution_count": 414,
   "metadata": {},
   "outputs": [
    {
     "data": {
      "text/plain": [
       "0.8848758465011287"
      ]
     },
     "execution_count": 414,
     "metadata": {},
     "output_type": "execute_result"
    }
   ],
   "source": [
    "logisticr.score(X_test, y_test)"
   ]
  },
  {
   "cell_type": "code",
   "execution_count": 415,
   "metadata": {},
   "outputs": [
    {
     "data": {
      "text/plain": [
       "0    379\n",
       "1     64\n",
       "Name: Response, dtype: int64"
      ]
     },
     "execution_count": 415,
     "metadata": {},
     "output_type": "execute_result"
    }
   ],
   "source": [
    "y_test.value_counts()"
   ]
  },
  {
   "cell_type": "code",
   "execution_count": 416,
   "metadata": {},
   "outputs": [
    {
     "data": {
      "text/plain": [
       "0    404\n",
       "1     39\n",
       "dtype: int64"
      ]
     },
     "execution_count": 416,
     "metadata": {},
     "output_type": "execute_result"
    }
   ],
   "source": [
    "pd.Series(test_predictions).value_counts()"
   ]
  },
  {
   "cell_type": "code",
   "execution_count": 417,
   "metadata": {},
   "outputs": [],
   "source": [
    "train_predictions = logisticr.predict(X_train)\n",
    "test_predictions = logisticr.predict(X_test)"
   ]
  },
  {
   "cell_type": "markdown",
   "metadata": {},
   "source": [
    "Calculating and printing the accuracy score for both the training and the testing set of the marketing analysis"
   ]
  },
  {
   "cell_type": "code",
   "execution_count": 418,
   "metadata": {},
   "outputs": [
    {
     "name": "stdout",
     "output_type": "stream",
     "text": [
      "Training of the marketing analysis: 0.896045197740113\n",
      "Testing of the marketing analysis: 0.8848758465011287\n"
     ]
    }
   ],
   "source": [
    "from sklearn.metrics import accuracy_score\n",
    "\n",
    "print(\"Training of the marketing analysis:\", accuracy_score(y_train, train_predictions))\n",
    "print(\"Testing of the marketing analysis:\", accuracy_score(y_test, test_predictions))"
   ]
  },
  {
   "cell_type": "markdown",
   "metadata": {},
   "source": [
    "Model Evaluation with Confusion Matrix"
   ]
  },
  {
   "cell_type": "code",
   "execution_count": 419,
   "metadata": {},
   "outputs": [
    {
     "name": "stdout",
     "output_type": "stream",
     "text": [
      "[[364  15]\n",
      " [ 36  28]]\n"
     ]
    }
   ],
   "source": [
    "from sklearn.metrics import confusion_matrix\n",
    "\n",
    "cf_matrix = confusion_matrix(y_test, test_predictions)\n",
    "print(cf_matrix)\n"
   ]
  },
  {
   "cell_type": "markdown",
   "metadata": {},
   "source": [
    "From Response 0, 24 customers did not response to the campaign, but we predicted wrongly that they responded to the campaign,\n",
    " and response 1, 42 customers responded to the campaign, but we also predicted that they did not response to the campaign "
   ]
  },
  {
   "cell_type": "code",
   "execution_count": 420,
   "metadata": {},
   "outputs": [
    {
     "data": {
      "text/plain": [
       "<AxesSubplot:>"
      ]
     },
     "execution_count": 420,
     "metadata": {},
     "output_type": "execute_result"
    },
    {
     "data": {
      "image/png": "[encoded data removed]",
      "text/plain": [
       "<Figure size 432x288 with 2 Axes>"
      ]
     },
     "metadata": {
      "needs_background": "light"
     },
     "output_type": "display_data"
    }
   ],
   "source": [
    "sns.heatmap(cf_matrix/np.sum(cf_matrix), annot=True, \n",
    "            fmt='.2%', cmap='Blues')"
   ]
  },
  {
   "cell_type": "markdown",
   "metadata": {},
   "source": [
    "The True positives that these customers did not response to the marketing campaign as correctly identified by these algorithm is 82.17% and the True Negatives that the customers responded to the marketing campaign as identified above is 6.32%."
   ]
  },
  {
   "cell_type": "markdown",
   "metadata": {},
   "source": [
    "Precision, Recall and the F1 Score"
   ]
  },
  {
   "cell_type": "code",
   "execution_count": 421,
   "metadata": {},
   "outputs": [],
   "source": [
    "from sklearn.metrics import precision_score, recall_score, f1_score"
   ]
  },
  {
   "cell_type": "markdown",
   "metadata": {},
   "source": [
    "Precision:\n",
    "\n",
    "These algorithm would achieve 100% precision if all those customers we predicted not to have responded to the campaign, did not actually response to the campaign, no matter how many 'response 0' customers we might have miscalssified as 'response 1'."
   ]
  },
  {
   "cell_type": "code",
   "execution_count": 422,
   "metadata": {},
   "outputs": [
    {
     "name": "stdout",
     "output_type": "stream",
     "text": [
      "Training: 0.9113054341036851\n",
      "Testing: 0.91\n"
     ]
    }
   ],
   "source": [
    "print(\"Training:\", precision_score(y_train, train_predictions, pos_label = 0))\n",
    "print(\"Testing:\", precision_score(y_test, test_predictions, pos_label = 0))"
   ]
  },
  {
   "cell_type": "markdown",
   "metadata": {},
   "source": [
    "Recall_score: These are the customers that did not response to the camapign and they were correctly identied.\n",
    "\n",
    "Recall is also called Sensitivity or True Positive RateIt is the number of true positives divided by all those results whosetrue value belongs to the positive class (the sum of true positivesand false negatives).Recall =TP/(TP+FN)Intuitively, recall is the number of relevant items (actually sickpatients) that were correctly identified"
   ]
  },
  {
   "cell_type": "code",
   "execution_count": 423,
   "metadata": {
    "scrolled": true
   },
   "outputs": [
    {
     "name": "stdout",
     "output_type": "stream",
     "text": [
      "Training: 0.972018654230513\n",
      "Testing: 0.9604221635883905\n"
     ]
    }
   ],
   "source": [
    "print(\"Training:\", recall_score(y_train, train_predictions, pos_label= 0)) \n",
    "print(\"Testing:\", recall_score(y_test, test_predictions, pos_label= 0))"
   ]
  },
  {
   "cell_type": "markdown",
   "metadata": {},
   "source": [
    "F1_score:\n",
    "\n",
    "The F-1 Score is the harmonic mean of Precision and Recall"
   ]
  },
  {
   "cell_type": "code",
   "execution_count": 424,
   "metadata": {},
   "outputs": [
    {
     "name": "stdout",
     "output_type": "stream",
     "text": [
      "Training: 0.9406834300451322\n",
      "Testing: 0.9345314505776637\n"
     ]
    }
   ],
   "source": [
    "print(\"Training:\", f1_score(y_train, train_predictions, pos_label= 0))\n",
    "print(\"Testing:\", f1_score(y_test, test_predictions, pos_label= 0))"
   ]
  },
  {
   "cell_type": "markdown",
   "metadata": {},
   "source": [
    "Balance_Accuracy_Score"
   ]
  },
  {
   "cell_type": "code",
   "execution_count": 425,
   "metadata": {},
   "outputs": [
    {
     "name": "stdout",
     "output_type": "stream",
     "text": [
      "Training of the marketing analysis prediction for balance_accuracy_score: 0.7220688066691598\n",
      "Testing of the marketing analysis prediction for balance_accuracy_score: 0.6989610817941952\n"
     ]
    }
   ],
   "source": [
    "from sklearn.metrics import balanced_accuracy_score\n",
    "\n",
    "print(\"Training of the marketing analysis prediction for balance_accuracy_score:\", balanced_accuracy_score(y_train, train_predictions))\n",
    "print(\"Testing of the marketing analysis prediction for balance_accuracy_score:\", balanced_accuracy_score(y_test, test_predictions))"
   ]
  },
  {
   "cell_type": "markdown",
   "metadata": {},
   "source": [
    "ROC and AUC analysis"
   ]
  },
  {
   "cell_type": "code",
   "execution_count": 426,
   "metadata": {},
   "outputs": [],
   "source": [
    "from sklearn.metrics import roc_curve, roc_auc_score"
   ]
  },
  {
   "cell_type": "code",
   "execution_count": 427,
   "metadata": {},
   "outputs": [
    {
     "data": {
      "text/plain": [
       "0.6989610817941952"
      ]
     },
     "execution_count": 427,
     "metadata": {},
     "output_type": "execute_result"
    }
   ],
   "source": [
    "roc_auc_score(y_test, test_predictions)"
   ]
  },
  {
   "cell_type": "markdown",
   "metadata": {},
   "source": [
    "The accuracy of my model in the test set without optimizing the hyperparameters is 69%"
   ]
  },
  {
   "cell_type": "markdown",
   "metadata": {},
   "source": [
    "### DecisionTree"
   ]
  },
  {
   "cell_type": "code",
   "execution_count": 428,
   "metadata": {},
   "outputs": [],
   "source": [
    "from sklearn.tree import DecisionTreeClassifier\n",
    "decisiontree = DecisionTreeClassifier().fit(X_train, y_train)"
   ]
  },
  {
   "cell_type": "code",
   "execution_count": 429,
   "metadata": {},
   "outputs": [],
   "source": [
    "train_predictions = decisiontree.predict(X_train)\n",
    "test_predictions = decisiontree.predict(X_test)"
   ]
  },
  {
   "cell_type": "markdown",
   "metadata": {},
   "source": [
    "Calculating and printing the accuracy score for both the training and the testing set of the marketing analysis for decisiontree accuracy score"
   ]
  },
  {
   "cell_type": "code",
   "execution_count": 430,
   "metadata": {},
   "outputs": [
    {
     "name": "stdout",
     "output_type": "stream",
     "text": [
      "Training of the marketing analysis prediction: 1.0\n",
      "Testing of the marketing analysis prediction: 0.8306997742663657\n"
     ]
    }
   ],
   "source": [
    "print(\"Training of the marketing analysis prediction:\", decisiontree.score(X_train, y_train))\n",
    "print(\"Testing of the marketing analysis prediction:\", decisiontree.score(X_test, y_test))"
   ]
  },
  {
   "cell_type": "code",
   "execution_count": 431,
   "metadata": {},
   "outputs": [
    {
     "data": {
      "text/plain": [
       "0    376\n",
       "1     67\n",
       "dtype: int64"
      ]
     },
     "execution_count": 431,
     "metadata": {},
     "output_type": "execute_result"
    }
   ],
   "source": [
    "pd.Series(test_predictions).value_counts()"
   ]
  },
  {
   "cell_type": "code",
   "execution_count": 432,
   "metadata": {},
   "outputs": [
    {
     "data": {
      "text/plain": [
       "array([0.12862262, 0.01591348, 0.02908373, 0.04755146, 0.01026333,\n",
       "       0.00292246, 0.03304949, 0.05069618, 0.00852385, 0.07288071,\n",
       "       0.0320263 , 0.03817472, 0.01902329, 0.02474168, 0.03057129,\n",
       "       0.03286386, 0.03853663, 0.02635408, 0.04988606, 0.00057734,\n",
       "       0.11925324, 0.03604457, 0.00813308, 0.        , 0.00553181,\n",
       "       0.01422843, 0.03731165, 0.08723467])"
      ]
     },
     "execution_count": 432,
     "metadata": {},
     "output_type": "execute_result"
    }
   ],
   "source": [
    "decisiontree.feature_importances_"
   ]
  },
  {
   "cell_type": "code",
   "execution_count": 433,
   "metadata": {},
   "outputs": [
    {
     "name": "stdout",
     "output_type": "stream",
     "text": [
      "{'Unnamed: 0': 0.12862262183977463, 'Education': 0.015913484101704848, 'Marital_Status': 0.029083730300698097, 'Income': 0.047551457615208244, 'Kidhome': 0.010263325069532333, 'Teenhome': 0.002922463091520151, 'Recency': 0.033049492341627885, 'MntWines': 0.050696176219825306, 'MntFruits': 0.008523850683600447, 'MntMeatProducts': 0.07288070653801984, 'MntFishProducts': 0.032026298241265475, 'MntSweetProducts': 0.038174719029446455, 'MntGoldProds': 0.019023285613136202, 'NumDealsPurchases': 0.024741681389715317, 'NumWebPurchases': 0.03057128862385085, 'NumCatalogPurchases': 0.03286386447668234, 'NumStorePurchases': 0.03853663164931231, 'NumWebVisitsMonth': 0.0263540814041682, 'AcceptedCmp3': 0.04988606312295115, 'AcceptedCmp4': 0.0005773384313679232, 'AcceptedCmp5': 0.11925324065512438, 'AcceptedCmp1': 0.03604456839602449, 'AcceptedCmp2': 0.008133077405454978, 'Complain': 0.0, 'Country': 0.005531805137520286, 'Age': 0.014228427256246977, 'Total_Spent': 0.037311648584712157, 'customer_lifetime': 0.08723467278150866}\n"
     ]
    }
   ],
   "source": [
    "print(dict(zip(X.columns, decisiontree.feature_importances_)))"
   ]
  },
  {
   "cell_type": "code",
   "execution_count": 434,
   "metadata": {},
   "outputs": [
    {
     "data": {
      "image/png": "[encoded data removed]",
      "text/plain": [
       "<Figure size 2160x1080 with 1 Axes>"
      ]
     },
     "metadata": {
      "needs_background": "light"
     },
     "output_type": "display_data"
    }
   ],
   "source": [
    "plt.rcParams['figure.figsize'] = [30,15]\n",
    "plt.bar(height = decisiontree.feature_importances_, x = X.columns)\n",
    "plt.show()"
   ]
  },
  {
   "cell_type": "markdown",
   "metadata": {},
   "source": [
    "Model Evaluation with Confusion Matrix for DecisionTree"
   ]
  },
  {
   "cell_type": "code",
   "execution_count": 435,
   "metadata": {},
   "outputs": [],
   "source": [
    "cf_matrix_DT = confusion_matrix(y_test, test_predictions)"
   ]
  },
  {
   "cell_type": "code",
   "execution_count": 436,
   "metadata": {},
   "outputs": [
    {
     "name": "stdout",
     "output_type": "stream",
     "text": [
      "[[340  39]\n",
      " [ 36  28]]\n"
     ]
    }
   ],
   "source": [
    "print(cf_matrix_DT)"
   ]
  },
  {
   "cell_type": "code",
   "execution_count": 437,
   "metadata": {
    "scrolled": true
   },
   "outputs": [
    {
     "data": {
      "text/plain": [
       "<AxesSubplot:>"
      ]
     },
     "execution_count": 437,
     "metadata": {},
     "output_type": "execute_result"
    },
    {
     "data": {
      "image/png": "[encoded data removed]",
      "text/plain": [
       "<Figure size 2160x1080 with 2 Axes>"
      ]
     },
     "metadata": {
      "needs_background": "light"
     },
     "output_type": "display_data"
    }
   ],
   "source": [
    "sns.heatmap(cf_matrix_DT/np.sum(cf_matrix_DT), annot=True, \n",
    "            fmt='.2%', cmap='Blues')"
   ]
  },
  {
   "cell_type": "markdown",
   "metadata": {},
   "source": [
    "The True positives of customers that did not response for the marketing campaign for Decision tree confusion matrix is 77.20% and the True negatives of customers that responded to the camapign is 8.35%."
   ]
  },
  {
   "cell_type": "code",
   "execution_count": 438,
   "metadata": {},
   "outputs": [
    {
     "name": "stdout",
     "output_type": "stream",
     "text": [
      "Testing for precision_score: 0.9042553191489362\n",
      "Testing for recall_score: 0.8970976253298153\n",
      "Testing for F1_score: 0.9006622516556292\n"
     ]
    }
   ],
   "source": [
    "print(\"Testing for precision_score:\",  precision_score(y_test, test_predictions, pos_label = 0))\n",
    "print(\"Testing for recall_score:\", recall_score(y_test, test_predictions, pos_label = 0))\n",
    "print( \"Testing for F1_score:\", f1_score(y_test, test_predictions, pos_label = 0))"
   ]
  },
  {
   "cell_type": "code",
   "execution_count": 439,
   "metadata": {},
   "outputs": [
    {
     "data": {
      "text/plain": [
       "0.6672988126649076"
      ]
     },
     "execution_count": 439,
     "metadata": {},
     "output_type": "execute_result"
    }
   ],
   "source": [
    "balanced_accuracy_score(y_test, test_predictions)"
   ]
  },
  {
   "cell_type": "code",
   "execution_count": 440,
   "metadata": {},
   "outputs": [
    {
     "data": {
      "text/plain": [
       "0.6672988126649076"
      ]
     },
     "execution_count": 440,
     "metadata": {},
     "output_type": "execute_result"
    }
   ],
   "source": [
    "roc_auc_score(y_test, test_predictions)"
   ]
  },
  {
   "cell_type": "code",
   "execution_count": 441,
   "metadata": {},
   "outputs": [
    {
     "data": {
      "text/plain": [
       "[<matplotlib.lines.Line2D at 0x1d5f07adfa0>]"
      ]
     },
     "execution_count": 441,
     "metadata": {},
     "output_type": "execute_result"
    },
    {
     "data": {
      "image/png": "[encoded data removed]",
      "text/plain": [
       "<Figure size 2160x1080 with 1 Axes>"
      ]
     },
     "metadata": {
      "needs_background": "light"
     },
     "output_type": "display_data"
    }
   ],
   "source": [
    "plt.plot(fpr,tpr)"
   ]
  },
  {
   "cell_type": "markdown",
   "metadata": {},
   "source": [
    "### Support vestor classification"
   ]
  },
  {
   "cell_type": "code",
   "execution_count": 442,
   "metadata": {},
   "outputs": [],
   "source": [
    "from sklearn.svm import SVC \n",
    "\n",
    "svm = SVC().fit(X_train, y_train)\n",
    "train_predictions = svm.predict(X_train)\n",
    "test_predictions = svm.predict(X_test)"
   ]
  },
  {
   "cell_type": "markdown",
   "metadata": {},
   "source": [
    "Calculating and printing the accuracy score for both the training and the testing set of the marketing analysis for SVC accuracy score"
   ]
  },
  {
   "cell_type": "code",
   "execution_count": 443,
   "metadata": {},
   "outputs": [
    {
     "name": "stdout",
     "output_type": "stream",
     "text": [
      "Training of the marketing analysis prediction: 0.9265536723163842\n",
      "Testing of the marketing analysis prediction: 0.8690744920993227\n",
      "0    411\n",
      "1     32\n",
      "dtype: int64\n"
     ]
    }
   ],
   "source": [
    "print(\"Training of the marketing analysis prediction:\", svm.score(X_train, y_train))\n",
    "print(\"Testing of the marketing analysis prediction:\", svm.score(X_test, y_test))\n",
    "print(pd.Series(test_predictions).value_counts())"
   ]
  },
  {
   "cell_type": "markdown",
   "metadata": {},
   "source": [
    "### K-Nearest Neighbors"
   ]
  },
  {
   "cell_type": "code",
   "execution_count": 444,
   "metadata": {},
   "outputs": [],
   "source": [
    "from sklearn.neighbors import KNeighborsClassifier\n",
    "\n",
    "nearest_neighbors = KNeighborsClassifier().fit(X_train, y_train)\n",
    "\n",
    "train_predictions = nearest_neighbors.predict(X_train)\n",
    "test_predictions = nearest_neighbors.predict(X_test)"
   ]
  },
  {
   "cell_type": "markdown",
   "metadata": {},
   "source": [
    "Calculating and printing the accuracy score for both the training and the testing set of the marketing analysis for nearest_neighbors accuracy score"
   ]
  },
  {
   "cell_type": "code",
   "execution_count": 445,
   "metadata": {},
   "outputs": [
    {
     "name": "stdout",
     "output_type": "stream",
     "text": [
      "Training of the marketing analysis prediction: 0.8983050847457628\n",
      "Testing of the marketing analysis prediction: 0.8668171557562077\n",
      "0    404\n",
      "1     39\n",
      "dtype: int64\n"
     ]
    }
   ],
   "source": [
    "print(\"Training of the marketing analysis prediction:\", nearest_neighbors.score(X_train, y_train))\n",
    "print(\"Testing of the marketing analysis prediction:\", nearest_neighbors.score(X_test, y_test))\n",
    "print(pd.Series(test_predictions).value_counts())"
   ]
  },
  {
   "cell_type": "markdown",
   "metadata": {},
   "source": [
    "### Improving my model prediction by using Hyperparameter Tuning"
   ]
  },
  {
   "cell_type": "code",
   "execution_count": 446,
   "metadata": {},
   "outputs": [],
   "source": [
    "from sklearn.model_selection import GridSearchCV"
   ]
  },
  {
   "cell_type": "code",
   "execution_count": 447,
   "metadata": {},
   "outputs": [
    {
     "data": {
      "text/plain": [
       "GridSearchCV(cv=3, estimator=DecisionTreeClassifier(),\n",
       "             param_grid={'criterion': ['gini', 'entropy'],\n",
       "                         'max_depth': [3, 10, None],\n",
       "                         'splitter': ['best', 'random']})"
      ]
     },
     "execution_count": 447,
     "metadata": {},
     "output_type": "execute_result"
    }
   ],
   "source": [
    "param_grid_rf = {\"criterion\": [\"gini\", \"entropy\"],\n",
    "                 \"splitter\": [\"best\", \"random\"],\n",
    "                 \"max_depth\": [3, 10, None]}\n",
    "\n",
    "tune_rf = GridSearchCV(DecisionTreeClassifier(),\n",
    "                       param_grid=param_grid_rf,\n",
    "                       cv=3)\n",
    "\n",
    "tune_rf.fit(X_train, y_train)"
   ]
  },
  {
   "cell_type": "code",
   "execution_count": 448,
   "metadata": {},
   "outputs": [
    {
     "data": {
      "text/plain": [
       "{'criterion': 'entropy', 'max_depth': 3, 'splitter': 'random'}"
      ]
     },
     "execution_count": 448,
     "metadata": {},
     "output_type": "execute_result"
    }
   ],
   "source": [
    "tune_rf.best_params_"
   ]
  },
  {
   "cell_type": "code",
   "execution_count": 449,
   "metadata": {},
   "outputs": [],
   "source": [
    "decisiontree_opt = DecisionTreeClassifier(**tune_rf.best_params_).fit(X_train, y_train)"
   ]
  },
  {
   "cell_type": "code",
   "execution_count": 450,
   "metadata": {},
   "outputs": [
    {
     "data": {
      "text/plain": [
       "0.8577878103837472"
      ]
     },
     "execution_count": 450,
     "metadata": {},
     "output_type": "execute_result"
    }
   ],
   "source": [
    "predictions = decisiontree_opt.predict(X_test)\n",
    "decisiontree_opt.score(X_test, y_test)"
   ]
  },
  {
   "cell_type": "code",
   "execution_count": 451,
   "metadata": {},
   "outputs": [
    {
     "name": "stdout",
     "output_type": "stream",
     "text": [
      "[[362  17]\n",
      " [ 42  22]]\n"
     ]
    }
   ],
   "source": [
    "cf_matrix = confusion_matrix(y_test, test_predictions)\n",
    "print(cf_matrix)"
   ]
  },
  {
   "cell_type": "code",
   "execution_count": 452,
   "metadata": {},
   "outputs": [
    {
     "data": {
      "text/plain": [
       "<AxesSubplot:>"
      ]
     },
     "execution_count": 452,
     "metadata": {},
     "output_type": "execute_result"
    },
    {
     "data": {
      "image/png": "[encoded data removed]",
      "text/plain": [
       "<Figure size 2160x1080 with 2 Axes>"
      ]
     },
     "metadata": {
      "needs_background": "light"
     },
     "output_type": "display_data"
    }
   ],
   "source": [
    "sns.heatmap(cf_matrix/np.sum(cf_matrix), annot=True, \n",
    "            fmt='.2%', cmap='Blues')"
   ]
  },
  {
   "cell_type": "code",
   "execution_count": 453,
   "metadata": {},
   "outputs": [
    {
     "name": "stdout",
     "output_type": "stream",
     "text": [
      "precision_score: 0.8960396039603961\n",
      "recall_score: 0.9551451187335093\n",
      "F1_score: 0.9246487867177522\n"
     ]
    }
   ],
   "source": [
    "print(\"precision_score:\", precision_score(y_test, test_predictions, pos_label=0))\n",
    "print(\"recall_score:\", recall_score(y_test, test_predictions, pos_label=0))\n",
    "print(\"F1_score:\", f1_score(y_test, test_predictions, pos_label=0))"
   ]
  },
  {
   "cell_type": "code",
   "execution_count": 454,
   "metadata": {},
   "outputs": [
    {
     "data": {
      "text/plain": [
       "0.6494475593667546"
      ]
     },
     "execution_count": 454,
     "metadata": {},
     "output_type": "execute_result"
    }
   ],
   "source": [
    "balanced_accuracy_score(y_test, test_predictions)"
   ]
  },
  {
   "cell_type": "markdown",
   "metadata": {},
   "source": [
    "### Cross Validation"
   ]
  },
  {
   "cell_type": "code",
   "execution_count": 455,
   "metadata": {},
   "outputs": [],
   "source": [
    "from sklearn.model_selection import cross_validate\n"
   ]
  },
  {
   "cell_type": "code",
   "execution_count": 456,
   "metadata": {},
   "outputs": [
    {
     "data": {
      "text/plain": [
       "{'fit_time': array([0.01995444, 0.01595664, 0.0129652 , 0.01102018, 0.01566124]),\n",
       " 'score_time': array([0.00298452, 0.00199461, 0.00199461, 0.        , 0.        ]),\n",
       " 'test_score': array([0.7171065 , 0.65111111, 0.71944444, 0.71685185, 0.7437037 ])}"
      ]
     },
     "execution_count": 456,
     "metadata": {},
     "output_type": "execute_result"
    }
   ],
   "source": [
    "cross_validate(DecisionTreeClassifier(),\n",
    "               X_train,\n",
    "               y_train,\n",
    "               scoring=\"balanced_accuracy\")"
   ]
  },
  {
   "cell_type": "code",
   "execution_count": 457,
   "metadata": {},
   "outputs": [
    {
     "data": {
      "text/plain": [
       "0.7066074742704844"
      ]
     },
     "execution_count": 457,
     "metadata": {},
     "output_type": "execute_result"
    }
   ],
   "source": [
    "cross_validate(DecisionTreeClassifier(),\n",
    "               X_train,\n",
    "               y_train,\n",
    "               scoring=\"balanced_accuracy\")[\"test_score\"].mean()"
   ]
  },
  {
   "cell_type": "code",
   "execution_count": null,
   "metadata": {},
   "outputs": [],
   "source": []
  },
  {
   "cell_type": "code",
   "execution_count": null,
   "metadata": {},
   "outputs": [],
   "source": []
  },
  {
   "cell_type": "code",
   "execution_count": null,
   "metadata": {},
   "outputs": [],
   "source": []
  },
  {
   "cell_type": "code",
   "execution_count": null,
   "metadata": {},
   "outputs": [],
   "source": []
  }
 ],
 "metadata": {
  "kernelspec": {
   "display_name": "Python 3",
   "language": "python",
   "name": "python3"
  },
  "language_info": {
   "codemirror_mode": {
    "name": "ipython",
    "version": 3
   },
   "file_extension": ".py",
   "mimetype": "text/x-python",
   "name": "python",
   "nbconvert_exporter": "python",
   "pygments_lexer": "ipython3",
   "version": "3.8.5"
  }
 },
 "nbformat": 4,
 "nbformat_minor": 4
}
