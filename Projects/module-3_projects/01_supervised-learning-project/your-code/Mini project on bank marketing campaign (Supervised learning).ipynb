{
 "cells": [
  {
   "cell_type": "code",
   "execution_count": 353,
   "metadata": {},
   "outputs": [
    {
     "data": {
      "text/html": [
       "<script>\n",
       "code_show=true; \n",
       "function code_toggle() {\n",
       " if (code_show){\n",
       " $('div.input').hide();\n",
       " } else {\n",
       " $('div.input').show();\n",
       " }\n",
       " code_show = !code_show\n",
       "} \n",
       "$( document ).ready(code_toggle);\n",
       "</script>\n",
       "<form action=\"javascript:code_toggle()\"><input type=\"submit\" value=\"Click here to toggle on/off the raw code.\"></form>"
      ],
      "text/plain": [
       "<IPython.core.display.HTML object>"
      ]
     },
     "execution_count": 353,
     "metadata": {},
     "output_type": "execute_result"
    }
   ],
   "source": [
    "from IPython.display import HTML\n",
    "\n",
    "HTML('''<script>\n",
    "code_show=true; \n",
    "function code_toggle() {\n",
    " if (code_show){\n",
    " $('div.input').hide();\n",
    " } else {\n",
    " $('div.input').show();\n",
    " }\n",
    " code_show = !code_show\n",
    "} \n",
    "$( document ).ready(code_toggle);\n",
    "</script>\n",
    "<form action=\"javascript:code_toggle()\"><input type=\"submit\" value=\"Click here to toggle on/off the raw code.\"></form>''')"
   ]
  },
  {
   "cell_type": "code",
   "execution_count": 309,
   "metadata": {},
   "outputs": [],
   "source": [
    "import numpy as np\n",
    "import pandas as pd\n",
    "\n",
    "import matplotlib.pyplot as plt\n",
    "import seaborn as sns\n",
    "%matplotlib inline\n",
    "\n",
    "np.warnings.filterwarnings('ignore')"
   ]
  },
  {
   "cell_type": "code",
   "execution_count": 310,
   "metadata": {},
   "outputs": [],
   "source": [
    "bank = pd.read_csv('bank-additional-full.csv', sep=\";\")"
   ]
  },
  {
   "cell_type": "code",
   "execution_count": 311,
   "metadata": {},
   "outputs": [
    {
     "data": {
      "text/html": [
       "<div>\n",
       "<style scoped>\n",
       "    .dataframe tbody tr th:only-of-type {\n",
       "        vertical-align: middle;\n",
       "    }\n",
       "\n",
       "    .dataframe tbody tr th {\n",
       "        vertical-align: top;\n",
       "    }\n",
       "\n",
       "    .dataframe thead th {\n",
       "        text-align: right;\n",
       "    }\n",
       "</style>\n",
       "<table border=\"1\" class=\"dataframe\">\n",
       "  <thead>\n",
       "    <tr style=\"text-align: right;\">\n",
       "      <th></th>\n",
       "      <th>age</th>\n",
       "      <th>job</th>\n",
       "      <th>marital</th>\n",
       "      <th>education</th>\n",
       "      <th>default</th>\n",
       "      <th>housing</th>\n",
       "      <th>loan</th>\n",
       "      <th>contact</th>\n",
       "      <th>month</th>\n",
       "      <th>day_of_week</th>\n",
       "      <th>...</th>\n",
       "      <th>campaign</th>\n",
       "      <th>pdays</th>\n",
       "      <th>previous</th>\n",
       "      <th>poutcome</th>\n",
       "      <th>emp.var.rate</th>\n",
       "      <th>cons.price.idx</th>\n",
       "      <th>cons.conf.idx</th>\n",
       "      <th>euribor3m</th>\n",
       "      <th>nr.employed</th>\n",
       "      <th>y</th>\n",
       "    </tr>\n",
       "  </thead>\n",
       "  <tbody>\n",
       "    <tr>\n",
       "      <th>0</th>\n",
       "      <td>56</td>\n",
       "      <td>housemaid</td>\n",
       "      <td>married</td>\n",
       "      <td>basic.4y</td>\n",
       "      <td>no</td>\n",
       "      <td>no</td>\n",
       "      <td>no</td>\n",
       "      <td>telephone</td>\n",
       "      <td>may</td>\n",
       "      <td>mon</td>\n",
       "      <td>...</td>\n",
       "      <td>1</td>\n",
       "      <td>999</td>\n",
       "      <td>0</td>\n",
       "      <td>nonexistent</td>\n",
       "      <td>1.1</td>\n",
       "      <td>93.994</td>\n",
       "      <td>-36.4</td>\n",
       "      <td>4.857</td>\n",
       "      <td>5191.0</td>\n",
       "      <td>no</td>\n",
       "    </tr>\n",
       "    <tr>\n",
       "      <th>1</th>\n",
       "      <td>57</td>\n",
       "      <td>services</td>\n",
       "      <td>married</td>\n",
       "      <td>high.school</td>\n",
       "      <td>unknown</td>\n",
       "      <td>no</td>\n",
       "      <td>no</td>\n",
       "      <td>telephone</td>\n",
       "      <td>may</td>\n",
       "      <td>mon</td>\n",
       "      <td>...</td>\n",
       "      <td>1</td>\n",
       "      <td>999</td>\n",
       "      <td>0</td>\n",
       "      <td>nonexistent</td>\n",
       "      <td>1.1</td>\n",
       "      <td>93.994</td>\n",
       "      <td>-36.4</td>\n",
       "      <td>4.857</td>\n",
       "      <td>5191.0</td>\n",
       "      <td>no</td>\n",
       "    </tr>\n",
       "    <tr>\n",
       "      <th>2</th>\n",
       "      <td>37</td>\n",
       "      <td>services</td>\n",
       "      <td>married</td>\n",
       "      <td>high.school</td>\n",
       "      <td>no</td>\n",
       "      <td>yes</td>\n",
       "      <td>no</td>\n",
       "      <td>telephone</td>\n",
       "      <td>may</td>\n",
       "      <td>mon</td>\n",
       "      <td>...</td>\n",
       "      <td>1</td>\n",
       "      <td>999</td>\n",
       "      <td>0</td>\n",
       "      <td>nonexistent</td>\n",
       "      <td>1.1</td>\n",
       "      <td>93.994</td>\n",
       "      <td>-36.4</td>\n",
       "      <td>4.857</td>\n",
       "      <td>5191.0</td>\n",
       "      <td>no</td>\n",
       "    </tr>\n",
       "    <tr>\n",
       "      <th>3</th>\n",
       "      <td>40</td>\n",
       "      <td>admin.</td>\n",
       "      <td>married</td>\n",
       "      <td>basic.6y</td>\n",
       "      <td>no</td>\n",
       "      <td>no</td>\n",
       "      <td>no</td>\n",
       "      <td>telephone</td>\n",
       "      <td>may</td>\n",
       "      <td>mon</td>\n",
       "      <td>...</td>\n",
       "      <td>1</td>\n",
       "      <td>999</td>\n",
       "      <td>0</td>\n",
       "      <td>nonexistent</td>\n",
       "      <td>1.1</td>\n",
       "      <td>93.994</td>\n",
       "      <td>-36.4</td>\n",
       "      <td>4.857</td>\n",
       "      <td>5191.0</td>\n",
       "      <td>no</td>\n",
       "    </tr>\n",
       "    <tr>\n",
       "      <th>4</th>\n",
       "      <td>56</td>\n",
       "      <td>services</td>\n",
       "      <td>married</td>\n",
       "      <td>high.school</td>\n",
       "      <td>no</td>\n",
       "      <td>no</td>\n",
       "      <td>yes</td>\n",
       "      <td>telephone</td>\n",
       "      <td>may</td>\n",
       "      <td>mon</td>\n",
       "      <td>...</td>\n",
       "      <td>1</td>\n",
       "      <td>999</td>\n",
       "      <td>0</td>\n",
       "      <td>nonexistent</td>\n",
       "      <td>1.1</td>\n",
       "      <td>93.994</td>\n",
       "      <td>-36.4</td>\n",
       "      <td>4.857</td>\n",
       "      <td>5191.0</td>\n",
       "      <td>no</td>\n",
       "    </tr>\n",
       "  </tbody>\n",
       "</table>\n",
       "<p>5 rows × 21 columns</p>\n",
       "</div>"
      ],
      "text/plain": [
       "   age        job  marital    education  default housing loan    contact  \\\n",
       "0   56  housemaid  married     basic.4y       no      no   no  telephone   \n",
       "1   57   services  married  high.school  unknown      no   no  telephone   \n",
       "2   37   services  married  high.school       no     yes   no  telephone   \n",
       "3   40     admin.  married     basic.6y       no      no   no  telephone   \n",
       "4   56   services  married  high.school       no      no  yes  telephone   \n",
       "\n",
       "  month day_of_week  ...  campaign  pdays  previous     poutcome emp.var.rate  \\\n",
       "0   may         mon  ...         1    999         0  nonexistent          1.1   \n",
       "1   may         mon  ...         1    999         0  nonexistent          1.1   \n",
       "2   may         mon  ...         1    999         0  nonexistent          1.1   \n",
       "3   may         mon  ...         1    999         0  nonexistent          1.1   \n",
       "4   may         mon  ...         1    999         0  nonexistent          1.1   \n",
       "\n",
       "   cons.price.idx  cons.conf.idx  euribor3m  nr.employed   y  \n",
       "0          93.994          -36.4      4.857       5191.0  no  \n",
       "1          93.994          -36.4      4.857       5191.0  no  \n",
       "2          93.994          -36.4      4.857       5191.0  no  \n",
       "3          93.994          -36.4      4.857       5191.0  no  \n",
       "4          93.994          -36.4      4.857       5191.0  no  \n",
       "\n",
       "[5 rows x 21 columns]"
      ]
     },
     "execution_count": 311,
     "metadata": {},
     "output_type": "execute_result"
    }
   ],
   "source": [
    "bank.head()"
   ]
  },
  {
   "cell_type": "markdown",
   "metadata": {},
   "source": [
    "### Overview of the bank dataset"
   ]
  },
  {
   "cell_type": "markdown",
   "metadata": {},
   "source": [
    "This is dataset that describe Portugal bank marketing campaigns results. Conducted campaigns were based mostly on direct phone calls, offering bank's clients to place a term deposit. After the marketing campaign, if a client successfully made deposit - target variable marked 'yes', otherwise 'no'.\n",
    "\n",
    "A term deposit is a fixed-term investment that includes the deposit of money into an account at a financial institution. Term deposit investments usually carry short-term maturities ranging from one month to a few years and will have varying levels of required minimum deposits\n",
    "\n",
    " ####  Aim of the project: \n",
    " #### Consider the marketing effectiveness prediction for the bank.\n",
    " "
   ]
  },
  {
   "cell_type": "markdown",
   "metadata": {},
   "source": [
    "Attribute Information on Bank Dataset:\n",
    "\n",
    "1. Age\n",
    "2. Job - type of job (categorical: 'admin.','blue-collar','entrepreneur','housemaid','management','retired','self-employed','services','student','technician','unemployed','unknown')\n",
    "3. marital - marital status (categorical: 'divorced','married','single','unknown'; note: 'divorced' means divorced or widowed)\n",
    "4. Education - Shows the level of education of each customer (categorical: 'basic.4y','basic.6y','basic.9y','high.school','illiterate','professional.course','university.degree','unknown')\n",
    "5. Default - Whether a customer has credit in default (categorical: 'no','yes','unknown')\n",
    "6. Housing - Does the customer have a housing loan? (categorical: 'no','yes','unknown')\n",
    "7. Loan - Does the customer have a personal loan? (categorical: 'no','yes','unknown')\n",
    "8. Contact - The contact communication type (categorical: 'cellular','telephone')\n",
    "9. Month - Last contact month of year\n",
    "10. day_of_week - Last contact day of Week\n",
    "11. Duration - Last contact duration in seconds. Important note: this attribute highly affects the output target (e.g., if duration=0 then y='no').\n",
    "12. Campaign - Number of contact performed for the client during the campaign\n",
    "13. pdays: number of days that passed by after the client was last contacted from a previous campaign (numeric; 999 means client was not previously contacted)\n",
    "14. previous: number of contacts performed before this campaign and for this client\n",
    "15. poutcome: outcome of the previous marketing campaign (categorical: 'failure','nonexistent','success')\n",
    "16. emp.var.rate: employment variation rate - quarterly indicator\n",
    "17. cons.price.idx: consumer price index - monthly indicator\n",
    "18. cons.conf.idx: consumer confidence index - monthly indicator\n",
    "19. euribor3m: euribor 3 month rate - daily indicator\n",
    "20. nr.employed: number of employees - quarterly indicator\n",
    "21. y - has the client subscribed a term deposit? (binary: 'yes','no')\n",
    "\n",
    "\n",
    "\n"
   ]
  },
  {
   "cell_type": "markdown",
   "metadata": {},
   "source": [
    " #### Inspecting the data"
   ]
  },
  {
   "cell_type": "code",
   "execution_count": 312,
   "metadata": {},
   "outputs": [
    {
     "name": "stdout",
     "output_type": "stream",
     "text": [
      "<class 'pandas.core.frame.DataFrame'>\n",
      "RangeIndex: 41188 entries, 0 to 41187\n",
      "Data columns (total 21 columns):\n",
      " #   Column          Non-Null Count  Dtype  \n",
      "---  ------          --------------  -----  \n",
      " 0   age             41188 non-null  int64  \n",
      " 1   job             41188 non-null  object \n",
      " 2   marital         41188 non-null  object \n",
      " 3   education       41188 non-null  object \n",
      " 4   default         41188 non-null  object \n",
      " 5   housing         41188 non-null  object \n",
      " 6   loan            41188 non-null  object \n",
      " 7   contact         41188 non-null  object \n",
      " 8   month           41188 non-null  object \n",
      " 9   day_of_week     41188 non-null  object \n",
      " 10  duration        41188 non-null  int64  \n",
      " 11  campaign        41188 non-null  int64  \n",
      " 12  pdays           41188 non-null  int64  \n",
      " 13  previous        41188 non-null  int64  \n",
      " 14  poutcome        41188 non-null  object \n",
      " 15  emp.var.rate    41188 non-null  float64\n",
      " 16  cons.price.idx  41188 non-null  float64\n",
      " 17  cons.conf.idx   41188 non-null  float64\n",
      " 18  euribor3m       41188 non-null  float64\n",
      " 19  nr.employed     41188 non-null  float64\n",
      " 20  y               41188 non-null  object \n",
      "dtypes: float64(5), int64(5), object(11)\n",
      "memory usage: 6.6+ MB\n"
     ]
    }
   ],
   "source": [
    "bank.info()"
   ]
  },
  {
   "cell_type": "code",
   "execution_count": 313,
   "metadata": {},
   "outputs": [
    {
     "data": {
      "text/plain": [
       "(41188, 21)"
      ]
     },
     "execution_count": 313,
     "metadata": {},
     "output_type": "execute_result"
    }
   ],
   "source": [
    "bank.shape"
   ]
  },
  {
   "cell_type": "code",
   "execution_count": 339,
   "metadata": {},
   "outputs": [
    {
     "data": {
      "text/plain": [
       "age               0\n",
       "job               0\n",
       "marital           0\n",
       "education         0\n",
       "default           0\n",
       "housing           0\n",
       "loan              0\n",
       "contact           0\n",
       "month             0\n",
       "day_of_week       0\n",
       "duration          0\n",
       "campaign          0\n",
       "pdays             0\n",
       "previous          0\n",
       "poutcome          0\n",
       "emp.var.rate      0\n",
       "cons.price.idx    0\n",
       "cons.conf.idx     0\n",
       "euribor3m         0\n",
       "nr.employed       0\n",
       "y                 0\n",
       "dtype: int64"
      ]
     },
     "execution_count": 339,
     "metadata": {},
     "output_type": "execute_result"
    }
   ],
   "source": [
    "bank.isna().sum()"
   ]
  },
  {
   "cell_type": "markdown",
   "metadata": {},
   "source": [
    " ### Data visualization of the target market for the campaign"
   ]
  },
  {
   "cell_type": "code",
   "execution_count": 314,
   "metadata": {},
   "outputs": [],
   "source": [
    "# Build a function to show categorical values distribution of the marketing campaign \n",
    "def plot_bar(column):\n",
    "    # temp df \n",
    "    temp_1 = pd.DataFrame()\n",
    "    # count categorical values\n",
    "    temp_1['No_deposit'] = bank[bank['y'] == 'no'][column].value_counts()\n",
    "    temp_1['Yes_deposit'] = bank[bank['y'] == 'yes'][column].value_counts()\n",
    "    temp_1.plot(kind='bar')\n",
    "    plt.xlabel(f'{column}')\n",
    "    plt.ylabel('Target market')\n",
    "    plt.title('Distribution of {} and deposit'.format(column))\n",
    "    plt.show()"
   ]
  },
  {
   "cell_type": "code",
   "execution_count": 315,
   "metadata": {
    "scrolled": true
   },
   "outputs": [
    {
     "data": {
      "text/plain": [
       "admin.           10422\n",
       "blue-collar       9254\n",
       "technician        6743\n",
       "services          3969\n",
       "management        2924\n",
       "retired           1720\n",
       "entrepreneur      1456\n",
       "self-employed     1421\n",
       "housemaid         1060\n",
       "unemployed        1014\n",
       "student            875\n",
       "unknown            330\n",
       "Name: job, dtype: int64"
      ]
     },
     "execution_count": 315,
     "metadata": {},
     "output_type": "execute_result"
    }
   ],
   "source": [
    "# Curious to know the clients with the types of jobs that either has a 'Yes' or 'No'\n",
    "\n",
    "bank['job'].value_counts()"
   ]
  },
  {
   "cell_type": "code",
   "execution_count": 316,
   "metadata": {},
   "outputs": [],
   "source": [
    "job_count= bank.groupby(['job','y']).size().reset_index()\n",
    "job_count = job_count.rename(columns={0:'Counts'})"
   ]
  },
  {
   "cell_type": "code",
   "execution_count": 317,
   "metadata": {},
   "outputs": [
    {
     "data": {
      "image/png": "[encoded data removed]",
      "text/plain": [
       "<Figure size 432x288 with 1 Axes>"
      ]
     },
     "metadata": {
      "needs_background": "light"
     },
     "output_type": "display_data"
    },
    {
     "name": "stdout",
     "output_type": "stream",
     "text": [
      "              job    y  Counts\n",
      "0          admin.   no    9070\n",
      "1          admin.  yes    1352\n",
      "2     blue-collar   no    8616\n",
      "3     blue-collar  yes     638\n",
      "4    entrepreneur   no    1332\n",
      "5    entrepreneur  yes     124\n",
      "6       housemaid   no     954\n",
      "7       housemaid  yes     106\n",
      "8      management   no    2596\n",
      "9      management  yes     328\n",
      "10        retired   no    1286\n",
      "11        retired  yes     434\n",
      "12  self-employed   no    1272\n",
      "13  self-employed  yes     149\n",
      "14       services   no    3646\n",
      "15       services  yes     323\n",
      "16        student   no     600\n",
      "17        student  yes     275\n",
      "18     technician   no    6013\n",
      "19     technician  yes     730\n",
      "20     unemployed   no     870\n",
      "21     unemployed  yes     144\n",
      "22        unknown   no     293\n",
      "23        unknown  yes      37\n"
     ]
    },
    {
     "data": {
      "text/plain": [
       "(None, None)"
      ]
     },
     "execution_count": 317,
     "metadata": {},
     "output_type": "execute_result"
    }
   ],
   "source": [
    "plot_bar('job'), print(job_count)"
   ]
  },
  {
   "cell_type": "markdown",
   "metadata": {},
   "source": [
    "The administrative workers has the highest positive response to the marketing campaign compared to other target markets, followed by technicians, blue-collar workers and the rest."
   ]
  },
  {
   "cell_type": "code",
   "execution_count": 318,
   "metadata": {},
   "outputs": [],
   "source": [
    "# Inspecting the marital status markets\n"
   ]
  },
  {
   "cell_type": "code",
   "execution_count": 319,
   "metadata": {},
   "outputs": [],
   "source": [
    "marital_count= bank.groupby(['marital','y']).size().reset_index()\n",
    "marital_count = marital_count.rename(columns={0:'Counts'})"
   ]
  },
  {
   "cell_type": "code",
   "execution_count": 320,
   "metadata": {},
   "outputs": [
    {
     "data": {
      "text/html": [
       "<div>\n",
       "<style scoped>\n",
       "    .dataframe tbody tr th:only-of-type {\n",
       "        vertical-align: middle;\n",
       "    }\n",
       "\n",
       "    .dataframe tbody tr th {\n",
       "        vertical-align: top;\n",
       "    }\n",
       "\n",
       "    .dataframe thead th {\n",
       "        text-align: right;\n",
       "    }\n",
       "</style>\n",
       "<table border=\"1\" class=\"dataframe\">\n",
       "  <thead>\n",
       "    <tr style=\"text-align: right;\">\n",
       "      <th></th>\n",
       "      <th>marital</th>\n",
       "      <th>y</th>\n",
       "      <th>Counts</th>\n",
       "    </tr>\n",
       "  </thead>\n",
       "  <tbody>\n",
       "    <tr>\n",
       "      <th>0</th>\n",
       "      <td>divorced</td>\n",
       "      <td>no</td>\n",
       "      <td>4136</td>\n",
       "    </tr>\n",
       "    <tr>\n",
       "      <th>1</th>\n",
       "      <td>divorced</td>\n",
       "      <td>yes</td>\n",
       "      <td>476</td>\n",
       "    </tr>\n",
       "    <tr>\n",
       "      <th>2</th>\n",
       "      <td>married</td>\n",
       "      <td>no</td>\n",
       "      <td>22396</td>\n",
       "    </tr>\n",
       "    <tr>\n",
       "      <th>3</th>\n",
       "      <td>married</td>\n",
       "      <td>yes</td>\n",
       "      <td>2532</td>\n",
       "    </tr>\n",
       "    <tr>\n",
       "      <th>4</th>\n",
       "      <td>single</td>\n",
       "      <td>no</td>\n",
       "      <td>9948</td>\n",
       "    </tr>\n",
       "    <tr>\n",
       "      <th>5</th>\n",
       "      <td>single</td>\n",
       "      <td>yes</td>\n",
       "      <td>1620</td>\n",
       "    </tr>\n",
       "    <tr>\n",
       "      <th>6</th>\n",
       "      <td>unknown</td>\n",
       "      <td>no</td>\n",
       "      <td>68</td>\n",
       "    </tr>\n",
       "    <tr>\n",
       "      <th>7</th>\n",
       "      <td>unknown</td>\n",
       "      <td>yes</td>\n",
       "      <td>12</td>\n",
       "    </tr>\n",
       "  </tbody>\n",
       "</table>\n",
       "</div>"
      ],
      "text/plain": [
       "    marital    y  Counts\n",
       "0  divorced   no    4136\n",
       "1  divorced  yes     476\n",
       "2   married   no   22396\n",
       "3   married  yes    2532\n",
       "4    single   no    9948\n",
       "5    single  yes    1620\n",
       "6   unknown   no      68\n",
       "7   unknown  yes      12"
      ]
     },
     "execution_count": 320,
     "metadata": {},
     "output_type": "execute_result"
    }
   ],
   "source": [
    "marital_count"
   ]
  },
  {
   "cell_type": "code",
   "execution_count": 321,
   "metadata": {},
   "outputs": [
    {
     "data": {
      "image/png": "[encoded data removed]",
      "text/plain": [
       "<Figure size 432x288 with 1 Axes>"
      ]
     },
     "metadata": {
      "needs_background": "light"
     },
     "output_type": "display_data"
    }
   ],
   "source": [
    "plot_bar('marital')"
   ]
  },
  {
   "cell_type": "code",
   "execution_count": 322,
   "metadata": {},
   "outputs": [
    {
     "data": {
      "image/png": "[encoded data removed]",
      "text/plain": [
       "<Figure size 432x288 with 1 Axes>"
      ]
     },
     "metadata": {
      "needs_background": "light"
     },
     "output_type": "display_data"
    }
   ],
   "source": [
    "# Education audience column\n",
    "# University degree holders has more positive response\n",
    "\n",
    "plot_bar('education')"
   ]
  },
  {
   "cell_type": "code",
   "execution_count": 323,
   "metadata": {},
   "outputs": [
    {
     "data": {
      "image/png": "[encoded data removed]",
      "text/plain": [
       "<Figure size 432x288 with 1 Axes>"
      ]
     },
     "metadata": {
      "needs_background": "light"
     },
     "output_type": "display_data"
    },
    {
     "data": {
      "image/png": "[encoded data removed]",
      "text/plain": [
       "<Figure size 432x288 with 1 Axes>"
      ]
     },
     "metadata": {
      "needs_background": "light"
     },
     "output_type": "display_data"
    },
    {
     "data": {
      "text/plain": [
       "(None, None)"
      ]
     },
     "execution_count": 323,
     "metadata": {},
     "output_type": "execute_result"
    }
   ],
   "source": [
    " plot_bar('loan'), plot_bar('housing')"
   ]
  },
  {
   "cell_type": "markdown",
   "metadata": {},
   "source": [
    "The campaign seeks to gain more customers. The people who have a loan are less likely to enter into a deposit. This is probably the reason why people who don't have loans are way more targetted than people who do have a loan."
   ]
  },
  {
   "cell_type": "markdown",
   "metadata": {},
   "source": [
    "#### Evaluation of the mode of marketing strategy for the bank campaign"
   ]
  },
  {
   "cell_type": "code",
   "execution_count": 324,
   "metadata": {},
   "outputs": [
    {
     "data": {
      "text/plain": [
       "cellular     26144\n",
       "telephone    15044\n",
       "Name: contact, dtype: int64"
      ]
     },
     "execution_count": 324,
     "metadata": {},
     "output_type": "execute_result"
    }
   ],
   "source": [
    "bank['contact'].value_counts()"
   ]
  },
  {
   "cell_type": "code",
   "execution_count": 325,
   "metadata": {},
   "outputs": [
    {
     "data": {
      "image/png": "[encoded data removed]",
      "text/plain": [
       "<Figure size 432x288 with 1 Axes>"
      ]
     },
     "metadata": {
      "needs_background": "light"
     },
     "output_type": "display_data"
    }
   ],
   "source": [
    "plot_bar('contact')"
   ]
  },
  {
   "cell_type": "markdown",
   "metadata": {},
   "source": [
    "Best communicative channel was cellular.\n",
    "Customers can only use landline phones in a single location where there is a wired connection to the telephone network. But Cell phones are operational anywhere the user can get a signal from a wireless network, I believe that is why we have more positive response from clients using cellular. "
   ]
  },
  {
   "cell_type": "code",
   "execution_count": 326,
   "metadata": {},
   "outputs": [
    {
     "data": {
      "image/png": "[encoded data removed]",
      "text/plain": [
       "<Figure size 432x288 with 1 Axes>"
      ]
     },
     "metadata": {
      "needs_background": "light"
     },
     "output_type": "display_data"
    }
   ],
   "source": [
    "plot_bar('month')"
   ]
  },
  {
   "cell_type": "code",
   "execution_count": 327,
   "metadata": {},
   "outputs": [],
   "source": [
    "# This is the duration of period a bank campaign manager uses to communicate with prospective customers. \n",
    "# this attribute highly affects the output target because if duration=0, then reponse will be 'no'\n",
    "\n",
    "bank_d= bank.groupby(['duration','y']).size().reset_index()\n",
    "bank_d = bank_d.rename(columns={0:'Counts'})"
   ]
  },
  {
   "cell_type": "code",
   "execution_count": 328,
   "metadata": {},
   "outputs": [
    {
     "data": {
      "text/html": [
       "<div>\n",
       "<style scoped>\n",
       "    .dataframe tbody tr th:only-of-type {\n",
       "        vertical-align: middle;\n",
       "    }\n",
       "\n",
       "    .dataframe tbody tr th {\n",
       "        vertical-align: top;\n",
       "    }\n",
       "\n",
       "    .dataframe thead th {\n",
       "        text-align: right;\n",
       "    }\n",
       "</style>\n",
       "<table border=\"1\" class=\"dataframe\">\n",
       "  <thead>\n",
       "    <tr style=\"text-align: right;\">\n",
       "      <th></th>\n",
       "      <th>duration</th>\n",
       "      <th>y</th>\n",
       "      <th>Counts</th>\n",
       "    </tr>\n",
       "  </thead>\n",
       "  <tbody>\n",
       "    <tr>\n",
       "      <th>0</th>\n",
       "      <td>0</td>\n",
       "      <td>no</td>\n",
       "      <td>4</td>\n",
       "    </tr>\n",
       "    <tr>\n",
       "      <th>1</th>\n",
       "      <td>1</td>\n",
       "      <td>no</td>\n",
       "      <td>3</td>\n",
       "    </tr>\n",
       "    <tr>\n",
       "      <th>2</th>\n",
       "      <td>2</td>\n",
       "      <td>no</td>\n",
       "      <td>1</td>\n",
       "    </tr>\n",
       "    <tr>\n",
       "      <th>3</th>\n",
       "      <td>3</td>\n",
       "      <td>no</td>\n",
       "      <td>3</td>\n",
       "    </tr>\n",
       "    <tr>\n",
       "      <th>4</th>\n",
       "      <td>4</td>\n",
       "      <td>no</td>\n",
       "      <td>12</td>\n",
       "    </tr>\n",
       "    <tr>\n",
       "      <th>...</th>\n",
       "      <td>...</td>\n",
       "      <td>...</td>\n",
       "      <td>...</td>\n",
       "    </tr>\n",
       "    <tr>\n",
       "      <th>2557</th>\n",
       "      <td>3631</td>\n",
       "      <td>yes</td>\n",
       "      <td>1</td>\n",
       "    </tr>\n",
       "    <tr>\n",
       "      <th>2558</th>\n",
       "      <td>3643</td>\n",
       "      <td>yes</td>\n",
       "      <td>1</td>\n",
       "    </tr>\n",
       "    <tr>\n",
       "      <th>2559</th>\n",
       "      <td>3785</td>\n",
       "      <td>no</td>\n",
       "      <td>1</td>\n",
       "    </tr>\n",
       "    <tr>\n",
       "      <th>2560</th>\n",
       "      <td>4199</td>\n",
       "      <td>yes</td>\n",
       "      <td>1</td>\n",
       "    </tr>\n",
       "    <tr>\n",
       "      <th>2561</th>\n",
       "      <td>4918</td>\n",
       "      <td>no</td>\n",
       "      <td>1</td>\n",
       "    </tr>\n",
       "  </tbody>\n",
       "</table>\n",
       "<p>2562 rows × 3 columns</p>\n",
       "</div>"
      ],
      "text/plain": [
       "      duration    y  Counts\n",
       "0            0   no       4\n",
       "1            1   no       3\n",
       "2            2   no       1\n",
       "3            3   no       3\n",
       "4            4   no      12\n",
       "...        ...  ...     ...\n",
       "2557      3631  yes       1\n",
       "2558      3643  yes       1\n",
       "2559      3785   no       1\n",
       "2560      4199  yes       1\n",
       "2561      4918   no       1\n",
       "\n",
       "[2562 rows x 3 columns]"
      ]
     },
     "execution_count": 328,
     "metadata": {},
     "output_type": "execute_result"
    }
   ],
   "source": [
    "bank_d"
   ]
  },
  {
   "cell_type": "code",
   "execution_count": 329,
   "metadata": {},
   "outputs": [],
   "source": [
    "def plot_histogram(column):\n",
    "    # temp df \n",
    "    temp_1 = pd.DataFrame()\n",
    "    # count categorical values\n",
    "    temp_1['No_deposit'] = bank[bank['y'] == 'no'][column].value_counts()\n",
    "    temp_1['Yes_deposit'] = bank[bank['y'] == 'yes'][column].value_counts()\n",
    "    temp_1.plot.hist(bins=20)\n",
    "    plt.xlabel(f'{column}')\n",
    "    plt.ylabel('Target market')\n",
    "    plt.title('Distribution of {} and deposit'.format(column))\n",
    "    plt.show()"
   ]
  },
  {
   "cell_type": "code",
   "execution_count": 330,
   "metadata": {},
   "outputs": [
    {
     "data": {
      "image/png": "[encoded data removed]",
      "text/plain": [
       "<Figure size 432x288 with 1 Axes>"
      ]
     },
     "metadata": {
      "needs_background": "light"
     },
     "output_type": "display_data"
    }
   ],
   "source": [
    "plot_histogram('duration')"
   ]
  },
  {
   "cell_type": "code",
   "execution_count": 331,
   "metadata": {},
   "outputs": [],
   "source": [
    "#bank['month'].value_counts()"
   ]
  },
  {
   "cell_type": "markdown",
   "metadata": {},
   "source": [
    "Impact of the marketing campaign"
   ]
  },
  {
   "cell_type": "markdown",
   "metadata": {},
   "source": [
    "Outcome of the previous marketing campaign ('failure','nonexistent','success')\n",
    "The camapaign recorded little success"
   ]
  },
  {
   "cell_type": "code",
   "execution_count": 332,
   "metadata": {},
   "outputs": [
    {
     "data": {
      "image/png": "[encoded data removed]",
      "text/plain": [
       "<Figure size 432x288 with 1 Axes>"
      ]
     },
     "metadata": {
      "needs_background": "light"
     },
     "output_type": "display_data"
    }
   ],
   "source": [
    "plot_bar('pdays')"
   ]
  },
  {
   "cell_type": "markdown",
   "metadata": {},
   "source": [
    "pdays: number of days that passed by after the client was last contacted from a previous campaign (numeric; 999 means client was not previously contacted)\n",
    "\n",
    "I believe this is one of the reasons why the marketing campaign was not successful, because the clients were not contacted as a means of follow up.There was no follow up."
   ]
  },
  {
   "cell_type": "code",
   "execution_count": 333,
   "metadata": {},
   "outputs": [
    {
     "data": {
      "text/plain": [
       "nonexistent    35563\n",
       "failure         4252\n",
       "success         1373\n",
       "Name: poutcome, dtype: int64"
      ]
     },
     "execution_count": 333,
     "metadata": {},
     "output_type": "execute_result"
    }
   ],
   "source": [
    "bank['poutcome'].value_counts()"
   ]
  },
  {
   "cell_type": "code",
   "execution_count": 334,
   "metadata": {},
   "outputs": [
    {
     "data": {
      "image/png": "[encoded data removed]",
      "text/plain": [
       "<Figure size 432x288 with 1 Axes>"
      ]
     },
     "metadata": {
      "needs_background": "light"
     },
     "output_type": "display_data"
    }
   ],
   "source": [
    "plot_bar('poutcome')"
   ]
  },
  {
   "cell_type": "markdown",
   "metadata": {},
   "source": [
    "Outcome of the marketing campaign displayed ('failure','nonexistent','success')\n",
    "The campaign recorded little success.\n",
    "The bank should focus more on specific categories, based on the visualizations, few working citizens, students and few senior citizens responded better to the campaign. Also, there should be follow up on clients that showed positive response and plan captivating strategies to target these markets. With little budget and targetd compaigns, the marketing strategies will be successful and imapctful.\n"
   ]
  },
  {
   "cell_type": "code",
   "execution_count": 335,
   "metadata": {},
   "outputs": [
    {
     "data": {
      "text/html": [
       "<div>\n",
       "<style scoped>\n",
       "    .dataframe tbody tr th:only-of-type {\n",
       "        vertical-align: middle;\n",
       "    }\n",
       "\n",
       "    .dataframe tbody tr th {\n",
       "        vertical-align: top;\n",
       "    }\n",
       "\n",
       "    .dataframe thead th {\n",
       "        text-align: right;\n",
       "    }\n",
       "</style>\n",
       "<table border=\"1\" class=\"dataframe\">\n",
       "  <thead>\n",
       "    <tr style=\"text-align: right;\">\n",
       "      <th></th>\n",
       "      <th>age</th>\n",
       "      <th>job</th>\n",
       "      <th>marital</th>\n",
       "      <th>education</th>\n",
       "      <th>default</th>\n",
       "      <th>housing</th>\n",
       "      <th>loan</th>\n",
       "      <th>contact</th>\n",
       "      <th>month</th>\n",
       "      <th>day_of_week</th>\n",
       "      <th>...</th>\n",
       "      <th>campaign</th>\n",
       "      <th>pdays</th>\n",
       "      <th>previous</th>\n",
       "      <th>poutcome</th>\n",
       "      <th>emp.var.rate</th>\n",
       "      <th>cons.price.idx</th>\n",
       "      <th>cons.conf.idx</th>\n",
       "      <th>euribor3m</th>\n",
       "      <th>nr.employed</th>\n",
       "      <th>y</th>\n",
       "    </tr>\n",
       "  </thead>\n",
       "  <tbody>\n",
       "    <tr>\n",
       "      <th>0</th>\n",
       "      <td>56</td>\n",
       "      <td>housemaid</td>\n",
       "      <td>married</td>\n",
       "      <td>basic.4y</td>\n",
       "      <td>no</td>\n",
       "      <td>no</td>\n",
       "      <td>no</td>\n",
       "      <td>telephone</td>\n",
       "      <td>may</td>\n",
       "      <td>mon</td>\n",
       "      <td>...</td>\n",
       "      <td>1</td>\n",
       "      <td>999</td>\n",
       "      <td>0</td>\n",
       "      <td>nonexistent</td>\n",
       "      <td>1.1</td>\n",
       "      <td>93.994</td>\n",
       "      <td>-36.4</td>\n",
       "      <td>4.857</td>\n",
       "      <td>5191.0</td>\n",
       "      <td>no</td>\n",
       "    </tr>\n",
       "    <tr>\n",
       "      <th>1</th>\n",
       "      <td>57</td>\n",
       "      <td>services</td>\n",
       "      <td>married</td>\n",
       "      <td>high.school</td>\n",
       "      <td>unknown</td>\n",
       "      <td>no</td>\n",
       "      <td>no</td>\n",
       "      <td>telephone</td>\n",
       "      <td>may</td>\n",
       "      <td>mon</td>\n",
       "      <td>...</td>\n",
       "      <td>1</td>\n",
       "      <td>999</td>\n",
       "      <td>0</td>\n",
       "      <td>nonexistent</td>\n",
       "      <td>1.1</td>\n",
       "      <td>93.994</td>\n",
       "      <td>-36.4</td>\n",
       "      <td>4.857</td>\n",
       "      <td>5191.0</td>\n",
       "      <td>no</td>\n",
       "    </tr>\n",
       "    <tr>\n",
       "      <th>2</th>\n",
       "      <td>37</td>\n",
       "      <td>services</td>\n",
       "      <td>married</td>\n",
       "      <td>high.school</td>\n",
       "      <td>no</td>\n",
       "      <td>yes</td>\n",
       "      <td>no</td>\n",
       "      <td>telephone</td>\n",
       "      <td>may</td>\n",
       "      <td>mon</td>\n",
       "      <td>...</td>\n",
       "      <td>1</td>\n",
       "      <td>999</td>\n",
       "      <td>0</td>\n",
       "      <td>nonexistent</td>\n",
       "      <td>1.1</td>\n",
       "      <td>93.994</td>\n",
       "      <td>-36.4</td>\n",
       "      <td>4.857</td>\n",
       "      <td>5191.0</td>\n",
       "      <td>no</td>\n",
       "    </tr>\n",
       "    <tr>\n",
       "      <th>3</th>\n",
       "      <td>40</td>\n",
       "      <td>admin.</td>\n",
       "      <td>married</td>\n",
       "      <td>basic.6y</td>\n",
       "      <td>no</td>\n",
       "      <td>no</td>\n",
       "      <td>no</td>\n",
       "      <td>telephone</td>\n",
       "      <td>may</td>\n",
       "      <td>mon</td>\n",
       "      <td>...</td>\n",
       "      <td>1</td>\n",
       "      <td>999</td>\n",
       "      <td>0</td>\n",
       "      <td>nonexistent</td>\n",
       "      <td>1.1</td>\n",
       "      <td>93.994</td>\n",
       "      <td>-36.4</td>\n",
       "      <td>4.857</td>\n",
       "      <td>5191.0</td>\n",
       "      <td>no</td>\n",
       "    </tr>\n",
       "    <tr>\n",
       "      <th>4</th>\n",
       "      <td>56</td>\n",
       "      <td>services</td>\n",
       "      <td>married</td>\n",
       "      <td>high.school</td>\n",
       "      <td>no</td>\n",
       "      <td>no</td>\n",
       "      <td>yes</td>\n",
       "      <td>telephone</td>\n",
       "      <td>may</td>\n",
       "      <td>mon</td>\n",
       "      <td>...</td>\n",
       "      <td>1</td>\n",
       "      <td>999</td>\n",
       "      <td>0</td>\n",
       "      <td>nonexistent</td>\n",
       "      <td>1.1</td>\n",
       "      <td>93.994</td>\n",
       "      <td>-36.4</td>\n",
       "      <td>4.857</td>\n",
       "      <td>5191.0</td>\n",
       "      <td>no</td>\n",
       "    </tr>\n",
       "  </tbody>\n",
       "</table>\n",
       "<p>5 rows × 21 columns</p>\n",
       "</div>"
      ],
      "text/plain": [
       "   age        job  marital    education  default housing loan    contact  \\\n",
       "0   56  housemaid  married     basic.4y       no      no   no  telephone   \n",
       "1   57   services  married  high.school  unknown      no   no  telephone   \n",
       "2   37   services  married  high.school       no     yes   no  telephone   \n",
       "3   40     admin.  married     basic.6y       no      no   no  telephone   \n",
       "4   56   services  married  high.school       no      no  yes  telephone   \n",
       "\n",
       "  month day_of_week  ...  campaign  pdays  previous     poutcome emp.var.rate  \\\n",
       "0   may         mon  ...         1    999         0  nonexistent          1.1   \n",
       "1   may         mon  ...         1    999         0  nonexistent          1.1   \n",
       "2   may         mon  ...         1    999         0  nonexistent          1.1   \n",
       "3   may         mon  ...         1    999         0  nonexistent          1.1   \n",
       "4   may         mon  ...         1    999         0  nonexistent          1.1   \n",
       "\n",
       "   cons.price.idx  cons.conf.idx  euribor3m  nr.employed   y  \n",
       "0          93.994          -36.4      4.857       5191.0  no  \n",
       "1          93.994          -36.4      4.857       5191.0  no  \n",
       "2          93.994          -36.4      4.857       5191.0  no  \n",
       "3          93.994          -36.4      4.857       5191.0  no  \n",
       "4          93.994          -36.4      4.857       5191.0  no  \n",
       "\n",
       "[5 rows x 21 columns]"
      ]
     },
     "execution_count": 335,
     "metadata": {},
     "output_type": "execute_result"
    }
   ],
   "source": [
    "bank.head()"
   ]
  },
  {
   "cell_type": "markdown",
   "metadata": {},
   "source": [
    "### Inspecting for  multicollinearity of other features to the target variable 'y'"
   ]
  },
  {
   "cell_type": "code",
   "execution_count": 234,
   "metadata": {},
   "outputs": [
    {
     "data": {
      "text/plain": [
       "no     36548\n",
       "yes     4640\n",
       "Name: y, dtype: int64"
      ]
     },
     "execution_count": 234,
     "metadata": {},
     "output_type": "execute_result"
    }
   ],
   "source": [
    "bank['y'].value_counts()"
   ]
  },
  {
   "cell_type": "code",
   "execution_count": 235,
   "metadata": {},
   "outputs": [],
   "source": [
    "# Convert target variable into numeric\n",
    "bank['y'] = bank.y.map({'no':0, 'yes':1}).astype('uint8')"
   ]
  },
  {
   "cell_type": "code",
   "execution_count": 236,
   "metadata": {},
   "outputs": [
    {
     "data": {
      "text/html": [
       "<style  type=\"text/css\" >\n",
       "#T_4691172e_5a7a_11eb_9bfc_d2569fa1abe8row0_col0,#T_4691172e_5a7a_11eb_9bfc_d2569fa1abe8row1_col1,#T_4691172e_5a7a_11eb_9bfc_d2569fa1abe8row2_col2,#T_4691172e_5a7a_11eb_9bfc_d2569fa1abe8row3_col3,#T_4691172e_5a7a_11eb_9bfc_d2569fa1abe8row4_col4,#T_4691172e_5a7a_11eb_9bfc_d2569fa1abe8row5_col5,#T_4691172e_5a7a_11eb_9bfc_d2569fa1abe8row6_col6,#T_4691172e_5a7a_11eb_9bfc_d2569fa1abe8row7_col7,#T_4691172e_5a7a_11eb_9bfc_d2569fa1abe8row8_col8,#T_4691172e_5a7a_11eb_9bfc_d2569fa1abe8row9_col9,#T_4691172e_5a7a_11eb_9bfc_d2569fa1abe8row10_col10{\n",
       "            background-color:  #023858;\n",
       "            color:  #f1f1f1;\n",
       "        }#T_4691172e_5a7a_11eb_9bfc_d2569fa1abe8row0_col1,#T_4691172e_5a7a_11eb_9bfc_d2569fa1abe8row10_col0{\n",
       "            background-color:  #f5eff6;\n",
       "            color:  #000000;\n",
       "        }#T_4691172e_5a7a_11eb_9bfc_d2569fa1abe8row0_col2,#T_4691172e_5a7a_11eb_9bfc_d2569fa1abe8row1_col7{\n",
       "            background-color:  #f4edf6;\n",
       "            color:  #000000;\n",
       "        }#T_4691172e_5a7a_11eb_9bfc_d2569fa1abe8row0_col3{\n",
       "            background-color:  #afc1dd;\n",
       "            color:  #000000;\n",
       "        }#T_4691172e_5a7a_11eb_9bfc_d2569fa1abe8row0_col4,#T_4691172e_5a7a_11eb_9bfc_d2569fa1abe8row1_col4{\n",
       "            background-color:  #a2bcda;\n",
       "            color:  #000000;\n",
       "        }#T_4691172e_5a7a_11eb_9bfc_d2569fa1abe8row0_col5{\n",
       "            background-color:  #c1cae2;\n",
       "            color:  #000000;\n",
       "        }#T_4691172e_5a7a_11eb_9bfc_d2569fa1abe8row0_col6{\n",
       "            background-color:  #e2dfee;\n",
       "            color:  #000000;\n",
       "        }#T_4691172e_5a7a_11eb_9bfc_d2569fa1abe8row0_col7{\n",
       "            background-color:  #dbdaeb;\n",
       "            color:  #000000;\n",
       "        }#T_4691172e_5a7a_11eb_9bfc_d2569fa1abe8row0_col8,#T_4691172e_5a7a_11eb_9bfc_d2569fa1abe8row2_col4{\n",
       "            background-color:  #b9c6e0;\n",
       "            color:  #000000;\n",
       "        }#T_4691172e_5a7a_11eb_9bfc_d2569fa1abe8row0_col9{\n",
       "            background-color:  #b8c6e0;\n",
       "            color:  #000000;\n",
       "        }#T_4691172e_5a7a_11eb_9bfc_d2569fa1abe8row0_col10{\n",
       "            background-color:  #c5cce3;\n",
       "            color:  #000000;\n",
       "        }#T_4691172e_5a7a_11eb_9bfc_d2569fa1abe8row1_col0,#T_4691172e_5a7a_11eb_9bfc_d2569fa1abe8row5_col0,#T_4691172e_5a7a_11eb_9bfc_d2569fa1abe8row6_col0,#T_4691172e_5a7a_11eb_9bfc_d2569fa1abe8row8_col10{\n",
       "            background-color:  #faf3f9;\n",
       "            color:  #000000;\n",
       "        }#T_4691172e_5a7a_11eb_9bfc_d2569fa1abe8row1_col2{\n",
       "            background-color:  #fef6fb;\n",
       "            color:  #000000;\n",
       "        }#T_4691172e_5a7a_11eb_9bfc_d2569fa1abe8row1_col3{\n",
       "            background-color:  #b1c2de;\n",
       "            color:  #000000;\n",
       "        }#T_4691172e_5a7a_11eb_9bfc_d2569fa1abe8row1_col5,#T_4691172e_5a7a_11eb_9bfc_d2569fa1abe8row2_col6{\n",
       "            background-color:  #c8cde4;\n",
       "            color:  #000000;\n",
       "        }#T_4691172e_5a7a_11eb_9bfc_d2569fa1abe8row1_col6{\n",
       "            background-color:  #e1dfed;\n",
       "            color:  #000000;\n",
       "        }#T_4691172e_5a7a_11eb_9bfc_d2569fa1abe8row1_col8{\n",
       "            background-color:  #c2cbe2;\n",
       "            color:  #000000;\n",
       "        }#T_4691172e_5a7a_11eb_9bfc_d2569fa1abe8row1_col9,#T_4691172e_5a7a_11eb_9bfc_d2569fa1abe8row7_col10{\n",
       "            background-color:  #bfc9e1;\n",
       "            color:  #000000;\n",
       "        }#T_4691172e_5a7a_11eb_9bfc_d2569fa1abe8row1_col10{\n",
       "            background-color:  #569dc8;\n",
       "            color:  #000000;\n",
       "        }#T_4691172e_5a7a_11eb_9bfc_d2569fa1abe8row2_col0,#T_4691172e_5a7a_11eb_9bfc_d2569fa1abe8row4_col7,#T_4691172e_5a7a_11eb_9bfc_d2569fa1abe8row8_col1{\n",
       "            background-color:  #faf2f8;\n",
       "            color:  #000000;\n",
       "        }#T_4691172e_5a7a_11eb_9bfc_d2569fa1abe8row2_col1,#T_4691172e_5a7a_11eb_9bfc_d2569fa1abe8row3_col0,#T_4691172e_5a7a_11eb_9bfc_d2569fa1abe8row3_col4,#T_4691172e_5a7a_11eb_9bfc_d2569fa1abe8row3_col7,#T_4691172e_5a7a_11eb_9bfc_d2569fa1abe8row4_col2,#T_4691172e_5a7a_11eb_9bfc_d2569fa1abe8row4_col3,#T_4691172e_5a7a_11eb_9bfc_d2569fa1abe8row4_col5,#T_4691172e_5a7a_11eb_9bfc_d2569fa1abe8row4_col6,#T_4691172e_5a7a_11eb_9bfc_d2569fa1abe8row4_col8,#T_4691172e_5a7a_11eb_9bfc_d2569fa1abe8row4_col9,#T_4691172e_5a7a_11eb_9bfc_d2569fa1abe8row9_col10{\n",
       "            background-color:  #fff7fb;\n",
       "            color:  #000000;\n",
       "        }#T_4691172e_5a7a_11eb_9bfc_d2569fa1abe8row2_col3,#T_4691172e_5a7a_11eb_9bfc_d2569fa1abe8row2_col8{\n",
       "            background-color:  #9ab8d8;\n",
       "            color:  #000000;\n",
       "        }#T_4691172e_5a7a_11eb_9bfc_d2569fa1abe8row2_col5,#T_4691172e_5a7a_11eb_9bfc_d2569fa1abe8row7_col9{\n",
       "            background-color:  #9cb9d9;\n",
       "            color:  #000000;\n",
       "        }#T_4691172e_5a7a_11eb_9bfc_d2569fa1abe8row2_col7,#T_4691172e_5a7a_11eb_9bfc_d2569fa1abe8row6_col1{\n",
       "            background-color:  #f4eef6;\n",
       "            color:  #000000;\n",
       "        }#T_4691172e_5a7a_11eb_9bfc_d2569fa1abe8row2_col9,#T_4691172e_5a7a_11eb_9bfc_d2569fa1abe8row4_col10{\n",
       "            background-color:  #8fb4d6;\n",
       "            color:  #000000;\n",
       "        }#T_4691172e_5a7a_11eb_9bfc_d2569fa1abe8row2_col10,#T_4691172e_5a7a_11eb_9bfc_d2569fa1abe8row5_col2{\n",
       "            background-color:  #d9d8ea;\n",
       "            color:  #000000;\n",
       "        }#T_4691172e_5a7a_11eb_9bfc_d2569fa1abe8row3_col1,#T_4691172e_5a7a_11eb_9bfc_d2569fa1abe8row3_col10{\n",
       "            background-color:  #fcf4fa;\n",
       "            color:  #000000;\n",
       "        }#T_4691172e_5a7a_11eb_9bfc_d2569fa1abe8row3_col2{\n",
       "            background-color:  #ede7f2;\n",
       "            color:  #000000;\n",
       "        }#T_4691172e_5a7a_11eb_9bfc_d2569fa1abe8row3_col5{\n",
       "            background-color:  #79abd0;\n",
       "            color:  #000000;\n",
       "        }#T_4691172e_5a7a_11eb_9bfc_d2569fa1abe8row3_col6{\n",
       "            background-color:  #d3d4e7;\n",
       "            color:  #000000;\n",
       "        }#T_4691172e_5a7a_11eb_9bfc_d2569fa1abe8row3_col8{\n",
       "            background-color:  #6ba5cd;\n",
       "            color:  #000000;\n",
       "        }#T_4691172e_5a7a_11eb_9bfc_d2569fa1abe8row3_col9{\n",
       "            background-color:  #4a98c5;\n",
       "            color:  #000000;\n",
       "        }#T_4691172e_5a7a_11eb_9bfc_d2569fa1abe8row4_col0,#T_4691172e_5a7a_11eb_9bfc_d2569fa1abe8row9_col4,#T_4691172e_5a7a_11eb_9bfc_d2569fa1abe8row10_col6{\n",
       "            background-color:  #f7f0f7;\n",
       "            color:  #000000;\n",
       "        }#T_4691172e_5a7a_11eb_9bfc_d2569fa1abe8row4_col1,#T_4691172e_5a7a_11eb_9bfc_d2569fa1abe8row8_col4,#T_4691172e_5a7a_11eb_9bfc_d2569fa1abe8row10_col5{\n",
       "            background-color:  #f2ecf5;\n",
       "            color:  #000000;\n",
       "        }#T_4691172e_5a7a_11eb_9bfc_d2569fa1abe8row5_col1,#T_4691172e_5a7a_11eb_9bfc_d2569fa1abe8row5_col10{\n",
       "            background-color:  #f9f2f8;\n",
       "            color:  #000000;\n",
       "        }#T_4691172e_5a7a_11eb_9bfc_d2569fa1abe8row5_col3{\n",
       "            background-color:  #60a1ca;\n",
       "            color:  #000000;\n",
       "        }#T_4691172e_5a7a_11eb_9bfc_d2569fa1abe8row5_col4,#T_4691172e_5a7a_11eb_9bfc_d2569fa1abe8row10_col8,#T_4691172e_5a7a_11eb_9bfc_d2569fa1abe8row10_col9{\n",
       "            background-color:  #f0eaf4;\n",
       "            color:  #000000;\n",
       "        }#T_4691172e_5a7a_11eb_9bfc_d2569fa1abe8row5_col6{\n",
       "            background-color:  #04649e;\n",
       "            color:  #f1f1f1;\n",
       "        }#T_4691172e_5a7a_11eb_9bfc_d2569fa1abe8row5_col7{\n",
       "            background-color:  #cccfe5;\n",
       "            color:  #000000;\n",
       "        }#T_4691172e_5a7a_11eb_9bfc_d2569fa1abe8row5_col8{\n",
       "            background-color:  #023c5f;\n",
       "            color:  #f1f1f1;\n",
       "        }#T_4691172e_5a7a_11eb_9bfc_d2569fa1abe8row5_col9{\n",
       "            background-color:  #034871;\n",
       "            color:  #f1f1f1;\n",
       "        }#T_4691172e_5a7a_11eb_9bfc_d2569fa1abe8row6_col2{\n",
       "            background-color:  #dddbec;\n",
       "            color:  #000000;\n",
       "        }#T_4691172e_5a7a_11eb_9bfc_d2569fa1abe8row6_col3{\n",
       "            background-color:  #94b6d7;\n",
       "            color:  #000000;\n",
       "        }#T_4691172e_5a7a_11eb_9bfc_d2569fa1abe8row6_col4{\n",
       "            background-color:  #d2d3e7;\n",
       "            color:  #000000;\n",
       "        }#T_4691172e_5a7a_11eb_9bfc_d2569fa1abe8row6_col5{\n",
       "            background-color:  #046096;\n",
       "            color:  #f1f1f1;\n",
       "        }#T_4691172e_5a7a_11eb_9bfc_d2569fa1abe8row6_col7{\n",
       "            background-color:  #e9e5f1;\n",
       "            color:  #000000;\n",
       "        }#T_4691172e_5a7a_11eb_9bfc_d2569fa1abe8row6_col8{\n",
       "            background-color:  #0569a5;\n",
       "            color:  #f1f1f1;\n",
       "        }#T_4691172e_5a7a_11eb_9bfc_d2569fa1abe8row6_col9{\n",
       "            background-color:  #2081b9;\n",
       "            color:  #000000;\n",
       "        }#T_4691172e_5a7a_11eb_9bfc_d2569fa1abe8row6_col10{\n",
       "            background-color:  #e4e1ef;\n",
       "            color:  #000000;\n",
       "        }#T_4691172e_5a7a_11eb_9bfc_d2569fa1abe8row7_col0{\n",
       "            background-color:  #e5e1ef;\n",
       "            color:  #000000;\n",
       "        }#T_4691172e_5a7a_11eb_9bfc_d2569fa1abe8row7_col1,#T_4691172e_5a7a_11eb_9bfc_d2569fa1abe8row7_col2{\n",
       "            background-color:  #f6eff7;\n",
       "            color:  #000000;\n",
       "        }#T_4691172e_5a7a_11eb_9bfc_d2569fa1abe8row7_col3{\n",
       "            background-color:  #bbc7e0;\n",
       "            color:  #000000;\n",
       "        }#T_4691172e_5a7a_11eb_9bfc_d2569fa1abe8row7_col4,#T_4691172e_5a7a_11eb_9bfc_d2569fa1abe8row8_col7{\n",
       "            background-color:  #b3c3de;\n",
       "            color:  #000000;\n",
       "        }#T_4691172e_5a7a_11eb_9bfc_d2569fa1abe8row7_col5{\n",
       "            background-color:  #8eb3d5;\n",
       "            color:  #000000;\n",
       "        }#T_4691172e_5a7a_11eb_9bfc_d2569fa1abe8row7_col6{\n",
       "            background-color:  #d8d7e9;\n",
       "            color:  #000000;\n",
       "        }#T_4691172e_5a7a_11eb_9bfc_d2569fa1abe8row7_col8{\n",
       "            background-color:  #73a9cf;\n",
       "            color:  #000000;\n",
       "        }#T_4691172e_5a7a_11eb_9bfc_d2569fa1abe8row8_col0{\n",
       "            background-color:  #f8f1f8;\n",
       "            color:  #000000;\n",
       "        }#T_4691172e_5a7a_11eb_9bfc_d2569fa1abe8row8_col2{\n",
       "            background-color:  #dcdaeb;\n",
       "            color:  #000000;\n",
       "        }#T_4691172e_5a7a_11eb_9bfc_d2569fa1abe8row8_col3{\n",
       "            background-color:  #589ec8;\n",
       "            color:  #000000;\n",
       "        }#T_4691172e_5a7a_11eb_9bfc_d2569fa1abe8row8_col5{\n",
       "            background-color:  #023d60;\n",
       "            color:  #f1f1f1;\n",
       "        }#T_4691172e_5a7a_11eb_9bfc_d2569fa1abe8row8_col6{\n",
       "            background-color:  #0872b1;\n",
       "            color:  #f1f1f1;\n",
       "        }#T_4691172e_5a7a_11eb_9bfc_d2569fa1abe8row8_col9,#T_4691172e_5a7a_11eb_9bfc_d2569fa1abe8row9_col8{\n",
       "            background-color:  #034267;\n",
       "            color:  #f1f1f1;\n",
       "        }#T_4691172e_5a7a_11eb_9bfc_d2569fa1abe8row9_col0,#T_4691172e_5a7a_11eb_9bfc_d2569fa1abe8row10_col2{\n",
       "            background-color:  #fdf5fa;\n",
       "            color:  #000000;\n",
       "        }#T_4691172e_5a7a_11eb_9bfc_d2569fa1abe8row9_col1{\n",
       "            background-color:  #fbf4f9;\n",
       "            color:  #000000;\n",
       "        }#T_4691172e_5a7a_11eb_9bfc_d2569fa1abe8row9_col2{\n",
       "            background-color:  #dad9ea;\n",
       "            color:  #000000;\n",
       "        }#T_4691172e_5a7a_11eb_9bfc_d2569fa1abe8row9_col3,#T_4691172e_5a7a_11eb_9bfc_d2569fa1abe8row9_col6{\n",
       "            background-color:  #4094c3;\n",
       "            color:  #000000;\n",
       "        }#T_4691172e_5a7a_11eb_9bfc_d2569fa1abe8row9_col5{\n",
       "            background-color:  #034973;\n",
       "            color:  #f1f1f1;\n",
       "        }#T_4691172e_5a7a_11eb_9bfc_d2569fa1abe8row9_col7{\n",
       "            background-color:  #e0deed;\n",
       "            color:  #000000;\n",
       "        }#T_4691172e_5a7a_11eb_9bfc_d2569fa1abe8row10_col1{\n",
       "            background-color:  #8bb2d4;\n",
       "            color:  #000000;\n",
       "        }#T_4691172e_5a7a_11eb_9bfc_d2569fa1abe8row10_col3{\n",
       "            background-color:  #e3e0ee;\n",
       "            color:  #000000;\n",
       "        }#T_4691172e_5a7a_11eb_9bfc_d2569fa1abe8row10_col4{\n",
       "            background-color:  #6da6cd;\n",
       "            color:  #000000;\n",
       "        }#T_4691172e_5a7a_11eb_9bfc_d2569fa1abe8row10_col7{\n",
       "            background-color:  #eae6f1;\n",
       "            color:  #000000;\n",
       "        }</style><table id=\"T_4691172e_5a7a_11eb_9bfc_d2569fa1abe8\" ><thead>    <tr>        <th class=\"blank level0\" ></th>        <th class=\"col_heading level0 col0\" >age</th>        <th class=\"col_heading level0 col1\" >duration</th>        <th class=\"col_heading level0 col2\" >campaign</th>        <th class=\"col_heading level0 col3\" >pdays</th>        <th class=\"col_heading level0 col4\" >previous</th>        <th class=\"col_heading level0 col5\" >emp.var.rate</th>        <th class=\"col_heading level0 col6\" >cons.price.idx</th>        <th class=\"col_heading level0 col7\" >cons.conf.idx</th>        <th class=\"col_heading level0 col8\" >euribor3m</th>        <th class=\"col_heading level0 col9\" >nr.employed</th>        <th class=\"col_heading level0 col10\" >y</th>    </tr></thead><tbody>\n",
       "                <tr>\n",
       "                        <th id=\"T_4691172e_5a7a_11eb_9bfc_d2569fa1abe8level0_row0\" class=\"row_heading level0 row0\" >age</th>\n",
       "                        <td id=\"T_4691172e_5a7a_11eb_9bfc_d2569fa1abe8row0_col0\" class=\"data row0 col0\" >1.000000</td>\n",
       "                        <td id=\"T_4691172e_5a7a_11eb_9bfc_d2569fa1abe8row0_col1\" class=\"data row0 col1\" >-0.000866</td>\n",
       "                        <td id=\"T_4691172e_5a7a_11eb_9bfc_d2569fa1abe8row0_col2\" class=\"data row0 col2\" >0.004594</td>\n",
       "                        <td id=\"T_4691172e_5a7a_11eb_9bfc_d2569fa1abe8row0_col3\" class=\"data row0 col3\" >-0.034369</td>\n",
       "                        <td id=\"T_4691172e_5a7a_11eb_9bfc_d2569fa1abe8row0_col4\" class=\"data row0 col4\" >0.024365</td>\n",
       "                        <td id=\"T_4691172e_5a7a_11eb_9bfc_d2569fa1abe8row0_col5\" class=\"data row0 col5\" >-0.000371</td>\n",
       "                        <td id=\"T_4691172e_5a7a_11eb_9bfc_d2569fa1abe8row0_col6\" class=\"data row0 col6\" >0.000857</td>\n",
       "                        <td id=\"T_4691172e_5a7a_11eb_9bfc_d2569fa1abe8row0_col7\" class=\"data row0 col7\" >0.129372</td>\n",
       "                        <td id=\"T_4691172e_5a7a_11eb_9bfc_d2569fa1abe8row0_col8\" class=\"data row0 col8\" >0.010767</td>\n",
       "                        <td id=\"T_4691172e_5a7a_11eb_9bfc_d2569fa1abe8row0_col9\" class=\"data row0 col9\" >-0.017725</td>\n",
       "                        <td id=\"T_4691172e_5a7a_11eb_9bfc_d2569fa1abe8row0_col10\" class=\"data row0 col10\" >0.030399</td>\n",
       "            </tr>\n",
       "            <tr>\n",
       "                        <th id=\"T_4691172e_5a7a_11eb_9bfc_d2569fa1abe8level0_row1\" class=\"row_heading level0 row1\" >duration</th>\n",
       "                        <td id=\"T_4691172e_5a7a_11eb_9bfc_d2569fa1abe8row1_col0\" class=\"data row1 col0\" >-0.000866</td>\n",
       "                        <td id=\"T_4691172e_5a7a_11eb_9bfc_d2569fa1abe8row1_col1\" class=\"data row1 col1\" >1.000000</td>\n",
       "                        <td id=\"T_4691172e_5a7a_11eb_9bfc_d2569fa1abe8row1_col2\" class=\"data row1 col2\" >-0.071699</td>\n",
       "                        <td id=\"T_4691172e_5a7a_11eb_9bfc_d2569fa1abe8row1_col3\" class=\"data row1 col3\" >-0.047577</td>\n",
       "                        <td id=\"T_4691172e_5a7a_11eb_9bfc_d2569fa1abe8row1_col4\" class=\"data row1 col4\" >0.020640</td>\n",
       "                        <td id=\"T_4691172e_5a7a_11eb_9bfc_d2569fa1abe8row1_col5\" class=\"data row1 col5\" >-0.027968</td>\n",
       "                        <td id=\"T_4691172e_5a7a_11eb_9bfc_d2569fa1abe8row1_col6\" class=\"data row1 col6\" >0.005312</td>\n",
       "                        <td id=\"T_4691172e_5a7a_11eb_9bfc_d2569fa1abe8row1_col7\" class=\"data row1 col7\" >-0.008173</td>\n",
       "                        <td id=\"T_4691172e_5a7a_11eb_9bfc_d2569fa1abe8row1_col8\" class=\"data row1 col8\" >-0.032897</td>\n",
       "                        <td id=\"T_4691172e_5a7a_11eb_9bfc_d2569fa1abe8row1_col9\" class=\"data row1 col9\" >-0.044703</td>\n",
       "                        <td id=\"T_4691172e_5a7a_11eb_9bfc_d2569fa1abe8row1_col10\" class=\"data row1 col10\" >0.405274</td>\n",
       "            </tr>\n",
       "            <tr>\n",
       "                        <th id=\"T_4691172e_5a7a_11eb_9bfc_d2569fa1abe8level0_row2\" class=\"row_heading level0 row2\" >campaign</th>\n",
       "                        <td id=\"T_4691172e_5a7a_11eb_9bfc_d2569fa1abe8row2_col0\" class=\"data row2 col0\" >0.004594</td>\n",
       "                        <td id=\"T_4691172e_5a7a_11eb_9bfc_d2569fa1abe8row2_col1\" class=\"data row2 col1\" >-0.071699</td>\n",
       "                        <td id=\"T_4691172e_5a7a_11eb_9bfc_d2569fa1abe8row2_col2\" class=\"data row2 col2\" >1.000000</td>\n",
       "                        <td id=\"T_4691172e_5a7a_11eb_9bfc_d2569fa1abe8row2_col3\" class=\"data row2 col3\" >0.052584</td>\n",
       "                        <td id=\"T_4691172e_5a7a_11eb_9bfc_d2569fa1abe8row2_col4\" class=\"data row2 col4\" >-0.079141</td>\n",
       "                        <td id=\"T_4691172e_5a7a_11eb_9bfc_d2569fa1abe8row2_col5\" class=\"data row2 col5\" >0.150754</td>\n",
       "                        <td id=\"T_4691172e_5a7a_11eb_9bfc_d2569fa1abe8row2_col6\" class=\"data row2 col6\" >0.127836</td>\n",
       "                        <td id=\"T_4691172e_5a7a_11eb_9bfc_d2569fa1abe8row2_col7\" class=\"data row2 col7\" >-0.013733</td>\n",
       "                        <td id=\"T_4691172e_5a7a_11eb_9bfc_d2569fa1abe8row2_col8\" class=\"data row2 col8\" >0.135133</td>\n",
       "                        <td id=\"T_4691172e_5a7a_11eb_9bfc_d2569fa1abe8row2_col9\" class=\"data row2 col9\" >0.144095</td>\n",
       "                        <td id=\"T_4691172e_5a7a_11eb_9bfc_d2569fa1abe8row2_col10\" class=\"data row2 col10\" >-0.066357</td>\n",
       "            </tr>\n",
       "            <tr>\n",
       "                        <th id=\"T_4691172e_5a7a_11eb_9bfc_d2569fa1abe8level0_row3\" class=\"row_heading level0 row3\" >pdays</th>\n",
       "                        <td id=\"T_4691172e_5a7a_11eb_9bfc_d2569fa1abe8row3_col0\" class=\"data row3 col0\" >-0.034369</td>\n",
       "                        <td id=\"T_4691172e_5a7a_11eb_9bfc_d2569fa1abe8row3_col1\" class=\"data row3 col1\" >-0.047577</td>\n",
       "                        <td id=\"T_4691172e_5a7a_11eb_9bfc_d2569fa1abe8row3_col2\" class=\"data row3 col2\" >0.052584</td>\n",
       "                        <td id=\"T_4691172e_5a7a_11eb_9bfc_d2569fa1abe8row3_col3\" class=\"data row3 col3\" >1.000000</td>\n",
       "                        <td id=\"T_4691172e_5a7a_11eb_9bfc_d2569fa1abe8row3_col4\" class=\"data row3 col4\" >-0.587514</td>\n",
       "                        <td id=\"T_4691172e_5a7a_11eb_9bfc_d2569fa1abe8row3_col5\" class=\"data row3 col5\" >0.271004</td>\n",
       "                        <td id=\"T_4691172e_5a7a_11eb_9bfc_d2569fa1abe8row3_col6\" class=\"data row3 col6\" >0.078889</td>\n",
       "                        <td id=\"T_4691172e_5a7a_11eb_9bfc_d2569fa1abe8row3_col7\" class=\"data row3 col7\" >-0.091342</td>\n",
       "                        <td id=\"T_4691172e_5a7a_11eb_9bfc_d2569fa1abe8row3_col8\" class=\"data row3 col8\" >0.296899</td>\n",
       "                        <td id=\"T_4691172e_5a7a_11eb_9bfc_d2569fa1abe8row3_col9\" class=\"data row3 col9\" >0.372605</td>\n",
       "                        <td id=\"T_4691172e_5a7a_11eb_9bfc_d2569fa1abe8row3_col10\" class=\"data row3 col10\" >-0.324914</td>\n",
       "            </tr>\n",
       "            <tr>\n",
       "                        <th id=\"T_4691172e_5a7a_11eb_9bfc_d2569fa1abe8level0_row4\" class=\"row_heading level0 row4\" >previous</th>\n",
       "                        <td id=\"T_4691172e_5a7a_11eb_9bfc_d2569fa1abe8row4_col0\" class=\"data row4 col0\" >0.024365</td>\n",
       "                        <td id=\"T_4691172e_5a7a_11eb_9bfc_d2569fa1abe8row4_col1\" class=\"data row4 col1\" >0.020640</td>\n",
       "                        <td id=\"T_4691172e_5a7a_11eb_9bfc_d2569fa1abe8row4_col2\" class=\"data row4 col2\" >-0.079141</td>\n",
       "                        <td id=\"T_4691172e_5a7a_11eb_9bfc_d2569fa1abe8row4_col3\" class=\"data row4 col3\" >-0.587514</td>\n",
       "                        <td id=\"T_4691172e_5a7a_11eb_9bfc_d2569fa1abe8row4_col4\" class=\"data row4 col4\" >1.000000</td>\n",
       "                        <td id=\"T_4691172e_5a7a_11eb_9bfc_d2569fa1abe8row4_col5\" class=\"data row4 col5\" >-0.420489</td>\n",
       "                        <td id=\"T_4691172e_5a7a_11eb_9bfc_d2569fa1abe8row4_col6\" class=\"data row4 col6\" >-0.203130</td>\n",
       "                        <td id=\"T_4691172e_5a7a_11eb_9bfc_d2569fa1abe8row4_col7\" class=\"data row4 col7\" >-0.050936</td>\n",
       "                        <td id=\"T_4691172e_5a7a_11eb_9bfc_d2569fa1abe8row4_col8\" class=\"data row4 col8\" >-0.454494</td>\n",
       "                        <td id=\"T_4691172e_5a7a_11eb_9bfc_d2569fa1abe8row4_col9\" class=\"data row4 col9\" >-0.501333</td>\n",
       "                        <td id=\"T_4691172e_5a7a_11eb_9bfc_d2569fa1abe8row4_col10\" class=\"data row4 col10\" >0.230181</td>\n",
       "            </tr>\n",
       "            <tr>\n",
       "                        <th id=\"T_4691172e_5a7a_11eb_9bfc_d2569fa1abe8level0_row5\" class=\"row_heading level0 row5\" >emp.var.rate</th>\n",
       "                        <td id=\"T_4691172e_5a7a_11eb_9bfc_d2569fa1abe8row5_col0\" class=\"data row5 col0\" >-0.000371</td>\n",
       "                        <td id=\"T_4691172e_5a7a_11eb_9bfc_d2569fa1abe8row5_col1\" class=\"data row5 col1\" >-0.027968</td>\n",
       "                        <td id=\"T_4691172e_5a7a_11eb_9bfc_d2569fa1abe8row5_col2\" class=\"data row5 col2\" >0.150754</td>\n",
       "                        <td id=\"T_4691172e_5a7a_11eb_9bfc_d2569fa1abe8row5_col3\" class=\"data row5 col3\" >0.271004</td>\n",
       "                        <td id=\"T_4691172e_5a7a_11eb_9bfc_d2569fa1abe8row5_col4\" class=\"data row5 col4\" >-0.420489</td>\n",
       "                        <td id=\"T_4691172e_5a7a_11eb_9bfc_d2569fa1abe8row5_col5\" class=\"data row5 col5\" >1.000000</td>\n",
       "                        <td id=\"T_4691172e_5a7a_11eb_9bfc_d2569fa1abe8row5_col6\" class=\"data row5 col6\" >0.775334</td>\n",
       "                        <td id=\"T_4691172e_5a7a_11eb_9bfc_d2569fa1abe8row5_col7\" class=\"data row5 col7\" >0.196041</td>\n",
       "                        <td id=\"T_4691172e_5a7a_11eb_9bfc_d2569fa1abe8row5_col8\" class=\"data row5 col8\" >0.972245</td>\n",
       "                        <td id=\"T_4691172e_5a7a_11eb_9bfc_d2569fa1abe8row5_col9\" class=\"data row5 col9\" >0.906970</td>\n",
       "                        <td id=\"T_4691172e_5a7a_11eb_9bfc_d2569fa1abe8row5_col10\" class=\"data row5 col10\" >-0.298334</td>\n",
       "            </tr>\n",
       "            <tr>\n",
       "                        <th id=\"T_4691172e_5a7a_11eb_9bfc_d2569fa1abe8level0_row6\" class=\"row_heading level0 row6\" >cons.price.idx</th>\n",
       "                        <td id=\"T_4691172e_5a7a_11eb_9bfc_d2569fa1abe8row6_col0\" class=\"data row6 col0\" >0.000857</td>\n",
       "                        <td id=\"T_4691172e_5a7a_11eb_9bfc_d2569fa1abe8row6_col1\" class=\"data row6 col1\" >0.005312</td>\n",
       "                        <td id=\"T_4691172e_5a7a_11eb_9bfc_d2569fa1abe8row6_col2\" class=\"data row6 col2\" >0.127836</td>\n",
       "                        <td id=\"T_4691172e_5a7a_11eb_9bfc_d2569fa1abe8row6_col3\" class=\"data row6 col3\" >0.078889</td>\n",
       "                        <td id=\"T_4691172e_5a7a_11eb_9bfc_d2569fa1abe8row6_col4\" class=\"data row6 col4\" >-0.203130</td>\n",
       "                        <td id=\"T_4691172e_5a7a_11eb_9bfc_d2569fa1abe8row6_col5\" class=\"data row6 col5\" >0.775334</td>\n",
       "                        <td id=\"T_4691172e_5a7a_11eb_9bfc_d2569fa1abe8row6_col6\" class=\"data row6 col6\" >1.000000</td>\n",
       "                        <td id=\"T_4691172e_5a7a_11eb_9bfc_d2569fa1abe8row6_col7\" class=\"data row6 col7\" >0.058986</td>\n",
       "                        <td id=\"T_4691172e_5a7a_11eb_9bfc_d2569fa1abe8row6_col8\" class=\"data row6 col8\" >0.688230</td>\n",
       "                        <td id=\"T_4691172e_5a7a_11eb_9bfc_d2569fa1abe8row6_col9\" class=\"data row6 col9\" >0.522034</td>\n",
       "                        <td id=\"T_4691172e_5a7a_11eb_9bfc_d2569fa1abe8row6_col10\" class=\"data row6 col10\" >-0.136211</td>\n",
       "            </tr>\n",
       "            <tr>\n",
       "                        <th id=\"T_4691172e_5a7a_11eb_9bfc_d2569fa1abe8level0_row7\" class=\"row_heading level0 row7\" >cons.conf.idx</th>\n",
       "                        <td id=\"T_4691172e_5a7a_11eb_9bfc_d2569fa1abe8row7_col0\" class=\"data row7 col0\" >0.129372</td>\n",
       "                        <td id=\"T_4691172e_5a7a_11eb_9bfc_d2569fa1abe8row7_col1\" class=\"data row7 col1\" >-0.008173</td>\n",
       "                        <td id=\"T_4691172e_5a7a_11eb_9bfc_d2569fa1abe8row7_col2\" class=\"data row7 col2\" >-0.013733</td>\n",
       "                        <td id=\"T_4691172e_5a7a_11eb_9bfc_d2569fa1abe8row7_col3\" class=\"data row7 col3\" >-0.091342</td>\n",
       "                        <td id=\"T_4691172e_5a7a_11eb_9bfc_d2569fa1abe8row7_col4\" class=\"data row7 col4\" >-0.050936</td>\n",
       "                        <td id=\"T_4691172e_5a7a_11eb_9bfc_d2569fa1abe8row7_col5\" class=\"data row7 col5\" >0.196041</td>\n",
       "                        <td id=\"T_4691172e_5a7a_11eb_9bfc_d2569fa1abe8row7_col6\" class=\"data row7 col6\" >0.058986</td>\n",
       "                        <td id=\"T_4691172e_5a7a_11eb_9bfc_d2569fa1abe8row7_col7\" class=\"data row7 col7\" >1.000000</td>\n",
       "                        <td id=\"T_4691172e_5a7a_11eb_9bfc_d2569fa1abe8row7_col8\" class=\"data row7 col8\" >0.277686</td>\n",
       "                        <td id=\"T_4691172e_5a7a_11eb_9bfc_d2569fa1abe8row7_col9\" class=\"data row7 col9\" >0.100513</td>\n",
       "                        <td id=\"T_4691172e_5a7a_11eb_9bfc_d2569fa1abe8row7_col10\" class=\"data row7 col10\" >0.054878</td>\n",
       "            </tr>\n",
       "            <tr>\n",
       "                        <th id=\"T_4691172e_5a7a_11eb_9bfc_d2569fa1abe8level0_row8\" class=\"row_heading level0 row8\" >euribor3m</th>\n",
       "                        <td id=\"T_4691172e_5a7a_11eb_9bfc_d2569fa1abe8row8_col0\" class=\"data row8 col0\" >0.010767</td>\n",
       "                        <td id=\"T_4691172e_5a7a_11eb_9bfc_d2569fa1abe8row8_col1\" class=\"data row8 col1\" >-0.032897</td>\n",
       "                        <td id=\"T_4691172e_5a7a_11eb_9bfc_d2569fa1abe8row8_col2\" class=\"data row8 col2\" >0.135133</td>\n",
       "                        <td id=\"T_4691172e_5a7a_11eb_9bfc_d2569fa1abe8row8_col3\" class=\"data row8 col3\" >0.296899</td>\n",
       "                        <td id=\"T_4691172e_5a7a_11eb_9bfc_d2569fa1abe8row8_col4\" class=\"data row8 col4\" >-0.454494</td>\n",
       "                        <td id=\"T_4691172e_5a7a_11eb_9bfc_d2569fa1abe8row8_col5\" class=\"data row8 col5\" >0.972245</td>\n",
       "                        <td id=\"T_4691172e_5a7a_11eb_9bfc_d2569fa1abe8row8_col6\" class=\"data row8 col6\" >0.688230</td>\n",
       "                        <td id=\"T_4691172e_5a7a_11eb_9bfc_d2569fa1abe8row8_col7\" class=\"data row8 col7\" >0.277686</td>\n",
       "                        <td id=\"T_4691172e_5a7a_11eb_9bfc_d2569fa1abe8row8_col8\" class=\"data row8 col8\" >1.000000</td>\n",
       "                        <td id=\"T_4691172e_5a7a_11eb_9bfc_d2569fa1abe8row8_col9\" class=\"data row8 col9\" >0.945154</td>\n",
       "                        <td id=\"T_4691172e_5a7a_11eb_9bfc_d2569fa1abe8row8_col10\" class=\"data row8 col10\" >-0.307771</td>\n",
       "            </tr>\n",
       "            <tr>\n",
       "                        <th id=\"T_4691172e_5a7a_11eb_9bfc_d2569fa1abe8level0_row9\" class=\"row_heading level0 row9\" >nr.employed</th>\n",
       "                        <td id=\"T_4691172e_5a7a_11eb_9bfc_d2569fa1abe8row9_col0\" class=\"data row9 col0\" >-0.017725</td>\n",
       "                        <td id=\"T_4691172e_5a7a_11eb_9bfc_d2569fa1abe8row9_col1\" class=\"data row9 col1\" >-0.044703</td>\n",
       "                        <td id=\"T_4691172e_5a7a_11eb_9bfc_d2569fa1abe8row9_col2\" class=\"data row9 col2\" >0.144095</td>\n",
       "                        <td id=\"T_4691172e_5a7a_11eb_9bfc_d2569fa1abe8row9_col3\" class=\"data row9 col3\" >0.372605</td>\n",
       "                        <td id=\"T_4691172e_5a7a_11eb_9bfc_d2569fa1abe8row9_col4\" class=\"data row9 col4\" >-0.501333</td>\n",
       "                        <td id=\"T_4691172e_5a7a_11eb_9bfc_d2569fa1abe8row9_col5\" class=\"data row9 col5\" >0.906970</td>\n",
       "                        <td id=\"T_4691172e_5a7a_11eb_9bfc_d2569fa1abe8row9_col6\" class=\"data row9 col6\" >0.522034</td>\n",
       "                        <td id=\"T_4691172e_5a7a_11eb_9bfc_d2569fa1abe8row9_col7\" class=\"data row9 col7\" >0.100513</td>\n",
       "                        <td id=\"T_4691172e_5a7a_11eb_9bfc_d2569fa1abe8row9_col8\" class=\"data row9 col8\" >0.945154</td>\n",
       "                        <td id=\"T_4691172e_5a7a_11eb_9bfc_d2569fa1abe8row9_col9\" class=\"data row9 col9\" >1.000000</td>\n",
       "                        <td id=\"T_4691172e_5a7a_11eb_9bfc_d2569fa1abe8row9_col10\" class=\"data row9 col10\" >-0.354678</td>\n",
       "            </tr>\n",
       "            <tr>\n",
       "                        <th id=\"T_4691172e_5a7a_11eb_9bfc_d2569fa1abe8level0_row10\" class=\"row_heading level0 row10\" >y</th>\n",
       "                        <td id=\"T_4691172e_5a7a_11eb_9bfc_d2569fa1abe8row10_col0\" class=\"data row10 col0\" >0.030399</td>\n",
       "                        <td id=\"T_4691172e_5a7a_11eb_9bfc_d2569fa1abe8row10_col1\" class=\"data row10 col1\" >0.405274</td>\n",
       "                        <td id=\"T_4691172e_5a7a_11eb_9bfc_d2569fa1abe8row10_col2\" class=\"data row10 col2\" >-0.066357</td>\n",
       "                        <td id=\"T_4691172e_5a7a_11eb_9bfc_d2569fa1abe8row10_col3\" class=\"data row10 col3\" >-0.324914</td>\n",
       "                        <td id=\"T_4691172e_5a7a_11eb_9bfc_d2569fa1abe8row10_col4\" class=\"data row10 col4\" >0.230181</td>\n",
       "                        <td id=\"T_4691172e_5a7a_11eb_9bfc_d2569fa1abe8row10_col5\" class=\"data row10 col5\" >-0.298334</td>\n",
       "                        <td id=\"T_4691172e_5a7a_11eb_9bfc_d2569fa1abe8row10_col6\" class=\"data row10 col6\" >-0.136211</td>\n",
       "                        <td id=\"T_4691172e_5a7a_11eb_9bfc_d2569fa1abe8row10_col7\" class=\"data row10 col7\" >0.054878</td>\n",
       "                        <td id=\"T_4691172e_5a7a_11eb_9bfc_d2569fa1abe8row10_col8\" class=\"data row10 col8\" >-0.307771</td>\n",
       "                        <td id=\"T_4691172e_5a7a_11eb_9bfc_d2569fa1abe8row10_col9\" class=\"data row10 col9\" >-0.354678</td>\n",
       "                        <td id=\"T_4691172e_5a7a_11eb_9bfc_d2569fa1abe8row10_col10\" class=\"data row10 col10\" >1.000000</td>\n",
       "            </tr>\n",
       "    </tbody></table>"
      ],
      "text/plain": [
       "<pandas.io.formats.style.Styler at 0x1a2ba5ca100>"
      ]
     },
     "execution_count": 236,
     "metadata": {},
     "output_type": "execute_result"
    }
   ],
   "source": [
    "# Build correlation matrix\n",
    "bank_corr = bank.corr()\n",
    "bank_corr.style.background_gradient(cmap='PuBu')"
   ]
  },
  {
   "cell_type": "code",
   "execution_count": 237,
   "metadata": {},
   "outputs": [
    {
     "data": {
      "image/png": "[encoded data removed]",
      "text/plain": [
       "<Figure size 1080x1080 with 2 Axes>"
      ]
     },
     "metadata": {
      "needs_background": "light"
     },
     "output_type": "display_data"
    }
   ],
   "source": [
    "# Build correlation matrix using heatmap\n",
    "import seaborn as sns\n",
    "\n",
    "bank_corr = bank.corr()\n",
    "f, ax = plt.subplots(figsize=(15, 15))\n",
    "mask = np.triu(np.ones_like(bank_corr, dtype=bool)) # removing the other side of the heatmap\n",
    "cmap = sns.diverging_palette(230, 20, as_cmap=True) #preparing cmap\n",
    "sns.heatmap(bank_corr,mask=mask,cmap=cmap,linewidths=.5,square=True,annot=True)\n",
    "plt.show()"
   ]
  },
  {
   "cell_type": "code",
   "execution_count": 238,
   "metadata": {},
   "outputs": [],
   "source": [
    "# euribor3m: euribor 3 month rate - daily indicator\n",
    "# nr.employed: number of employees - quarterly indicator"
   ]
  },
  {
   "cell_type": "markdown",
   "metadata": {},
   "source": [
    "From correlation matrix we observe next:\n",
    "\n",
    "The most correlated with target feature is call duration. Also, we have higly correlated features of uribor3m, nr.employed, and \temp.var.rate. These columns does the same thing in correlation and we have to remove one or two of them to prevent a bias prediction"
   ]
  },
  {
   "cell_type": "markdown",
   "metadata": {},
   "source": [
    "## Remove Column Collinearity\n",
    "\n"
   ]
  },
  {
   "cell_type": "code",
   "execution_count": 239,
   "metadata": {},
   "outputs": [],
   "source": [
    "# euribor3m - this column means euribor 3 month rate - daily indicator\n",
    "# nr.employed - number of employees - quarterly indicator Output variable (desired target):\n",
    "\n",
    "bank_df_after_drop = bank.drop(['euribor3m', 'emp.var.rate'], axis=1)"
   ]
  },
  {
   "cell_type": "code",
   "execution_count": 240,
   "metadata": {},
   "outputs": [
    {
     "data": {
      "text/html": [
       "<div>\n",
       "<style scoped>\n",
       "    .dataframe tbody tr th:only-of-type {\n",
       "        vertical-align: middle;\n",
       "    }\n",
       "\n",
       "    .dataframe tbody tr th {\n",
       "        vertical-align: top;\n",
       "    }\n",
       "\n",
       "    .dataframe thead th {\n",
       "        text-align: right;\n",
       "    }\n",
       "</style>\n",
       "<table border=\"1\" class=\"dataframe\">\n",
       "  <thead>\n",
       "    <tr style=\"text-align: right;\">\n",
       "      <th></th>\n",
       "      <th>age</th>\n",
       "      <th>job</th>\n",
       "      <th>marital</th>\n",
       "      <th>education</th>\n",
       "      <th>default</th>\n",
       "      <th>housing</th>\n",
       "      <th>loan</th>\n",
       "      <th>contact</th>\n",
       "      <th>month</th>\n",
       "      <th>day_of_week</th>\n",
       "      <th>duration</th>\n",
       "      <th>campaign</th>\n",
       "      <th>pdays</th>\n",
       "      <th>previous</th>\n",
       "      <th>poutcome</th>\n",
       "      <th>cons.price.idx</th>\n",
       "      <th>cons.conf.idx</th>\n",
       "      <th>nr.employed</th>\n",
       "      <th>y</th>\n",
       "    </tr>\n",
       "  </thead>\n",
       "  <tbody>\n",
       "    <tr>\n",
       "      <th>0</th>\n",
       "      <td>56</td>\n",
       "      <td>housemaid</td>\n",
       "      <td>married</td>\n",
       "      <td>basic.4y</td>\n",
       "      <td>no</td>\n",
       "      <td>no</td>\n",
       "      <td>no</td>\n",
       "      <td>telephone</td>\n",
       "      <td>may</td>\n",
       "      <td>mon</td>\n",
       "      <td>261</td>\n",
       "      <td>1</td>\n",
       "      <td>999</td>\n",
       "      <td>0</td>\n",
       "      <td>nonexistent</td>\n",
       "      <td>93.994</td>\n",
       "      <td>-36.4</td>\n",
       "      <td>5191.0</td>\n",
       "      <td>0</td>\n",
       "    </tr>\n",
       "    <tr>\n",
       "      <th>1</th>\n",
       "      <td>57</td>\n",
       "      <td>services</td>\n",
       "      <td>married</td>\n",
       "      <td>high.school</td>\n",
       "      <td>unknown</td>\n",
       "      <td>no</td>\n",
       "      <td>no</td>\n",
       "      <td>telephone</td>\n",
       "      <td>may</td>\n",
       "      <td>mon</td>\n",
       "      <td>149</td>\n",
       "      <td>1</td>\n",
       "      <td>999</td>\n",
       "      <td>0</td>\n",
       "      <td>nonexistent</td>\n",
       "      <td>93.994</td>\n",
       "      <td>-36.4</td>\n",
       "      <td>5191.0</td>\n",
       "      <td>0</td>\n",
       "    </tr>\n",
       "    <tr>\n",
       "      <th>2</th>\n",
       "      <td>37</td>\n",
       "      <td>services</td>\n",
       "      <td>married</td>\n",
       "      <td>high.school</td>\n",
       "      <td>no</td>\n",
       "      <td>yes</td>\n",
       "      <td>no</td>\n",
       "      <td>telephone</td>\n",
       "      <td>may</td>\n",
       "      <td>mon</td>\n",
       "      <td>226</td>\n",
       "      <td>1</td>\n",
       "      <td>999</td>\n",
       "      <td>0</td>\n",
       "      <td>nonexistent</td>\n",
       "      <td>93.994</td>\n",
       "      <td>-36.4</td>\n",
       "      <td>5191.0</td>\n",
       "      <td>0</td>\n",
       "    </tr>\n",
       "    <tr>\n",
       "      <th>3</th>\n",
       "      <td>40</td>\n",
       "      <td>admin.</td>\n",
       "      <td>married</td>\n",
       "      <td>basic.6y</td>\n",
       "      <td>no</td>\n",
       "      <td>no</td>\n",
       "      <td>no</td>\n",
       "      <td>telephone</td>\n",
       "      <td>may</td>\n",
       "      <td>mon</td>\n",
       "      <td>151</td>\n",
       "      <td>1</td>\n",
       "      <td>999</td>\n",
       "      <td>0</td>\n",
       "      <td>nonexistent</td>\n",
       "      <td>93.994</td>\n",
       "      <td>-36.4</td>\n",
       "      <td>5191.0</td>\n",
       "      <td>0</td>\n",
       "    </tr>\n",
       "    <tr>\n",
       "      <th>4</th>\n",
       "      <td>56</td>\n",
       "      <td>services</td>\n",
       "      <td>married</td>\n",
       "      <td>high.school</td>\n",
       "      <td>no</td>\n",
       "      <td>no</td>\n",
       "      <td>yes</td>\n",
       "      <td>telephone</td>\n",
       "      <td>may</td>\n",
       "      <td>mon</td>\n",
       "      <td>307</td>\n",
       "      <td>1</td>\n",
       "      <td>999</td>\n",
       "      <td>0</td>\n",
       "      <td>nonexistent</td>\n",
       "      <td>93.994</td>\n",
       "      <td>-36.4</td>\n",
       "      <td>5191.0</td>\n",
       "      <td>0</td>\n",
       "    </tr>\n",
       "  </tbody>\n",
       "</table>\n",
       "</div>"
      ],
      "text/plain": [
       "   age        job  marital    education  default housing loan    contact  \\\n",
       "0   56  housemaid  married     basic.4y       no      no   no  telephone   \n",
       "1   57   services  married  high.school  unknown      no   no  telephone   \n",
       "2   37   services  married  high.school       no     yes   no  telephone   \n",
       "3   40     admin.  married     basic.6y       no      no   no  telephone   \n",
       "4   56   services  married  high.school       no      no  yes  telephone   \n",
       "\n",
       "  month day_of_week  duration  campaign  pdays  previous     poutcome  \\\n",
       "0   may         mon       261         1    999         0  nonexistent   \n",
       "1   may         mon       149         1    999         0  nonexistent   \n",
       "2   may         mon       226         1    999         0  nonexistent   \n",
       "3   may         mon       151         1    999         0  nonexistent   \n",
       "4   may         mon       307         1    999         0  nonexistent   \n",
       "\n",
       "   cons.price.idx  cons.conf.idx  nr.employed  y  \n",
       "0          93.994          -36.4       5191.0  0  \n",
       "1          93.994          -36.4       5191.0  0  \n",
       "2          93.994          -36.4       5191.0  0  \n",
       "3          93.994          -36.4       5191.0  0  \n",
       "4          93.994          -36.4       5191.0  0  "
      ]
     },
     "execution_count": 240,
     "metadata": {},
     "output_type": "execute_result"
    }
   ],
   "source": [
    "bank_df_after_drop.head()"
   ]
  },
  {
   "cell_type": "markdown",
   "metadata": {},
   "source": [
    "#### Print heatmap again after removing 'euribor3m' and 'emp.var.rate' from the dataset"
   ]
  },
  {
   "cell_type": "code",
   "execution_count": 241,
   "metadata": {},
   "outputs": [
    {
     "data": {
      "image/png": "[encoded data removed]",
      "text/plain": [
       "<Figure size 1080x1080 with 2 Axes>"
      ]
     },
     "metadata": {
      "needs_background": "light"
     },
     "output_type": "display_data"
    }
   ],
   "source": [
    "# Print heatmap again\n",
    "\n",
    "heatmap_corellation = bank_df_after_drop.corr()\n",
    "f, ax = plt.subplots(figsize=(15, 15))\n",
    "mask = np.triu(np.ones_like(heatmap_corellation, dtype=bool)) # removing the other side of the heatmap\n",
    "cmap = sns.diverging_palette(230, 20, as_cmap=True) #preparing cmap\n",
    "sns.heatmap(heatmap_corellation,mask=mask,cmap=cmap,linewidths=.5,square=True,annot=True)\n",
    "plt.show()"
   ]
  },
  {
   "cell_type": "markdown",
   "metadata": {},
   "source": [
    "### Preprocessing the numerical variables"
   ]
  },
  {
   "cell_type": "code",
   "execution_count": 242,
   "metadata": {},
   "outputs": [
    {
     "data": {
      "text/html": [
       "<div>\n",
       "<style scoped>\n",
       "    .dataframe tbody tr th:only-of-type {\n",
       "        vertical-align: middle;\n",
       "    }\n",
       "\n",
       "    .dataframe tbody tr th {\n",
       "        vertical-align: top;\n",
       "    }\n",
       "\n",
       "    .dataframe thead th {\n",
       "        text-align: right;\n",
       "    }\n",
       "</style>\n",
       "<table border=\"1\" class=\"dataframe\">\n",
       "  <thead>\n",
       "    <tr style=\"text-align: right;\">\n",
       "      <th></th>\n",
       "      <th>age</th>\n",
       "      <th>duration</th>\n",
       "      <th>campaign</th>\n",
       "      <th>pdays</th>\n",
       "      <th>previous</th>\n",
       "      <th>cons.price.idx</th>\n",
       "      <th>cons.conf.idx</th>\n",
       "      <th>nr.employed</th>\n",
       "      <th>y</th>\n",
       "    </tr>\n",
       "  </thead>\n",
       "  <tbody>\n",
       "    <tr>\n",
       "      <th>count</th>\n",
       "      <td>41188.00000</td>\n",
       "      <td>41188.000000</td>\n",
       "      <td>41188.000000</td>\n",
       "      <td>41188.000000</td>\n",
       "      <td>41188.000000</td>\n",
       "      <td>41188.000000</td>\n",
       "      <td>41188.000000</td>\n",
       "      <td>41188.000000</td>\n",
       "      <td>41188.000000</td>\n",
       "    </tr>\n",
       "    <tr>\n",
       "      <th>mean</th>\n",
       "      <td>40.02406</td>\n",
       "      <td>258.285010</td>\n",
       "      <td>2.567593</td>\n",
       "      <td>962.475454</td>\n",
       "      <td>0.172963</td>\n",
       "      <td>93.575664</td>\n",
       "      <td>-40.502600</td>\n",
       "      <td>5167.035911</td>\n",
       "      <td>0.112654</td>\n",
       "    </tr>\n",
       "    <tr>\n",
       "      <th>std</th>\n",
       "      <td>10.42125</td>\n",
       "      <td>259.279249</td>\n",
       "      <td>2.770014</td>\n",
       "      <td>186.910907</td>\n",
       "      <td>0.494901</td>\n",
       "      <td>0.578840</td>\n",
       "      <td>4.628198</td>\n",
       "      <td>72.251528</td>\n",
       "      <td>0.316173</td>\n",
       "    </tr>\n",
       "    <tr>\n",
       "      <th>min</th>\n",
       "      <td>17.00000</td>\n",
       "      <td>0.000000</td>\n",
       "      <td>1.000000</td>\n",
       "      <td>0.000000</td>\n",
       "      <td>0.000000</td>\n",
       "      <td>92.201000</td>\n",
       "      <td>-50.800000</td>\n",
       "      <td>4963.600000</td>\n",
       "      <td>0.000000</td>\n",
       "    </tr>\n",
       "    <tr>\n",
       "      <th>25%</th>\n",
       "      <td>32.00000</td>\n",
       "      <td>102.000000</td>\n",
       "      <td>1.000000</td>\n",
       "      <td>999.000000</td>\n",
       "      <td>0.000000</td>\n",
       "      <td>93.075000</td>\n",
       "      <td>-42.700000</td>\n",
       "      <td>5099.100000</td>\n",
       "      <td>0.000000</td>\n",
       "    </tr>\n",
       "    <tr>\n",
       "      <th>50%</th>\n",
       "      <td>38.00000</td>\n",
       "      <td>180.000000</td>\n",
       "      <td>2.000000</td>\n",
       "      <td>999.000000</td>\n",
       "      <td>0.000000</td>\n",
       "      <td>93.749000</td>\n",
       "      <td>-41.800000</td>\n",
       "      <td>5191.000000</td>\n",
       "      <td>0.000000</td>\n",
       "    </tr>\n",
       "    <tr>\n",
       "      <th>75%</th>\n",
       "      <td>47.00000</td>\n",
       "      <td>319.000000</td>\n",
       "      <td>3.000000</td>\n",
       "      <td>999.000000</td>\n",
       "      <td>0.000000</td>\n",
       "      <td>93.994000</td>\n",
       "      <td>-36.400000</td>\n",
       "      <td>5228.100000</td>\n",
       "      <td>0.000000</td>\n",
       "    </tr>\n",
       "    <tr>\n",
       "      <th>max</th>\n",
       "      <td>98.00000</td>\n",
       "      <td>4918.000000</td>\n",
       "      <td>56.000000</td>\n",
       "      <td>999.000000</td>\n",
       "      <td>7.000000</td>\n",
       "      <td>94.767000</td>\n",
       "      <td>-26.900000</td>\n",
       "      <td>5228.100000</td>\n",
       "      <td>1.000000</td>\n",
       "    </tr>\n",
       "  </tbody>\n",
       "</table>\n",
       "</div>"
      ],
      "text/plain": [
       "               age      duration      campaign         pdays      previous  \\\n",
       "count  41188.00000  41188.000000  41188.000000  41188.000000  41188.000000   \n",
       "mean      40.02406    258.285010      2.567593    962.475454      0.172963   \n",
       "std       10.42125    259.279249      2.770014    186.910907      0.494901   \n",
       "min       17.00000      0.000000      1.000000      0.000000      0.000000   \n",
       "25%       32.00000    102.000000      1.000000    999.000000      0.000000   \n",
       "50%       38.00000    180.000000      2.000000    999.000000      0.000000   \n",
       "75%       47.00000    319.000000      3.000000    999.000000      0.000000   \n",
       "max       98.00000   4918.000000     56.000000    999.000000      7.000000   \n",
       "\n",
       "       cons.price.idx  cons.conf.idx   nr.employed             y  \n",
       "count    41188.000000   41188.000000  41188.000000  41188.000000  \n",
       "mean        93.575664     -40.502600   5167.035911      0.112654  \n",
       "std          0.578840       4.628198     72.251528      0.316173  \n",
       "min         92.201000     -50.800000   4963.600000      0.000000  \n",
       "25%         93.075000     -42.700000   5099.100000      0.000000  \n",
       "50%         93.749000     -41.800000   5191.000000      0.000000  \n",
       "75%         93.994000     -36.400000   5228.100000      0.000000  \n",
       "max         94.767000     -26.900000   5228.100000      1.000000  "
      ]
     },
     "execution_count": 242,
     "metadata": {},
     "output_type": "execute_result"
    }
   ],
   "source": [
    "bank_df_after_drop.describe()"
   ]
  },
  {
   "cell_type": "code",
   "execution_count": 243,
   "metadata": {},
   "outputs": [],
   "source": [
    "# From my data description, the mean and max has large numbers far apart,\n",
    "# Variables that are measured at different scales do not contribute equally to the \n",
    "# model fitting & model learned function and might end up creating a bias. For better performance, we need to normalise the data"
   ]
  },
  {
   "cell_type": "code",
   "execution_count": 244,
   "metadata": {},
   "outputs": [
    {
     "data": {
      "text/html": [
       "<div>\n",
       "<style scoped>\n",
       "    .dataframe tbody tr th:only-of-type {\n",
       "        vertical-align: middle;\n",
       "    }\n",
       "\n",
       "    .dataframe tbody tr th {\n",
       "        vertical-align: top;\n",
       "    }\n",
       "\n",
       "    .dataframe thead th {\n",
       "        text-align: right;\n",
       "    }\n",
       "</style>\n",
       "<table border=\"1\" class=\"dataframe\">\n",
       "  <thead>\n",
       "    <tr style=\"text-align: right;\">\n",
       "      <th></th>\n",
       "      <th>age</th>\n",
       "      <th>job</th>\n",
       "      <th>marital</th>\n",
       "      <th>education</th>\n",
       "      <th>default</th>\n",
       "      <th>housing</th>\n",
       "      <th>loan</th>\n",
       "      <th>contact</th>\n",
       "      <th>month</th>\n",
       "      <th>day_of_week</th>\n",
       "      <th>duration</th>\n",
       "      <th>campaign</th>\n",
       "      <th>pdays</th>\n",
       "      <th>previous</th>\n",
       "      <th>poutcome</th>\n",
       "      <th>cons.price.idx</th>\n",
       "      <th>cons.conf.idx</th>\n",
       "      <th>nr.employed</th>\n",
       "      <th>y</th>\n",
       "    </tr>\n",
       "  </thead>\n",
       "  <tbody>\n",
       "    <tr>\n",
       "      <th>0</th>\n",
       "      <td>56</td>\n",
       "      <td>housemaid</td>\n",
       "      <td>married</td>\n",
       "      <td>basic.4y</td>\n",
       "      <td>no</td>\n",
       "      <td>no</td>\n",
       "      <td>no</td>\n",
       "      <td>telephone</td>\n",
       "      <td>may</td>\n",
       "      <td>mon</td>\n",
       "      <td>261</td>\n",
       "      <td>1</td>\n",
       "      <td>999</td>\n",
       "      <td>0</td>\n",
       "      <td>nonexistent</td>\n",
       "      <td>93.994</td>\n",
       "      <td>-36.4</td>\n",
       "      <td>5191.0</td>\n",
       "      <td>0</td>\n",
       "    </tr>\n",
       "    <tr>\n",
       "      <th>1</th>\n",
       "      <td>57</td>\n",
       "      <td>services</td>\n",
       "      <td>married</td>\n",
       "      <td>high.school</td>\n",
       "      <td>unknown</td>\n",
       "      <td>no</td>\n",
       "      <td>no</td>\n",
       "      <td>telephone</td>\n",
       "      <td>may</td>\n",
       "      <td>mon</td>\n",
       "      <td>149</td>\n",
       "      <td>1</td>\n",
       "      <td>999</td>\n",
       "      <td>0</td>\n",
       "      <td>nonexistent</td>\n",
       "      <td>93.994</td>\n",
       "      <td>-36.4</td>\n",
       "      <td>5191.0</td>\n",
       "      <td>0</td>\n",
       "    </tr>\n",
       "    <tr>\n",
       "      <th>2</th>\n",
       "      <td>37</td>\n",
       "      <td>services</td>\n",
       "      <td>married</td>\n",
       "      <td>high.school</td>\n",
       "      <td>no</td>\n",
       "      <td>yes</td>\n",
       "      <td>no</td>\n",
       "      <td>telephone</td>\n",
       "      <td>may</td>\n",
       "      <td>mon</td>\n",
       "      <td>226</td>\n",
       "      <td>1</td>\n",
       "      <td>999</td>\n",
       "      <td>0</td>\n",
       "      <td>nonexistent</td>\n",
       "      <td>93.994</td>\n",
       "      <td>-36.4</td>\n",
       "      <td>5191.0</td>\n",
       "      <td>0</td>\n",
       "    </tr>\n",
       "    <tr>\n",
       "      <th>3</th>\n",
       "      <td>40</td>\n",
       "      <td>admin.</td>\n",
       "      <td>married</td>\n",
       "      <td>basic.6y</td>\n",
       "      <td>no</td>\n",
       "      <td>no</td>\n",
       "      <td>no</td>\n",
       "      <td>telephone</td>\n",
       "      <td>may</td>\n",
       "      <td>mon</td>\n",
       "      <td>151</td>\n",
       "      <td>1</td>\n",
       "      <td>999</td>\n",
       "      <td>0</td>\n",
       "      <td>nonexistent</td>\n",
       "      <td>93.994</td>\n",
       "      <td>-36.4</td>\n",
       "      <td>5191.0</td>\n",
       "      <td>0</td>\n",
       "    </tr>\n",
       "    <tr>\n",
       "      <th>4</th>\n",
       "      <td>56</td>\n",
       "      <td>services</td>\n",
       "      <td>married</td>\n",
       "      <td>high.school</td>\n",
       "      <td>no</td>\n",
       "      <td>no</td>\n",
       "      <td>yes</td>\n",
       "      <td>telephone</td>\n",
       "      <td>may</td>\n",
       "      <td>mon</td>\n",
       "      <td>307</td>\n",
       "      <td>1</td>\n",
       "      <td>999</td>\n",
       "      <td>0</td>\n",
       "      <td>nonexistent</td>\n",
       "      <td>93.994</td>\n",
       "      <td>-36.4</td>\n",
       "      <td>5191.0</td>\n",
       "      <td>0</td>\n",
       "    </tr>\n",
       "  </tbody>\n",
       "</table>\n",
       "</div>"
      ],
      "text/plain": [
       "   age        job  marital    education  default housing loan    contact  \\\n",
       "0   56  housemaid  married     basic.4y       no      no   no  telephone   \n",
       "1   57   services  married  high.school  unknown      no   no  telephone   \n",
       "2   37   services  married  high.school       no     yes   no  telephone   \n",
       "3   40     admin.  married     basic.6y       no      no   no  telephone   \n",
       "4   56   services  married  high.school       no      no  yes  telephone   \n",
       "\n",
       "  month day_of_week  duration  campaign  pdays  previous     poutcome  \\\n",
       "0   may         mon       261         1    999         0  nonexistent   \n",
       "1   may         mon       149         1    999         0  nonexistent   \n",
       "2   may         mon       226         1    999         0  nonexistent   \n",
       "3   may         mon       151         1    999         0  nonexistent   \n",
       "4   may         mon       307         1    999         0  nonexistent   \n",
       "\n",
       "   cons.price.idx  cons.conf.idx  nr.employed  y  \n",
       "0          93.994          -36.4       5191.0  0  \n",
       "1          93.994          -36.4       5191.0  0  \n",
       "2          93.994          -36.4       5191.0  0  \n",
       "3          93.994          -36.4       5191.0  0  \n",
       "4          93.994          -36.4       5191.0  0  "
      ]
     },
     "execution_count": 244,
     "metadata": {},
     "output_type": "execute_result"
    }
   ],
   "source": [
    "bank_df_after_drop.head()"
   ]
  },
  {
   "cell_type": "code",
   "execution_count": 245,
   "metadata": {},
   "outputs": [
    {
     "name": "stdout",
     "output_type": "stream",
     "text": [
      "   age  duration  campaign  pdays  previous  cons.price.idx  cons.conf.idx  \\\n",
      "0   56       261         1    999         0          93.994          -36.4   \n",
      "1   57       149         1    999         0          93.994          -36.4   \n",
      "2   37       226         1    999         0          93.994          -36.4   \n",
      "3   40       151         1    999         0          93.994          -36.4   \n",
      "4   56       307         1    999         0          93.994          -36.4   \n",
      "\n",
      "   nr.employed  \n",
      "0       5191.0  \n",
      "1       5191.0  \n",
      "2       5191.0  \n",
      "3       5191.0  \n",
      "4       5191.0  \n",
      "        age  duration  campaign     pdays  previous  cons.price.idx  \\\n",
      "0  1.533034  0.010471 -0.565922  0.195414 -0.349494        0.722722   \n",
      "1  1.628993 -0.421501 -0.565922  0.195414 -0.349494        0.722722   \n",
      "2 -0.290186 -0.124520 -0.565922  0.195414 -0.349494        0.722722   \n",
      "3 -0.002309 -0.413787 -0.565922  0.195414 -0.349494        0.722722   \n",
      "4  1.533034  0.187888 -0.565922  0.195414 -0.349494        0.722722   \n",
      "\n",
      "   cons.conf.idx  nr.employed  \n",
      "0       0.886447      0.33168  \n",
      "1       0.886447      0.33168  \n",
      "2       0.886447      0.33168  \n",
      "3       0.886447      0.33168  \n",
      "4       0.886447      0.33168  \n"
     ]
    }
   ],
   "source": [
    "from sklearn.preprocessing import StandardScaler\n",
    "\n",
    "data_num = bank_df_after_drop.select_dtypes(include = np.number).drop(columns = 'y')\n",
    "print(data_num.head())\n",
    "\n",
    "# Standardizing data\n",
    "transformer = StandardScaler().fit(data_num)\n",
    "data_num_standardized = transformer.transform(data_num)\n",
    "x = pd.DataFrame(data_num_standardized, columns = data_num.columns)\n",
    "\n",
    "print(x.head())"
   ]
  },
  {
   "cell_type": "code",
   "execution_count": 246,
   "metadata": {},
   "outputs": [
    {
     "data": {
      "text/plain": [
       "<seaborn.axisgrid.FacetGrid at 0x1a2bf189b80>"
      ]
     },
     "execution_count": 246,
     "metadata": {},
     "output_type": "execute_result"
    },
    {
     "data": {
      "image/png": "[encoded data removed]",
      "text/plain": [
       "<Figure size 360x360 with 1 Axes>"
      ]
     },
     "metadata": {
      "needs_background": "light"
     },
     "output_type": "display_data"
    }
   ],
   "source": [
    "# Before Standardizing my data\n",
    "\n",
    "sns.displot(bank['nr.employed'])"
   ]
  },
  {
   "cell_type": "code",
   "execution_count": 247,
   "metadata": {},
   "outputs": [
    {
     "data": {
      "text/plain": [
       "<seaborn.axisgrid.FacetGrid at 0x1a2bc3cc070>"
      ]
     },
     "execution_count": 247,
     "metadata": {},
     "output_type": "execute_result"
    },
    {
     "data": {
      "image/png": "[encoded data removed]",
      "text/plain": [
       "<Figure size 360x360 with 1 Axes>"
      ]
     },
     "metadata": {
      "needs_background": "light"
     },
     "output_type": "display_data"
    }
   ],
   "source": [
    "# After Standardizing my data\n",
    "\n",
    "sns.displot(x['nr.employed'])"
   ]
  },
  {
   "cell_type": "markdown",
   "metadata": {},
   "source": [
    "### Getting dummies for the categorical variables"
   ]
  },
  {
   "cell_type": "code",
   "execution_count": 248,
   "metadata": {},
   "outputs": [
    {
     "data": {
      "text/html": [
       "<div>\n",
       "<style scoped>\n",
       "    .dataframe tbody tr th:only-of-type {\n",
       "        vertical-align: middle;\n",
       "    }\n",
       "\n",
       "    .dataframe tbody tr th {\n",
       "        vertical-align: top;\n",
       "    }\n",
       "\n",
       "    .dataframe thead th {\n",
       "        text-align: right;\n",
       "    }\n",
       "</style>\n",
       "<table border=\"1\" class=\"dataframe\">\n",
       "  <thead>\n",
       "    <tr style=\"text-align: right;\">\n",
       "      <th></th>\n",
       "      <th>x0_admin.</th>\n",
       "      <th>x0_blue-collar</th>\n",
       "      <th>x0_entrepreneur</th>\n",
       "      <th>x0_housemaid</th>\n",
       "      <th>x0_management</th>\n",
       "      <th>x0_retired</th>\n",
       "      <th>x0_self-employed</th>\n",
       "      <th>x0_services</th>\n",
       "      <th>x0_student</th>\n",
       "      <th>x0_technician</th>\n",
       "      <th>...</th>\n",
       "      <th>x7_oct</th>\n",
       "      <th>x7_sep</th>\n",
       "      <th>x8_fri</th>\n",
       "      <th>x8_mon</th>\n",
       "      <th>x8_thu</th>\n",
       "      <th>x8_tue</th>\n",
       "      <th>x8_wed</th>\n",
       "      <th>x9_failure</th>\n",
       "      <th>x9_nonexistent</th>\n",
       "      <th>x9_success</th>\n",
       "    </tr>\n",
       "  </thead>\n",
       "  <tbody>\n",
       "    <tr>\n",
       "      <th>0</th>\n",
       "      <td>0.0</td>\n",
       "      <td>0.0</td>\n",
       "      <td>0.0</td>\n",
       "      <td>1.0</td>\n",
       "      <td>0.0</td>\n",
       "      <td>0.0</td>\n",
       "      <td>0.0</td>\n",
       "      <td>0.0</td>\n",
       "      <td>0.0</td>\n",
       "      <td>0.0</td>\n",
       "      <td>...</td>\n",
       "      <td>0.0</td>\n",
       "      <td>0.0</td>\n",
       "      <td>0.0</td>\n",
       "      <td>1.0</td>\n",
       "      <td>0.0</td>\n",
       "      <td>0.0</td>\n",
       "      <td>0.0</td>\n",
       "      <td>0.0</td>\n",
       "      <td>1.0</td>\n",
       "      <td>0.0</td>\n",
       "    </tr>\n",
       "    <tr>\n",
       "      <th>1</th>\n",
       "      <td>0.0</td>\n",
       "      <td>0.0</td>\n",
       "      <td>0.0</td>\n",
       "      <td>0.0</td>\n",
       "      <td>0.0</td>\n",
       "      <td>0.0</td>\n",
       "      <td>0.0</td>\n",
       "      <td>1.0</td>\n",
       "      <td>0.0</td>\n",
       "      <td>0.0</td>\n",
       "      <td>...</td>\n",
       "      <td>0.0</td>\n",
       "      <td>0.0</td>\n",
       "      <td>0.0</td>\n",
       "      <td>1.0</td>\n",
       "      <td>0.0</td>\n",
       "      <td>0.0</td>\n",
       "      <td>0.0</td>\n",
       "      <td>0.0</td>\n",
       "      <td>1.0</td>\n",
       "      <td>0.0</td>\n",
       "    </tr>\n",
       "    <tr>\n",
       "      <th>2</th>\n",
       "      <td>0.0</td>\n",
       "      <td>0.0</td>\n",
       "      <td>0.0</td>\n",
       "      <td>0.0</td>\n",
       "      <td>0.0</td>\n",
       "      <td>0.0</td>\n",
       "      <td>0.0</td>\n",
       "      <td>1.0</td>\n",
       "      <td>0.0</td>\n",
       "      <td>0.0</td>\n",
       "      <td>...</td>\n",
       "      <td>0.0</td>\n",
       "      <td>0.0</td>\n",
       "      <td>0.0</td>\n",
       "      <td>1.0</td>\n",
       "      <td>0.0</td>\n",
       "      <td>0.0</td>\n",
       "      <td>0.0</td>\n",
       "      <td>0.0</td>\n",
       "      <td>1.0</td>\n",
       "      <td>0.0</td>\n",
       "    </tr>\n",
       "    <tr>\n",
       "      <th>3</th>\n",
       "      <td>1.0</td>\n",
       "      <td>0.0</td>\n",
       "      <td>0.0</td>\n",
       "      <td>0.0</td>\n",
       "      <td>0.0</td>\n",
       "      <td>0.0</td>\n",
       "      <td>0.0</td>\n",
       "      <td>0.0</td>\n",
       "      <td>0.0</td>\n",
       "      <td>0.0</td>\n",
       "      <td>...</td>\n",
       "      <td>0.0</td>\n",
       "      <td>0.0</td>\n",
       "      <td>0.0</td>\n",
       "      <td>1.0</td>\n",
       "      <td>0.0</td>\n",
       "      <td>0.0</td>\n",
       "      <td>0.0</td>\n",
       "      <td>0.0</td>\n",
       "      <td>1.0</td>\n",
       "      <td>0.0</td>\n",
       "    </tr>\n",
       "    <tr>\n",
       "      <th>4</th>\n",
       "      <td>0.0</td>\n",
       "      <td>0.0</td>\n",
       "      <td>0.0</td>\n",
       "      <td>0.0</td>\n",
       "      <td>0.0</td>\n",
       "      <td>0.0</td>\n",
       "      <td>0.0</td>\n",
       "      <td>1.0</td>\n",
       "      <td>0.0</td>\n",
       "      <td>0.0</td>\n",
       "      <td>...</td>\n",
       "      <td>0.0</td>\n",
       "      <td>0.0</td>\n",
       "      <td>0.0</td>\n",
       "      <td>1.0</td>\n",
       "      <td>0.0</td>\n",
       "      <td>0.0</td>\n",
       "      <td>0.0</td>\n",
       "      <td>0.0</td>\n",
       "      <td>1.0</td>\n",
       "      <td>0.0</td>\n",
       "    </tr>\n",
       "  </tbody>\n",
       "</table>\n",
       "<p>5 rows × 53 columns</p>\n",
       "</div>"
      ],
      "text/plain": [
       "   x0_admin.  x0_blue-collar  x0_entrepreneur  x0_housemaid  x0_management  \\\n",
       "0        0.0             0.0              0.0           1.0            0.0   \n",
       "1        0.0             0.0              0.0           0.0            0.0   \n",
       "2        0.0             0.0              0.0           0.0            0.0   \n",
       "3        1.0             0.0              0.0           0.0            0.0   \n",
       "4        0.0             0.0              0.0           0.0            0.0   \n",
       "\n",
       "   x0_retired  x0_self-employed  x0_services  x0_student  x0_technician  ...  \\\n",
       "0         0.0               0.0          0.0         0.0            0.0  ...   \n",
       "1         0.0               0.0          1.0         0.0            0.0  ...   \n",
       "2         0.0               0.0          1.0         0.0            0.0  ...   \n",
       "3         0.0               0.0          0.0         0.0            0.0  ...   \n",
       "4         0.0               0.0          1.0         0.0            0.0  ...   \n",
       "\n",
       "   x7_oct  x7_sep  x8_fri  x8_mon  x8_thu  x8_tue  x8_wed  x9_failure  \\\n",
       "0     0.0     0.0     0.0     1.0     0.0     0.0     0.0         0.0   \n",
       "1     0.0     0.0     0.0     1.0     0.0     0.0     0.0         0.0   \n",
       "2     0.0     0.0     0.0     1.0     0.0     0.0     0.0         0.0   \n",
       "3     0.0     0.0     0.0     1.0     0.0     0.0     0.0         0.0   \n",
       "4     0.0     0.0     0.0     1.0     0.0     0.0     0.0         0.0   \n",
       "\n",
       "   x9_nonexistent  x9_success  \n",
       "0             1.0         0.0  \n",
       "1             1.0         0.0  \n",
       "2             1.0         0.0  \n",
       "3             1.0         0.0  \n",
       "4             1.0         0.0  \n",
       "\n",
       "[5 rows x 53 columns]"
      ]
     },
     "execution_count": 248,
     "metadata": {},
     "output_type": "execute_result"
    }
   ],
   "source": [
    "# Converting categorical variables to numerical using one hot encoder. It also transforms the data\n",
    "from sklearn.preprocessing import OneHotEncoder\n",
    "\n",
    "cat = bank_df_after_drop.select_dtypes(include = np.object)\n",
    "enc = OneHotEncoder()\n",
    "categorical = pd.DataFrame(enc.fit_transform(cat).toarray(), columns = enc.get_feature_names())\n",
    "categorical.head()"
   ]
  },
  {
   "cell_type": "code",
   "execution_count": 249,
   "metadata": {},
   "outputs": [
    {
     "data": {
      "text/html": [
       "<div>\n",
       "<style scoped>\n",
       "    .dataframe tbody tr th:only-of-type {\n",
       "        vertical-align: middle;\n",
       "    }\n",
       "\n",
       "    .dataframe tbody tr th {\n",
       "        vertical-align: top;\n",
       "    }\n",
       "\n",
       "    .dataframe thead th {\n",
       "        text-align: right;\n",
       "    }\n",
       "</style>\n",
       "<table border=\"1\" class=\"dataframe\">\n",
       "  <thead>\n",
       "    <tr style=\"text-align: right;\">\n",
       "      <th></th>\n",
       "      <th>job</th>\n",
       "      <th>marital</th>\n",
       "      <th>education</th>\n",
       "      <th>default</th>\n",
       "      <th>housing</th>\n",
       "      <th>loan</th>\n",
       "      <th>contact</th>\n",
       "      <th>month</th>\n",
       "      <th>day_of_week</th>\n",
       "      <th>poutcome</th>\n",
       "    </tr>\n",
       "  </thead>\n",
       "  <tbody>\n",
       "    <tr>\n",
       "      <th>0</th>\n",
       "      <td>housemaid</td>\n",
       "      <td>married</td>\n",
       "      <td>basic.4y</td>\n",
       "      <td>no</td>\n",
       "      <td>no</td>\n",
       "      <td>no</td>\n",
       "      <td>telephone</td>\n",
       "      <td>may</td>\n",
       "      <td>mon</td>\n",
       "      <td>nonexistent</td>\n",
       "    </tr>\n",
       "    <tr>\n",
       "      <th>1</th>\n",
       "      <td>services</td>\n",
       "      <td>married</td>\n",
       "      <td>high.school</td>\n",
       "      <td>unknown</td>\n",
       "      <td>no</td>\n",
       "      <td>no</td>\n",
       "      <td>telephone</td>\n",
       "      <td>may</td>\n",
       "      <td>mon</td>\n",
       "      <td>nonexistent</td>\n",
       "    </tr>\n",
       "    <tr>\n",
       "      <th>2</th>\n",
       "      <td>services</td>\n",
       "      <td>married</td>\n",
       "      <td>high.school</td>\n",
       "      <td>no</td>\n",
       "      <td>yes</td>\n",
       "      <td>no</td>\n",
       "      <td>telephone</td>\n",
       "      <td>may</td>\n",
       "      <td>mon</td>\n",
       "      <td>nonexistent</td>\n",
       "    </tr>\n",
       "    <tr>\n",
       "      <th>3</th>\n",
       "      <td>admin.</td>\n",
       "      <td>married</td>\n",
       "      <td>basic.6y</td>\n",
       "      <td>no</td>\n",
       "      <td>no</td>\n",
       "      <td>no</td>\n",
       "      <td>telephone</td>\n",
       "      <td>may</td>\n",
       "      <td>mon</td>\n",
       "      <td>nonexistent</td>\n",
       "    </tr>\n",
       "    <tr>\n",
       "      <th>4</th>\n",
       "      <td>services</td>\n",
       "      <td>married</td>\n",
       "      <td>high.school</td>\n",
       "      <td>no</td>\n",
       "      <td>no</td>\n",
       "      <td>yes</td>\n",
       "      <td>telephone</td>\n",
       "      <td>may</td>\n",
       "      <td>mon</td>\n",
       "      <td>nonexistent</td>\n",
       "    </tr>\n",
       "  </tbody>\n",
       "</table>\n",
       "</div>"
      ],
      "text/plain": [
       "         job  marital    education  default housing loan    contact month  \\\n",
       "0  housemaid  married     basic.4y       no      no   no  telephone   may   \n",
       "1   services  married  high.school  unknown      no   no  telephone   may   \n",
       "2   services  married  high.school       no     yes   no  telephone   may   \n",
       "3     admin.  married     basic.6y       no      no   no  telephone   may   \n",
       "4   services  married  high.school       no      no  yes  telephone   may   \n",
       "\n",
       "  day_of_week     poutcome  \n",
       "0         mon  nonexistent  \n",
       "1         mon  nonexistent  \n",
       "2         mon  nonexistent  \n",
       "3         mon  nonexistent  \n",
       "4         mon  nonexistent  "
      ]
     },
     "execution_count": 249,
     "metadata": {},
     "output_type": "execute_result"
    }
   ],
   "source": [
    "cat.head()"
   ]
  },
  {
   "cell_type": "code",
   "execution_count": 250,
   "metadata": {},
   "outputs": [],
   "source": [
    "#categorical.dtypes"
   ]
  },
  {
   "cell_type": "code",
   "execution_count": 251,
   "metadata": {},
   "outputs": [
    {
     "data": {
      "text/plain": [
       "(41188, 53)"
      ]
     },
     "execution_count": 251,
     "metadata": {},
     "output_type": "execute_result"
    }
   ],
   "source": [
    "categorical.shape"
   ]
  },
  {
   "cell_type": "code",
   "execution_count": 252,
   "metadata": {},
   "outputs": [
    {
     "data": {
      "text/plain": [
       "0        10.0\n",
       "1        10.0\n",
       "2        10.0\n",
       "3        10.0\n",
       "4        10.0\n",
       "         ... \n",
       "41183    10.0\n",
       "41184    10.0\n",
       "41185    10.0\n",
       "41186    10.0\n",
       "41187    10.0\n",
       "Length: 41188, dtype: float64"
      ]
     },
     "execution_count": 252,
     "metadata": {},
     "output_type": "execute_result"
    }
   ],
   "source": [
    "categorical.sum(axis = 1)"
   ]
  },
  {
   "cell_type": "code",
   "execution_count": 255,
   "metadata": {},
   "outputs": [
    {
     "data": {
      "text/html": [
       "<div>\n",
       "<style scoped>\n",
       "    .dataframe tbody tr th:only-of-type {\n",
       "        vertical-align: middle;\n",
       "    }\n",
       "\n",
       "    .dataframe tbody tr th {\n",
       "        vertical-align: top;\n",
       "    }\n",
       "\n",
       "    .dataframe thead th {\n",
       "        text-align: right;\n",
       "    }\n",
       "</style>\n",
       "<table border=\"1\" class=\"dataframe\">\n",
       "  <thead>\n",
       "    <tr style=\"text-align: right;\">\n",
       "      <th></th>\n",
       "      <th>age</th>\n",
       "      <th>job</th>\n",
       "      <th>marital</th>\n",
       "      <th>education</th>\n",
       "      <th>default</th>\n",
       "      <th>housing</th>\n",
       "      <th>loan</th>\n",
       "      <th>contact</th>\n",
       "      <th>month</th>\n",
       "      <th>day_of_week</th>\n",
       "      <th>...</th>\n",
       "      <th>campaign</th>\n",
       "      <th>pdays</th>\n",
       "      <th>previous</th>\n",
       "      <th>poutcome</th>\n",
       "      <th>emp.var.rate</th>\n",
       "      <th>cons.price.idx</th>\n",
       "      <th>cons.conf.idx</th>\n",
       "      <th>euribor3m</th>\n",
       "      <th>nr.employed</th>\n",
       "      <th>y</th>\n",
       "    </tr>\n",
       "  </thead>\n",
       "  <tbody>\n",
       "    <tr>\n",
       "      <th>0</th>\n",
       "      <td>56</td>\n",
       "      <td>housemaid</td>\n",
       "      <td>married</td>\n",
       "      <td>basic.4y</td>\n",
       "      <td>no</td>\n",
       "      <td>no</td>\n",
       "      <td>no</td>\n",
       "      <td>telephone</td>\n",
       "      <td>may</td>\n",
       "      <td>mon</td>\n",
       "      <td>...</td>\n",
       "      <td>1</td>\n",
       "      <td>999</td>\n",
       "      <td>0</td>\n",
       "      <td>nonexistent</td>\n",
       "      <td>1.1</td>\n",
       "      <td>93.994</td>\n",
       "      <td>-36.4</td>\n",
       "      <td>4.857</td>\n",
       "      <td>5191.0</td>\n",
       "      <td>0</td>\n",
       "    </tr>\n",
       "    <tr>\n",
       "      <th>1</th>\n",
       "      <td>57</td>\n",
       "      <td>services</td>\n",
       "      <td>married</td>\n",
       "      <td>high.school</td>\n",
       "      <td>unknown</td>\n",
       "      <td>no</td>\n",
       "      <td>no</td>\n",
       "      <td>telephone</td>\n",
       "      <td>may</td>\n",
       "      <td>mon</td>\n",
       "      <td>...</td>\n",
       "      <td>1</td>\n",
       "      <td>999</td>\n",
       "      <td>0</td>\n",
       "      <td>nonexistent</td>\n",
       "      <td>1.1</td>\n",
       "      <td>93.994</td>\n",
       "      <td>-36.4</td>\n",
       "      <td>4.857</td>\n",
       "      <td>5191.0</td>\n",
       "      <td>0</td>\n",
       "    </tr>\n",
       "    <tr>\n",
       "      <th>2</th>\n",
       "      <td>37</td>\n",
       "      <td>services</td>\n",
       "      <td>married</td>\n",
       "      <td>high.school</td>\n",
       "      <td>no</td>\n",
       "      <td>yes</td>\n",
       "      <td>no</td>\n",
       "      <td>telephone</td>\n",
       "      <td>may</td>\n",
       "      <td>mon</td>\n",
       "      <td>...</td>\n",
       "      <td>1</td>\n",
       "      <td>999</td>\n",
       "      <td>0</td>\n",
       "      <td>nonexistent</td>\n",
       "      <td>1.1</td>\n",
       "      <td>93.994</td>\n",
       "      <td>-36.4</td>\n",
       "      <td>4.857</td>\n",
       "      <td>5191.0</td>\n",
       "      <td>0</td>\n",
       "    </tr>\n",
       "    <tr>\n",
       "      <th>3</th>\n",
       "      <td>40</td>\n",
       "      <td>admin.</td>\n",
       "      <td>married</td>\n",
       "      <td>basic.6y</td>\n",
       "      <td>no</td>\n",
       "      <td>no</td>\n",
       "      <td>no</td>\n",
       "      <td>telephone</td>\n",
       "      <td>may</td>\n",
       "      <td>mon</td>\n",
       "      <td>...</td>\n",
       "      <td>1</td>\n",
       "      <td>999</td>\n",
       "      <td>0</td>\n",
       "      <td>nonexistent</td>\n",
       "      <td>1.1</td>\n",
       "      <td>93.994</td>\n",
       "      <td>-36.4</td>\n",
       "      <td>4.857</td>\n",
       "      <td>5191.0</td>\n",
       "      <td>0</td>\n",
       "    </tr>\n",
       "    <tr>\n",
       "      <th>4</th>\n",
       "      <td>56</td>\n",
       "      <td>services</td>\n",
       "      <td>married</td>\n",
       "      <td>high.school</td>\n",
       "      <td>no</td>\n",
       "      <td>no</td>\n",
       "      <td>yes</td>\n",
       "      <td>telephone</td>\n",
       "      <td>may</td>\n",
       "      <td>mon</td>\n",
       "      <td>...</td>\n",
       "      <td>1</td>\n",
       "      <td>999</td>\n",
       "      <td>0</td>\n",
       "      <td>nonexistent</td>\n",
       "      <td>1.1</td>\n",
       "      <td>93.994</td>\n",
       "      <td>-36.4</td>\n",
       "      <td>4.857</td>\n",
       "      <td>5191.0</td>\n",
       "      <td>0</td>\n",
       "    </tr>\n",
       "  </tbody>\n",
       "</table>\n",
       "<p>5 rows × 21 columns</p>\n",
       "</div>"
      ],
      "text/plain": [
       "   age        job  marital    education  default housing loan    contact  \\\n",
       "0   56  housemaid  married     basic.4y       no      no   no  telephone   \n",
       "1   57   services  married  high.school  unknown      no   no  telephone   \n",
       "2   37   services  married  high.school       no     yes   no  telephone   \n",
       "3   40     admin.  married     basic.6y       no      no   no  telephone   \n",
       "4   56   services  married  high.school       no      no  yes  telephone   \n",
       "\n",
       "  month day_of_week  ...  campaign  pdays  previous     poutcome emp.var.rate  \\\n",
       "0   may         mon  ...         1    999         0  nonexistent          1.1   \n",
       "1   may         mon  ...         1    999         0  nonexistent          1.1   \n",
       "2   may         mon  ...         1    999         0  nonexistent          1.1   \n",
       "3   may         mon  ...         1    999         0  nonexistent          1.1   \n",
       "4   may         mon  ...         1    999         0  nonexistent          1.1   \n",
       "\n",
       "   cons.price.idx  cons.conf.idx  euribor3m  nr.employed  y  \n",
       "0          93.994          -36.4      4.857       5191.0  0  \n",
       "1          93.994          -36.4      4.857       5191.0  0  \n",
       "2          93.994          -36.4      4.857       5191.0  0  \n",
       "3          93.994          -36.4      4.857       5191.0  0  \n",
       "4          93.994          -36.4      4.857       5191.0  0  \n",
       "\n",
       "[5 rows x 21 columns]"
      ]
     },
     "execution_count": 255,
     "metadata": {},
     "output_type": "execute_result"
    }
   ],
   "source": [
    "bank.head()"
   ]
  },
  {
   "cell_type": "code",
   "execution_count": 268,
   "metadata": {},
   "outputs": [],
   "source": [
    "bank_df_new = bank_df_after_drop[['age']]"
   ]
  },
  {
   "cell_type": "code",
   "execution_count": 269,
   "metadata": {},
   "outputs": [
    {
     "data": {
      "text/html": [
       "<div>\n",
       "<style scoped>\n",
       "    .dataframe tbody tr th:only-of-type {\n",
       "        vertical-align: middle;\n",
       "    }\n",
       "\n",
       "    .dataframe tbody tr th {\n",
       "        vertical-align: top;\n",
       "    }\n",
       "\n",
       "    .dataframe thead th {\n",
       "        text-align: right;\n",
       "    }\n",
       "</style>\n",
       "<table border=\"1\" class=\"dataframe\">\n",
       "  <thead>\n",
       "    <tr style=\"text-align: right;\">\n",
       "      <th></th>\n",
       "      <th>age</th>\n",
       "    </tr>\n",
       "  </thead>\n",
       "  <tbody>\n",
       "    <tr>\n",
       "      <th>0</th>\n",
       "      <td>56</td>\n",
       "    </tr>\n",
       "    <tr>\n",
       "      <th>1</th>\n",
       "      <td>57</td>\n",
       "    </tr>\n",
       "  </tbody>\n",
       "</table>\n",
       "</div>"
      ],
      "text/plain": [
       "   age\n",
       "0   56\n",
       "1   57"
      ]
     },
     "execution_count": 269,
     "metadata": {},
     "output_type": "execute_result"
    }
   ],
   "source": [
    "bank_df_new.head(2)"
   ]
  },
  {
   "cell_type": "code",
   "execution_count": 270,
   "metadata": {},
   "outputs": [
    {
     "data": {
      "text/html": [
       "<div>\n",
       "<style scoped>\n",
       "    .dataframe tbody tr th:only-of-type {\n",
       "        vertical-align: middle;\n",
       "    }\n",
       "\n",
       "    .dataframe tbody tr th {\n",
       "        vertical-align: top;\n",
       "    }\n",
       "\n",
       "    .dataframe thead th {\n",
       "        text-align: right;\n",
       "    }\n",
       "</style>\n",
       "<table border=\"1\" class=\"dataframe\">\n",
       "  <thead>\n",
       "    <tr style=\"text-align: right;\">\n",
       "      <th></th>\n",
       "      <th>age</th>\n",
       "      <th>x0_admin.</th>\n",
       "      <th>x0_blue-collar</th>\n",
       "      <th>x0_entrepreneur</th>\n",
       "      <th>x0_housemaid</th>\n",
       "      <th>x0_management</th>\n",
       "      <th>x0_retired</th>\n",
       "      <th>x0_self-employed</th>\n",
       "      <th>x0_services</th>\n",
       "      <th>x0_student</th>\n",
       "      <th>...</th>\n",
       "      <th>x7_oct</th>\n",
       "      <th>x7_sep</th>\n",
       "      <th>x8_fri</th>\n",
       "      <th>x8_mon</th>\n",
       "      <th>x8_thu</th>\n",
       "      <th>x8_tue</th>\n",
       "      <th>x8_wed</th>\n",
       "      <th>x9_failure</th>\n",
       "      <th>x9_nonexistent</th>\n",
       "      <th>x9_success</th>\n",
       "    </tr>\n",
       "  </thead>\n",
       "  <tbody>\n",
       "    <tr>\n",
       "      <th>0</th>\n",
       "      <td>56</td>\n",
       "      <td>0.0</td>\n",
       "      <td>0.0</td>\n",
       "      <td>0.0</td>\n",
       "      <td>1.0</td>\n",
       "      <td>0.0</td>\n",
       "      <td>0.0</td>\n",
       "      <td>0.0</td>\n",
       "      <td>0.0</td>\n",
       "      <td>0.0</td>\n",
       "      <td>...</td>\n",
       "      <td>0.0</td>\n",
       "      <td>0.0</td>\n",
       "      <td>0.0</td>\n",
       "      <td>1.0</td>\n",
       "      <td>0.0</td>\n",
       "      <td>0.0</td>\n",
       "      <td>0.0</td>\n",
       "      <td>0.0</td>\n",
       "      <td>1.0</td>\n",
       "      <td>0.0</td>\n",
       "    </tr>\n",
       "    <tr>\n",
       "      <th>1</th>\n",
       "      <td>57</td>\n",
       "      <td>0.0</td>\n",
       "      <td>0.0</td>\n",
       "      <td>0.0</td>\n",
       "      <td>0.0</td>\n",
       "      <td>0.0</td>\n",
       "      <td>0.0</td>\n",
       "      <td>0.0</td>\n",
       "      <td>1.0</td>\n",
       "      <td>0.0</td>\n",
       "      <td>...</td>\n",
       "      <td>0.0</td>\n",
       "      <td>0.0</td>\n",
       "      <td>0.0</td>\n",
       "      <td>1.0</td>\n",
       "      <td>0.0</td>\n",
       "      <td>0.0</td>\n",
       "      <td>0.0</td>\n",
       "      <td>0.0</td>\n",
       "      <td>1.0</td>\n",
       "      <td>0.0</td>\n",
       "    </tr>\n",
       "    <tr>\n",
       "      <th>2</th>\n",
       "      <td>37</td>\n",
       "      <td>0.0</td>\n",
       "      <td>0.0</td>\n",
       "      <td>0.0</td>\n",
       "      <td>0.0</td>\n",
       "      <td>0.0</td>\n",
       "      <td>0.0</td>\n",
       "      <td>0.0</td>\n",
       "      <td>1.0</td>\n",
       "      <td>0.0</td>\n",
       "      <td>...</td>\n",
       "      <td>0.0</td>\n",
       "      <td>0.0</td>\n",
       "      <td>0.0</td>\n",
       "      <td>1.0</td>\n",
       "      <td>0.0</td>\n",
       "      <td>0.0</td>\n",
       "      <td>0.0</td>\n",
       "      <td>0.0</td>\n",
       "      <td>1.0</td>\n",
       "      <td>0.0</td>\n",
       "    </tr>\n",
       "    <tr>\n",
       "      <th>3</th>\n",
       "      <td>40</td>\n",
       "      <td>1.0</td>\n",
       "      <td>0.0</td>\n",
       "      <td>0.0</td>\n",
       "      <td>0.0</td>\n",
       "      <td>0.0</td>\n",
       "      <td>0.0</td>\n",
       "      <td>0.0</td>\n",
       "      <td>0.0</td>\n",
       "      <td>0.0</td>\n",
       "      <td>...</td>\n",
       "      <td>0.0</td>\n",
       "      <td>0.0</td>\n",
       "      <td>0.0</td>\n",
       "      <td>1.0</td>\n",
       "      <td>0.0</td>\n",
       "      <td>0.0</td>\n",
       "      <td>0.0</td>\n",
       "      <td>0.0</td>\n",
       "      <td>1.0</td>\n",
       "      <td>0.0</td>\n",
       "    </tr>\n",
       "    <tr>\n",
       "      <th>4</th>\n",
       "      <td>56</td>\n",
       "      <td>0.0</td>\n",
       "      <td>0.0</td>\n",
       "      <td>0.0</td>\n",
       "      <td>0.0</td>\n",
       "      <td>0.0</td>\n",
       "      <td>0.0</td>\n",
       "      <td>0.0</td>\n",
       "      <td>1.0</td>\n",
       "      <td>0.0</td>\n",
       "      <td>...</td>\n",
       "      <td>0.0</td>\n",
       "      <td>0.0</td>\n",
       "      <td>0.0</td>\n",
       "      <td>1.0</td>\n",
       "      <td>0.0</td>\n",
       "      <td>0.0</td>\n",
       "      <td>0.0</td>\n",
       "      <td>0.0</td>\n",
       "      <td>1.0</td>\n",
       "      <td>0.0</td>\n",
       "    </tr>\n",
       "  </tbody>\n",
       "</table>\n",
       "<p>5 rows × 54 columns</p>\n",
       "</div>"
      ],
      "text/plain": [
       "   age  x0_admin.  x0_blue-collar  x0_entrepreneur  x0_housemaid  \\\n",
       "0   56        0.0             0.0              0.0           1.0   \n",
       "1   57        0.0             0.0              0.0           0.0   \n",
       "2   37        0.0             0.0              0.0           0.0   \n",
       "3   40        1.0             0.0              0.0           0.0   \n",
       "4   56        0.0             0.0              0.0           0.0   \n",
       "\n",
       "   x0_management  x0_retired  x0_self-employed  x0_services  x0_student  ...  \\\n",
       "0            0.0         0.0               0.0          0.0         0.0  ...   \n",
       "1            0.0         0.0               0.0          1.0         0.0  ...   \n",
       "2            0.0         0.0               0.0          1.0         0.0  ...   \n",
       "3            0.0         0.0               0.0          0.0         0.0  ...   \n",
       "4            0.0         0.0               0.0          1.0         0.0  ...   \n",
       "\n",
       "   x7_oct  x7_sep  x8_fri  x8_mon  x8_thu  x8_tue  x8_wed  x9_failure  \\\n",
       "0     0.0     0.0     0.0     1.0     0.0     0.0     0.0         0.0   \n",
       "1     0.0     0.0     0.0     1.0     0.0     0.0     0.0         0.0   \n",
       "2     0.0     0.0     0.0     1.0     0.0     0.0     0.0         0.0   \n",
       "3     0.0     0.0     0.0     1.0     0.0     0.0     0.0         0.0   \n",
       "4     0.0     0.0     0.0     1.0     0.0     0.0     0.0         0.0   \n",
       "\n",
       "   x9_nonexistent  x9_success  \n",
       "0             1.0         0.0  \n",
       "1             1.0         0.0  \n",
       "2             1.0         0.0  \n",
       "3             1.0         0.0  \n",
       "4             1.0         0.0  \n",
       "\n",
       "[5 rows x 54 columns]"
      ]
     },
     "execution_count": 270,
     "metadata": {},
     "output_type": "execute_result"
    }
   ],
   "source": [
    "y = bank['y']\n",
    "X = pd.concat((bank_df_new, categorical), axis=1)\n",
    "X.head()"
   ]
  },
  {
   "cell_type": "code",
   "execution_count": 271,
   "metadata": {},
   "outputs": [
    {
     "data": {
      "text/plain": [
       "(41188,)"
      ]
     },
     "execution_count": 271,
     "metadata": {},
     "output_type": "execute_result"
    }
   ],
   "source": [
    "bank['y'].shape"
   ]
  },
  {
   "cell_type": "code",
   "execution_count": 273,
   "metadata": {},
   "outputs": [
    {
     "data": {
      "text/plain": [
       "0    36548\n",
       "1     4640\n",
       "Name: y, dtype: int64"
      ]
     },
     "execution_count": 273,
     "metadata": {},
     "output_type": "execute_result"
    }
   ],
   "source": [
    "bank['y'].value_counts()"
   ]
  },
  {
   "cell_type": "markdown",
   "metadata": {},
   "source": [
    "Label 0 is the class of clients that did not deposit, that is no\n",
    "\n",
    "Label 1 is the class of clients that deposited after the marketing campaign, that is yes"
   ]
  },
  {
   "cell_type": "markdown",
   "metadata": {},
   "source": [
    "#### Splitting into train and test set"
   ]
  },
  {
   "cell_type": "code",
   "execution_count": 274,
   "metadata": {},
   "outputs": [],
   "source": [
    "from sklearn.model_selection import train_test_split\n",
    "\n",
    "X_train, X_test, y_train, y_test = train_test_split(X, y, test_size=0.2, random_state=100)"
   ]
  },
  {
   "cell_type": "code",
   "execution_count": 275,
   "metadata": {},
   "outputs": [
    {
     "data": {
      "text/plain": [
       "0    29213\n",
       "1     3737\n",
       "Name: y, dtype: int64"
      ]
     },
     "execution_count": 275,
     "metadata": {},
     "output_type": "execute_result"
    }
   ],
   "source": [
    "y_train.value_counts()"
   ]
  },
  {
   "cell_type": "markdown",
   "metadata": {},
   "source": [
    "#### Using LogisticRegression model to generate predictions of the effective marketing campaign both on the training and the testing set"
   ]
  },
  {
   "cell_type": "code",
   "execution_count": 276,
   "metadata": {},
   "outputs": [],
   "source": [
    "from sklearn.linear_model import LogisticRegression\n",
    "\n",
    "\n",
    "logisticr = LogisticRegression().fit(X_train, y_train) "
   ]
  },
  {
   "cell_type": "code",
   "execution_count": 278,
   "metadata": {},
   "outputs": [
    {
     "data": {
      "text/plain": [
       "0.8975479485311969"
      ]
     },
     "execution_count": 278,
     "metadata": {},
     "output_type": "execute_result"
    }
   ],
   "source": [
    "logisticr.score(X_test, y_test)\n"
   ]
  },
  {
   "cell_type": "code",
   "execution_count": 280,
   "metadata": {},
   "outputs": [],
   "source": [
    "train_predictions = logisticr.predict(X_train)\n",
    "test_predictions = logisticr.predict(X_test)"
   ]
  },
  {
   "cell_type": "markdown",
   "metadata": {},
   "source": [
    "#### Calculating and printing the accuracy score for both the training and the testing set of the bank marketing campaign."
   ]
  },
  {
   "cell_type": "code",
   "execution_count": 281,
   "metadata": {
    "scrolled": true
   },
   "outputs": [
    {
     "name": "stdout",
     "output_type": "stream",
     "text": [
      "Training of the bank marketing campaign: 0.896206373292868\n",
      "Testing of the bank marketing campaign: 0.8975479485311969\n"
     ]
    }
   ],
   "source": [
    "from sklearn.metrics import accuracy_score\n",
    "\n",
    "print(\"Training of the bank marketing campaign:\", accuracy_score(y_train, train_predictions))\n",
    "print(\"Testing of the bank marketing campaign:\", accuracy_score(y_test, test_predictions))"
   ]
  },
  {
   "cell_type": "code",
   "execution_count": 306,
   "metadata": {},
   "outputs": [],
   "source": [
    "from sklearn.metrics import roc_auc_score"
   ]
  },
  {
   "cell_type": "code",
   "execution_count": 307,
   "metadata": {},
   "outputs": [
    {
     "data": {
      "text/plain": [
       "0.5851075827677339"
      ]
     },
     "execution_count": 307,
     "metadata": {},
     "output_type": "execute_result"
    }
   ],
   "source": [
    "roc_auc_score(y_test, test_predictions)"
   ]
  },
  {
   "cell_type": "markdown",
   "metadata": {},
   "source": [
    "The accuracy of my model in the test set without optimizing the hyperparameters is 58percent\n",
    "\n",
    "-- Next step is to use either random or gride search to ptimize my model for a better accuracy score"
   ]
  },
  {
   "cell_type": "markdown",
   "metadata": {},
   "source": [
    "#### Calculating and printing the balanced accuracy score for both the training and the testing set of the bank marketing campaign dataset."
   ]
  },
  {
   "cell_type": "code",
   "execution_count": 282,
   "metadata": {},
   "outputs": [
    {
     "name": "stdout",
     "output_type": "stream",
     "text": [
      "Training: 0.5867526692403587\n",
      "Testing: 0.585107582767734\n"
     ]
    }
   ],
   "source": [
    "from sklearn.metrics import balanced_accuracy_score\n",
    "\n",
    "print(\"Training:\", balanced_accuracy_score(y_train, train_predictions))\n",
    "print(\"Testing:\", balanced_accuracy_score(y_test, test_predictions))"
   ]
  },
  {
   "cell_type": "markdown",
   "metadata": {},
   "source": [
    "#### Calculating and printing the precision, recall  and F1 score for both the training and the testing set"
   ]
  },
  {
   "cell_type": "code",
   "execution_count": 283,
   "metadata": {},
   "outputs": [
    {
     "name": "stdout",
     "output_type": "stream",
     "text": [
      "Training: 0.6471680594243269\n",
      "Testing: 0.6072727272727273\n"
     ]
    }
   ],
   "source": [
    "from sklearn.metrics import precision_score\n",
    "\n",
    "print(\"Training:\", precision_score(y_train, train_predictions, pos_label=1))\n",
    "print(\"Testing:\", precision_score(y_test, test_predictions, pos_label=1))"
   ]
  },
  {
   "cell_type": "code",
   "execution_count": 284,
   "metadata": {},
   "outputs": [
    {
     "name": "stdout",
     "output_type": "stream",
     "text": [
      "Training: 0.18651324591918653\n",
      "Testing: 0.1849390919158361\n"
     ]
    }
   ],
   "source": [
    "from sklearn.metrics import recall_score\n",
    "\n",
    "print(\"Training:\", recall_score(y_train, train_predictions, pos_label=1))\n",
    "print(\"Testing:\", recall_score(y_test, test_predictions, pos_label=1))"
   ]
  },
  {
   "cell_type": "markdown",
   "metadata": {},
   "source": [
    "#### Calculating and printing the F1 score for both the training and the testing set."
   ]
  },
  {
   "cell_type": "code",
   "execution_count": 285,
   "metadata": {},
   "outputs": [
    {
     "name": "stdout",
     "output_type": "stream",
     "text": [
      "Training: 0.28957208142916496\n",
      "Testing: 0.2835314091680815\n"
     ]
    }
   ],
   "source": [
    "from sklearn.metrics import f1_score\n",
    "\n",
    "print(\"Training:\", f1_score(y_train, train_predictions, pos_label=1))\n",
    "print(\"Testing:\", f1_score(y_test, test_predictions, pos_label=1))"
   ]
  },
  {
   "cell_type": "code",
   "execution_count": 286,
   "metadata": {},
   "outputs": [
    {
     "data": {
      "text/plain": [
       "(41188, 21)"
      ]
     },
     "execution_count": 286,
     "metadata": {},
     "output_type": "execute_result"
    }
   ],
   "source": [
    "bank.shape"
   ]
  },
  {
   "cell_type": "markdown",
   "metadata": {},
   "source": [
    "#### Confusion matrices for both the training and the testing set."
   ]
  },
  {
   "cell_type": "code",
   "execution_count": 287,
   "metadata": {},
   "outputs": [
    {
     "name": "stdout",
     "output_type": "stream",
     "text": [
      "[[7227  108]\n",
      " [ 736  167]]\n"
     ]
    }
   ],
   "source": [
    "from sklearn.metrics import confusion_matrix\n",
    "\n",
    "conf_matrix = confusion_matrix(y_test, test_predictions)\n",
    "print(conf_matrix)"
   ]
  },
  {
   "cell_type": "markdown",
   "metadata": {},
   "source": [
    "From the confusion matrixs above, Class O label(No-class)- 7227 clients that are in class 0, who did not make deposit after the marketing campaign  and 108 clients that are predicted to be in 1 are in class 0.\n",
    "\n",
    "Class 1(Yes-class): Those that successfully made deposit to the bank after the marketing campaign.\n",
    "167 clients successful made deposit, but 736 of clients that did not make deposit were wrongly classified in class 1 "
   ]
  },
  {
   "cell_type": "code",
   "execution_count": 288,
   "metadata": {},
   "outputs": [
    {
     "data": {
      "text/plain": [
       "<AxesSubplot:>"
      ]
     },
     "execution_count": 288,
     "metadata": {},
     "output_type": "execute_result"
    },
    {
     "data": {
      "image/png": "[encoded data removed]",
      "text/plain": [
       "<Figure size 432x288 with 2 Axes>"
      ]
     },
     "metadata": {
      "needs_background": "light"
     },
     "output_type": "display_data"
    }
   ],
   "source": [
    "sns.heatmap(conf_matrix/np.sum(conf_matrix), annot=True, \n",
    "            fmt='.2%', cmap='Blues')"
   ]
  },
  {
   "cell_type": "code",
   "execution_count": 289,
   "metadata": {},
   "outputs": [],
   "source": [
    "# True negative of 87.73% are identified as the clients that falls under class 0, people that did not make bank deposit after the campaign\n",
    "# True positive of 2.03% are correctly identified as the clients that are under class 1, the people that made deposit after the marketing campaign"
   ]
  },
  {
   "cell_type": "markdown",
   "metadata": {},
   "source": [
    "### Using Decision Tree to generate predictions of the effective marketing campaign both on the training and the testing set"
   ]
  },
  {
   "cell_type": "code",
   "execution_count": 290,
   "metadata": {},
   "outputs": [],
   "source": [
    "from sklearn.tree import DecisionTreeClassifier\n",
    "\n",
    "decisiontree = DecisionTreeClassifier().fit(X_train, y_train)"
   ]
  },
  {
   "cell_type": "code",
   "execution_count": 291,
   "metadata": {},
   "outputs": [
    {
     "data": {
      "text/plain": [
       "0.8353969410050983"
      ]
     },
     "execution_count": 291,
     "metadata": {},
     "output_type": "execute_result"
    }
   ],
   "source": [
    "predictions = decisiontree.predict(X_test)\n",
    "decisiontree.score(X_test, y_test)"
   ]
  },
  {
   "cell_type": "code",
   "execution_count": 292,
   "metadata": {},
   "outputs": [
    {
     "name": "stdout",
     "output_type": "stream",
     "text": [
      "[[6605  730]\n",
      " [ 626  277]]\n"
     ]
    }
   ],
   "source": [
    "cf_matrix_tree = confusion_matrix(y_test, predictions)\n",
    "print(cf_matrix_tree)"
   ]
  },
  {
   "cell_type": "code",
   "execution_count": 293,
   "metadata": {},
   "outputs": [
    {
     "data": {
      "text/plain": [
       "<AxesSubplot:>"
      ]
     },
     "execution_count": 293,
     "metadata": {},
     "output_type": "execute_result"
    },
    {
     "data": {
      "image/png": "[encoded data removed]",
      "text/plain": [
       "<Figure size 432x288 with 2 Axes>"
      ]
     },
     "metadata": {
      "needs_background": "light"
     },
     "output_type": "display_data"
    }
   ],
   "source": [
    "sns.heatmap(cf_matrix_tree/np.sum(cf_matrix_tree), annot=True, \n",
    "            fmt='.2%', cmap='Blues')"
   ]
  },
  {
   "cell_type": "code",
   "execution_count": 294,
   "metadata": {},
   "outputs": [
    {
     "name": "stdout",
     "output_type": "stream",
     "text": [
      "0.27507447864945384\n",
      "0.3067552602436323\n",
      "0.29005235602094237\n"
     ]
    }
   ],
   "source": [
    "from sklearn.metrics import precision_score\n",
    "\n",
    "print(precision_score(y_test, predictions, pos_label=1))\n",
    "print(recall_score(y_test, predictions, pos_label=1))\n",
    "print(f1_score(y_test, predictions, pos_label=1))"
   ]
  },
  {
   "cell_type": "markdown",
   "metadata": {},
   "source": [
    "printing the balance accuracy test for decision tree"
   ]
  },
  {
   "cell_type": "code",
   "execution_count": 295,
   "metadata": {},
   "outputs": [
    {
     "data": {
      "text/plain": [
       "0.6036162122622388"
      ]
     },
     "execution_count": 295,
     "metadata": {},
     "output_type": "execute_result"
    }
   ],
   "source": [
    "balanced_accuracy_score(y_test, predictions)"
   ]
  },
  {
   "cell_type": "code",
   "execution_count": 296,
   "metadata": {},
   "outputs": [
    {
     "data": {
      "text/plain": [
       "array([0.23668819, 0.02417171, 0.01236025, 0.00719478, 0.00489209,\n",
       "       0.01078778, 0.00638931, 0.00751348, 0.01114157, 0.00511689,\n",
       "       0.02012897, 0.00683662, 0.0050582 , 0.01444793, 0.01839873,\n",
       "       0.01717747, 0.00093949, 0.0095066 , 0.00649718, 0.01441989,\n",
       "       0.01880548, 0.00058729, 0.01478362, 0.02118877, 0.00893502,\n",
       "       0.00852692, 0.00800362, 0.        , 0.03454421, 0.00312084,\n",
       "       0.03453691, 0.0173113 , 0.00240929, 0.01836224, 0.00368096,\n",
       "       0.01177615, 0.0081116 , 0.00917843, 0.00554033, 0.01248303,\n",
       "       0.01677288, 0.01637739, 0.00747076, 0.01232487, 0.01389881,\n",
       "       0.00971446, 0.02454934, 0.01982502, 0.0173075 , 0.02433362,\n",
       "       0.02392037, 0.00962702, 0.01253958, 0.10978526])"
      ]
     },
     "execution_count": 296,
     "metadata": {},
     "output_type": "execute_result"
    }
   ],
   "source": [
    "decisiontree.feature_importances_"
   ]
  },
  {
   "cell_type": "code",
   "execution_count": 297,
   "metadata": {},
   "outputs": [
    {
     "name": "stdout",
     "output_type": "stream",
     "text": [
      "{'age': 0.23668818713091497, 'x0_admin.': 0.02417171421828571, 'x0_blue-collar': 0.012360254453415903, 'x0_entrepreneur': 0.007194784790465053, 'x0_housemaid': 0.004892088322033902, 'x0_management': 0.010787784022183703, 'x0_retired': 0.006389307570049858, 'x0_self-employed': 0.007513476474439507, 'x0_services': 0.011141570514384242, 'x0_student': 0.005116886453879778, 'x0_technician': 0.020128965154393174, 'x0_unemployed': 0.006836621917580366, 'x0_unknown': 0.005058200287027458, 'x1_divorced': 0.014447925114792752, 'x1_married': 0.018398730687263536, 'x1_single': 0.017177472959001412, 'x1_unknown': 0.0009394859752687923, 'x2_basic.4y': 0.009506604574304828, 'x2_basic.6y': 0.0064971762697989465, 'x2_basic.9y': 0.014419887017768203, 'x2_high.school': 0.018805479540453314, 'x2_illiterate': 0.0005872851100507524, 'x2_professional.course': 0.014783622503173268, 'x2_university.degree': 0.021188767144924528, 'x2_unknown': 0.008935018768415215, 'x3_no': 0.008526923117056825, 'x3_unknown': 0.008003615555081077, 'x3_yes': 0.0, 'x4_no': 0.03454420546902377, 'x4_unknown': 0.00312083757239682, 'x4_yes': 0.03453691068132906, 'x5_no': 0.01731130231635227, 'x5_unknown': 0.0024092909043171283, 'x5_yes': 0.018362238827341292, 'x6_cellular': 0.0036809599294567313, 'x6_telephone': 0.011776150282013245, 'x7_apr': 0.008111599571770316, 'x7_aug': 0.00917843028866907, 'x7_dec': 0.0055403326289777035, 'x7_jul': 0.012483026590594653, 'x7_jun': 0.01677288058727849, 'x7_mar': 0.016377386913212014, 'x7_may': 0.007470760855771809, 'x7_nov': 0.012324867955202382, 'x7_oct': 0.01389881124859856, 'x7_sep': 0.00971446413781725, 'x8_fri': 0.02454934256697093, 'x8_mon': 0.019825015966744037, 'x8_thu': 0.017307495321898052, 'x8_tue': 0.02433361932838696, 'x8_wed': 0.023920368737182302, 'x9_failure': 0.00962702048398756, 'x9_nonexistent': 0.012539583053990442, 'x9_success': 0.10978526213431024}\n"
     ]
    }
   ],
   "source": [
    "print(dict(zip(X.columns, decisiontree.feature_importances_)))"
   ]
  },
  {
   "cell_type": "code",
   "execution_count": 298,
   "metadata": {},
   "outputs": [
    {
     "data": {
      "image/png": "[encoded data removed]",
      "text/plain": [
       "<Figure size 1800x432 with 1 Axes>"
      ]
     },
     "metadata": {
      "needs_background": "light"
     },
     "output_type": "display_data"
    }
   ],
   "source": [
    "plt.rcParams['figure.figsize'] = [25, 6]\n",
    "plt.bar(height = decisiontree.feature_importances_, x = X.columns)\n",
    "plt.show()"
   ]
  },
  {
   "cell_type": "markdown",
   "metadata": {},
   "source": [
    "SVM"
   ]
  },
  {
   "cell_type": "code",
   "execution_count": 299,
   "metadata": {},
   "outputs": [
    {
     "name": "stdout",
     "output_type": "stream",
     "text": [
      "0.8903860160233066\n",
      "0    8238\n",
      "dtype: int64\n"
     ]
    }
   ],
   "source": [
    "from sklearn.svm import SVC\n",
    "\n",
    "svm = SVC().fit(X_train, y_train)\n",
    "predictions = svm.predict(X_test)\n",
    "print(svm.score(X_test, y_test))\n",
    "print(pd.Series(predictions).value_counts())"
   ]
  },
  {
   "cell_type": "markdown",
   "metadata": {},
   "source": [
    "### K-Nearest Neighbors"
   ]
  },
  {
   "cell_type": "code",
   "execution_count": 300,
   "metadata": {},
   "outputs": [
    {
     "name": "stdout",
     "output_type": "stream",
     "text": [
      "0.8829813061422676\n",
      "0    7893\n",
      "1     345\n",
      "dtype: int64\n"
     ]
    }
   ],
   "source": [
    "from sklearn.neighbors import KNeighborsClassifier\n",
    "\n",
    "nearest_neighbors = KNeighborsClassifier(n_neighbors=3).fit(X_train, y_train)\n",
    "predictions = nearest_neighbors.predict(X_test)\n",
    "print(nearest_neighbors.score(X_test, y_test))\n",
    "print(pd.Series(predictions).value_counts())"
   ]
  },
  {
   "cell_type": "markdown",
   "metadata": {},
   "source": [
    "ROC and AUC analysis"
   ]
  },
  {
   "cell_type": "code",
   "execution_count": 351,
   "metadata": {},
   "outputs": [],
   "source": [
    "from sklearn.metrics import roc_curve, roc_auc_score\n",
    "#help(roc_curve)"
   ]
  },
  {
   "cell_type": "code",
   "execution_count": 352,
   "metadata": {},
   "outputs": [
    {
     "data": {
      "text/plain": [
       "[<matplotlib.lines.Line2D at 0x1a2c0fc12b0>]"
      ]
     },
     "execution_count": 352,
     "metadata": {},
     "output_type": "execute_result"
    },
    {
     "data": {
      "image/png": "[encoded data removed]",
      "text/plain": [
       "<Figure size 432x288 with 1 Axes>"
      ]
     },
     "metadata": {
      "needs_background": "light"
     },
     "output_type": "display_data"
    }
   ],
   "source": [
    "plt.plot(fpr,tpr)"
   ]
  },
  {
   "cell_type": "markdown",
   "metadata": {},
   "source": [
    "#### Summary"
   ]
  },
  {
   "cell_type": "markdown",
   "metadata": {},
   "source": [
    "In conclusion, the accuracy of my model without optimizing the hyperparameters is 58 percent. \n",
    "ROC prediction will be considered the most accurate because it considers both the majority and the minority of my model. "
   ]
  },
  {
   "cell_type": "markdown",
   "metadata": {},
   "source": [
    "#### Logistic regression analysis"
   ]
  },
  {
   "cell_type": "code",
   "execution_count": 342,
   "metadata": {},
   "outputs": [
    {
     "name": "stdout",
     "output_type": "stream",
     "text": [
      "Testing of the bank marketing campaign: 0.8975479485311969\n"
     ]
    }
   ],
   "source": [
    "from sklearn.metrics import accuracy_score\n",
    "\n",
    "print(\"Testing of the bank marketing campaign:\", accuracy_score(y_test, test_predictions))"
   ]
  },
  {
   "cell_type": "code",
   "execution_count": 343,
   "metadata": {},
   "outputs": [
    {
     "name": "stdout",
     "output_type": "stream",
     "text": [
      "Testing: 0.585107582767734\n"
     ]
    }
   ],
   "source": [
    "\n",
    "from sklearn.metrics import balanced_accuracy_score\n",
    "\n",
    "print(\"Testing:\", balanced_accuracy_score(y_test, test_predictions))\n"
   ]
  },
  {
   "cell_type": "markdown",
   "metadata": {},
   "source": [
    "#### Decision Tree"
   ]
  },
  {
   "cell_type": "code",
   "execution_count": 344,
   "metadata": {},
   "outputs": [
    {
     "data": {
      "text/plain": [
       "0.8353969410050983"
      ]
     },
     "execution_count": 344,
     "metadata": {},
     "output_type": "execute_result"
    }
   ],
   "source": [
    "from sklearn.tree import DecisionTreeClassifier\n",
    "\n",
    "predictions = decisiontree.predict(X_test)\n",
    "decisiontree.score(X_test, y_test)"
   ]
  },
  {
   "cell_type": "markdown",
   "metadata": {},
   "source": [
    "#### K-Nearest Neighbors"
   ]
  },
  {
   "cell_type": "code",
   "execution_count": 350,
   "metadata": {
    "scrolled": true
   },
   "outputs": [
    {
     "name": "stdout",
     "output_type": "stream",
     "text": [
      "0.8829813061422676\n",
      "0    7893\n",
      "1     345\n",
      "dtype: int64\n"
     ]
    }
   ],
   "source": [
    "from sklearn.neighbors import KNeighborsClassifier\n",
    "\n",
    "nearest_neighbors = KNeighborsClassifier(n_neighbors=3).fit(X_train, y_train)\n",
    "predictions = nearest_neighbors.predict(X_test)\n",
    "print(nearest_neighbors.score(X_test, y_test))\n",
    "print(pd.Series(predictions).value_counts())"
   ]
  },
  {
   "cell_type": "markdown",
   "metadata": {},
   "source": [
    "#### ROC_AUC"
   ]
  },
  {
   "cell_type": "code",
   "execution_count": 337,
   "metadata": {},
   "outputs": [
    {
     "data": {
      "text/plain": [
       "0.5851075827677339"
      ]
     },
     "execution_count": 337,
     "metadata": {},
     "output_type": "execute_result"
    }
   ],
   "source": [
    "from sklearn.metrics import roc_auc_score\n",
    "\n",
    "roc_auc_score(y_test, test_predictions)"
   ]
  },
  {
   "cell_type": "code",
   "execution_count": null,
   "metadata": {},
   "outputs": [],
   "source": []
  }
 ],
 "metadata": {
  "kernelspec": {
   "display_name": "Python 3",
   "language": "python",
   "name": "python3"
  },
  "language_info": {
   "codemirror_mode": {
    "name": "ipython",
    "version": 3
   },
   "file_extension": ".py",
   "mimetype": "text/x-python",
   "name": "python",
   "nbconvert_exporter": "python",
   "pygments_lexer": "ipython3",
   "version": "3.8.5"
  }
 },
 "nbformat": 4,
 "nbformat_minor": 4
}
