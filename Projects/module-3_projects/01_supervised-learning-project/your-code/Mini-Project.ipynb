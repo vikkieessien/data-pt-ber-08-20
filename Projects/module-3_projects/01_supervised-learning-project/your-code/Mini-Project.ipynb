{
 "cells": [
  {
   "cell_type": "code",
   "execution_count": 1,
   "metadata": {},
   "outputs": [],
   "source": [
    "import numpy as np\n",
    "import pandas as pd\n",
    "\n",
    "import matplotlib.pyplot as plt\n",
    "import seaborn as sns\n",
    "%matplotlib inline\n",
    "\n",
    "np.warnings.filterwarnings('ignore')"
   ]
  },
  {
   "cell_type": "code",
   "execution_count": 2,
   "metadata": {},
   "outputs": [],
   "source": [
    "bank = pd.read_csv('bank-additional-full.csv', sep=\";\")"
   ]
  },
  {
   "cell_type": "code",
   "execution_count": 3,
   "metadata": {},
   "outputs": [
    {
     "data": {
      "text/html": [
       "<div>\n",
       "<style scoped>\n",
       "    .dataframe tbody tr th:only-of-type {\n",
       "        vertical-align: middle;\n",
       "    }\n",
       "\n",
       "    .dataframe tbody tr th {\n",
       "        vertical-align: top;\n",
       "    }\n",
       "\n",
       "    .dataframe thead th {\n",
       "        text-align: right;\n",
       "    }\n",
       "</style>\n",
       "<table border=\"1\" class=\"dataframe\">\n",
       "  <thead>\n",
       "    <tr style=\"text-align: right;\">\n",
       "      <th></th>\n",
       "      <th>age</th>\n",
       "      <th>job</th>\n",
       "      <th>marital</th>\n",
       "      <th>education</th>\n",
       "      <th>default</th>\n",
       "      <th>housing</th>\n",
       "      <th>loan</th>\n",
       "      <th>contact</th>\n",
       "      <th>month</th>\n",
       "      <th>day_of_week</th>\n",
       "      <th>...</th>\n",
       "      <th>campaign</th>\n",
       "      <th>pdays</th>\n",
       "      <th>previous</th>\n",
       "      <th>poutcome</th>\n",
       "      <th>emp.var.rate</th>\n",
       "      <th>cons.price.idx</th>\n",
       "      <th>cons.conf.idx</th>\n",
       "      <th>euribor3m</th>\n",
       "      <th>nr.employed</th>\n",
       "      <th>y</th>\n",
       "    </tr>\n",
       "  </thead>\n",
       "  <tbody>\n",
       "    <tr>\n",
       "      <th>0</th>\n",
       "      <td>56</td>\n",
       "      <td>housemaid</td>\n",
       "      <td>married</td>\n",
       "      <td>basic.4y</td>\n",
       "      <td>no</td>\n",
       "      <td>no</td>\n",
       "      <td>no</td>\n",
       "      <td>telephone</td>\n",
       "      <td>may</td>\n",
       "      <td>mon</td>\n",
       "      <td>...</td>\n",
       "      <td>1</td>\n",
       "      <td>999</td>\n",
       "      <td>0</td>\n",
       "      <td>nonexistent</td>\n",
       "      <td>1.1</td>\n",
       "      <td>93.994</td>\n",
       "      <td>-36.4</td>\n",
       "      <td>4.857</td>\n",
       "      <td>5191.0</td>\n",
       "      <td>no</td>\n",
       "    </tr>\n",
       "    <tr>\n",
       "      <th>1</th>\n",
       "      <td>57</td>\n",
       "      <td>services</td>\n",
       "      <td>married</td>\n",
       "      <td>high.school</td>\n",
       "      <td>unknown</td>\n",
       "      <td>no</td>\n",
       "      <td>no</td>\n",
       "      <td>telephone</td>\n",
       "      <td>may</td>\n",
       "      <td>mon</td>\n",
       "      <td>...</td>\n",
       "      <td>1</td>\n",
       "      <td>999</td>\n",
       "      <td>0</td>\n",
       "      <td>nonexistent</td>\n",
       "      <td>1.1</td>\n",
       "      <td>93.994</td>\n",
       "      <td>-36.4</td>\n",
       "      <td>4.857</td>\n",
       "      <td>5191.0</td>\n",
       "      <td>no</td>\n",
       "    </tr>\n",
       "    <tr>\n",
       "      <th>2</th>\n",
       "      <td>37</td>\n",
       "      <td>services</td>\n",
       "      <td>married</td>\n",
       "      <td>high.school</td>\n",
       "      <td>no</td>\n",
       "      <td>yes</td>\n",
       "      <td>no</td>\n",
       "      <td>telephone</td>\n",
       "      <td>may</td>\n",
       "      <td>mon</td>\n",
       "      <td>...</td>\n",
       "      <td>1</td>\n",
       "      <td>999</td>\n",
       "      <td>0</td>\n",
       "      <td>nonexistent</td>\n",
       "      <td>1.1</td>\n",
       "      <td>93.994</td>\n",
       "      <td>-36.4</td>\n",
       "      <td>4.857</td>\n",
       "      <td>5191.0</td>\n",
       "      <td>no</td>\n",
       "    </tr>\n",
       "    <tr>\n",
       "      <th>3</th>\n",
       "      <td>40</td>\n",
       "      <td>admin.</td>\n",
       "      <td>married</td>\n",
       "      <td>basic.6y</td>\n",
       "      <td>no</td>\n",
       "      <td>no</td>\n",
       "      <td>no</td>\n",
       "      <td>telephone</td>\n",
       "      <td>may</td>\n",
       "      <td>mon</td>\n",
       "      <td>...</td>\n",
       "      <td>1</td>\n",
       "      <td>999</td>\n",
       "      <td>0</td>\n",
       "      <td>nonexistent</td>\n",
       "      <td>1.1</td>\n",
       "      <td>93.994</td>\n",
       "      <td>-36.4</td>\n",
       "      <td>4.857</td>\n",
       "      <td>5191.0</td>\n",
       "      <td>no</td>\n",
       "    </tr>\n",
       "    <tr>\n",
       "      <th>4</th>\n",
       "      <td>56</td>\n",
       "      <td>services</td>\n",
       "      <td>married</td>\n",
       "      <td>high.school</td>\n",
       "      <td>no</td>\n",
       "      <td>no</td>\n",
       "      <td>yes</td>\n",
       "      <td>telephone</td>\n",
       "      <td>may</td>\n",
       "      <td>mon</td>\n",
       "      <td>...</td>\n",
       "      <td>1</td>\n",
       "      <td>999</td>\n",
       "      <td>0</td>\n",
       "      <td>nonexistent</td>\n",
       "      <td>1.1</td>\n",
       "      <td>93.994</td>\n",
       "      <td>-36.4</td>\n",
       "      <td>4.857</td>\n",
       "      <td>5191.0</td>\n",
       "      <td>no</td>\n",
       "    </tr>\n",
       "  </tbody>\n",
       "</table>\n",
       "<p>5 rows × 21 columns</p>\n",
       "</div>"
      ],
      "text/plain": [
       "   age        job  marital    education  default housing loan    contact  \\\n",
       "0   56  housemaid  married     basic.4y       no      no   no  telephone   \n",
       "1   57   services  married  high.school  unknown      no   no  telephone   \n",
       "2   37   services  married  high.school       no     yes   no  telephone   \n",
       "3   40     admin.  married     basic.6y       no      no   no  telephone   \n",
       "4   56   services  married  high.school       no      no  yes  telephone   \n",
       "\n",
       "  month day_of_week  ...  campaign  pdays  previous     poutcome emp.var.rate  \\\n",
       "0   may         mon  ...         1    999         0  nonexistent          1.1   \n",
       "1   may         mon  ...         1    999         0  nonexistent          1.1   \n",
       "2   may         mon  ...         1    999         0  nonexistent          1.1   \n",
       "3   may         mon  ...         1    999         0  nonexistent          1.1   \n",
       "4   may         mon  ...         1    999         0  nonexistent          1.1   \n",
       "\n",
       "   cons.price.idx  cons.conf.idx  euribor3m  nr.employed   y  \n",
       "0          93.994          -36.4      4.857       5191.0  no  \n",
       "1          93.994          -36.4      4.857       5191.0  no  \n",
       "2          93.994          -36.4      4.857       5191.0  no  \n",
       "3          93.994          -36.4      4.857       5191.0  no  \n",
       "4          93.994          -36.4      4.857       5191.0  no  \n",
       "\n",
       "[5 rows x 21 columns]"
      ]
     },
     "execution_count": 3,
     "metadata": {},
     "output_type": "execute_result"
    }
   ],
   "source": [
    "bank.head()"
   ]
  },
  {
   "cell_type": "markdown",
   "metadata": {},
   "source": [
    "### Overview of the bank dataset"
   ]
  },
  {
   "cell_type": "markdown",
   "metadata": {},
   "source": [
    "This is dataset that describe Portugal bank marketing campaigns results. Conducted campaigns were based mostly on direct phone calls, offering bank's clients to place a term deposit. After the marketing campaign, if a client successfully made deposit - target variable marked 'yes', otherwise 'no'.\n",
    "\n",
    "A term deposit is a fixed-term investment that includes the deposit of money into an account at a financial institution. Term deposit investments usually carry short-term maturities ranging from one month to a few years and will have varying levels of required minimum deposits\n",
    "\n",
    " ####  Aim of the project: \n",
    " #### Consider the marketing effectiveness prediction for the bank.\n",
    " "
   ]
  },
  {
   "cell_type": "markdown",
   "metadata": {},
   "source": [
    "Attribute Information on Bank Dataset:\n",
    "\n",
    "1. Age\n",
    "2. Job - type of job (categorical: 'admin.','blue-collar','entrepreneur','housemaid','management','retired','self-employed','services','student','technician','unemployed','unknown')\n",
    "3. marital - marital status (categorical: 'divorced','married','single','unknown'; note: 'divorced' means divorced or widowed)\n",
    "4. Education - Shows the level of education of each customer (categorical: 'basic.4y','basic.6y','basic.9y','high.school','illiterate','professional.course','university.degree','unknown')\n",
    "5. Default - Whether a customer has credit in default (categorical: 'no','yes','unknown')\n",
    "6. Housing - Does the customer have a housing loan? (categorical: 'no','yes','unknown')\n",
    "7. Loan - Does the customer have a personal loan? (categorical: 'no','yes','unknown')\n",
    "8. Contact - The contact communication type (categorical: 'cellular','telephone')\n",
    "9. Month - Last contact month of year\n",
    "10. day_of_week - Last contact day of Week\n",
    "11. Duration - Last contact duration in seconds. Important note: this attribute highly affects the output target (e.g., if duration=0 then y='no').\n",
    "12. Campaign - Number of contact performed for the client during the campaign\n",
    "13. pdays: number of days that passed by after the client was last contacted from a previous campaign (numeric; 999 means client was not previously contacted)\n",
    "14. previous: number of contacts performed before this campaign and for this client\n",
    "15. poutcome: outcome of the previous marketing campaign (categorical: 'failure','nonexistent','success')\n",
    "16. emp.var.rate: employment variation rate - quarterly indicator\n",
    "17. cons.price.idx: consumer price index - monthly indicator\n",
    "18. cons.conf.idx: consumer confidence index - monthly indicator\n",
    "19. euribor3m: euribor 3 month rate - daily indicator\n",
    "20. nr.employed: number of employees - quarterly indicator\n",
    "21. y - has the client subscribed a term deposit? (binary: 'yes','no')\n",
    "\n",
    "\n",
    "\n"
   ]
  },
  {
   "cell_type": "markdown",
   "metadata": {},
   "source": [
    " #### Inspecting the data"
   ]
  },
  {
   "cell_type": "code",
   "execution_count": 4,
   "metadata": {},
   "outputs": [
    {
     "name": "stdout",
     "output_type": "stream",
     "text": [
      "<class 'pandas.core.frame.DataFrame'>\n",
      "RangeIndex: 41188 entries, 0 to 41187\n",
      "Data columns (total 21 columns):\n",
      " #   Column          Non-Null Count  Dtype  \n",
      "---  ------          --------------  -----  \n",
      " 0   age             41188 non-null  int64  \n",
      " 1   job             41188 non-null  object \n",
      " 2   marital         41188 non-null  object \n",
      " 3   education       41188 non-null  object \n",
      " 4   default         41188 non-null  object \n",
      " 5   housing         41188 non-null  object \n",
      " 6   loan            41188 non-null  object \n",
      " 7   contact         41188 non-null  object \n",
      " 8   month           41188 non-null  object \n",
      " 9   day_of_week     41188 non-null  object \n",
      " 10  duration        41188 non-null  int64  \n",
      " 11  campaign        41188 non-null  int64  \n",
      " 12  pdays           41188 non-null  int64  \n",
      " 13  previous        41188 non-null  int64  \n",
      " 14  poutcome        41188 non-null  object \n",
      " 15  emp.var.rate    41188 non-null  float64\n",
      " 16  cons.price.idx  41188 non-null  float64\n",
      " 17  cons.conf.idx   41188 non-null  float64\n",
      " 18  euribor3m       41188 non-null  float64\n",
      " 19  nr.employed     41188 non-null  float64\n",
      " 20  y               41188 non-null  object \n",
      "dtypes: float64(5), int64(5), object(11)\n",
      "memory usage: 6.6+ MB\n"
     ]
    }
   ],
   "source": [
    "bank.info()"
   ]
  },
  {
   "cell_type": "code",
   "execution_count": 5,
   "metadata": {},
   "outputs": [
    {
     "data": {
      "text/plain": [
       "(41188, 21)"
      ]
     },
     "execution_count": 5,
     "metadata": {},
     "output_type": "execute_result"
    }
   ],
   "source": [
    "bank.shape"
   ]
  },
  {
   "cell_type": "markdown",
   "metadata": {},
   "source": [
    " ### Data visualization of the target market for the bank campaign"
   ]
  },
  {
   "cell_type": "code",
   "execution_count": 6,
   "metadata": {},
   "outputs": [],
   "source": [
    "# Build a function to show categorical values distribution of the marketing campaign \n",
    "def plot_bar(column):\n",
    "    # temp df \n",
    "    temp_1 = pd.DataFrame()\n",
    "    # count categorical values\n",
    "    temp_1['No_deposit'] = bank[bank['y'] == 'no'][column].value_counts()\n",
    "    temp_1['Yes_deposit'] = bank[bank['y'] == 'yes'][column].value_counts()\n",
    "    temp_1.plot(kind='bar')\n",
    "    plt.xlabel(f'{column}')\n",
    "    plt.ylabel('Target market')\n",
    "    plt.title('Distribution of {} and deposit'.format(column))\n",
    "    plt.show()"
   ]
  },
  {
   "cell_type": "code",
   "execution_count": 7,
   "metadata": {
    "scrolled": true
   },
   "outputs": [
    {
     "data": {
      "text/plain": [
       "admin.           10422\n",
       "blue-collar       9254\n",
       "technician        6743\n",
       "services          3969\n",
       "management        2924\n",
       "retired           1720\n",
       "entrepreneur      1456\n",
       "self-employed     1421\n",
       "housemaid         1060\n",
       "unemployed        1014\n",
       "student            875\n",
       "unknown            330\n",
       "Name: job, dtype: int64"
      ]
     },
     "execution_count": 7,
     "metadata": {},
     "output_type": "execute_result"
    }
   ],
   "source": [
    "# Curious to know the clients with the types of jobs that either has a 'Yes' or 'No'\n",
    "\n",
    "bank['job'].value_counts()"
   ]
  },
  {
   "cell_type": "code",
   "execution_count": 8,
   "metadata": {},
   "outputs": [],
   "source": [
    "job_count= bank.groupby(['job','y']).size().reset_index()\n",
    "job_count = job_count.rename(columns={0:'Counts'})"
   ]
  },
  {
   "cell_type": "code",
   "execution_count": 9,
   "metadata": {},
   "outputs": [
    {
     "data": {
      "image/png": "[encoded data removed]",
      "text/plain": [
       "<Figure size 432x288 with 1 Axes>"
      ]
     },
     "metadata": {
      "needs_background": "light"
     },
     "output_type": "display_data"
    },
    {
     "name": "stdout",
     "output_type": "stream",
     "text": [
      "              job    y  Counts\n",
      "0          admin.   no    9070\n",
      "1          admin.  yes    1352\n",
      "2     blue-collar   no    8616\n",
      "3     blue-collar  yes     638\n",
      "4    entrepreneur   no    1332\n",
      "5    entrepreneur  yes     124\n",
      "6       housemaid   no     954\n",
      "7       housemaid  yes     106\n",
      "8      management   no    2596\n",
      "9      management  yes     328\n",
      "10        retired   no    1286\n",
      "11        retired  yes     434\n",
      "12  self-employed   no    1272\n",
      "13  self-employed  yes     149\n",
      "14       services   no    3646\n",
      "15       services  yes     323\n",
      "16        student   no     600\n",
      "17        student  yes     275\n",
      "18     technician   no    6013\n",
      "19     technician  yes     730\n",
      "20     unemployed   no     870\n",
      "21     unemployed  yes     144\n",
      "22        unknown   no     293\n",
      "23        unknown  yes      37\n"
     ]
    },
    {
     "data": {
      "text/plain": [
       "(None, None)"
      ]
     },
     "execution_count": 9,
     "metadata": {},
     "output_type": "execute_result"
    }
   ],
   "source": [
    "plot_bar('job'), print(job_count)"
   ]
  },
  {
   "cell_type": "markdown",
   "metadata": {},
   "source": [
    "The administrative workers has the highest positive response to the marketing campaign compared to other target markets, followed by technicians, blue-collar workers and the rest."
   ]
  },
  {
   "cell_type": "code",
   "execution_count": 10,
   "metadata": {},
   "outputs": [],
   "source": [
    "marital_count= bank.groupby(['marital','y']).size().reset_index()\n",
    "marital_count = marital_count.rename(columns={0:'Counts'})"
   ]
  },
  {
   "cell_type": "code",
   "execution_count": 11,
   "metadata": {},
   "outputs": [
    {
     "data": {
      "text/html": [
       "<div>\n",
       "<style scoped>\n",
       "    .dataframe tbody tr th:only-of-type {\n",
       "        vertical-align: middle;\n",
       "    }\n",
       "\n",
       "    .dataframe tbody tr th {\n",
       "        vertical-align: top;\n",
       "    }\n",
       "\n",
       "    .dataframe thead th {\n",
       "        text-align: right;\n",
       "    }\n",
       "</style>\n",
       "<table border=\"1\" class=\"dataframe\">\n",
       "  <thead>\n",
       "    <tr style=\"text-align: right;\">\n",
       "      <th></th>\n",
       "      <th>marital</th>\n",
       "      <th>y</th>\n",
       "      <th>Counts</th>\n",
       "    </tr>\n",
       "  </thead>\n",
       "  <tbody>\n",
       "    <tr>\n",
       "      <th>0</th>\n",
       "      <td>divorced</td>\n",
       "      <td>no</td>\n",
       "      <td>4136</td>\n",
       "    </tr>\n",
       "    <tr>\n",
       "      <th>1</th>\n",
       "      <td>divorced</td>\n",
       "      <td>yes</td>\n",
       "      <td>476</td>\n",
       "    </tr>\n",
       "    <tr>\n",
       "      <th>2</th>\n",
       "      <td>married</td>\n",
       "      <td>no</td>\n",
       "      <td>22396</td>\n",
       "    </tr>\n",
       "    <tr>\n",
       "      <th>3</th>\n",
       "      <td>married</td>\n",
       "      <td>yes</td>\n",
       "      <td>2532</td>\n",
       "    </tr>\n",
       "    <tr>\n",
       "      <th>4</th>\n",
       "      <td>single</td>\n",
       "      <td>no</td>\n",
       "      <td>9948</td>\n",
       "    </tr>\n",
       "    <tr>\n",
       "      <th>5</th>\n",
       "      <td>single</td>\n",
       "      <td>yes</td>\n",
       "      <td>1620</td>\n",
       "    </tr>\n",
       "    <tr>\n",
       "      <th>6</th>\n",
       "      <td>unknown</td>\n",
       "      <td>no</td>\n",
       "      <td>68</td>\n",
       "    </tr>\n",
       "    <tr>\n",
       "      <th>7</th>\n",
       "      <td>unknown</td>\n",
       "      <td>yes</td>\n",
       "      <td>12</td>\n",
       "    </tr>\n",
       "  </tbody>\n",
       "</table>\n",
       "</div>"
      ],
      "text/plain": [
       "    marital    y  Counts\n",
       "0  divorced   no    4136\n",
       "1  divorced  yes     476\n",
       "2   married   no   22396\n",
       "3   married  yes    2532\n",
       "4    single   no    9948\n",
       "5    single  yes    1620\n",
       "6   unknown   no      68\n",
       "7   unknown  yes      12"
      ]
     },
     "execution_count": 11,
     "metadata": {},
     "output_type": "execute_result"
    }
   ],
   "source": [
    "marital_count"
   ]
  },
  {
   "cell_type": "code",
   "execution_count": 12,
   "metadata": {},
   "outputs": [
    {
     "data": {
      "image/png": "[encoded data removed]",
      "text/plain": [
       "<Figure size 432x288 with 1 Axes>"
      ]
     },
     "metadata": {
      "needs_background": "light"
     },
     "output_type": "display_data"
    }
   ],
   "source": [
    "plot_bar('marital')"
   ]
  },
  {
   "cell_type": "code",
   "execution_count": 13,
   "metadata": {},
   "outputs": [
    {
     "data": {
      "image/png": "[encoded data removed]",
      "text/plain": [
       "<Figure size 432x288 with 1 Axes>"
      ]
     },
     "metadata": {
      "needs_background": "light"
     },
     "output_type": "display_data"
    }
   ],
   "source": [
    "# Education audience column\n",
    "# University degree holders has more positive response\n",
    "\n",
    "plot_bar('education')"
   ]
  },
  {
   "cell_type": "code",
   "execution_count": 14,
   "metadata": {},
   "outputs": [
    {
     "data": {
      "image/png": "[encoded data removed]",
      "text/plain": [
       "<Figure size 432x288 with 1 Axes>"
      ]
     },
     "metadata": {
      "needs_background": "light"
     },
     "output_type": "display_data"
    },
    {
     "data": {
      "image/png": "[encoded data removed]",
      "text/plain": [
       "<Figure size 432x288 with 1 Axes>"
      ]
     },
     "metadata": {
      "needs_background": "light"
     },
     "output_type": "display_data"
    },
    {
     "data": {
      "text/plain": [
       "(None, None)"
      ]
     },
     "execution_count": 14,
     "metadata": {},
     "output_type": "execute_result"
    }
   ],
   "source": [
    " plot_bar('loan'), plot_bar('housing')"
   ]
  },
  {
   "cell_type": "markdown",
   "metadata": {},
   "source": [
    "The campaign seeks to gain customers for a deposit in the bank. Then, people who have a loan are less likely to enter into a deposit. This is probably the reason why people who don't have loans are way more targetted than people who do have a loan."
   ]
  },
  {
   "cell_type": "markdown",
   "metadata": {},
   "source": [
    "#### Evaluation of the mode of marketing strategy for the bank campaign"
   ]
  },
  {
   "cell_type": "code",
   "execution_count": 15,
   "metadata": {},
   "outputs": [
    {
     "data": {
      "text/plain": [
       "cellular     26144\n",
       "telephone    15044\n",
       "Name: contact, dtype: int64"
      ]
     },
     "execution_count": 15,
     "metadata": {},
     "output_type": "execute_result"
    }
   ],
   "source": [
    "bank['contact'].value_counts()"
   ]
  },
  {
   "cell_type": "code",
   "execution_count": 16,
   "metadata": {},
   "outputs": [
    {
     "data": {
      "image/png": "[encoded data removed]",
      "text/plain": [
       "<Figure size 432x288 with 1 Axes>"
      ]
     },
     "metadata": {
      "needs_background": "light"
     },
     "output_type": "display_data"
    }
   ],
   "source": [
    "plot_bar('contact')"
   ]
  },
  {
   "cell_type": "markdown",
   "metadata": {},
   "source": [
    "Best communicative channel was cellular.\n",
    "Customers can only use landline phones in a single location where there is a wired connection to the telephone network. But Cell phones are operational anywhere the user can get a signal from a wireless network, I believe that is why we have more positive response from clients using cellular. "
   ]
  },
  {
   "cell_type": "markdown",
   "metadata": {},
   "source": [
    "### Impact of the marketing campaign"
   ]
  },
  {
   "cell_type": "code",
   "execution_count": 17,
   "metadata": {},
   "outputs": [],
   "source": [
    "# This is the duration of period a bank campaign manager uses to communicate with prospective customers. \n",
    "# this attribute highly affects the output target because if duration=0, then reponse will be 'no'\n",
    "\n",
    "bank_d= bank.groupby(['duration','y']).size().reset_index()\n",
    "bank_d = bank_d.rename(columns={0:'Counts'})"
   ]
  },
  {
   "cell_type": "code",
   "execution_count": 18,
   "metadata": {},
   "outputs": [
    {
     "data": {
      "text/html": [
       "<div>\n",
       "<style scoped>\n",
       "    .dataframe tbody tr th:only-of-type {\n",
       "        vertical-align: middle;\n",
       "    }\n",
       "\n",
       "    .dataframe tbody tr th {\n",
       "        vertical-align: top;\n",
       "    }\n",
       "\n",
       "    .dataframe thead th {\n",
       "        text-align: right;\n",
       "    }\n",
       "</style>\n",
       "<table border=\"1\" class=\"dataframe\">\n",
       "  <thead>\n",
       "    <tr style=\"text-align: right;\">\n",
       "      <th></th>\n",
       "      <th>duration</th>\n",
       "      <th>y</th>\n",
       "      <th>Counts</th>\n",
       "    </tr>\n",
       "  </thead>\n",
       "  <tbody>\n",
       "    <tr>\n",
       "      <th>0</th>\n",
       "      <td>0</td>\n",
       "      <td>no</td>\n",
       "      <td>4</td>\n",
       "    </tr>\n",
       "    <tr>\n",
       "      <th>1</th>\n",
       "      <td>1</td>\n",
       "      <td>no</td>\n",
       "      <td>3</td>\n",
       "    </tr>\n",
       "    <tr>\n",
       "      <th>2</th>\n",
       "      <td>2</td>\n",
       "      <td>no</td>\n",
       "      <td>1</td>\n",
       "    </tr>\n",
       "    <tr>\n",
       "      <th>3</th>\n",
       "      <td>3</td>\n",
       "      <td>no</td>\n",
       "      <td>3</td>\n",
       "    </tr>\n",
       "    <tr>\n",
       "      <th>4</th>\n",
       "      <td>4</td>\n",
       "      <td>no</td>\n",
       "      <td>12</td>\n",
       "    </tr>\n",
       "    <tr>\n",
       "      <th>...</th>\n",
       "      <td>...</td>\n",
       "      <td>...</td>\n",
       "      <td>...</td>\n",
       "    </tr>\n",
       "    <tr>\n",
       "      <th>2557</th>\n",
       "      <td>3631</td>\n",
       "      <td>yes</td>\n",
       "      <td>1</td>\n",
       "    </tr>\n",
       "    <tr>\n",
       "      <th>2558</th>\n",
       "      <td>3643</td>\n",
       "      <td>yes</td>\n",
       "      <td>1</td>\n",
       "    </tr>\n",
       "    <tr>\n",
       "      <th>2559</th>\n",
       "      <td>3785</td>\n",
       "      <td>no</td>\n",
       "      <td>1</td>\n",
       "    </tr>\n",
       "    <tr>\n",
       "      <th>2560</th>\n",
       "      <td>4199</td>\n",
       "      <td>yes</td>\n",
       "      <td>1</td>\n",
       "    </tr>\n",
       "    <tr>\n",
       "      <th>2561</th>\n",
       "      <td>4918</td>\n",
       "      <td>no</td>\n",
       "      <td>1</td>\n",
       "    </tr>\n",
       "  </tbody>\n",
       "</table>\n",
       "<p>2562 rows × 3 columns</p>\n",
       "</div>"
      ],
      "text/plain": [
       "      duration    y  Counts\n",
       "0            0   no       4\n",
       "1            1   no       3\n",
       "2            2   no       1\n",
       "3            3   no       3\n",
       "4            4   no      12\n",
       "...        ...  ...     ...\n",
       "2557      3631  yes       1\n",
       "2558      3643  yes       1\n",
       "2559      3785   no       1\n",
       "2560      4199  yes       1\n",
       "2561      4918   no       1\n",
       "\n",
       "[2562 rows x 3 columns]"
      ]
     },
     "execution_count": 18,
     "metadata": {},
     "output_type": "execute_result"
    }
   ],
   "source": [
    "bank_d"
   ]
  },
  {
   "cell_type": "code",
   "execution_count": 19,
   "metadata": {},
   "outputs": [],
   "source": [
    "def plot_histogram(column):\n",
    "    # temp df \n",
    "    temp_1 = pd.DataFrame()\n",
    "    # count categorical values\n",
    "    temp_1['No_deposit'] = bank[bank['y'] == 'no'][column].value_counts()\n",
    "    temp_1['Yes_deposit'] = bank[bank['y'] == 'yes'][column].value_counts()\n",
    "    temp_1.plot.hist(bins=20)\n",
    "    plt.xlabel(f'{column}')\n",
    "    plt.ylabel('Target market')\n",
    "    plt.title('Distribution of {} and deposit'.format(column))\n",
    "    plt.show()"
   ]
  },
  {
   "cell_type": "code",
   "execution_count": 20,
   "metadata": {},
   "outputs": [
    {
     "data": {
      "image/png": "[encoded data removed]",
      "text/plain": [
       "<Figure size 432x288 with 1 Axes>"
      ]
     },
     "metadata": {
      "needs_background": "light"
     },
     "output_type": "display_data"
    }
   ],
   "source": [
    "plot_histogram('duration')"
   ]
  },
  {
   "cell_type": "markdown",
   "metadata": {},
   "source": [
    "communication made to clients from 1 seconds to 15 minutes had more positive response. From the visualization, we can see that from the duration of 20 minutes and above had negetive response. Customers that wants to purchase a product does not need too much persuation if they are very interested in your products."
   ]
  },
  {
   "cell_type": "code",
   "execution_count": 21,
   "metadata": {},
   "outputs": [
    {
     "data": {
      "image/png": "[encoded data removed]",
      "text/plain": [
       "<Figure size 432x288 with 1 Axes>"
      ]
     },
     "metadata": {
      "needs_background": "light"
     },
     "output_type": "display_data"
    }
   ],
   "source": [
    "# pdays: number of days that passed by after the client was last contacted from a previous campaign\n",
    "# (numeric; 999 means client was not previously contacted)\n",
    "\n",
    "plot_bar('pdays')"
   ]
  },
  {
   "cell_type": "markdown",
   "metadata": {},
   "source": [
    "pdays: number of days that passed by after the client was last contacted from a previous campaign (numeric; 999 means client was not previously contacted)\n",
    "\n",
    "I believe this is one of the reasons why the marketing campaign was not successful, because the clients were not contacted as a means of follow up.There was no follow up."
   ]
  },
  {
   "cell_type": "code",
   "execution_count": 22,
   "metadata": {},
   "outputs": [
    {
     "data": {
      "text/plain": [
       "nonexistent    35563\n",
       "failure         4252\n",
       "success         1373\n",
       "Name: poutcome, dtype: int64"
      ]
     },
     "execution_count": 22,
     "metadata": {},
     "output_type": "execute_result"
    }
   ],
   "source": [
    "bank['poutcome'].value_counts()"
   ]
  },
  {
   "cell_type": "code",
   "execution_count": 23,
   "metadata": {},
   "outputs": [
    {
     "data": {
      "image/png": "[encoded data removed]",
      "text/plain": [
       "<Figure size 432x288 with 1 Axes>"
      ]
     },
     "metadata": {
      "needs_background": "light"
     },
     "output_type": "display_data"
    }
   ],
   "source": [
    "plot_bar('poutcome')"
   ]
  },
  {
   "cell_type": "markdown",
   "metadata": {},
   "source": [
    "Outcome of the marketing campaign displayed ('failure','nonexistent','success')\n",
    "The campaign recorded little success.\n",
    "The bank should focus more on specific categories, based on the visualizations, few working citizens, students and few senior citizens responded better to the campaign. Also, there should be follow up on clients that showed positive response and plan captivating strategies to target these markets. With little budget and targetd compaigns, the marketing strategies will be successful and imapctful.\n"
   ]
  },
  {
   "cell_type": "code",
   "execution_count": 24,
   "metadata": {},
   "outputs": [
    {
     "data": {
      "text/html": [
       "<div>\n",
       "<style scoped>\n",
       "    .dataframe tbody tr th:only-of-type {\n",
       "        vertical-align: middle;\n",
       "    }\n",
       "\n",
       "    .dataframe tbody tr th {\n",
       "        vertical-align: top;\n",
       "    }\n",
       "\n",
       "    .dataframe thead th {\n",
       "        text-align: right;\n",
       "    }\n",
       "</style>\n",
       "<table border=\"1\" class=\"dataframe\">\n",
       "  <thead>\n",
       "    <tr style=\"text-align: right;\">\n",
       "      <th></th>\n",
       "      <th>age</th>\n",
       "      <th>job</th>\n",
       "      <th>marital</th>\n",
       "      <th>education</th>\n",
       "      <th>default</th>\n",
       "      <th>housing</th>\n",
       "      <th>loan</th>\n",
       "      <th>contact</th>\n",
       "      <th>month</th>\n",
       "      <th>day_of_week</th>\n",
       "      <th>...</th>\n",
       "      <th>campaign</th>\n",
       "      <th>pdays</th>\n",
       "      <th>previous</th>\n",
       "      <th>poutcome</th>\n",
       "      <th>emp.var.rate</th>\n",
       "      <th>cons.price.idx</th>\n",
       "      <th>cons.conf.idx</th>\n",
       "      <th>euribor3m</th>\n",
       "      <th>nr.employed</th>\n",
       "      <th>y</th>\n",
       "    </tr>\n",
       "  </thead>\n",
       "  <tbody>\n",
       "    <tr>\n",
       "      <th>0</th>\n",
       "      <td>56</td>\n",
       "      <td>housemaid</td>\n",
       "      <td>married</td>\n",
       "      <td>basic.4y</td>\n",
       "      <td>no</td>\n",
       "      <td>no</td>\n",
       "      <td>no</td>\n",
       "      <td>telephone</td>\n",
       "      <td>may</td>\n",
       "      <td>mon</td>\n",
       "      <td>...</td>\n",
       "      <td>1</td>\n",
       "      <td>999</td>\n",
       "      <td>0</td>\n",
       "      <td>nonexistent</td>\n",
       "      <td>1.1</td>\n",
       "      <td>93.994</td>\n",
       "      <td>-36.4</td>\n",
       "      <td>4.857</td>\n",
       "      <td>5191.0</td>\n",
       "      <td>no</td>\n",
       "    </tr>\n",
       "    <tr>\n",
       "      <th>1</th>\n",
       "      <td>57</td>\n",
       "      <td>services</td>\n",
       "      <td>married</td>\n",
       "      <td>high.school</td>\n",
       "      <td>unknown</td>\n",
       "      <td>no</td>\n",
       "      <td>no</td>\n",
       "      <td>telephone</td>\n",
       "      <td>may</td>\n",
       "      <td>mon</td>\n",
       "      <td>...</td>\n",
       "      <td>1</td>\n",
       "      <td>999</td>\n",
       "      <td>0</td>\n",
       "      <td>nonexistent</td>\n",
       "      <td>1.1</td>\n",
       "      <td>93.994</td>\n",
       "      <td>-36.4</td>\n",
       "      <td>4.857</td>\n",
       "      <td>5191.0</td>\n",
       "      <td>no</td>\n",
       "    </tr>\n",
       "    <tr>\n",
       "      <th>2</th>\n",
       "      <td>37</td>\n",
       "      <td>services</td>\n",
       "      <td>married</td>\n",
       "      <td>high.school</td>\n",
       "      <td>no</td>\n",
       "      <td>yes</td>\n",
       "      <td>no</td>\n",
       "      <td>telephone</td>\n",
       "      <td>may</td>\n",
       "      <td>mon</td>\n",
       "      <td>...</td>\n",
       "      <td>1</td>\n",
       "      <td>999</td>\n",
       "      <td>0</td>\n",
       "      <td>nonexistent</td>\n",
       "      <td>1.1</td>\n",
       "      <td>93.994</td>\n",
       "      <td>-36.4</td>\n",
       "      <td>4.857</td>\n",
       "      <td>5191.0</td>\n",
       "      <td>no</td>\n",
       "    </tr>\n",
       "    <tr>\n",
       "      <th>3</th>\n",
       "      <td>40</td>\n",
       "      <td>admin.</td>\n",
       "      <td>married</td>\n",
       "      <td>basic.6y</td>\n",
       "      <td>no</td>\n",
       "      <td>no</td>\n",
       "      <td>no</td>\n",
       "      <td>telephone</td>\n",
       "      <td>may</td>\n",
       "      <td>mon</td>\n",
       "      <td>...</td>\n",
       "      <td>1</td>\n",
       "      <td>999</td>\n",
       "      <td>0</td>\n",
       "      <td>nonexistent</td>\n",
       "      <td>1.1</td>\n",
       "      <td>93.994</td>\n",
       "      <td>-36.4</td>\n",
       "      <td>4.857</td>\n",
       "      <td>5191.0</td>\n",
       "      <td>no</td>\n",
       "    </tr>\n",
       "    <tr>\n",
       "      <th>4</th>\n",
       "      <td>56</td>\n",
       "      <td>services</td>\n",
       "      <td>married</td>\n",
       "      <td>high.school</td>\n",
       "      <td>no</td>\n",
       "      <td>no</td>\n",
       "      <td>yes</td>\n",
       "      <td>telephone</td>\n",
       "      <td>may</td>\n",
       "      <td>mon</td>\n",
       "      <td>...</td>\n",
       "      <td>1</td>\n",
       "      <td>999</td>\n",
       "      <td>0</td>\n",
       "      <td>nonexistent</td>\n",
       "      <td>1.1</td>\n",
       "      <td>93.994</td>\n",
       "      <td>-36.4</td>\n",
       "      <td>4.857</td>\n",
       "      <td>5191.0</td>\n",
       "      <td>no</td>\n",
       "    </tr>\n",
       "  </tbody>\n",
       "</table>\n",
       "<p>5 rows × 21 columns</p>\n",
       "</div>"
      ],
      "text/plain": [
       "   age        job  marital    education  default housing loan    contact  \\\n",
       "0   56  housemaid  married     basic.4y       no      no   no  telephone   \n",
       "1   57   services  married  high.school  unknown      no   no  telephone   \n",
       "2   37   services  married  high.school       no     yes   no  telephone   \n",
       "3   40     admin.  married     basic.6y       no      no   no  telephone   \n",
       "4   56   services  married  high.school       no      no  yes  telephone   \n",
       "\n",
       "  month day_of_week  ...  campaign  pdays  previous     poutcome emp.var.rate  \\\n",
       "0   may         mon  ...         1    999         0  nonexistent          1.1   \n",
       "1   may         mon  ...         1    999         0  nonexistent          1.1   \n",
       "2   may         mon  ...         1    999         0  nonexistent          1.1   \n",
       "3   may         mon  ...         1    999         0  nonexistent          1.1   \n",
       "4   may         mon  ...         1    999         0  nonexistent          1.1   \n",
       "\n",
       "   cons.price.idx  cons.conf.idx  euribor3m  nr.employed   y  \n",
       "0          93.994          -36.4      4.857       5191.0  no  \n",
       "1          93.994          -36.4      4.857       5191.0  no  \n",
       "2          93.994          -36.4      4.857       5191.0  no  \n",
       "3          93.994          -36.4      4.857       5191.0  no  \n",
       "4          93.994          -36.4      4.857       5191.0  no  \n",
       "\n",
       "[5 rows x 21 columns]"
      ]
     },
     "execution_count": 24,
     "metadata": {},
     "output_type": "execute_result"
    }
   ],
   "source": [
    "bank.head()"
   ]
  },
  {
   "cell_type": "markdown",
   "metadata": {},
   "source": [
    "### Inspecting for multicollinearity of other features to the target variable 'y'"
   ]
  },
  {
   "cell_type": "code",
   "execution_count": 25,
   "metadata": {},
   "outputs": [
    {
     "data": {
      "text/plain": [
       "no     36548\n",
       "yes     4640\n",
       "Name: y, dtype: int64"
      ]
     },
     "execution_count": 25,
     "metadata": {},
     "output_type": "execute_result"
    }
   ],
   "source": [
    "bank['y'].value_counts()"
   ]
  },
  {
   "cell_type": "code",
   "execution_count": 26,
   "metadata": {},
   "outputs": [],
   "source": [
    "# Convert target variable into numeric\n",
    "bank['y1'] = bank.y.map({'no':0, 'yes':1}).astype('uint8')"
   ]
  },
  {
   "cell_type": "code",
   "execution_count": 27,
   "metadata": {},
   "outputs": [
    {
     "data": {
      "text/html": [
       "<style  type=\"text/css\" >\n",
       "#T_0f0c923e_5a3d_11eb_9209_d2569fa1abe8row0_col0,#T_0f0c923e_5a3d_11eb_9209_d2569fa1abe8row1_col1,#T_0f0c923e_5a3d_11eb_9209_d2569fa1abe8row2_col2,#T_0f0c923e_5a3d_11eb_9209_d2569fa1abe8row3_col3,#T_0f0c923e_5a3d_11eb_9209_d2569fa1abe8row4_col4,#T_0f0c923e_5a3d_11eb_9209_d2569fa1abe8row5_col5,#T_0f0c923e_5a3d_11eb_9209_d2569fa1abe8row6_col6,#T_0f0c923e_5a3d_11eb_9209_d2569fa1abe8row7_col7,#T_0f0c923e_5a3d_11eb_9209_d2569fa1abe8row8_col8,#T_0f0c923e_5a3d_11eb_9209_d2569fa1abe8row9_col9,#T_0f0c923e_5a3d_11eb_9209_d2569fa1abe8row10_col10{\n",
       "            background-color:  #023858;\n",
       "            color:  #f1f1f1;\n",
       "        }#T_0f0c923e_5a3d_11eb_9209_d2569fa1abe8row0_col1,#T_0f0c923e_5a3d_11eb_9209_d2569fa1abe8row10_col0{\n",
       "            background-color:  #f5eff6;\n",
       "            color:  #000000;\n",
       "        }#T_0f0c923e_5a3d_11eb_9209_d2569fa1abe8row0_col2,#T_0f0c923e_5a3d_11eb_9209_d2569fa1abe8row1_col7{\n",
       "            background-color:  #f4edf6;\n",
       "            color:  #000000;\n",
       "        }#T_0f0c923e_5a3d_11eb_9209_d2569fa1abe8row0_col3{\n",
       "            background-color:  #afc1dd;\n",
       "            color:  #000000;\n",
       "        }#T_0f0c923e_5a3d_11eb_9209_d2569fa1abe8row0_col4,#T_0f0c923e_5a3d_11eb_9209_d2569fa1abe8row1_col4{\n",
       "            background-color:  #a2bcda;\n",
       "            color:  #000000;\n",
       "        }#T_0f0c923e_5a3d_11eb_9209_d2569fa1abe8row0_col5{\n",
       "            background-color:  #c1cae2;\n",
       "            color:  #000000;\n",
       "        }#T_0f0c923e_5a3d_11eb_9209_d2569fa1abe8row0_col6{\n",
       "            background-color:  #e2dfee;\n",
       "            color:  #000000;\n",
       "        }#T_0f0c923e_5a3d_11eb_9209_d2569fa1abe8row0_col7{\n",
       "            background-color:  #dbdaeb;\n",
       "            color:  #000000;\n",
       "        }#T_0f0c923e_5a3d_11eb_9209_d2569fa1abe8row0_col8,#T_0f0c923e_5a3d_11eb_9209_d2569fa1abe8row2_col4{\n",
       "            background-color:  #b9c6e0;\n",
       "            color:  #000000;\n",
       "        }#T_0f0c923e_5a3d_11eb_9209_d2569fa1abe8row0_col9{\n",
       "            background-color:  #b8c6e0;\n",
       "            color:  #000000;\n",
       "        }#T_0f0c923e_5a3d_11eb_9209_d2569fa1abe8row0_col10{\n",
       "            background-color:  #c5cce3;\n",
       "            color:  #000000;\n",
       "        }#T_0f0c923e_5a3d_11eb_9209_d2569fa1abe8row1_col0,#T_0f0c923e_5a3d_11eb_9209_d2569fa1abe8row5_col0,#T_0f0c923e_5a3d_11eb_9209_d2569fa1abe8row6_col0,#T_0f0c923e_5a3d_11eb_9209_d2569fa1abe8row8_col10{\n",
       "            background-color:  #faf3f9;\n",
       "            color:  #000000;\n",
       "        }#T_0f0c923e_5a3d_11eb_9209_d2569fa1abe8row1_col2{\n",
       "            background-color:  #fef6fb;\n",
       "            color:  #000000;\n",
       "        }#T_0f0c923e_5a3d_11eb_9209_d2569fa1abe8row1_col3{\n",
       "            background-color:  #b1c2de;\n",
       "            color:  #000000;\n",
       "        }#T_0f0c923e_5a3d_11eb_9209_d2569fa1abe8row1_col5,#T_0f0c923e_5a3d_11eb_9209_d2569fa1abe8row2_col6{\n",
       "            background-color:  #c8cde4;\n",
       "            color:  #000000;\n",
       "        }#T_0f0c923e_5a3d_11eb_9209_d2569fa1abe8row1_col6{\n",
       "            background-color:  #e1dfed;\n",
       "            color:  #000000;\n",
       "        }#T_0f0c923e_5a3d_11eb_9209_d2569fa1abe8row1_col8{\n",
       "            background-color:  #c2cbe2;\n",
       "            color:  #000000;\n",
       "        }#T_0f0c923e_5a3d_11eb_9209_d2569fa1abe8row1_col9,#T_0f0c923e_5a3d_11eb_9209_d2569fa1abe8row7_col10{\n",
       "            background-color:  #bfc9e1;\n",
       "            color:  #000000;\n",
       "        }#T_0f0c923e_5a3d_11eb_9209_d2569fa1abe8row1_col10{\n",
       "            background-color:  #569dc8;\n",
       "            color:  #000000;\n",
       "        }#T_0f0c923e_5a3d_11eb_9209_d2569fa1abe8row2_col0,#T_0f0c923e_5a3d_11eb_9209_d2569fa1abe8row4_col7,#T_0f0c923e_5a3d_11eb_9209_d2569fa1abe8row8_col1{\n",
       "            background-color:  #faf2f8;\n",
       "            color:  #000000;\n",
       "        }#T_0f0c923e_5a3d_11eb_9209_d2569fa1abe8row2_col1,#T_0f0c923e_5a3d_11eb_9209_d2569fa1abe8row3_col0,#T_0f0c923e_5a3d_11eb_9209_d2569fa1abe8row3_col4,#T_0f0c923e_5a3d_11eb_9209_d2569fa1abe8row3_col7,#T_0f0c923e_5a3d_11eb_9209_d2569fa1abe8row4_col2,#T_0f0c923e_5a3d_11eb_9209_d2569fa1abe8row4_col3,#T_0f0c923e_5a3d_11eb_9209_d2569fa1abe8row4_col5,#T_0f0c923e_5a3d_11eb_9209_d2569fa1abe8row4_col6,#T_0f0c923e_5a3d_11eb_9209_d2569fa1abe8row4_col8,#T_0f0c923e_5a3d_11eb_9209_d2569fa1abe8row4_col9,#T_0f0c923e_5a3d_11eb_9209_d2569fa1abe8row9_col10{\n",
       "            background-color:  #fff7fb;\n",
       "            color:  #000000;\n",
       "        }#T_0f0c923e_5a3d_11eb_9209_d2569fa1abe8row2_col3,#T_0f0c923e_5a3d_11eb_9209_d2569fa1abe8row2_col8{\n",
       "            background-color:  #9ab8d8;\n",
       "            color:  #000000;\n",
       "        }#T_0f0c923e_5a3d_11eb_9209_d2569fa1abe8row2_col5,#T_0f0c923e_5a3d_11eb_9209_d2569fa1abe8row7_col9{\n",
       "            background-color:  #9cb9d9;\n",
       "            color:  #000000;\n",
       "        }#T_0f0c923e_5a3d_11eb_9209_d2569fa1abe8row2_col7,#T_0f0c923e_5a3d_11eb_9209_d2569fa1abe8row6_col1{\n",
       "            background-color:  #f4eef6;\n",
       "            color:  #000000;\n",
       "        }#T_0f0c923e_5a3d_11eb_9209_d2569fa1abe8row2_col9,#T_0f0c923e_5a3d_11eb_9209_d2569fa1abe8row4_col10{\n",
       "            background-color:  #8fb4d6;\n",
       "            color:  #000000;\n",
       "        }#T_0f0c923e_5a3d_11eb_9209_d2569fa1abe8row2_col10,#T_0f0c923e_5a3d_11eb_9209_d2569fa1abe8row5_col2{\n",
       "            background-color:  #d9d8ea;\n",
       "            color:  #000000;\n",
       "        }#T_0f0c923e_5a3d_11eb_9209_d2569fa1abe8row3_col1,#T_0f0c923e_5a3d_11eb_9209_d2569fa1abe8row3_col10{\n",
       "            background-color:  #fcf4fa;\n",
       "            color:  #000000;\n",
       "        }#T_0f0c923e_5a3d_11eb_9209_d2569fa1abe8row3_col2{\n",
       "            background-color:  #ede7f2;\n",
       "            color:  #000000;\n",
       "        }#T_0f0c923e_5a3d_11eb_9209_d2569fa1abe8row3_col5{\n",
       "            background-color:  #79abd0;\n",
       "            color:  #000000;\n",
       "        }#T_0f0c923e_5a3d_11eb_9209_d2569fa1abe8row3_col6{\n",
       "            background-color:  #d3d4e7;\n",
       "            color:  #000000;\n",
       "        }#T_0f0c923e_5a3d_11eb_9209_d2569fa1abe8row3_col8{\n",
       "            background-color:  #6ba5cd;\n",
       "            color:  #000000;\n",
       "        }#T_0f0c923e_5a3d_11eb_9209_d2569fa1abe8row3_col9{\n",
       "            background-color:  #4a98c5;\n",
       "            color:  #000000;\n",
       "        }#T_0f0c923e_5a3d_11eb_9209_d2569fa1abe8row4_col0,#T_0f0c923e_5a3d_11eb_9209_d2569fa1abe8row9_col4,#T_0f0c923e_5a3d_11eb_9209_d2569fa1abe8row10_col6{\n",
       "            background-color:  #f7f0f7;\n",
       "            color:  #000000;\n",
       "        }#T_0f0c923e_5a3d_11eb_9209_d2569fa1abe8row4_col1,#T_0f0c923e_5a3d_11eb_9209_d2569fa1abe8row8_col4,#T_0f0c923e_5a3d_11eb_9209_d2569fa1abe8row10_col5{\n",
       "            background-color:  #f2ecf5;\n",
       "            color:  #000000;\n",
       "        }#T_0f0c923e_5a3d_11eb_9209_d2569fa1abe8row5_col1,#T_0f0c923e_5a3d_11eb_9209_d2569fa1abe8row5_col10{\n",
       "            background-color:  #f9f2f8;\n",
       "            color:  #000000;\n",
       "        }#T_0f0c923e_5a3d_11eb_9209_d2569fa1abe8row5_col3{\n",
       "            background-color:  #60a1ca;\n",
       "            color:  #000000;\n",
       "        }#T_0f0c923e_5a3d_11eb_9209_d2569fa1abe8row5_col4,#T_0f0c923e_5a3d_11eb_9209_d2569fa1abe8row10_col8,#T_0f0c923e_5a3d_11eb_9209_d2569fa1abe8row10_col9{\n",
       "            background-color:  #f0eaf4;\n",
       "            color:  #000000;\n",
       "        }#T_0f0c923e_5a3d_11eb_9209_d2569fa1abe8row5_col6{\n",
       "            background-color:  #04649e;\n",
       "            color:  #f1f1f1;\n",
       "        }#T_0f0c923e_5a3d_11eb_9209_d2569fa1abe8row5_col7{\n",
       "            background-color:  #cccfe5;\n",
       "            color:  #000000;\n",
       "        }#T_0f0c923e_5a3d_11eb_9209_d2569fa1abe8row5_col8{\n",
       "            background-color:  #023c5f;\n",
       "            color:  #f1f1f1;\n",
       "        }#T_0f0c923e_5a3d_11eb_9209_d2569fa1abe8row5_col9{\n",
       "            background-color:  #034871;\n",
       "            color:  #f1f1f1;\n",
       "        }#T_0f0c923e_5a3d_11eb_9209_d2569fa1abe8row6_col2{\n",
       "            background-color:  #dddbec;\n",
       "            color:  #000000;\n",
       "        }#T_0f0c923e_5a3d_11eb_9209_d2569fa1abe8row6_col3{\n",
       "            background-color:  #94b6d7;\n",
       "            color:  #000000;\n",
       "        }#T_0f0c923e_5a3d_11eb_9209_d2569fa1abe8row6_col4{\n",
       "            background-color:  #d2d3e7;\n",
       "            color:  #000000;\n",
       "        }#T_0f0c923e_5a3d_11eb_9209_d2569fa1abe8row6_col5{\n",
       "            background-color:  #046096;\n",
       "            color:  #f1f1f1;\n",
       "        }#T_0f0c923e_5a3d_11eb_9209_d2569fa1abe8row6_col7{\n",
       "            background-color:  #e9e5f1;\n",
       "            color:  #000000;\n",
       "        }#T_0f0c923e_5a3d_11eb_9209_d2569fa1abe8row6_col8{\n",
       "            background-color:  #0569a5;\n",
       "            color:  #f1f1f1;\n",
       "        }#T_0f0c923e_5a3d_11eb_9209_d2569fa1abe8row6_col9{\n",
       "            background-color:  #2081b9;\n",
       "            color:  #000000;\n",
       "        }#T_0f0c923e_5a3d_11eb_9209_d2569fa1abe8row6_col10{\n",
       "            background-color:  #e4e1ef;\n",
       "            color:  #000000;\n",
       "        }#T_0f0c923e_5a3d_11eb_9209_d2569fa1abe8row7_col0{\n",
       "            background-color:  #e5e1ef;\n",
       "            color:  #000000;\n",
       "        }#T_0f0c923e_5a3d_11eb_9209_d2569fa1abe8row7_col1,#T_0f0c923e_5a3d_11eb_9209_d2569fa1abe8row7_col2{\n",
       "            background-color:  #f6eff7;\n",
       "            color:  #000000;\n",
       "        }#T_0f0c923e_5a3d_11eb_9209_d2569fa1abe8row7_col3{\n",
       "            background-color:  #bbc7e0;\n",
       "            color:  #000000;\n",
       "        }#T_0f0c923e_5a3d_11eb_9209_d2569fa1abe8row7_col4,#T_0f0c923e_5a3d_11eb_9209_d2569fa1abe8row8_col7{\n",
       "            background-color:  #b3c3de;\n",
       "            color:  #000000;\n",
       "        }#T_0f0c923e_5a3d_11eb_9209_d2569fa1abe8row7_col5{\n",
       "            background-color:  #8eb3d5;\n",
       "            color:  #000000;\n",
       "        }#T_0f0c923e_5a3d_11eb_9209_d2569fa1abe8row7_col6{\n",
       "            background-color:  #d8d7e9;\n",
       "            color:  #000000;\n",
       "        }#T_0f0c923e_5a3d_11eb_9209_d2569fa1abe8row7_col8{\n",
       "            background-color:  #73a9cf;\n",
       "            color:  #000000;\n",
       "        }#T_0f0c923e_5a3d_11eb_9209_d2569fa1abe8row8_col0{\n",
       "            background-color:  #f8f1f8;\n",
       "            color:  #000000;\n",
       "        }#T_0f0c923e_5a3d_11eb_9209_d2569fa1abe8row8_col2{\n",
       "            background-color:  #dcdaeb;\n",
       "            color:  #000000;\n",
       "        }#T_0f0c923e_5a3d_11eb_9209_d2569fa1abe8row8_col3{\n",
       "            background-color:  #589ec8;\n",
       "            color:  #000000;\n",
       "        }#T_0f0c923e_5a3d_11eb_9209_d2569fa1abe8row8_col5{\n",
       "            background-color:  #023d60;\n",
       "            color:  #f1f1f1;\n",
       "        }#T_0f0c923e_5a3d_11eb_9209_d2569fa1abe8row8_col6{\n",
       "            background-color:  #0872b1;\n",
       "            color:  #f1f1f1;\n",
       "        }#T_0f0c923e_5a3d_11eb_9209_d2569fa1abe8row8_col9,#T_0f0c923e_5a3d_11eb_9209_d2569fa1abe8row9_col8{\n",
       "            background-color:  #034267;\n",
       "            color:  #f1f1f1;\n",
       "        }#T_0f0c923e_5a3d_11eb_9209_d2569fa1abe8row9_col0,#T_0f0c923e_5a3d_11eb_9209_d2569fa1abe8row10_col2{\n",
       "            background-color:  #fdf5fa;\n",
       "            color:  #000000;\n",
       "        }#T_0f0c923e_5a3d_11eb_9209_d2569fa1abe8row9_col1{\n",
       "            background-color:  #fbf4f9;\n",
       "            color:  #000000;\n",
       "        }#T_0f0c923e_5a3d_11eb_9209_d2569fa1abe8row9_col2{\n",
       "            background-color:  #dad9ea;\n",
       "            color:  #000000;\n",
       "        }#T_0f0c923e_5a3d_11eb_9209_d2569fa1abe8row9_col3,#T_0f0c923e_5a3d_11eb_9209_d2569fa1abe8row9_col6{\n",
       "            background-color:  #4094c3;\n",
       "            color:  #000000;\n",
       "        }#T_0f0c923e_5a3d_11eb_9209_d2569fa1abe8row9_col5{\n",
       "            background-color:  #034973;\n",
       "            color:  #f1f1f1;\n",
       "        }#T_0f0c923e_5a3d_11eb_9209_d2569fa1abe8row9_col7{\n",
       "            background-color:  #e0deed;\n",
       "            color:  #000000;\n",
       "        }#T_0f0c923e_5a3d_11eb_9209_d2569fa1abe8row10_col1{\n",
       "            background-color:  #8bb2d4;\n",
       "            color:  #000000;\n",
       "        }#T_0f0c923e_5a3d_11eb_9209_d2569fa1abe8row10_col3{\n",
       "            background-color:  #e3e0ee;\n",
       "            color:  #000000;\n",
       "        }#T_0f0c923e_5a3d_11eb_9209_d2569fa1abe8row10_col4{\n",
       "            background-color:  #6da6cd;\n",
       "            color:  #000000;\n",
       "        }#T_0f0c923e_5a3d_11eb_9209_d2569fa1abe8row10_col7{\n",
       "            background-color:  #eae6f1;\n",
       "            color:  #000000;\n",
       "        }</style><table id=\"T_0f0c923e_5a3d_11eb_9209_d2569fa1abe8\" ><thead>    <tr>        <th class=\"blank level0\" ></th>        <th class=\"col_heading level0 col0\" >age</th>        <th class=\"col_heading level0 col1\" >duration</th>        <th class=\"col_heading level0 col2\" >campaign</th>        <th class=\"col_heading level0 col3\" >pdays</th>        <th class=\"col_heading level0 col4\" >previous</th>        <th class=\"col_heading level0 col5\" >emp.var.rate</th>        <th class=\"col_heading level0 col6\" >cons.price.idx</th>        <th class=\"col_heading level0 col7\" >cons.conf.idx</th>        <th class=\"col_heading level0 col8\" >euribor3m</th>        <th class=\"col_heading level0 col9\" >nr.employed</th>        <th class=\"col_heading level0 col10\" >y1</th>    </tr></thead><tbody>\n",
       "                <tr>\n",
       "                        <th id=\"T_0f0c923e_5a3d_11eb_9209_d2569fa1abe8level0_row0\" class=\"row_heading level0 row0\" >age</th>\n",
       "                        <td id=\"T_0f0c923e_5a3d_11eb_9209_d2569fa1abe8row0_col0\" class=\"data row0 col0\" >1.000000</td>\n",
       "                        <td id=\"T_0f0c923e_5a3d_11eb_9209_d2569fa1abe8row0_col1\" class=\"data row0 col1\" >-0.000866</td>\n",
       "                        <td id=\"T_0f0c923e_5a3d_11eb_9209_d2569fa1abe8row0_col2\" class=\"data row0 col2\" >0.004594</td>\n",
       "                        <td id=\"T_0f0c923e_5a3d_11eb_9209_d2569fa1abe8row0_col3\" class=\"data row0 col3\" >-0.034369</td>\n",
       "                        <td id=\"T_0f0c923e_5a3d_11eb_9209_d2569fa1abe8row0_col4\" class=\"data row0 col4\" >0.024365</td>\n",
       "                        <td id=\"T_0f0c923e_5a3d_11eb_9209_d2569fa1abe8row0_col5\" class=\"data row0 col5\" >-0.000371</td>\n",
       "                        <td id=\"T_0f0c923e_5a3d_11eb_9209_d2569fa1abe8row0_col6\" class=\"data row0 col6\" >0.000857</td>\n",
       "                        <td id=\"T_0f0c923e_5a3d_11eb_9209_d2569fa1abe8row0_col7\" class=\"data row0 col7\" >0.129372</td>\n",
       "                        <td id=\"T_0f0c923e_5a3d_11eb_9209_d2569fa1abe8row0_col8\" class=\"data row0 col8\" >0.010767</td>\n",
       "                        <td id=\"T_0f0c923e_5a3d_11eb_9209_d2569fa1abe8row0_col9\" class=\"data row0 col9\" >-0.017725</td>\n",
       "                        <td id=\"T_0f0c923e_5a3d_11eb_9209_d2569fa1abe8row0_col10\" class=\"data row0 col10\" >0.030399</td>\n",
       "            </tr>\n",
       "            <tr>\n",
       "                        <th id=\"T_0f0c923e_5a3d_11eb_9209_d2569fa1abe8level0_row1\" class=\"row_heading level0 row1\" >duration</th>\n",
       "                        <td id=\"T_0f0c923e_5a3d_11eb_9209_d2569fa1abe8row1_col0\" class=\"data row1 col0\" >-0.000866</td>\n",
       "                        <td id=\"T_0f0c923e_5a3d_11eb_9209_d2569fa1abe8row1_col1\" class=\"data row1 col1\" >1.000000</td>\n",
       "                        <td id=\"T_0f0c923e_5a3d_11eb_9209_d2569fa1abe8row1_col2\" class=\"data row1 col2\" >-0.071699</td>\n",
       "                        <td id=\"T_0f0c923e_5a3d_11eb_9209_d2569fa1abe8row1_col3\" class=\"data row1 col3\" >-0.047577</td>\n",
       "                        <td id=\"T_0f0c923e_5a3d_11eb_9209_d2569fa1abe8row1_col4\" class=\"data row1 col4\" >0.020640</td>\n",
       "                        <td id=\"T_0f0c923e_5a3d_11eb_9209_d2569fa1abe8row1_col5\" class=\"data row1 col5\" >-0.027968</td>\n",
       "                        <td id=\"T_0f0c923e_5a3d_11eb_9209_d2569fa1abe8row1_col6\" class=\"data row1 col6\" >0.005312</td>\n",
       "                        <td id=\"T_0f0c923e_5a3d_11eb_9209_d2569fa1abe8row1_col7\" class=\"data row1 col7\" >-0.008173</td>\n",
       "                        <td id=\"T_0f0c923e_5a3d_11eb_9209_d2569fa1abe8row1_col8\" class=\"data row1 col8\" >-0.032897</td>\n",
       "                        <td id=\"T_0f0c923e_5a3d_11eb_9209_d2569fa1abe8row1_col9\" class=\"data row1 col9\" >-0.044703</td>\n",
       "                        <td id=\"T_0f0c923e_5a3d_11eb_9209_d2569fa1abe8row1_col10\" class=\"data row1 col10\" >0.405274</td>\n",
       "            </tr>\n",
       "            <tr>\n",
       "                        <th id=\"T_0f0c923e_5a3d_11eb_9209_d2569fa1abe8level0_row2\" class=\"row_heading level0 row2\" >campaign</th>\n",
       "                        <td id=\"T_0f0c923e_5a3d_11eb_9209_d2569fa1abe8row2_col0\" class=\"data row2 col0\" >0.004594</td>\n",
       "                        <td id=\"T_0f0c923e_5a3d_11eb_9209_d2569fa1abe8row2_col1\" class=\"data row2 col1\" >-0.071699</td>\n",
       "                        <td id=\"T_0f0c923e_5a3d_11eb_9209_d2569fa1abe8row2_col2\" class=\"data row2 col2\" >1.000000</td>\n",
       "                        <td id=\"T_0f0c923e_5a3d_11eb_9209_d2569fa1abe8row2_col3\" class=\"data row2 col3\" >0.052584</td>\n",
       "                        <td id=\"T_0f0c923e_5a3d_11eb_9209_d2569fa1abe8row2_col4\" class=\"data row2 col4\" >-0.079141</td>\n",
       "                        <td id=\"T_0f0c923e_5a3d_11eb_9209_d2569fa1abe8row2_col5\" class=\"data row2 col5\" >0.150754</td>\n",
       "                        <td id=\"T_0f0c923e_5a3d_11eb_9209_d2569fa1abe8row2_col6\" class=\"data row2 col6\" >0.127836</td>\n",
       "                        <td id=\"T_0f0c923e_5a3d_11eb_9209_d2569fa1abe8row2_col7\" class=\"data row2 col7\" >-0.013733</td>\n",
       "                        <td id=\"T_0f0c923e_5a3d_11eb_9209_d2569fa1abe8row2_col8\" class=\"data row2 col8\" >0.135133</td>\n",
       "                        <td id=\"T_0f0c923e_5a3d_11eb_9209_d2569fa1abe8row2_col9\" class=\"data row2 col9\" >0.144095</td>\n",
       "                        <td id=\"T_0f0c923e_5a3d_11eb_9209_d2569fa1abe8row2_col10\" class=\"data row2 col10\" >-0.066357</td>\n",
       "            </tr>\n",
       "            <tr>\n",
       "                        <th id=\"T_0f0c923e_5a3d_11eb_9209_d2569fa1abe8level0_row3\" class=\"row_heading level0 row3\" >pdays</th>\n",
       "                        <td id=\"T_0f0c923e_5a3d_11eb_9209_d2569fa1abe8row3_col0\" class=\"data row3 col0\" >-0.034369</td>\n",
       "                        <td id=\"T_0f0c923e_5a3d_11eb_9209_d2569fa1abe8row3_col1\" class=\"data row3 col1\" >-0.047577</td>\n",
       "                        <td id=\"T_0f0c923e_5a3d_11eb_9209_d2569fa1abe8row3_col2\" class=\"data row3 col2\" >0.052584</td>\n",
       "                        <td id=\"T_0f0c923e_5a3d_11eb_9209_d2569fa1abe8row3_col3\" class=\"data row3 col3\" >1.000000</td>\n",
       "                        <td id=\"T_0f0c923e_5a3d_11eb_9209_d2569fa1abe8row3_col4\" class=\"data row3 col4\" >-0.587514</td>\n",
       "                        <td id=\"T_0f0c923e_5a3d_11eb_9209_d2569fa1abe8row3_col5\" class=\"data row3 col5\" >0.271004</td>\n",
       "                        <td id=\"T_0f0c923e_5a3d_11eb_9209_d2569fa1abe8row3_col6\" class=\"data row3 col6\" >0.078889</td>\n",
       "                        <td id=\"T_0f0c923e_5a3d_11eb_9209_d2569fa1abe8row3_col7\" class=\"data row3 col7\" >-0.091342</td>\n",
       "                        <td id=\"T_0f0c923e_5a3d_11eb_9209_d2569fa1abe8row3_col8\" class=\"data row3 col8\" >0.296899</td>\n",
       "                        <td id=\"T_0f0c923e_5a3d_11eb_9209_d2569fa1abe8row3_col9\" class=\"data row3 col9\" >0.372605</td>\n",
       "                        <td id=\"T_0f0c923e_5a3d_11eb_9209_d2569fa1abe8row3_col10\" class=\"data row3 col10\" >-0.324914</td>\n",
       "            </tr>\n",
       "            <tr>\n",
       "                        <th id=\"T_0f0c923e_5a3d_11eb_9209_d2569fa1abe8level0_row4\" class=\"row_heading level0 row4\" >previous</th>\n",
       "                        <td id=\"T_0f0c923e_5a3d_11eb_9209_d2569fa1abe8row4_col0\" class=\"data row4 col0\" >0.024365</td>\n",
       "                        <td id=\"T_0f0c923e_5a3d_11eb_9209_d2569fa1abe8row4_col1\" class=\"data row4 col1\" >0.020640</td>\n",
       "                        <td id=\"T_0f0c923e_5a3d_11eb_9209_d2569fa1abe8row4_col2\" class=\"data row4 col2\" >-0.079141</td>\n",
       "                        <td id=\"T_0f0c923e_5a3d_11eb_9209_d2569fa1abe8row4_col3\" class=\"data row4 col3\" >-0.587514</td>\n",
       "                        <td id=\"T_0f0c923e_5a3d_11eb_9209_d2569fa1abe8row4_col4\" class=\"data row4 col4\" >1.000000</td>\n",
       "                        <td id=\"T_0f0c923e_5a3d_11eb_9209_d2569fa1abe8row4_col5\" class=\"data row4 col5\" >-0.420489</td>\n",
       "                        <td id=\"T_0f0c923e_5a3d_11eb_9209_d2569fa1abe8row4_col6\" class=\"data row4 col6\" >-0.203130</td>\n",
       "                        <td id=\"T_0f0c923e_5a3d_11eb_9209_d2569fa1abe8row4_col7\" class=\"data row4 col7\" >-0.050936</td>\n",
       "                        <td id=\"T_0f0c923e_5a3d_11eb_9209_d2569fa1abe8row4_col8\" class=\"data row4 col8\" >-0.454494</td>\n",
       "                        <td id=\"T_0f0c923e_5a3d_11eb_9209_d2569fa1abe8row4_col9\" class=\"data row4 col9\" >-0.501333</td>\n",
       "                        <td id=\"T_0f0c923e_5a3d_11eb_9209_d2569fa1abe8row4_col10\" class=\"data row4 col10\" >0.230181</td>\n",
       "            </tr>\n",
       "            <tr>\n",
       "                        <th id=\"T_0f0c923e_5a3d_11eb_9209_d2569fa1abe8level0_row5\" class=\"row_heading level0 row5\" >emp.var.rate</th>\n",
       "                        <td id=\"T_0f0c923e_5a3d_11eb_9209_d2569fa1abe8row5_col0\" class=\"data row5 col0\" >-0.000371</td>\n",
       "                        <td id=\"T_0f0c923e_5a3d_11eb_9209_d2569fa1abe8row5_col1\" class=\"data row5 col1\" >-0.027968</td>\n",
       "                        <td id=\"T_0f0c923e_5a3d_11eb_9209_d2569fa1abe8row5_col2\" class=\"data row5 col2\" >0.150754</td>\n",
       "                        <td id=\"T_0f0c923e_5a3d_11eb_9209_d2569fa1abe8row5_col3\" class=\"data row5 col3\" >0.271004</td>\n",
       "                        <td id=\"T_0f0c923e_5a3d_11eb_9209_d2569fa1abe8row5_col4\" class=\"data row5 col4\" >-0.420489</td>\n",
       "                        <td id=\"T_0f0c923e_5a3d_11eb_9209_d2569fa1abe8row5_col5\" class=\"data row5 col5\" >1.000000</td>\n",
       "                        <td id=\"T_0f0c923e_5a3d_11eb_9209_d2569fa1abe8row5_col6\" class=\"data row5 col6\" >0.775334</td>\n",
       "                        <td id=\"T_0f0c923e_5a3d_11eb_9209_d2569fa1abe8row5_col7\" class=\"data row5 col7\" >0.196041</td>\n",
       "                        <td id=\"T_0f0c923e_5a3d_11eb_9209_d2569fa1abe8row5_col8\" class=\"data row5 col8\" >0.972245</td>\n",
       "                        <td id=\"T_0f0c923e_5a3d_11eb_9209_d2569fa1abe8row5_col9\" class=\"data row5 col9\" >0.906970</td>\n",
       "                        <td id=\"T_0f0c923e_5a3d_11eb_9209_d2569fa1abe8row5_col10\" class=\"data row5 col10\" >-0.298334</td>\n",
       "            </tr>\n",
       "            <tr>\n",
       "                        <th id=\"T_0f0c923e_5a3d_11eb_9209_d2569fa1abe8level0_row6\" class=\"row_heading level0 row6\" >cons.price.idx</th>\n",
       "                        <td id=\"T_0f0c923e_5a3d_11eb_9209_d2569fa1abe8row6_col0\" class=\"data row6 col0\" >0.000857</td>\n",
       "                        <td id=\"T_0f0c923e_5a3d_11eb_9209_d2569fa1abe8row6_col1\" class=\"data row6 col1\" >0.005312</td>\n",
       "                        <td id=\"T_0f0c923e_5a3d_11eb_9209_d2569fa1abe8row6_col2\" class=\"data row6 col2\" >0.127836</td>\n",
       "                        <td id=\"T_0f0c923e_5a3d_11eb_9209_d2569fa1abe8row6_col3\" class=\"data row6 col3\" >0.078889</td>\n",
       "                        <td id=\"T_0f0c923e_5a3d_11eb_9209_d2569fa1abe8row6_col4\" class=\"data row6 col4\" >-0.203130</td>\n",
       "                        <td id=\"T_0f0c923e_5a3d_11eb_9209_d2569fa1abe8row6_col5\" class=\"data row6 col5\" >0.775334</td>\n",
       "                        <td id=\"T_0f0c923e_5a3d_11eb_9209_d2569fa1abe8row6_col6\" class=\"data row6 col6\" >1.000000</td>\n",
       "                        <td id=\"T_0f0c923e_5a3d_11eb_9209_d2569fa1abe8row6_col7\" class=\"data row6 col7\" >0.058986</td>\n",
       "                        <td id=\"T_0f0c923e_5a3d_11eb_9209_d2569fa1abe8row6_col8\" class=\"data row6 col8\" >0.688230</td>\n",
       "                        <td id=\"T_0f0c923e_5a3d_11eb_9209_d2569fa1abe8row6_col9\" class=\"data row6 col9\" >0.522034</td>\n",
       "                        <td id=\"T_0f0c923e_5a3d_11eb_9209_d2569fa1abe8row6_col10\" class=\"data row6 col10\" >-0.136211</td>\n",
       "            </tr>\n",
       "            <tr>\n",
       "                        <th id=\"T_0f0c923e_5a3d_11eb_9209_d2569fa1abe8level0_row7\" class=\"row_heading level0 row7\" >cons.conf.idx</th>\n",
       "                        <td id=\"T_0f0c923e_5a3d_11eb_9209_d2569fa1abe8row7_col0\" class=\"data row7 col0\" >0.129372</td>\n",
       "                        <td id=\"T_0f0c923e_5a3d_11eb_9209_d2569fa1abe8row7_col1\" class=\"data row7 col1\" >-0.008173</td>\n",
       "                        <td id=\"T_0f0c923e_5a3d_11eb_9209_d2569fa1abe8row7_col2\" class=\"data row7 col2\" >-0.013733</td>\n",
       "                        <td id=\"T_0f0c923e_5a3d_11eb_9209_d2569fa1abe8row7_col3\" class=\"data row7 col3\" >-0.091342</td>\n",
       "                        <td id=\"T_0f0c923e_5a3d_11eb_9209_d2569fa1abe8row7_col4\" class=\"data row7 col4\" >-0.050936</td>\n",
       "                        <td id=\"T_0f0c923e_5a3d_11eb_9209_d2569fa1abe8row7_col5\" class=\"data row7 col5\" >0.196041</td>\n",
       "                        <td id=\"T_0f0c923e_5a3d_11eb_9209_d2569fa1abe8row7_col6\" class=\"data row7 col6\" >0.058986</td>\n",
       "                        <td id=\"T_0f0c923e_5a3d_11eb_9209_d2569fa1abe8row7_col7\" class=\"data row7 col7\" >1.000000</td>\n",
       "                        <td id=\"T_0f0c923e_5a3d_11eb_9209_d2569fa1abe8row7_col8\" class=\"data row7 col8\" >0.277686</td>\n",
       "                        <td id=\"T_0f0c923e_5a3d_11eb_9209_d2569fa1abe8row7_col9\" class=\"data row7 col9\" >0.100513</td>\n",
       "                        <td id=\"T_0f0c923e_5a3d_11eb_9209_d2569fa1abe8row7_col10\" class=\"data row7 col10\" >0.054878</td>\n",
       "            </tr>\n",
       "            <tr>\n",
       "                        <th id=\"T_0f0c923e_5a3d_11eb_9209_d2569fa1abe8level0_row8\" class=\"row_heading level0 row8\" >euribor3m</th>\n",
       "                        <td id=\"T_0f0c923e_5a3d_11eb_9209_d2569fa1abe8row8_col0\" class=\"data row8 col0\" >0.010767</td>\n",
       "                        <td id=\"T_0f0c923e_5a3d_11eb_9209_d2569fa1abe8row8_col1\" class=\"data row8 col1\" >-0.032897</td>\n",
       "                        <td id=\"T_0f0c923e_5a3d_11eb_9209_d2569fa1abe8row8_col2\" class=\"data row8 col2\" >0.135133</td>\n",
       "                        <td id=\"T_0f0c923e_5a3d_11eb_9209_d2569fa1abe8row8_col3\" class=\"data row8 col3\" >0.296899</td>\n",
       "                        <td id=\"T_0f0c923e_5a3d_11eb_9209_d2569fa1abe8row8_col4\" class=\"data row8 col4\" >-0.454494</td>\n",
       "                        <td id=\"T_0f0c923e_5a3d_11eb_9209_d2569fa1abe8row8_col5\" class=\"data row8 col5\" >0.972245</td>\n",
       "                        <td id=\"T_0f0c923e_5a3d_11eb_9209_d2569fa1abe8row8_col6\" class=\"data row8 col6\" >0.688230</td>\n",
       "                        <td id=\"T_0f0c923e_5a3d_11eb_9209_d2569fa1abe8row8_col7\" class=\"data row8 col7\" >0.277686</td>\n",
       "                        <td id=\"T_0f0c923e_5a3d_11eb_9209_d2569fa1abe8row8_col8\" class=\"data row8 col8\" >1.000000</td>\n",
       "                        <td id=\"T_0f0c923e_5a3d_11eb_9209_d2569fa1abe8row8_col9\" class=\"data row8 col9\" >0.945154</td>\n",
       "                        <td id=\"T_0f0c923e_5a3d_11eb_9209_d2569fa1abe8row8_col10\" class=\"data row8 col10\" >-0.307771</td>\n",
       "            </tr>\n",
       "            <tr>\n",
       "                        <th id=\"T_0f0c923e_5a3d_11eb_9209_d2569fa1abe8level0_row9\" class=\"row_heading level0 row9\" >nr.employed</th>\n",
       "                        <td id=\"T_0f0c923e_5a3d_11eb_9209_d2569fa1abe8row9_col0\" class=\"data row9 col0\" >-0.017725</td>\n",
       "                        <td id=\"T_0f0c923e_5a3d_11eb_9209_d2569fa1abe8row9_col1\" class=\"data row9 col1\" >-0.044703</td>\n",
       "                        <td id=\"T_0f0c923e_5a3d_11eb_9209_d2569fa1abe8row9_col2\" class=\"data row9 col2\" >0.144095</td>\n",
       "                        <td id=\"T_0f0c923e_5a3d_11eb_9209_d2569fa1abe8row9_col3\" class=\"data row9 col3\" >0.372605</td>\n",
       "                        <td id=\"T_0f0c923e_5a3d_11eb_9209_d2569fa1abe8row9_col4\" class=\"data row9 col4\" >-0.501333</td>\n",
       "                        <td id=\"T_0f0c923e_5a3d_11eb_9209_d2569fa1abe8row9_col5\" class=\"data row9 col5\" >0.906970</td>\n",
       "                        <td id=\"T_0f0c923e_5a3d_11eb_9209_d2569fa1abe8row9_col6\" class=\"data row9 col6\" >0.522034</td>\n",
       "                        <td id=\"T_0f0c923e_5a3d_11eb_9209_d2569fa1abe8row9_col7\" class=\"data row9 col7\" >0.100513</td>\n",
       "                        <td id=\"T_0f0c923e_5a3d_11eb_9209_d2569fa1abe8row9_col8\" class=\"data row9 col8\" >0.945154</td>\n",
       "                        <td id=\"T_0f0c923e_5a3d_11eb_9209_d2569fa1abe8row9_col9\" class=\"data row9 col9\" >1.000000</td>\n",
       "                        <td id=\"T_0f0c923e_5a3d_11eb_9209_d2569fa1abe8row9_col10\" class=\"data row9 col10\" >-0.354678</td>\n",
       "            </tr>\n",
       "            <tr>\n",
       "                        <th id=\"T_0f0c923e_5a3d_11eb_9209_d2569fa1abe8level0_row10\" class=\"row_heading level0 row10\" >y1</th>\n",
       "                        <td id=\"T_0f0c923e_5a3d_11eb_9209_d2569fa1abe8row10_col0\" class=\"data row10 col0\" >0.030399</td>\n",
       "                        <td id=\"T_0f0c923e_5a3d_11eb_9209_d2569fa1abe8row10_col1\" class=\"data row10 col1\" >0.405274</td>\n",
       "                        <td id=\"T_0f0c923e_5a3d_11eb_9209_d2569fa1abe8row10_col2\" class=\"data row10 col2\" >-0.066357</td>\n",
       "                        <td id=\"T_0f0c923e_5a3d_11eb_9209_d2569fa1abe8row10_col3\" class=\"data row10 col3\" >-0.324914</td>\n",
       "                        <td id=\"T_0f0c923e_5a3d_11eb_9209_d2569fa1abe8row10_col4\" class=\"data row10 col4\" >0.230181</td>\n",
       "                        <td id=\"T_0f0c923e_5a3d_11eb_9209_d2569fa1abe8row10_col5\" class=\"data row10 col5\" >-0.298334</td>\n",
       "                        <td id=\"T_0f0c923e_5a3d_11eb_9209_d2569fa1abe8row10_col6\" class=\"data row10 col6\" >-0.136211</td>\n",
       "                        <td id=\"T_0f0c923e_5a3d_11eb_9209_d2569fa1abe8row10_col7\" class=\"data row10 col7\" >0.054878</td>\n",
       "                        <td id=\"T_0f0c923e_5a3d_11eb_9209_d2569fa1abe8row10_col8\" class=\"data row10 col8\" >-0.307771</td>\n",
       "                        <td id=\"T_0f0c923e_5a3d_11eb_9209_d2569fa1abe8row10_col9\" class=\"data row10 col9\" >-0.354678</td>\n",
       "                        <td id=\"T_0f0c923e_5a3d_11eb_9209_d2569fa1abe8row10_col10\" class=\"data row10 col10\" >1.000000</td>\n",
       "            </tr>\n",
       "    </tbody></table>"
      ],
      "text/plain": [
       "<pandas.io.formats.style.Styler at 0x1e419c111c0>"
      ]
     },
     "execution_count": 27,
     "metadata": {},
     "output_type": "execute_result"
    }
   ],
   "source": [
    "# Build correlation matrix\n",
    "bank_corr = bank.corr()\n",
    "bank_corr.style.background_gradient(cmap='PuBu')"
   ]
  },
  {
   "cell_type": "code",
   "execution_count": 28,
   "metadata": {},
   "outputs": [],
   "source": [
    "#bank.corr()"
   ]
  },
  {
   "cell_type": "code",
   "execution_count": 29,
   "metadata": {},
   "outputs": [
    {
     "data": {
      "image/png": "[encoded data removed]",
      "text/plain": [
       "<Figure size 1080x1080 with 2 Axes>"
      ]
     },
     "metadata": {
      "needs_background": "light"
     },
     "output_type": "display_data"
    }
   ],
   "source": [
    "# Build correlation matrix using heatmap\n",
    "import seaborn as sns\n",
    "\n",
    "bank_corr = bank.corr()\n",
    "f, ax = plt.subplots(figsize=(15, 15))\n",
    "mask = np.triu(np.ones_like(bank_corr, dtype=bool)) # removing the other side of the heatmap\n",
    "cmap = sns.diverging_palette(230, 20, as_cmap=True) #preparing cmap\n",
    "sns.heatmap(bank_corr,mask=mask,cmap=cmap,linewidths=.5,square=True,annot=True)\n",
    "plt.show()"
   ]
  },
  {
   "cell_type": "code",
   "execution_count": 30,
   "metadata": {},
   "outputs": [],
   "source": [
    "# euribor3m: euribor 3 month rate - daily indicator\n",
    "# nr.employed: number of employees - quarterly indicator"
   ]
  },
  {
   "cell_type": "markdown",
   "metadata": {},
   "source": [
    "From correlation matrix we observe next:\n",
    "\n",
    "The most correlated with target feature is call duration. Also, we have multicollinearity features of Euribor3m, nr.employed, and \temp.var.rate. These columns does the same thing in correlation and we have to remove one or two of them to prevent a bias prediction in our model"
   ]
  },
  {
   "cell_type": "markdown",
   "metadata": {},
   "source": [
    "## Remove Column multicollinearity\n",
    "\n"
   ]
  },
  {
   "cell_type": "code",
   "execution_count": 31,
   "metadata": {},
   "outputs": [],
   "source": [
    "# euribor3m - this column means euribor 3 month rate - daily indicator\n",
    "# nr.employed - number of employees - quarterly indicator Output variable (desired target):\n",
    "\n",
    "bank_df_after_drop = bank.drop(['euribor3m', 'emp.var.rate'], axis=1)"
   ]
  },
  {
   "cell_type": "code",
   "execution_count": 32,
   "metadata": {},
   "outputs": [
    {
     "data": {
      "text/html": [
       "<div>\n",
       "<style scoped>\n",
       "    .dataframe tbody tr th:only-of-type {\n",
       "        vertical-align: middle;\n",
       "    }\n",
       "\n",
       "    .dataframe tbody tr th {\n",
       "        vertical-align: top;\n",
       "    }\n",
       "\n",
       "    .dataframe thead th {\n",
       "        text-align: right;\n",
       "    }\n",
       "</style>\n",
       "<table border=\"1\" class=\"dataframe\">\n",
       "  <thead>\n",
       "    <tr style=\"text-align: right;\">\n",
       "      <th></th>\n",
       "      <th>age</th>\n",
       "      <th>job</th>\n",
       "      <th>marital</th>\n",
       "      <th>education</th>\n",
       "      <th>default</th>\n",
       "      <th>housing</th>\n",
       "      <th>loan</th>\n",
       "      <th>contact</th>\n",
       "      <th>month</th>\n",
       "      <th>day_of_week</th>\n",
       "      <th>duration</th>\n",
       "      <th>campaign</th>\n",
       "      <th>pdays</th>\n",
       "      <th>previous</th>\n",
       "      <th>poutcome</th>\n",
       "      <th>cons.price.idx</th>\n",
       "      <th>cons.conf.idx</th>\n",
       "      <th>nr.employed</th>\n",
       "      <th>y</th>\n",
       "      <th>y1</th>\n",
       "    </tr>\n",
       "  </thead>\n",
       "  <tbody>\n",
       "    <tr>\n",
       "      <th>0</th>\n",
       "      <td>56</td>\n",
       "      <td>housemaid</td>\n",
       "      <td>married</td>\n",
       "      <td>basic.4y</td>\n",
       "      <td>no</td>\n",
       "      <td>no</td>\n",
       "      <td>no</td>\n",
       "      <td>telephone</td>\n",
       "      <td>may</td>\n",
       "      <td>mon</td>\n",
       "      <td>261</td>\n",
       "      <td>1</td>\n",
       "      <td>999</td>\n",
       "      <td>0</td>\n",
       "      <td>nonexistent</td>\n",
       "      <td>93.994</td>\n",
       "      <td>-36.4</td>\n",
       "      <td>5191.0</td>\n",
       "      <td>no</td>\n",
       "      <td>0</td>\n",
       "    </tr>\n",
       "    <tr>\n",
       "      <th>1</th>\n",
       "      <td>57</td>\n",
       "      <td>services</td>\n",
       "      <td>married</td>\n",
       "      <td>high.school</td>\n",
       "      <td>unknown</td>\n",
       "      <td>no</td>\n",
       "      <td>no</td>\n",
       "      <td>telephone</td>\n",
       "      <td>may</td>\n",
       "      <td>mon</td>\n",
       "      <td>149</td>\n",
       "      <td>1</td>\n",
       "      <td>999</td>\n",
       "      <td>0</td>\n",
       "      <td>nonexistent</td>\n",
       "      <td>93.994</td>\n",
       "      <td>-36.4</td>\n",
       "      <td>5191.0</td>\n",
       "      <td>no</td>\n",
       "      <td>0</td>\n",
       "    </tr>\n",
       "    <tr>\n",
       "      <th>2</th>\n",
       "      <td>37</td>\n",
       "      <td>services</td>\n",
       "      <td>married</td>\n",
       "      <td>high.school</td>\n",
       "      <td>no</td>\n",
       "      <td>yes</td>\n",
       "      <td>no</td>\n",
       "      <td>telephone</td>\n",
       "      <td>may</td>\n",
       "      <td>mon</td>\n",
       "      <td>226</td>\n",
       "      <td>1</td>\n",
       "      <td>999</td>\n",
       "      <td>0</td>\n",
       "      <td>nonexistent</td>\n",
       "      <td>93.994</td>\n",
       "      <td>-36.4</td>\n",
       "      <td>5191.0</td>\n",
       "      <td>no</td>\n",
       "      <td>0</td>\n",
       "    </tr>\n",
       "    <tr>\n",
       "      <th>3</th>\n",
       "      <td>40</td>\n",
       "      <td>admin.</td>\n",
       "      <td>married</td>\n",
       "      <td>basic.6y</td>\n",
       "      <td>no</td>\n",
       "      <td>no</td>\n",
       "      <td>no</td>\n",
       "      <td>telephone</td>\n",
       "      <td>may</td>\n",
       "      <td>mon</td>\n",
       "      <td>151</td>\n",
       "      <td>1</td>\n",
       "      <td>999</td>\n",
       "      <td>0</td>\n",
       "      <td>nonexistent</td>\n",
       "      <td>93.994</td>\n",
       "      <td>-36.4</td>\n",
       "      <td>5191.0</td>\n",
       "      <td>no</td>\n",
       "      <td>0</td>\n",
       "    </tr>\n",
       "    <tr>\n",
       "      <th>4</th>\n",
       "      <td>56</td>\n",
       "      <td>services</td>\n",
       "      <td>married</td>\n",
       "      <td>high.school</td>\n",
       "      <td>no</td>\n",
       "      <td>no</td>\n",
       "      <td>yes</td>\n",
       "      <td>telephone</td>\n",
       "      <td>may</td>\n",
       "      <td>mon</td>\n",
       "      <td>307</td>\n",
       "      <td>1</td>\n",
       "      <td>999</td>\n",
       "      <td>0</td>\n",
       "      <td>nonexistent</td>\n",
       "      <td>93.994</td>\n",
       "      <td>-36.4</td>\n",
       "      <td>5191.0</td>\n",
       "      <td>no</td>\n",
       "      <td>0</td>\n",
       "    </tr>\n",
       "  </tbody>\n",
       "</table>\n",
       "</div>"
      ],
      "text/plain": [
       "   age        job  marital    education  default housing loan    contact  \\\n",
       "0   56  housemaid  married     basic.4y       no      no   no  telephone   \n",
       "1   57   services  married  high.school  unknown      no   no  telephone   \n",
       "2   37   services  married  high.school       no     yes   no  telephone   \n",
       "3   40     admin.  married     basic.6y       no      no   no  telephone   \n",
       "4   56   services  married  high.school       no      no  yes  telephone   \n",
       "\n",
       "  month day_of_week  duration  campaign  pdays  previous     poutcome  \\\n",
       "0   may         mon       261         1    999         0  nonexistent   \n",
       "1   may         mon       149         1    999         0  nonexistent   \n",
       "2   may         mon       226         1    999         0  nonexistent   \n",
       "3   may         mon       151         1    999         0  nonexistent   \n",
       "4   may         mon       307         1    999         0  nonexistent   \n",
       "\n",
       "   cons.price.idx  cons.conf.idx  nr.employed   y  y1  \n",
       "0          93.994          -36.4       5191.0  no   0  \n",
       "1          93.994          -36.4       5191.0  no   0  \n",
       "2          93.994          -36.4       5191.0  no   0  \n",
       "3          93.994          -36.4       5191.0  no   0  \n",
       "4          93.994          -36.4       5191.0  no   0  "
      ]
     },
     "execution_count": 32,
     "metadata": {},
     "output_type": "execute_result"
    }
   ],
   "source": [
    "bank_df_after_drop.head()"
   ]
  },
  {
   "cell_type": "markdown",
   "metadata": {},
   "source": [
    "#### Print heatmap again after removing 'euribor3m' and 'emp.var.rate' from the dataset"
   ]
  },
  {
   "cell_type": "code",
   "execution_count": 33,
   "metadata": {},
   "outputs": [
    {
     "data": {
      "image/png": "[encoded data removed]",
      "text/plain": [
       "<Figure size 1080x1080 with 2 Axes>"
      ]
     },
     "metadata": {
      "needs_background": "light"
     },
     "output_type": "display_data"
    }
   ],
   "source": [
    "# Print heatmap again\n",
    "\n",
    "heatmap_corellation = bank_df_after_drop.corr()\n",
    "f, ax = plt.subplots(figsize=(15, 15))\n",
    "mask = np.triu(np.ones_like(heatmap_corellation, dtype=bool)) # removing the other side of the heatmap\n",
    "cmap = sns.diverging_palette(230, 20, as_cmap=True) #preparing cmap\n",
    "sns.heatmap(heatmap_corellation,mask=mask,cmap=cmap,linewidths=.5,square=True,annot=True)\n",
    "plt.show()"
   ]
  },
  {
   "cell_type": "markdown",
   "metadata": {},
   "source": [
    "### Preprocessing the numerical variables"
   ]
  },
  {
   "cell_type": "code",
   "execution_count": 34,
   "metadata": {},
   "outputs": [],
   "source": [
    "#bank_df.head()"
   ]
  },
  {
   "cell_type": "code",
   "execution_count": 35,
   "metadata": {},
   "outputs": [
    {
     "data": {
      "text/html": [
       "<div>\n",
       "<style scoped>\n",
       "    .dataframe tbody tr th:only-of-type {\n",
       "        vertical-align: middle;\n",
       "    }\n",
       "\n",
       "    .dataframe tbody tr th {\n",
       "        vertical-align: top;\n",
       "    }\n",
       "\n",
       "    .dataframe thead th {\n",
       "        text-align: right;\n",
       "    }\n",
       "</style>\n",
       "<table border=\"1\" class=\"dataframe\">\n",
       "  <thead>\n",
       "    <tr style=\"text-align: right;\">\n",
       "      <th></th>\n",
       "      <th>age</th>\n",
       "      <th>duration</th>\n",
       "      <th>campaign</th>\n",
       "      <th>pdays</th>\n",
       "      <th>previous</th>\n",
       "      <th>cons.price.idx</th>\n",
       "      <th>cons.conf.idx</th>\n",
       "      <th>nr.employed</th>\n",
       "      <th>y1</th>\n",
       "    </tr>\n",
       "  </thead>\n",
       "  <tbody>\n",
       "    <tr>\n",
       "      <th>count</th>\n",
       "      <td>41188.00000</td>\n",
       "      <td>41188.000000</td>\n",
       "      <td>41188.000000</td>\n",
       "      <td>41188.000000</td>\n",
       "      <td>41188.000000</td>\n",
       "      <td>41188.000000</td>\n",
       "      <td>41188.000000</td>\n",
       "      <td>41188.000000</td>\n",
       "      <td>41188.000000</td>\n",
       "    </tr>\n",
       "    <tr>\n",
       "      <th>mean</th>\n",
       "      <td>40.02406</td>\n",
       "      <td>258.285010</td>\n",
       "      <td>2.567593</td>\n",
       "      <td>962.475454</td>\n",
       "      <td>0.172963</td>\n",
       "      <td>93.575664</td>\n",
       "      <td>-40.502600</td>\n",
       "      <td>5167.035911</td>\n",
       "      <td>0.112654</td>\n",
       "    </tr>\n",
       "    <tr>\n",
       "      <th>std</th>\n",
       "      <td>10.42125</td>\n",
       "      <td>259.279249</td>\n",
       "      <td>2.770014</td>\n",
       "      <td>186.910907</td>\n",
       "      <td>0.494901</td>\n",
       "      <td>0.578840</td>\n",
       "      <td>4.628198</td>\n",
       "      <td>72.251528</td>\n",
       "      <td>0.316173</td>\n",
       "    </tr>\n",
       "    <tr>\n",
       "      <th>min</th>\n",
       "      <td>17.00000</td>\n",
       "      <td>0.000000</td>\n",
       "      <td>1.000000</td>\n",
       "      <td>0.000000</td>\n",
       "      <td>0.000000</td>\n",
       "      <td>92.201000</td>\n",
       "      <td>-50.800000</td>\n",
       "      <td>4963.600000</td>\n",
       "      <td>0.000000</td>\n",
       "    </tr>\n",
       "    <tr>\n",
       "      <th>25%</th>\n",
       "      <td>32.00000</td>\n",
       "      <td>102.000000</td>\n",
       "      <td>1.000000</td>\n",
       "      <td>999.000000</td>\n",
       "      <td>0.000000</td>\n",
       "      <td>93.075000</td>\n",
       "      <td>-42.700000</td>\n",
       "      <td>5099.100000</td>\n",
       "      <td>0.000000</td>\n",
       "    </tr>\n",
       "    <tr>\n",
       "      <th>50%</th>\n",
       "      <td>38.00000</td>\n",
       "      <td>180.000000</td>\n",
       "      <td>2.000000</td>\n",
       "      <td>999.000000</td>\n",
       "      <td>0.000000</td>\n",
       "      <td>93.749000</td>\n",
       "      <td>-41.800000</td>\n",
       "      <td>5191.000000</td>\n",
       "      <td>0.000000</td>\n",
       "    </tr>\n",
       "    <tr>\n",
       "      <th>75%</th>\n",
       "      <td>47.00000</td>\n",
       "      <td>319.000000</td>\n",
       "      <td>3.000000</td>\n",
       "      <td>999.000000</td>\n",
       "      <td>0.000000</td>\n",
       "      <td>93.994000</td>\n",
       "      <td>-36.400000</td>\n",
       "      <td>5228.100000</td>\n",
       "      <td>0.000000</td>\n",
       "    </tr>\n",
       "    <tr>\n",
       "      <th>max</th>\n",
       "      <td>98.00000</td>\n",
       "      <td>4918.000000</td>\n",
       "      <td>56.000000</td>\n",
       "      <td>999.000000</td>\n",
       "      <td>7.000000</td>\n",
       "      <td>94.767000</td>\n",
       "      <td>-26.900000</td>\n",
       "      <td>5228.100000</td>\n",
       "      <td>1.000000</td>\n",
       "    </tr>\n",
       "  </tbody>\n",
       "</table>\n",
       "</div>"
      ],
      "text/plain": [
       "               age      duration      campaign         pdays      previous  \\\n",
       "count  41188.00000  41188.000000  41188.000000  41188.000000  41188.000000   \n",
       "mean      40.02406    258.285010      2.567593    962.475454      0.172963   \n",
       "std       10.42125    259.279249      2.770014    186.910907      0.494901   \n",
       "min       17.00000      0.000000      1.000000      0.000000      0.000000   \n",
       "25%       32.00000    102.000000      1.000000    999.000000      0.000000   \n",
       "50%       38.00000    180.000000      2.000000    999.000000      0.000000   \n",
       "75%       47.00000    319.000000      3.000000    999.000000      0.000000   \n",
       "max       98.00000   4918.000000     56.000000    999.000000      7.000000   \n",
       "\n",
       "       cons.price.idx  cons.conf.idx   nr.employed            y1  \n",
       "count    41188.000000   41188.000000  41188.000000  41188.000000  \n",
       "mean        93.575664     -40.502600   5167.035911      0.112654  \n",
       "std          0.578840       4.628198     72.251528      0.316173  \n",
       "min         92.201000     -50.800000   4963.600000      0.000000  \n",
       "25%         93.075000     -42.700000   5099.100000      0.000000  \n",
       "50%         93.749000     -41.800000   5191.000000      0.000000  \n",
       "75%         93.994000     -36.400000   5228.100000      0.000000  \n",
       "max         94.767000     -26.900000   5228.100000      1.000000  "
      ]
     },
     "execution_count": 35,
     "metadata": {},
     "output_type": "execute_result"
    }
   ],
   "source": [
    "bank_df_after_drop.describe()"
   ]
  },
  {
   "cell_type": "code",
   "execution_count": 36,
   "metadata": {},
   "outputs": [],
   "source": [
    "# From my data description, the mean and max has large numbers far apart,\n",
    "# Variables that are measured at different scales do not contribute equally to the \n",
    "# model fitting & model learned function and might end up creating a bias. For better performance, we need to normalise the data"
   ]
  },
  {
   "cell_type": "code",
   "execution_count": 37,
   "metadata": {},
   "outputs": [
    {
     "data": {
      "text/html": [
       "<div>\n",
       "<style scoped>\n",
       "    .dataframe tbody tr th:only-of-type {\n",
       "        vertical-align: middle;\n",
       "    }\n",
       "\n",
       "    .dataframe tbody tr th {\n",
       "        vertical-align: top;\n",
       "    }\n",
       "\n",
       "    .dataframe thead th {\n",
       "        text-align: right;\n",
       "    }\n",
       "</style>\n",
       "<table border=\"1\" class=\"dataframe\">\n",
       "  <thead>\n",
       "    <tr style=\"text-align: right;\">\n",
       "      <th></th>\n",
       "      <th>age</th>\n",
       "      <th>job</th>\n",
       "      <th>marital</th>\n",
       "      <th>education</th>\n",
       "      <th>default</th>\n",
       "      <th>housing</th>\n",
       "      <th>loan</th>\n",
       "      <th>contact</th>\n",
       "      <th>month</th>\n",
       "      <th>day_of_week</th>\n",
       "      <th>duration</th>\n",
       "      <th>campaign</th>\n",
       "      <th>pdays</th>\n",
       "      <th>previous</th>\n",
       "      <th>poutcome</th>\n",
       "      <th>cons.price.idx</th>\n",
       "      <th>cons.conf.idx</th>\n",
       "      <th>nr.employed</th>\n",
       "      <th>y</th>\n",
       "      <th>y1</th>\n",
       "    </tr>\n",
       "  </thead>\n",
       "  <tbody>\n",
       "    <tr>\n",
       "      <th>0</th>\n",
       "      <td>56</td>\n",
       "      <td>housemaid</td>\n",
       "      <td>married</td>\n",
       "      <td>basic.4y</td>\n",
       "      <td>no</td>\n",
       "      <td>no</td>\n",
       "      <td>no</td>\n",
       "      <td>telephone</td>\n",
       "      <td>may</td>\n",
       "      <td>mon</td>\n",
       "      <td>261</td>\n",
       "      <td>1</td>\n",
       "      <td>999</td>\n",
       "      <td>0</td>\n",
       "      <td>nonexistent</td>\n",
       "      <td>93.994</td>\n",
       "      <td>-36.4</td>\n",
       "      <td>5191.0</td>\n",
       "      <td>no</td>\n",
       "      <td>0</td>\n",
       "    </tr>\n",
       "    <tr>\n",
       "      <th>1</th>\n",
       "      <td>57</td>\n",
       "      <td>services</td>\n",
       "      <td>married</td>\n",
       "      <td>high.school</td>\n",
       "      <td>unknown</td>\n",
       "      <td>no</td>\n",
       "      <td>no</td>\n",
       "      <td>telephone</td>\n",
       "      <td>may</td>\n",
       "      <td>mon</td>\n",
       "      <td>149</td>\n",
       "      <td>1</td>\n",
       "      <td>999</td>\n",
       "      <td>0</td>\n",
       "      <td>nonexistent</td>\n",
       "      <td>93.994</td>\n",
       "      <td>-36.4</td>\n",
       "      <td>5191.0</td>\n",
       "      <td>no</td>\n",
       "      <td>0</td>\n",
       "    </tr>\n",
       "    <tr>\n",
       "      <th>2</th>\n",
       "      <td>37</td>\n",
       "      <td>services</td>\n",
       "      <td>married</td>\n",
       "      <td>high.school</td>\n",
       "      <td>no</td>\n",
       "      <td>yes</td>\n",
       "      <td>no</td>\n",
       "      <td>telephone</td>\n",
       "      <td>may</td>\n",
       "      <td>mon</td>\n",
       "      <td>226</td>\n",
       "      <td>1</td>\n",
       "      <td>999</td>\n",
       "      <td>0</td>\n",
       "      <td>nonexistent</td>\n",
       "      <td>93.994</td>\n",
       "      <td>-36.4</td>\n",
       "      <td>5191.0</td>\n",
       "      <td>no</td>\n",
       "      <td>0</td>\n",
       "    </tr>\n",
       "    <tr>\n",
       "      <th>3</th>\n",
       "      <td>40</td>\n",
       "      <td>admin.</td>\n",
       "      <td>married</td>\n",
       "      <td>basic.6y</td>\n",
       "      <td>no</td>\n",
       "      <td>no</td>\n",
       "      <td>no</td>\n",
       "      <td>telephone</td>\n",
       "      <td>may</td>\n",
       "      <td>mon</td>\n",
       "      <td>151</td>\n",
       "      <td>1</td>\n",
       "      <td>999</td>\n",
       "      <td>0</td>\n",
       "      <td>nonexistent</td>\n",
       "      <td>93.994</td>\n",
       "      <td>-36.4</td>\n",
       "      <td>5191.0</td>\n",
       "      <td>no</td>\n",
       "      <td>0</td>\n",
       "    </tr>\n",
       "    <tr>\n",
       "      <th>4</th>\n",
       "      <td>56</td>\n",
       "      <td>services</td>\n",
       "      <td>married</td>\n",
       "      <td>high.school</td>\n",
       "      <td>no</td>\n",
       "      <td>no</td>\n",
       "      <td>yes</td>\n",
       "      <td>telephone</td>\n",
       "      <td>may</td>\n",
       "      <td>mon</td>\n",
       "      <td>307</td>\n",
       "      <td>1</td>\n",
       "      <td>999</td>\n",
       "      <td>0</td>\n",
       "      <td>nonexistent</td>\n",
       "      <td>93.994</td>\n",
       "      <td>-36.4</td>\n",
       "      <td>5191.0</td>\n",
       "      <td>no</td>\n",
       "      <td>0</td>\n",
       "    </tr>\n",
       "  </tbody>\n",
       "</table>\n",
       "</div>"
      ],
      "text/plain": [
       "   age        job  marital    education  default housing loan    contact  \\\n",
       "0   56  housemaid  married     basic.4y       no      no   no  telephone   \n",
       "1   57   services  married  high.school  unknown      no   no  telephone   \n",
       "2   37   services  married  high.school       no     yes   no  telephone   \n",
       "3   40     admin.  married     basic.6y       no      no   no  telephone   \n",
       "4   56   services  married  high.school       no      no  yes  telephone   \n",
       "\n",
       "  month day_of_week  duration  campaign  pdays  previous     poutcome  \\\n",
       "0   may         mon       261         1    999         0  nonexistent   \n",
       "1   may         mon       149         1    999         0  nonexistent   \n",
       "2   may         mon       226         1    999         0  nonexistent   \n",
       "3   may         mon       151         1    999         0  nonexistent   \n",
       "4   may         mon       307         1    999         0  nonexistent   \n",
       "\n",
       "   cons.price.idx  cons.conf.idx  nr.employed   y  y1  \n",
       "0          93.994          -36.4       5191.0  no   0  \n",
       "1          93.994          -36.4       5191.0  no   0  \n",
       "2          93.994          -36.4       5191.0  no   0  \n",
       "3          93.994          -36.4       5191.0  no   0  \n",
       "4          93.994          -36.4       5191.0  no   0  "
      ]
     },
     "execution_count": 37,
     "metadata": {},
     "output_type": "execute_result"
    }
   ],
   "source": [
    "bank_df_after_drop.head()"
   ]
  },
  {
   "cell_type": "code",
   "execution_count": 38,
   "metadata": {},
   "outputs": [
    {
     "name": "stdout",
     "output_type": "stream",
     "text": [
      "   age  duration  campaign  pdays  previous  cons.price.idx  cons.conf.idx  \\\n",
      "0   56       261         1    999         0          93.994          -36.4   \n",
      "1   57       149         1    999         0          93.994          -36.4   \n",
      "2   37       226         1    999         0          93.994          -36.4   \n",
      "3   40       151         1    999         0          93.994          -36.4   \n",
      "4   56       307         1    999         0          93.994          -36.4   \n",
      "\n",
      "   nr.employed  \n",
      "0       5191.0  \n",
      "1       5191.0  \n",
      "2       5191.0  \n",
      "3       5191.0  \n",
      "4       5191.0  \n",
      "        age  duration  campaign     pdays  previous  cons.price.idx  \\\n",
      "0  1.533034  0.010471 -0.565922  0.195414 -0.349494        0.722722   \n",
      "1  1.628993 -0.421501 -0.565922  0.195414 -0.349494        0.722722   \n",
      "2 -0.290186 -0.124520 -0.565922  0.195414 -0.349494        0.722722   \n",
      "3 -0.002309 -0.413787 -0.565922  0.195414 -0.349494        0.722722   \n",
      "4  1.533034  0.187888 -0.565922  0.195414 -0.349494        0.722722   \n",
      "\n",
      "   cons.conf.idx  nr.employed  \n",
      "0       0.886447      0.33168  \n",
      "1       0.886447      0.33168  \n",
      "2       0.886447      0.33168  \n",
      "3       0.886447      0.33168  \n",
      "4       0.886447      0.33168  \n"
     ]
    }
   ],
   "source": [
    "from sklearn.preprocessing import StandardScaler\n",
    "\n",
    "data_num = bank_df_after_drop.select_dtypes(include = np.number).drop(columns = 'y1')\n",
    "print(data_num.head())\n",
    "\n",
    "# Standardizing data\n",
    "transformer = StandardScaler().fit(data_num)\n",
    "data_num_standardized = transformer.transform(data_num)\n",
    "x = pd.DataFrame(data_num_standardized, columns = data_num.columns)\n",
    "print(x.head())"
   ]
  },
  {
   "cell_type": "code",
   "execution_count": 39,
   "metadata": {},
   "outputs": [],
   "source": [
    "# Before Standardizing my data\n",
    "\n",
    "#sns.displot(bank['nr.employed'])"
   ]
  },
  {
   "cell_type": "code",
   "execution_count": 40,
   "metadata": {},
   "outputs": [
    {
     "data": {
      "text/plain": [
       "<seaborn.axisgrid.FacetGrid at 0x1e41a0526a0>"
      ]
     },
     "execution_count": 40,
     "metadata": {},
     "output_type": "execute_result"
    },
    {
     "data": {
      "image/png": "[encoded data removed]",
      "text/plain": [
       "<Figure size 360x360 with 1 Axes>"
      ]
     },
     "metadata": {
      "needs_background": "light"
     },
     "output_type": "display_data"
    }
   ],
   "source": [
    "# After Standardizing my data\n",
    "\n",
    "sns.displot(x['nr.employed'])"
   ]
  },
  {
   "cell_type": "markdown",
   "metadata": {},
   "source": [
    "### Getting dummies for the categorical variables"
   ]
  },
  {
   "cell_type": "code",
   "execution_count": 41,
   "metadata": {},
   "outputs": [
    {
     "data": {
      "text/html": [
       "<div>\n",
       "<style scoped>\n",
       "    .dataframe tbody tr th:only-of-type {\n",
       "        vertical-align: middle;\n",
       "    }\n",
       "\n",
       "    .dataframe tbody tr th {\n",
       "        vertical-align: top;\n",
       "    }\n",
       "\n",
       "    .dataframe thead th {\n",
       "        text-align: right;\n",
       "    }\n",
       "</style>\n",
       "<table border=\"1\" class=\"dataframe\">\n",
       "  <thead>\n",
       "    <tr style=\"text-align: right;\">\n",
       "      <th></th>\n",
       "      <th>x0_admin.</th>\n",
       "      <th>x0_blue-collar</th>\n",
       "      <th>x0_entrepreneur</th>\n",
       "      <th>x0_housemaid</th>\n",
       "      <th>x0_management</th>\n",
       "      <th>x0_retired</th>\n",
       "      <th>x0_self-employed</th>\n",
       "      <th>x0_services</th>\n",
       "      <th>x0_student</th>\n",
       "      <th>x0_technician</th>\n",
       "      <th>...</th>\n",
       "      <th>x7_oct</th>\n",
       "      <th>x7_sep</th>\n",
       "      <th>x8_fri</th>\n",
       "      <th>x8_mon</th>\n",
       "      <th>x8_thu</th>\n",
       "      <th>x8_tue</th>\n",
       "      <th>x8_wed</th>\n",
       "      <th>x9_failure</th>\n",
       "      <th>x9_nonexistent</th>\n",
       "      <th>x9_success</th>\n",
       "    </tr>\n",
       "  </thead>\n",
       "  <tbody>\n",
       "    <tr>\n",
       "      <th>0</th>\n",
       "      <td>0.0</td>\n",
       "      <td>0.0</td>\n",
       "      <td>0.0</td>\n",
       "      <td>1.0</td>\n",
       "      <td>0.0</td>\n",
       "      <td>0.0</td>\n",
       "      <td>0.0</td>\n",
       "      <td>0.0</td>\n",
       "      <td>0.0</td>\n",
       "      <td>0.0</td>\n",
       "      <td>...</td>\n",
       "      <td>0.0</td>\n",
       "      <td>0.0</td>\n",
       "      <td>0.0</td>\n",
       "      <td>1.0</td>\n",
       "      <td>0.0</td>\n",
       "      <td>0.0</td>\n",
       "      <td>0.0</td>\n",
       "      <td>0.0</td>\n",
       "      <td>1.0</td>\n",
       "      <td>0.0</td>\n",
       "    </tr>\n",
       "    <tr>\n",
       "      <th>1</th>\n",
       "      <td>0.0</td>\n",
       "      <td>0.0</td>\n",
       "      <td>0.0</td>\n",
       "      <td>0.0</td>\n",
       "      <td>0.0</td>\n",
       "      <td>0.0</td>\n",
       "      <td>0.0</td>\n",
       "      <td>1.0</td>\n",
       "      <td>0.0</td>\n",
       "      <td>0.0</td>\n",
       "      <td>...</td>\n",
       "      <td>0.0</td>\n",
       "      <td>0.0</td>\n",
       "      <td>0.0</td>\n",
       "      <td>1.0</td>\n",
       "      <td>0.0</td>\n",
       "      <td>0.0</td>\n",
       "      <td>0.0</td>\n",
       "      <td>0.0</td>\n",
       "      <td>1.0</td>\n",
       "      <td>0.0</td>\n",
       "    </tr>\n",
       "    <tr>\n",
       "      <th>2</th>\n",
       "      <td>0.0</td>\n",
       "      <td>0.0</td>\n",
       "      <td>0.0</td>\n",
       "      <td>0.0</td>\n",
       "      <td>0.0</td>\n",
       "      <td>0.0</td>\n",
       "      <td>0.0</td>\n",
       "      <td>1.0</td>\n",
       "      <td>0.0</td>\n",
       "      <td>0.0</td>\n",
       "      <td>...</td>\n",
       "      <td>0.0</td>\n",
       "      <td>0.0</td>\n",
       "      <td>0.0</td>\n",
       "      <td>1.0</td>\n",
       "      <td>0.0</td>\n",
       "      <td>0.0</td>\n",
       "      <td>0.0</td>\n",
       "      <td>0.0</td>\n",
       "      <td>1.0</td>\n",
       "      <td>0.0</td>\n",
       "    </tr>\n",
       "    <tr>\n",
       "      <th>3</th>\n",
       "      <td>1.0</td>\n",
       "      <td>0.0</td>\n",
       "      <td>0.0</td>\n",
       "      <td>0.0</td>\n",
       "      <td>0.0</td>\n",
       "      <td>0.0</td>\n",
       "      <td>0.0</td>\n",
       "      <td>0.0</td>\n",
       "      <td>0.0</td>\n",
       "      <td>0.0</td>\n",
       "      <td>...</td>\n",
       "      <td>0.0</td>\n",
       "      <td>0.0</td>\n",
       "      <td>0.0</td>\n",
       "      <td>1.0</td>\n",
       "      <td>0.0</td>\n",
       "      <td>0.0</td>\n",
       "      <td>0.0</td>\n",
       "      <td>0.0</td>\n",
       "      <td>1.0</td>\n",
       "      <td>0.0</td>\n",
       "    </tr>\n",
       "    <tr>\n",
       "      <th>4</th>\n",
       "      <td>0.0</td>\n",
       "      <td>0.0</td>\n",
       "      <td>0.0</td>\n",
       "      <td>0.0</td>\n",
       "      <td>0.0</td>\n",
       "      <td>0.0</td>\n",
       "      <td>0.0</td>\n",
       "      <td>1.0</td>\n",
       "      <td>0.0</td>\n",
       "      <td>0.0</td>\n",
       "      <td>...</td>\n",
       "      <td>0.0</td>\n",
       "      <td>0.0</td>\n",
       "      <td>0.0</td>\n",
       "      <td>1.0</td>\n",
       "      <td>0.0</td>\n",
       "      <td>0.0</td>\n",
       "      <td>0.0</td>\n",
       "      <td>0.0</td>\n",
       "      <td>1.0</td>\n",
       "      <td>0.0</td>\n",
       "    </tr>\n",
       "  </tbody>\n",
       "</table>\n",
       "<p>5 rows × 53 columns</p>\n",
       "</div>"
      ],
      "text/plain": [
       "   x0_admin.  x0_blue-collar  x0_entrepreneur  x0_housemaid  x0_management  \\\n",
       "0        0.0             0.0              0.0           1.0            0.0   \n",
       "1        0.0             0.0              0.0           0.0            0.0   \n",
       "2        0.0             0.0              0.0           0.0            0.0   \n",
       "3        1.0             0.0              0.0           0.0            0.0   \n",
       "4        0.0             0.0              0.0           0.0            0.0   \n",
       "\n",
       "   x0_retired  x0_self-employed  x0_services  x0_student  x0_technician  ...  \\\n",
       "0         0.0               0.0          0.0         0.0            0.0  ...   \n",
       "1         0.0               0.0          1.0         0.0            0.0  ...   \n",
       "2         0.0               0.0          1.0         0.0            0.0  ...   \n",
       "3         0.0               0.0          0.0         0.0            0.0  ...   \n",
       "4         0.0               0.0          1.0         0.0            0.0  ...   \n",
       "\n",
       "   x7_oct  x7_sep  x8_fri  x8_mon  x8_thu  x8_tue  x8_wed  x9_failure  \\\n",
       "0     0.0     0.0     0.0     1.0     0.0     0.0     0.0         0.0   \n",
       "1     0.0     0.0     0.0     1.0     0.0     0.0     0.0         0.0   \n",
       "2     0.0     0.0     0.0     1.0     0.0     0.0     0.0         0.0   \n",
       "3     0.0     0.0     0.0     1.0     0.0     0.0     0.0         0.0   \n",
       "4     0.0     0.0     0.0     1.0     0.0     0.0     0.0         0.0   \n",
       "\n",
       "   x9_nonexistent  x9_success  \n",
       "0             1.0         0.0  \n",
       "1             1.0         0.0  \n",
       "2             1.0         0.0  \n",
       "3             1.0         0.0  \n",
       "4             1.0         0.0  \n",
       "\n",
       "[5 rows x 53 columns]"
      ]
     },
     "execution_count": 41,
     "metadata": {},
     "output_type": "execute_result"
    }
   ],
   "source": [
    "# Converting categorical variables to numerical using one hot encoder. It also transforms the data\n",
    "from sklearn.preprocessing import OneHotEncoder\n",
    "\n",
    "cat = bank_df_after_drop.select_dtypes(include = np.object).drop(columns = 'y')\n",
    "enc = OneHotEncoder()\n",
    "categorical = pd.DataFrame(enc.fit_transform(cat).toarray(), columns = enc.get_feature_names())\n",
    "categorical.head()"
   ]
  },
  {
   "cell_type": "code",
   "execution_count": 42,
   "metadata": {},
   "outputs": [],
   "source": [
    "cat_1 = bank_df_after_drop.select_dtypes([\"float\",\"int64\"])"
   ]
  },
  {
   "cell_type": "code",
   "execution_count": 43,
   "metadata": {},
   "outputs": [
    {
     "data": {
      "text/plain": [
       "age                 int64\n",
       "job                object\n",
       "marital            object\n",
       "education          object\n",
       "default            object\n",
       "housing            object\n",
       "loan               object\n",
       "contact            object\n",
       "month              object\n",
       "day_of_week        object\n",
       "duration            int64\n",
       "campaign            int64\n",
       "pdays               int64\n",
       "previous            int64\n",
       "poutcome           object\n",
       "cons.price.idx    float64\n",
       "cons.conf.idx     float64\n",
       "nr.employed       float64\n",
       "y                  object\n",
       "y1                  uint8\n",
       "dtype: object"
      ]
     },
     "execution_count": 43,
     "metadata": {},
     "output_type": "execute_result"
    }
   ],
   "source": [
    "bank_df_after_drop.dtypes"
   ]
  },
  {
   "cell_type": "code",
   "execution_count": 44,
   "metadata": {},
   "outputs": [
    {
     "data": {
      "text/plain": [
       "Index(['job', 'marital', 'education', 'default', 'housing', 'loan', 'contact',\n",
       "       'month', 'day_of_week', 'poutcome'],\n",
       "      dtype='object')"
      ]
     },
     "execution_count": 44,
     "metadata": {},
     "output_type": "execute_result"
    }
   ],
   "source": [
    "cat.columns"
   ]
  },
  {
   "cell_type": "code",
   "execution_count": 45,
   "metadata": {},
   "outputs": [
    {
     "data": {
      "text/html": [
       "<div>\n",
       "<style scoped>\n",
       "    .dataframe tbody tr th:only-of-type {\n",
       "        vertical-align: middle;\n",
       "    }\n",
       "\n",
       "    .dataframe tbody tr th {\n",
       "        vertical-align: top;\n",
       "    }\n",
       "\n",
       "    .dataframe thead th {\n",
       "        text-align: right;\n",
       "    }\n",
       "</style>\n",
       "<table border=\"1\" class=\"dataframe\">\n",
       "  <thead>\n",
       "    <tr style=\"text-align: right;\">\n",
       "      <th></th>\n",
       "      <th>job</th>\n",
       "      <th>marital</th>\n",
       "      <th>education</th>\n",
       "      <th>default</th>\n",
       "      <th>housing</th>\n",
       "      <th>loan</th>\n",
       "      <th>contact</th>\n",
       "      <th>month</th>\n",
       "      <th>day_of_week</th>\n",
       "      <th>poutcome</th>\n",
       "    </tr>\n",
       "  </thead>\n",
       "  <tbody>\n",
       "    <tr>\n",
       "      <th>0</th>\n",
       "      <td>housemaid</td>\n",
       "      <td>married</td>\n",
       "      <td>basic.4y</td>\n",
       "      <td>no</td>\n",
       "      <td>no</td>\n",
       "      <td>no</td>\n",
       "      <td>telephone</td>\n",
       "      <td>may</td>\n",
       "      <td>mon</td>\n",
       "      <td>nonexistent</td>\n",
       "    </tr>\n",
       "    <tr>\n",
       "      <th>1</th>\n",
       "      <td>services</td>\n",
       "      <td>married</td>\n",
       "      <td>high.school</td>\n",
       "      <td>unknown</td>\n",
       "      <td>no</td>\n",
       "      <td>no</td>\n",
       "      <td>telephone</td>\n",
       "      <td>may</td>\n",
       "      <td>mon</td>\n",
       "      <td>nonexistent</td>\n",
       "    </tr>\n",
       "    <tr>\n",
       "      <th>2</th>\n",
       "      <td>services</td>\n",
       "      <td>married</td>\n",
       "      <td>high.school</td>\n",
       "      <td>no</td>\n",
       "      <td>yes</td>\n",
       "      <td>no</td>\n",
       "      <td>telephone</td>\n",
       "      <td>may</td>\n",
       "      <td>mon</td>\n",
       "      <td>nonexistent</td>\n",
       "    </tr>\n",
       "    <tr>\n",
       "      <th>3</th>\n",
       "      <td>admin.</td>\n",
       "      <td>married</td>\n",
       "      <td>basic.6y</td>\n",
       "      <td>no</td>\n",
       "      <td>no</td>\n",
       "      <td>no</td>\n",
       "      <td>telephone</td>\n",
       "      <td>may</td>\n",
       "      <td>mon</td>\n",
       "      <td>nonexistent</td>\n",
       "    </tr>\n",
       "    <tr>\n",
       "      <th>4</th>\n",
       "      <td>services</td>\n",
       "      <td>married</td>\n",
       "      <td>high.school</td>\n",
       "      <td>no</td>\n",
       "      <td>no</td>\n",
       "      <td>yes</td>\n",
       "      <td>telephone</td>\n",
       "      <td>may</td>\n",
       "      <td>mon</td>\n",
       "      <td>nonexistent</td>\n",
       "    </tr>\n",
       "  </tbody>\n",
       "</table>\n",
       "</div>"
      ],
      "text/plain": [
       "         job  marital    education  default housing loan    contact month  \\\n",
       "0  housemaid  married     basic.4y       no      no   no  telephone   may   \n",
       "1   services  married  high.school  unknown      no   no  telephone   may   \n",
       "2   services  married  high.school       no     yes   no  telephone   may   \n",
       "3     admin.  married     basic.6y       no      no   no  telephone   may   \n",
       "4   services  married  high.school       no      no  yes  telephone   may   \n",
       "\n",
       "  day_of_week     poutcome  \n",
       "0         mon  nonexistent  \n",
       "1         mon  nonexistent  \n",
       "2         mon  nonexistent  \n",
       "3         mon  nonexistent  \n",
       "4         mon  nonexistent  "
      ]
     },
     "execution_count": 45,
     "metadata": {},
     "output_type": "execute_result"
    }
   ],
   "source": [
    "cat.head()"
   ]
  },
  {
   "cell_type": "code",
   "execution_count": 46,
   "metadata": {},
   "outputs": [
    {
     "data": {
      "text/plain": [
       "x0_admin.                 float64\n",
       "x0_blue-collar            float64\n",
       "x0_entrepreneur           float64\n",
       "x0_housemaid              float64\n",
       "x0_management             float64\n",
       "x0_retired                float64\n",
       "x0_self-employed          float64\n",
       "x0_services               float64\n",
       "x0_student                float64\n",
       "x0_technician             float64\n",
       "x0_unemployed             float64\n",
       "x0_unknown                float64\n",
       "x1_divorced               float64\n",
       "x1_married                float64\n",
       "x1_single                 float64\n",
       "x1_unknown                float64\n",
       "x2_basic.4y               float64\n",
       "x2_basic.6y               float64\n",
       "x2_basic.9y               float64\n",
       "x2_high.school            float64\n",
       "x2_illiterate             float64\n",
       "x2_professional.course    float64\n",
       "x2_university.degree      float64\n",
       "x2_unknown                float64\n",
       "x3_no                     float64\n",
       "x3_unknown                float64\n",
       "x3_yes                    float64\n",
       "x4_no                     float64\n",
       "x4_unknown                float64\n",
       "x4_yes                    float64\n",
       "x5_no                     float64\n",
       "x5_unknown                float64\n",
       "x5_yes                    float64\n",
       "x6_cellular               float64\n",
       "x6_telephone              float64\n",
       "x7_apr                    float64\n",
       "x7_aug                    float64\n",
       "x7_dec                    float64\n",
       "x7_jul                    float64\n",
       "x7_jun                    float64\n",
       "x7_mar                    float64\n",
       "x7_may                    float64\n",
       "x7_nov                    float64\n",
       "x7_oct                    float64\n",
       "x7_sep                    float64\n",
       "x8_fri                    float64\n",
       "x8_mon                    float64\n",
       "x8_thu                    float64\n",
       "x8_tue                    float64\n",
       "x8_wed                    float64\n",
       "x9_failure                float64\n",
       "x9_nonexistent            float64\n",
       "x9_success                float64\n",
       "dtype: object"
      ]
     },
     "execution_count": 46,
     "metadata": {},
     "output_type": "execute_result"
    }
   ],
   "source": [
    "categorical.dtypes"
   ]
  },
  {
   "cell_type": "code",
   "execution_count": 47,
   "metadata": {},
   "outputs": [
    {
     "data": {
      "text/plain": [
       "(41188, 53)"
      ]
     },
     "execution_count": 47,
     "metadata": {},
     "output_type": "execute_result"
    }
   ],
   "source": [
    "categorical.shape"
   ]
  },
  {
   "cell_type": "code",
   "execution_count": 48,
   "metadata": {},
   "outputs": [
    {
     "data": {
      "text/plain": [
       "0        10.0\n",
       "1        10.0\n",
       "2        10.0\n",
       "3        10.0\n",
       "4        10.0\n",
       "         ... \n",
       "41183    10.0\n",
       "41184    10.0\n",
       "41185    10.0\n",
       "41186    10.0\n",
       "41187    10.0\n",
       "Length: 41188, dtype: float64"
      ]
     },
     "execution_count": 48,
     "metadata": {},
     "output_type": "execute_result"
    }
   ],
   "source": [
    "categorical.sum(axis=1)"
   ]
  },
  {
   "cell_type": "code",
   "execution_count": 49,
   "metadata": {},
   "outputs": [
    {
     "data": {
      "text/plain": [
       "Index(['age', 'job', 'marital', 'education', 'default', 'housing', 'loan',\n",
       "       'contact', 'month', 'day_of_week', 'duration', 'campaign', 'pdays',\n",
       "       'previous', 'poutcome', 'cons.price.idx', 'cons.conf.idx',\n",
       "       'nr.employed', 'y', 'y1'],\n",
       "      dtype='object')"
      ]
     },
     "execution_count": 49,
     "metadata": {},
     "output_type": "execute_result"
    }
   ],
   "source": [
    "bank_df_after_drop.columns"
   ]
  },
  {
   "cell_type": "code",
   "execution_count": 50,
   "metadata": {},
   "outputs": [
    {
     "data": {
      "text/html": [
       "<div>\n",
       "<style scoped>\n",
       "    .dataframe tbody tr th:only-of-type {\n",
       "        vertical-align: middle;\n",
       "    }\n",
       "\n",
       "    .dataframe tbody tr th {\n",
       "        vertical-align: top;\n",
       "    }\n",
       "\n",
       "    .dataframe thead th {\n",
       "        text-align: right;\n",
       "    }\n",
       "</style>\n",
       "<table border=\"1\" class=\"dataframe\">\n",
       "  <thead>\n",
       "    <tr style=\"text-align: right;\">\n",
       "      <th></th>\n",
       "      <th>age</th>\n",
       "      <th>duration</th>\n",
       "      <th>campaign</th>\n",
       "      <th>pdays</th>\n",
       "      <th>previous</th>\n",
       "      <th>cons.price.idx</th>\n",
       "      <th>cons.conf.idx</th>\n",
       "      <th>nr.employed</th>\n",
       "      <th>x0_admin.</th>\n",
       "      <th>x0_blue-collar</th>\n",
       "      <th>...</th>\n",
       "      <th>x7_oct</th>\n",
       "      <th>x7_sep</th>\n",
       "      <th>x8_fri</th>\n",
       "      <th>x8_mon</th>\n",
       "      <th>x8_thu</th>\n",
       "      <th>x8_tue</th>\n",
       "      <th>x8_wed</th>\n",
       "      <th>x9_failure</th>\n",
       "      <th>x9_nonexistent</th>\n",
       "      <th>x9_success</th>\n",
       "    </tr>\n",
       "  </thead>\n",
       "  <tbody>\n",
       "    <tr>\n",
       "      <th>0</th>\n",
       "      <td>56</td>\n",
       "      <td>261</td>\n",
       "      <td>1</td>\n",
       "      <td>999</td>\n",
       "      <td>0</td>\n",
       "      <td>93.994</td>\n",
       "      <td>-36.4</td>\n",
       "      <td>5191.0</td>\n",
       "      <td>0.0</td>\n",
       "      <td>0.0</td>\n",
       "      <td>...</td>\n",
       "      <td>0.0</td>\n",
       "      <td>0.0</td>\n",
       "      <td>0.0</td>\n",
       "      <td>1.0</td>\n",
       "      <td>0.0</td>\n",
       "      <td>0.0</td>\n",
       "      <td>0.0</td>\n",
       "      <td>0.0</td>\n",
       "      <td>1.0</td>\n",
       "      <td>0.0</td>\n",
       "    </tr>\n",
       "    <tr>\n",
       "      <th>1</th>\n",
       "      <td>57</td>\n",
       "      <td>149</td>\n",
       "      <td>1</td>\n",
       "      <td>999</td>\n",
       "      <td>0</td>\n",
       "      <td>93.994</td>\n",
       "      <td>-36.4</td>\n",
       "      <td>5191.0</td>\n",
       "      <td>0.0</td>\n",
       "      <td>0.0</td>\n",
       "      <td>...</td>\n",
       "      <td>0.0</td>\n",
       "      <td>0.0</td>\n",
       "      <td>0.0</td>\n",
       "      <td>1.0</td>\n",
       "      <td>0.0</td>\n",
       "      <td>0.0</td>\n",
       "      <td>0.0</td>\n",
       "      <td>0.0</td>\n",
       "      <td>1.0</td>\n",
       "      <td>0.0</td>\n",
       "    </tr>\n",
       "    <tr>\n",
       "      <th>2</th>\n",
       "      <td>37</td>\n",
       "      <td>226</td>\n",
       "      <td>1</td>\n",
       "      <td>999</td>\n",
       "      <td>0</td>\n",
       "      <td>93.994</td>\n",
       "      <td>-36.4</td>\n",
       "      <td>5191.0</td>\n",
       "      <td>0.0</td>\n",
       "      <td>0.0</td>\n",
       "      <td>...</td>\n",
       "      <td>0.0</td>\n",
       "      <td>0.0</td>\n",
       "      <td>0.0</td>\n",
       "      <td>1.0</td>\n",
       "      <td>0.0</td>\n",
       "      <td>0.0</td>\n",
       "      <td>0.0</td>\n",
       "      <td>0.0</td>\n",
       "      <td>1.0</td>\n",
       "      <td>0.0</td>\n",
       "    </tr>\n",
       "    <tr>\n",
       "      <th>3</th>\n",
       "      <td>40</td>\n",
       "      <td>151</td>\n",
       "      <td>1</td>\n",
       "      <td>999</td>\n",
       "      <td>0</td>\n",
       "      <td>93.994</td>\n",
       "      <td>-36.4</td>\n",
       "      <td>5191.0</td>\n",
       "      <td>1.0</td>\n",
       "      <td>0.0</td>\n",
       "      <td>...</td>\n",
       "      <td>0.0</td>\n",
       "      <td>0.0</td>\n",
       "      <td>0.0</td>\n",
       "      <td>1.0</td>\n",
       "      <td>0.0</td>\n",
       "      <td>0.0</td>\n",
       "      <td>0.0</td>\n",
       "      <td>0.0</td>\n",
       "      <td>1.0</td>\n",
       "      <td>0.0</td>\n",
       "    </tr>\n",
       "    <tr>\n",
       "      <th>4</th>\n",
       "      <td>56</td>\n",
       "      <td>307</td>\n",
       "      <td>1</td>\n",
       "      <td>999</td>\n",
       "      <td>0</td>\n",
       "      <td>93.994</td>\n",
       "      <td>-36.4</td>\n",
       "      <td>5191.0</td>\n",
       "      <td>0.0</td>\n",
       "      <td>0.0</td>\n",
       "      <td>...</td>\n",
       "      <td>0.0</td>\n",
       "      <td>0.0</td>\n",
       "      <td>0.0</td>\n",
       "      <td>1.0</td>\n",
       "      <td>0.0</td>\n",
       "      <td>0.0</td>\n",
       "      <td>0.0</td>\n",
       "      <td>0.0</td>\n",
       "      <td>1.0</td>\n",
       "      <td>0.0</td>\n",
       "    </tr>\n",
       "  </tbody>\n",
       "</table>\n",
       "<p>5 rows × 61 columns</p>\n",
       "</div>"
      ],
      "text/plain": [
       "   age  duration  campaign  pdays  previous  cons.price.idx  cons.conf.idx  \\\n",
       "0   56       261         1    999         0          93.994          -36.4   \n",
       "1   57       149         1    999         0          93.994          -36.4   \n",
       "2   37       226         1    999         0          93.994          -36.4   \n",
       "3   40       151         1    999         0          93.994          -36.4   \n",
       "4   56       307         1    999         0          93.994          -36.4   \n",
       "\n",
       "   nr.employed  x0_admin.  x0_blue-collar  ...  x7_oct  x7_sep  x8_fri  \\\n",
       "0       5191.0        0.0             0.0  ...     0.0     0.0     0.0   \n",
       "1       5191.0        0.0             0.0  ...     0.0     0.0     0.0   \n",
       "2       5191.0        0.0             0.0  ...     0.0     0.0     0.0   \n",
       "3       5191.0        1.0             0.0  ...     0.0     0.0     0.0   \n",
       "4       5191.0        0.0             0.0  ...     0.0     0.0     0.0   \n",
       "\n",
       "   x8_mon  x8_thu  x8_tue  x8_wed  x9_failure  x9_nonexistent  x9_success  \n",
       "0     1.0     0.0     0.0     0.0         0.0             1.0         0.0  \n",
       "1     1.0     0.0     0.0     0.0         0.0             1.0         0.0  \n",
       "2     1.0     0.0     0.0     0.0         0.0             1.0         0.0  \n",
       "3     1.0     0.0     0.0     0.0         0.0             1.0         0.0  \n",
       "4     1.0     0.0     0.0     0.0         0.0             1.0         0.0  \n",
       "\n",
       "[5 rows x 61 columns]"
      ]
     },
     "execution_count": 50,
     "metadata": {},
     "output_type": "execute_result"
    }
   ],
   "source": [
    "y = bank_df_after_drop['y1']\n",
    "X = pd.concat((cat_1, categorical), axis=1)\n",
    "X.head()"
   ]
  },
  {
   "cell_type": "code",
   "execution_count": 51,
   "metadata": {},
   "outputs": [
    {
     "data": {
      "text/html": [
       "<div>\n",
       "<style scoped>\n",
       "    .dataframe tbody tr th:only-of-type {\n",
       "        vertical-align: middle;\n",
       "    }\n",
       "\n",
       "    .dataframe tbody tr th {\n",
       "        vertical-align: top;\n",
       "    }\n",
       "\n",
       "    .dataframe thead th {\n",
       "        text-align: right;\n",
       "    }\n",
       "</style>\n",
       "<table border=\"1\" class=\"dataframe\">\n",
       "  <thead>\n",
       "    <tr style=\"text-align: right;\">\n",
       "      <th></th>\n",
       "      <th>age</th>\n",
       "      <th>job</th>\n",
       "      <th>marital</th>\n",
       "      <th>education</th>\n",
       "      <th>default</th>\n",
       "      <th>housing</th>\n",
       "      <th>loan</th>\n",
       "      <th>contact</th>\n",
       "      <th>month</th>\n",
       "      <th>day_of_week</th>\n",
       "      <th>duration</th>\n",
       "      <th>campaign</th>\n",
       "      <th>pdays</th>\n",
       "      <th>previous</th>\n",
       "      <th>poutcome</th>\n",
       "      <th>cons.price.idx</th>\n",
       "      <th>cons.conf.idx</th>\n",
       "      <th>nr.employed</th>\n",
       "      <th>y</th>\n",
       "      <th>y1</th>\n",
       "    </tr>\n",
       "  </thead>\n",
       "  <tbody>\n",
       "    <tr>\n",
       "      <th>0</th>\n",
       "      <td>56</td>\n",
       "      <td>housemaid</td>\n",
       "      <td>married</td>\n",
       "      <td>basic.4y</td>\n",
       "      <td>no</td>\n",
       "      <td>no</td>\n",
       "      <td>no</td>\n",
       "      <td>telephone</td>\n",
       "      <td>may</td>\n",
       "      <td>mon</td>\n",
       "      <td>261</td>\n",
       "      <td>1</td>\n",
       "      <td>999</td>\n",
       "      <td>0</td>\n",
       "      <td>nonexistent</td>\n",
       "      <td>93.994</td>\n",
       "      <td>-36.4</td>\n",
       "      <td>5191.0</td>\n",
       "      <td>no</td>\n",
       "      <td>0</td>\n",
       "    </tr>\n",
       "    <tr>\n",
       "      <th>1</th>\n",
       "      <td>57</td>\n",
       "      <td>services</td>\n",
       "      <td>married</td>\n",
       "      <td>high.school</td>\n",
       "      <td>unknown</td>\n",
       "      <td>no</td>\n",
       "      <td>no</td>\n",
       "      <td>telephone</td>\n",
       "      <td>may</td>\n",
       "      <td>mon</td>\n",
       "      <td>149</td>\n",
       "      <td>1</td>\n",
       "      <td>999</td>\n",
       "      <td>0</td>\n",
       "      <td>nonexistent</td>\n",
       "      <td>93.994</td>\n",
       "      <td>-36.4</td>\n",
       "      <td>5191.0</td>\n",
       "      <td>no</td>\n",
       "      <td>0</td>\n",
       "    </tr>\n",
       "    <tr>\n",
       "      <th>2</th>\n",
       "      <td>37</td>\n",
       "      <td>services</td>\n",
       "      <td>married</td>\n",
       "      <td>high.school</td>\n",
       "      <td>no</td>\n",
       "      <td>yes</td>\n",
       "      <td>no</td>\n",
       "      <td>telephone</td>\n",
       "      <td>may</td>\n",
       "      <td>mon</td>\n",
       "      <td>226</td>\n",
       "      <td>1</td>\n",
       "      <td>999</td>\n",
       "      <td>0</td>\n",
       "      <td>nonexistent</td>\n",
       "      <td>93.994</td>\n",
       "      <td>-36.4</td>\n",
       "      <td>5191.0</td>\n",
       "      <td>no</td>\n",
       "      <td>0</td>\n",
       "    </tr>\n",
       "    <tr>\n",
       "      <th>3</th>\n",
       "      <td>40</td>\n",
       "      <td>admin.</td>\n",
       "      <td>married</td>\n",
       "      <td>basic.6y</td>\n",
       "      <td>no</td>\n",
       "      <td>no</td>\n",
       "      <td>no</td>\n",
       "      <td>telephone</td>\n",
       "      <td>may</td>\n",
       "      <td>mon</td>\n",
       "      <td>151</td>\n",
       "      <td>1</td>\n",
       "      <td>999</td>\n",
       "      <td>0</td>\n",
       "      <td>nonexistent</td>\n",
       "      <td>93.994</td>\n",
       "      <td>-36.4</td>\n",
       "      <td>5191.0</td>\n",
       "      <td>no</td>\n",
       "      <td>0</td>\n",
       "    </tr>\n",
       "    <tr>\n",
       "      <th>4</th>\n",
       "      <td>56</td>\n",
       "      <td>services</td>\n",
       "      <td>married</td>\n",
       "      <td>high.school</td>\n",
       "      <td>no</td>\n",
       "      <td>no</td>\n",
       "      <td>yes</td>\n",
       "      <td>telephone</td>\n",
       "      <td>may</td>\n",
       "      <td>mon</td>\n",
       "      <td>307</td>\n",
       "      <td>1</td>\n",
       "      <td>999</td>\n",
       "      <td>0</td>\n",
       "      <td>nonexistent</td>\n",
       "      <td>93.994</td>\n",
       "      <td>-36.4</td>\n",
       "      <td>5191.0</td>\n",
       "      <td>no</td>\n",
       "      <td>0</td>\n",
       "    </tr>\n",
       "  </tbody>\n",
       "</table>\n",
       "</div>"
      ],
      "text/plain": [
       "   age        job  marital    education  default housing loan    contact  \\\n",
       "0   56  housemaid  married     basic.4y       no      no   no  telephone   \n",
       "1   57   services  married  high.school  unknown      no   no  telephone   \n",
       "2   37   services  married  high.school       no     yes   no  telephone   \n",
       "3   40     admin.  married     basic.6y       no      no   no  telephone   \n",
       "4   56   services  married  high.school       no      no  yes  telephone   \n",
       "\n",
       "  month day_of_week  duration  campaign  pdays  previous     poutcome  \\\n",
       "0   may         mon       261         1    999         0  nonexistent   \n",
       "1   may         mon       149         1    999         0  nonexistent   \n",
       "2   may         mon       226         1    999         0  nonexistent   \n",
       "3   may         mon       151         1    999         0  nonexistent   \n",
       "4   may         mon       307         1    999         0  nonexistent   \n",
       "\n",
       "   cons.price.idx  cons.conf.idx  nr.employed   y  y1  \n",
       "0          93.994          -36.4       5191.0  no   0  \n",
       "1          93.994          -36.4       5191.0  no   0  \n",
       "2          93.994          -36.4       5191.0  no   0  \n",
       "3          93.994          -36.4       5191.0  no   0  \n",
       "4          93.994          -36.4       5191.0  no   0  "
      ]
     },
     "execution_count": 51,
     "metadata": {},
     "output_type": "execute_result"
    }
   ],
   "source": [
    "bank_df_after_drop.head()"
   ]
  },
  {
   "cell_type": "code",
   "execution_count": 52,
   "metadata": {},
   "outputs": [
    {
     "data": {
      "text/plain": [
       "0    36548\n",
       "1     4640\n",
       "Name: y1, dtype: int64"
      ]
     },
     "execution_count": 52,
     "metadata": {},
     "output_type": "execute_result"
    }
   ],
   "source": [
    "bank_df_after_drop['y1'].value_counts()"
   ]
  },
  {
   "cell_type": "markdown",
   "metadata": {},
   "source": [
    "Label 0 is the class of clients that did not deposit, that is no\n",
    "\n",
    "Label 1 is the class of clients that deposited after the marketing campaign, that is yes"
   ]
  },
  {
   "cell_type": "markdown",
   "metadata": {},
   "source": [
    "#### Splitting into train and test set"
   ]
  },
  {
   "cell_type": "code",
   "execution_count": 53,
   "metadata": {},
   "outputs": [],
   "source": [
    "from sklearn.model_selection import train_test_split\n",
    "\n",
    "X_train, X_test, y_train, y_test = train_test_split(X, y, test_size=0.2, random_state=100)"
   ]
  },
  {
   "cell_type": "code",
   "execution_count": 54,
   "metadata": {},
   "outputs": [
    {
     "data": {
      "text/plain": [
       "0    29213\n",
       "1     3737\n",
       "Name: y1, dtype: int64"
      ]
     },
     "execution_count": 54,
     "metadata": {},
     "output_type": "execute_result"
    }
   ],
   "source": [
    "y_train.value_counts()"
   ]
  },
  {
   "cell_type": "markdown",
   "metadata": {},
   "source": [
    "#### Using LogisticRegression model to generate predictions of the effective marketing campaign both on the training and the testing set"
   ]
  },
  {
   "cell_type": "code",
   "execution_count": 55,
   "metadata": {},
   "outputs": [],
   "source": [
    "from sklearn.linear_model import LogisticRegression\n",
    "\n",
    "\n",
    "logisticr = LogisticRegression().fit(X_train, y_train) "
   ]
  },
  {
   "cell_type": "code",
   "execution_count": 56,
   "metadata": {},
   "outputs": [
    {
     "data": {
      "text/plain": [
       "0.9099295945617868"
      ]
     },
     "execution_count": 56,
     "metadata": {},
     "output_type": "execute_result"
    }
   ],
   "source": [
    "logisticr.score(X_test, y_test)\n"
   ]
  },
  {
   "cell_type": "code",
   "execution_count": 57,
   "metadata": {},
   "outputs": [],
   "source": [
    "train_predictions = logisticr.predict(X_train)\n",
    "test_predictions = logisticr.predict(X_test)"
   ]
  },
  {
   "cell_type": "markdown",
   "metadata": {},
   "source": [
    "#### Calculating and printing the accuracy score for both the training and the testing set of the bank marketing campaign."
   ]
  },
  {
   "cell_type": "code",
   "execution_count": 58,
   "metadata": {
    "scrolled": true
   },
   "outputs": [
    {
     "name": "stdout",
     "output_type": "stream",
     "text": [
      "Training of the bank marketing campaign: 0.9068285280728376\n",
      "Testing of the bank marketing campaign: 0.9099295945617868\n"
     ]
    }
   ],
   "source": [
    "from sklearn.metrics import accuracy_score\n",
    "\n",
    "print(\"Training of the bank marketing campaign:\", accuracy_score(y_train, train_predictions))\n",
    "print(\"Testing of the bank marketing campaign:\", accuracy_score(y_test, test_predictions))"
   ]
  },
  {
   "cell_type": "code",
   "execution_count": null,
   "metadata": {},
   "outputs": [],
   "source": []
  },
  {
   "cell_type": "markdown",
   "metadata": {},
   "source": [
    "#### Calculating and printing the balanced accuracy score for both the training and the testing set of the bank marketing campaign dataset."
   ]
  },
  {
   "cell_type": "code",
   "execution_count": 59,
   "metadata": {},
   "outputs": [
    {
     "name": "stdout",
     "output_type": "stream",
     "text": [
      "Training: 0.6815377712465778\n",
      "Testing: 0.6775162093181782\n"
     ]
    }
   ],
   "source": [
    "from sklearn.metrics import balanced_accuracy_score\n",
    "\n",
    "print(\"Training:\", balanced_accuracy_score(y_train, train_predictions))\n",
    "print(\"Testing:\", balanced_accuracy_score(y_test, test_predictions))"
   ]
  },
  {
   "cell_type": "markdown",
   "metadata": {},
   "source": [
    "#### Calculating and printing the precision, recall  and F1 score for both the training and the testing set"
   ]
  },
  {
   "cell_type": "code",
   "execution_count": 60,
   "metadata": {},
   "outputs": [
    {
     "name": "stdout",
     "output_type": "stream",
     "text": [
      "Training: 0.6482881280569142\n",
      "Testing: 0.6533333333333333\n"
     ]
    }
   ],
   "source": [
    "from sklearn.metrics import precision_score\n",
    "\n",
    "print(\"Training:\", precision_score(y_train, train_predictions, pos_label=1))\n",
    "print(\"Testing:\", precision_score(y_test, test_predictions, pos_label=1))"
   ]
  },
  {
   "cell_type": "code",
   "execution_count": 61,
   "metadata": {},
   "outputs": [
    {
     "name": "stdout",
     "output_type": "stream",
     "text": [
      "Training: 0.39015252876639017\n",
      "Testing: 0.3798449612403101\n"
     ]
    }
   ],
   "source": [
    "from sklearn.metrics import recall_score\n",
    "\n",
    "print(\"Training:\", recall_score(y_train, train_predictions, pos_label=1))\n",
    "print(\"Testing:\", recall_score(y_test, test_predictions, pos_label=1))"
   ]
  },
  {
   "cell_type": "markdown",
   "metadata": {},
   "source": [
    "#### Calculating and printing the F1 score for both the training and the testing set."
   ]
  },
  {
   "cell_type": "code",
   "execution_count": 62,
   "metadata": {},
   "outputs": [
    {
     "name": "stdout",
     "output_type": "stream",
     "text": [
      "Training: 0.4871366521884397\n",
      "Testing: 0.4803921568627451\n"
     ]
    }
   ],
   "source": [
    "from sklearn.metrics import f1_score\n",
    "\n",
    "print(\"Training:\", f1_score(y_train, train_predictions, pos_label=1))\n",
    "print(\"Testing:\", f1_score(y_test, test_predictions, pos_label=1))"
   ]
  },
  {
   "cell_type": "code",
   "execution_count": 63,
   "metadata": {},
   "outputs": [
    {
     "data": {
      "text/plain": [
       "(41188, 22)"
      ]
     },
     "execution_count": 63,
     "metadata": {},
     "output_type": "execute_result"
    }
   ],
   "source": [
    "bank.shape"
   ]
  },
  {
   "cell_type": "markdown",
   "metadata": {},
   "source": [
    "#### Confusion matrices for both the training and the testing set."
   ]
  },
  {
   "cell_type": "code",
   "execution_count": 64,
   "metadata": {},
   "outputs": [
    {
     "name": "stdout",
     "output_type": "stream",
     "text": [
      "[[7153  182]\n",
      " [ 560  343]]\n"
     ]
    }
   ],
   "source": [
    "from sklearn.metrics import confusion_matrix\n",
    "\n",
    "conf_matrix = confusion_matrix(y_test, test_predictions)\n",
    "print(conf_matrix)"
   ]
  },
  {
   "cell_type": "markdown",
   "metadata": {},
   "source": [
    "From the confusion matrixs above, Class O label(No-class)- 7159 clients that are in class 0, who did not make deposit after the marketing campaign  and 176 clients that are predicted to be in 1 are in class 0.\n",
    "\n",
    "Class 1(Yes-class): Those that successfully made deposit to the bank after the marketing campaign.\n",
    "345 clients successful made deposit, but 558 of clients that did not make deposit were wrongly classified in class 1 "
   ]
  },
  {
   "cell_type": "code",
   "execution_count": 65,
   "metadata": {},
   "outputs": [
    {
     "data": {
      "text/plain": [
       "<AxesSubplot:>"
      ]
     },
     "execution_count": 65,
     "metadata": {},
     "output_type": "execute_result"
    },
    {
     "data": {
      "image/png": "[encoded data removed]",
      "text/plain": [
       "<Figure size 432x288 with 2 Axes>"
      ]
     },
     "metadata": {
      "needs_background": "light"
     },
     "output_type": "display_data"
    }
   ],
   "source": [
    "sns.heatmap(conf_matrix/np.sum(conf_matrix), annot=True, \n",
    "            fmt='.2%', cmap='Blues')"
   ]
  },
  {
   "cell_type": "code",
   "execution_count": 66,
   "metadata": {},
   "outputs": [],
   "source": [
    "# True negative of 86.90% are identified as the clients that falls under class 0, people that did not make bank deposit after the campaign\n",
    "# True positive of 4.19% are correctly identified as the clients that are under class 1, the people that made deposit after the marketing campaign"
   ]
  },
  {
   "cell_type": "markdown",
   "metadata": {},
   "source": [
    "### Using Decision Tree to generate predictions of the effective marketing campaign both on the training and the testing set"
   ]
  },
  {
   "cell_type": "code",
   "execution_count": 67,
   "metadata": {},
   "outputs": [],
   "source": [
    "from sklearn.tree import DecisionTreeClassifier\n",
    "\n",
    "decisiontree = DecisionTreeClassifier().fit(X_train, y_train)"
   ]
  },
  {
   "cell_type": "code",
   "execution_count": 68,
   "metadata": {},
   "outputs": [
    {
     "data": {
      "text/plain": [
       "0.8917212915756252"
      ]
     },
     "execution_count": 68,
     "metadata": {},
     "output_type": "execute_result"
    }
   ],
   "source": [
    "predictions = decisiontree.predict(X_test)\n",
    "decisiontree.score(X_test, y_test)"
   ]
  },
  {
   "cell_type": "code",
   "execution_count": 69,
   "metadata": {},
   "outputs": [
    {
     "name": "stdout",
     "output_type": "stream",
     "text": [
      "[[6866  469]\n",
      " [ 423  480]]\n"
     ]
    }
   ],
   "source": [
    "cf_matrix_tree = confusion_matrix(y_test, predictions)\n",
    "print(cf_matrix_tree)"
   ]
  },
  {
   "cell_type": "code",
   "execution_count": 70,
   "metadata": {},
   "outputs": [
    {
     "data": {
      "text/plain": [
       "<AxesSubplot:>"
      ]
     },
     "execution_count": 70,
     "metadata": {},
     "output_type": "execute_result"
    },
    {
     "data": {
      "image/png": "[encoded data removed]",
      "text/plain": [
       "<Figure size 432x288 with 2 Axes>"
      ]
     },
     "metadata": {
      "needs_background": "light"
     },
     "output_type": "display_data"
    }
   ],
   "source": [
    "sns.heatmap(cf_matrix_tree/np.sum(cf_matrix_tree), annot=True, \n",
    "            fmt='.2%', cmap='Blues')"
   ]
  },
  {
   "cell_type": "code",
   "execution_count": 71,
   "metadata": {},
   "outputs": [
    {
     "name": "stdout",
     "output_type": "stream",
     "text": [
      "0.505795574288725\n",
      "0.53156146179402\n",
      "0.5183585313174948\n"
     ]
    }
   ],
   "source": [
    "from sklearn.metrics import precision_score\n",
    "\n",
    "print(precision_score(y_test, predictions, pos_label=1))\n",
    "print(recall_score(y_test, predictions, pos_label=1))\n",
    "print(f1_score(y_test, predictions, pos_label=1))"
   ]
  },
  {
   "cell_type": "markdown",
   "metadata": {},
   "source": [
    "printing the balance accuracy test for decision tree"
   ]
  },
  {
   "cell_type": "code",
   "execution_count": 72,
   "metadata": {},
   "outputs": [
    {
     "data": {
      "text/plain": [
       "0.7338107240803774"
      ]
     },
     "execution_count": 72,
     "metadata": {},
     "output_type": "execute_result"
    }
   ],
   "source": [
    "balanced_accuracy_score(y_test, predictions)"
   ]
  },
  {
   "cell_type": "code",
   "execution_count": 73,
   "metadata": {},
   "outputs": [
    {
     "data": {
      "text/plain": [
       "array([0.08937301, 0.33860072, 0.03879993, 0.02822009, 0.0096336 ,\n",
       "       0.01369248, 0.03226472, 0.16168362, 0.01224884, 0.00915219,\n",
       "       0.00417061, 0.00339774, 0.00824346, 0.00431759, 0.00320019,\n",
       "       0.00701896, 0.00213898, 0.00973644, 0.00431959, 0.00186918,\n",
       "       0.00645509, 0.00526493, 0.00862438, 0.00064514, 0.00562177,\n",
       "       0.00521036, 0.0066786 , 0.00803014, 0.00039733, 0.00875145,\n",
       "       0.01152456, 0.00357653, 0.00374605, 0.00487718, 0.        ,\n",
       "       0.00899634, 0.00084716, 0.00788683, 0.00829818, 0.00061868,\n",
       "       0.00833324, 0.00424426, 0.0045743 , 0.00229072, 0.00435849,\n",
       "       0.00128339, 0.00374382, 0.00191988, 0.00147984, 0.00326975,\n",
       "       0.00318636, 0.00581445, 0.00086975, 0.01069838, 0.01009785,\n",
       "       0.01260247, 0.01315246, 0.01142023, 0.00408014, 0.00312376,\n",
       "       0.00132384])"
      ]
     },
     "execution_count": 73,
     "metadata": {},
     "output_type": "execute_result"
    }
   ],
   "source": [
    "decisiontree.feature_importances_"
   ]
  },
  {
   "cell_type": "code",
   "execution_count": 85,
   "metadata": {},
   "outputs": [
    {
     "name": "stdout",
     "output_type": "stream",
     "text": [
      "{'age': 0.08937300662391201, 'duration': 0.3386007169151103, 'campaign': 0.038799930913230356, 'pdays': 0.028220093366786114, 'previous': 0.009633597987573269, 'cons.price.idx': 0.013692478291418135, 'cons.conf.idx': 0.03226472388582585, 'nr.employed': 0.16168361747907958, 'x0_admin.': 0.012248835241725238, 'x0_blue-collar': 0.009152189819081905, 'x0_entrepreneur': 0.004170608174215199, 'x0_housemaid': 0.00339773630216774, 'x0_management': 0.008243464103348613, 'x0_retired': 0.004317593049708774, 'x0_self-employed': 0.0032001886104693713, 'x0_services': 0.007018956926410964, 'x0_student': 0.0021389783802971915, 'x0_technician': 0.009736435396954993, 'x0_unemployed': 0.004319586802612459, 'x0_unknown': 0.0018691813481568793, 'x1_divorced': 0.0064550931811604845, 'x1_married': 0.0052649287474538665, 'x1_single': 0.008624378351192785, 'x1_unknown': 0.0006451416347070296, 'x2_basic.4y': 0.0056217699820407235, 'x2_basic.6y': 0.005210359325530088, 'x2_basic.9y': 0.006678598653464141, 'x2_high.school': 0.008030140740083094, 'x2_illiterate': 0.00039732932272311557, 'x2_professional.course': 0.008751454871306423, 'x2_university.degree': 0.011524560768354019, 'x2_unknown': 0.0035765348249876612, 'x3_no': 0.003746046541291509, 'x3_unknown': 0.004877180981938743, 'x3_yes': 0.0, 'x4_no': 0.008996339523595107, 'x4_unknown': 0.000847162891964117, 'x4_yes': 0.007886825501351787, 'x5_no': 0.008298179510080385, 'x5_unknown': 0.000618679469042113, 'x5_yes': 0.008333236690267734, 'x6_cellular': 0.004244263565894869, 'x6_telephone': 0.004574301867092375, 'x7_apr': 0.002290719243434399, 'x7_aug': 0.004358488956483754, 'x7_dec': 0.0012833891313825628, 'x7_jul': 0.003743824399669123, 'x7_jun': 0.0019198783597705355, 'x7_mar': 0.0014798410300376863, 'x7_may': 0.003269746670541668, 'x7_nov': 0.003186359341418243, 'x7_oct': 0.005814454091778142, 'x7_sep': 0.0008697507879006146, 'x8_fri': 0.0106983765504984, 'x8_mon': 0.01009784779086394, 'x8_thu': 0.012602467932532313, 'x8_tue': 0.0131524619395848, 'x8_wed': 0.011420233705047952, 'x9_failure': 0.004080139767068827, 'x9_nonexistent': 0.003123755448645146, 'x9_success': 0.0013238382897347411}\n"
     ]
    }
   ],
   "source": [
    "print(dict(zip(X.columns, decisiontree.feature_importances_)))"
   ]
  },
  {
   "cell_type": "code",
   "execution_count": 86,
   "metadata": {},
   "outputs": [
    {
     "data": {
      "image/png": "[encoded data removed]",
      "text/plain": [
       "<Figure size 1800x432 with 1 Axes>"
      ]
     },
     "metadata": {
      "needs_background": "light"
     },
     "output_type": "display_data"
    }
   ],
   "source": [
    "plt.rcParams['figure.figsize'] = [25, 6]\n",
    "plt.bar(height = decisiontree.feature_importances_, x = X.columns)\n",
    "plt.show()"
   ]
  },
  {
   "cell_type": "markdown",
   "metadata": {},
   "source": [
    "SVM"
   ]
  },
  {
   "cell_type": "code",
   "execution_count": 76,
   "metadata": {},
   "outputs": [
    {
     "name": "stdout",
     "output_type": "stream",
     "text": [
      "0.8997329448895363\n",
      "0    7925\n",
      "1     313\n",
      "dtype: int64\n"
     ]
    }
   ],
   "source": [
    "from sklearn.svm import SVC\n",
    "\n",
    "svm = SVC().fit(X_train, y_train)\n",
    "predictions = svm.predict(X_test)\n",
    "print(svm.score(X_test, y_test))\n",
    "print(pd.Series(predictions).value_counts())"
   ]
  },
  {
   "cell_type": "markdown",
   "metadata": {},
   "source": [
    "### K-Nearest Neighbors"
   ]
  },
  {
   "cell_type": "code",
   "execution_count": 77,
   "metadata": {},
   "outputs": [
    {
     "name": "stdout",
     "output_type": "stream",
     "text": [
      "0.8997329448895363\n",
      "0    7477\n",
      "1     761\n",
      "dtype: int64\n"
     ]
    }
   ],
   "source": [
    "from sklearn.neighbors import KNeighborsClassifier\n",
    "\n",
    "nearest_neighbors = KNeighborsClassifier(n_neighbors=3).fit(X_train, y_train)\n",
    "predictions = nearest_neighbors.predict(X_test)\n",
    "print(nearest_neighbors.score(X_test, y_test))\n",
    "print(pd.Series(predictions).value_counts())"
   ]
  },
  {
   "cell_type": "markdown",
   "metadata": {},
   "source": [
    "#### ROC and AUC analysis"
   ]
  },
  {
   "cell_type": "code",
   "execution_count": 78,
   "metadata": {},
   "outputs": [],
   "source": [
    "from sklearn.metrics import roc_curve, roc_auc_score\n",
    "#help(roc_curve)"
   ]
  },
  {
   "cell_type": "code",
   "execution_count": 79,
   "metadata": {},
   "outputs": [
    {
     "data": {
      "text/plain": [
       "[<matplotlib.lines.Line2D at 0x1e4214ada60>]"
      ]
     },
     "execution_count": 79,
     "metadata": {},
     "output_type": "execute_result"
    },
    {
     "data": {
      "image/png": "[encoded data removed]",
      "text/plain": [
       "<Figure size 1800x432 with 1 Axes>"
      ]
     },
     "metadata": {
      "needs_background": "light"
     },
     "output_type": "display_data"
    }
   ],
   "source": [
    "# we need to calculate class probabilities!\n",
    "y_pred_proba = logisticr.predict_proba(X_test)[:,1]\n",
    "y_pred_proba\n",
    "fpr, tpr, bank_predict = roc_curve(y_test, y_pred_proba, pos_label=1) \n",
    "plt.plot(fpr,tpr)"
   ]
  },
  {
   "cell_type": "code",
   "execution_count": 80,
   "metadata": {},
   "outputs": [
    {
     "data": {
      "text/plain": [
       "array([0, 0, 0, ..., 0, 0, 0], dtype=uint8)"
      ]
     },
     "execution_count": 80,
     "metadata": {},
     "output_type": "execute_result"
    }
   ],
   "source": [
    "logisticr.predict(X_test)"
   ]
  },
  {
   "cell_type": "code",
   "execution_count": 81,
   "metadata": {},
   "outputs": [
    {
     "data": {
      "text/plain": [
       "array([[0.96886238, 0.03113762],\n",
       "       [0.94005733, 0.05994267],\n",
       "       [0.9797801 , 0.0202199 ],\n",
       "       ...,\n",
       "       [0.9674967 , 0.0325033 ],\n",
       "       [0.71348475, 0.28651525],\n",
       "       [0.95865649, 0.04134351]])"
      ]
     },
     "execution_count": 81,
     "metadata": {},
     "output_type": "execute_result"
    }
   ],
   "source": [
    "logisticr.predict_proba(X_test)#[:,1]"
   ]
  },
  {
   "cell_type": "code",
   "execution_count": 82,
   "metadata": {},
   "outputs": [
    {
     "data": {
      "text/plain": [
       "0.9232172392109617"
      ]
     },
     "execution_count": 82,
     "metadata": {},
     "output_type": "execute_result"
    }
   ],
   "source": [
    "roc_auc_score(y_test, y_pred_proba)"
   ]
  },
  {
   "cell_type": "markdown",
   "metadata": {},
   "source": [
    "The best classification model that gave me better performance in my predictions accuracy score is ..."
   ]
  },
  {
   "cell_type": "code",
   "execution_count": null,
   "metadata": {},
   "outputs": [],
   "source": []
  }
 ],
 "metadata": {
  "kernelspec": {
   "display_name": "Python 3",
   "language": "python",
   "name": "python3"
  },
  "language_info": {
   "codemirror_mode": {
    "name": "ipython",
    "version": 3
   },
   "file_extension": ".py",
   "mimetype": "text/x-python",
   "name": "python",
   "nbconvert_exporter": "python",
   "pygments_lexer": "ipython3",
   "version": "3.8.5"
  }
 },
 "nbformat": 4,
 "nbformat_minor": 4
}
