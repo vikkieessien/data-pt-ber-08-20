{
 "cells": [
  {
   "cell_type": "code",
   "execution_count": 4,
   "metadata": {},
   "outputs": [
    {
     "name": "stdout",
     "output_type": "stream",
     "text": [
      "Enter your password here: banana\n",
      "Make sure your password has a number in it\n",
      "Make sure your password is at least 8 letters\n"
     ]
    }
   ],
   "source": [
    "# password validator\n",
    "\n",
    "import re \n",
    "def validator():\n",
    "  while True:\n",
    "    password = input(\"Enter your password here: \")\n",
    "    if re.search('[A-Za-z]',password) is None: \n",
    "      print(\"Make sure your password has a Capital letter in it\")\n",
    "    if re.search('[0-9]',password) is None:\n",
    "      print(\"Make sure your password has a number in it\")\n",
    "    if len(password) < 8:\n",
    "        print(\"Make sure your password is at least 8 letters\")\n",
    "    else:\n",
    "      print(\"Your password is fine\")\n",
    "    break  \n",
    "    \n",
    "validator()  "
   ]
  },
  {
   "cell_type": "code",
   "execution_count": 12,
   "metadata": {},
   "outputs": [
    {
     "name": "stdout",
     "output_type": "stream",
     "text": [
      "Enter your 16 digit card number: 4298935791242985\n",
      "Your card is Valid\n"
     ]
    }
   ],
   "source": [
    "# card validator\n",
    "\n",
    "card_number = input(\"Enter your 16 digit card number: \")\n",
    "if len(card_number.replace(\"-\", \"\")) != 16:\n",
    "  print('Enter a valid 16 digit number')\n",
    "elif re.findall('[\\D]', card_number):\n",
    "  print(\"Your card number has to be in numeric\")\n",
    "elif not card_number[0] in ('4', '5', '6'):\n",
    "  print('Your card number has to start with 4, 5 or 6')\n",
    "else:\n",
    "  print(\"Your card is Valid\")"
   ]
  },
  {
   "cell_type": "code",
   "execution_count": null,
   "metadata": {},
   "outputs": [],
   "source": []
  }
 ],
 "metadata": {
  "kernelspec": {
   "display_name": "Python 3",
   "language": "python",
   "name": "python3"
  },
  "language_info": {
   "codemirror_mode": {
    "name": "ipython",
    "version": 3
   },
   "file_extension": ".py",
   "mimetype": "text/x-python",
   "name": "python",
   "nbconvert_exporter": "python",
   "pygments_lexer": "ipython3",
   "version": "3.7.7"
  }
 },
 "nbformat": 4,
 "nbformat_minor": 4
}
