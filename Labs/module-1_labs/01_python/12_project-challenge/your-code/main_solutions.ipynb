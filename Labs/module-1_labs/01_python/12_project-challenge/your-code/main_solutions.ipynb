{
 "cells": [
  {
   "cell_type": "markdown",
   "metadata": {},
   "source": [
    "## Challenge A: Password Validator\n",
    "\n",
    "#### Description\n",
    "Your job is to create a simple password validation function, as seen on many websites.\n",
    "\n",
    "The rules for a valid password are as follows:\n",
    "\n",
    "There needs to be at least 1 uppercase letter.\n",
    "There needs to be at least 1 lowercase letter.\n",
    "There needs to be at least 1 number.\n",
    "The password needs to be at least 8 characters long.\n",
    "\n",
    "*You are permitted to use any methods to validate the password.*"
   ]
  },
  {
   "cell_type": "code",
   "execution_count": 95,
   "metadata": {},
   "outputs": [],
   "source": [
    "# your code here\n",
    "\n",
    "def validate(x):\n",
    "    if sum(list(map(str.isupper, x))) >= 1:\n",
    "        if sum(list(map(str.islower, x))) >= 1:\n",
    "            if sum(list(map(str.isnumeric, x))) >= 1:\n",
    "                if len(x) >= 8:\n",
    "                    print(\"Thank you! All good.\")\n",
    "                    return True\n",
    "    print(\"This password is not valid.\")\n",
    "    return False"
   ]
  },
  {
   "cell_type": "code",
   "execution_count": 96,
   "metadata": {},
   "outputs": [
    {
     "name": "stdout",
     "output_type": "stream",
     "text": [
      "Please type your password: shs\n",
      "This password is not valid.\n"
     ]
    },
    {
     "data": {
      "text/plain": [
       "False"
      ]
     },
     "execution_count": 96,
     "metadata": {},
     "output_type": "execute_result"
    }
   ],
   "source": [
    "pw = input(\"Please type your password: \")\n",
    "validate(pw)"
   ]
  },
  {
   "cell_type": "markdown",
   "metadata": {},
   "source": [
    "## Challenge B: Credit Card Validator\n",
    "\n",
    "#### Description\n",
    "\n",
    "Your task is to write a program which reads credit card number prints the validation result ‘Valid’ or ‘Invalid’.\n",
    "\n",
    "A valid credit card has following features:\n",
    "\n",
    "- It should start with 4, 5 or 6\n",
    "- It should have exactly 16 digits\n",
    "- It should only consist of digits (0-9)\n",
    "- It may have digits in groups of 4 and separated by one hyphen \"-\"\n",
    "- It should NOT use any other separator like ‘ ’,‘_’, etc.\n",
    "- It should NOT have 4 or more consecutive repeated digits\n",
    "\n",
    "Valid Credit Card Numbers:\n",
    "1. 4263525778615786\n",
    "2. 5535535535559555\n",
    "3. 6344-2389-7542-9163\n",
    "\n",
    "Invalid Credit Card Numbers:\n",
    "1. 42536258796157867       \n",
    "2. 66266666626662666       \n",
    "3. 5122-2368-7954 -3214   \n",
    "4. 44244x4424442444       \n",
    "5. 0525362587961578"
   ]
  },
  {
   "cell_type": "code",
   "execution_count": 12,
   "metadata": {},
   "outputs": [],
   "source": [
    "# your code here (Christina)\n",
    "\n",
    "def validate_cc(x):\n",
    "    import re\n",
    "    if (x[0] in ['4', '5', '6']) & (len(x.replace('-', ''))==16) & (set(re.findall('[\\W]', x)) in [set(), {'-'}]) & ((x.isnumeric()) or (not (not re.search('\\d\\d\\d\\d-\\d\\d\\d\\d-\\d\\d\\d\\d-\\d\\d\\d\\d', x)))) & (not [re.findall(str(i)*5, x.replace('-', '')) for i in range(10)] == [[]]):\n",
    "        print(\"Thank you! All good.\")\n",
    "        return True\n",
    "    else:\n",
    "        print(\"This number is not a valid credit card number.\")\n",
    "        return False\n",
    "    "
   ]
  },
  {
   "cell_type": "code",
   "execution_count": 15,
   "metadata": {},
   "outputs": [
    {
     "name": "stdout",
     "output_type": "stream",
     "text": [
      "Please type your credit card number: 6344-2389-7542-9163\n",
      "Thank you! All good.\n"
     ]
    },
    {
     "data": {
      "text/plain": [
       "True"
      ]
     },
     "execution_count": 15,
     "metadata": {},
     "output_type": "execute_result"
    }
   ],
   "source": [
    "cc = input(\"Please type your credit card number: \")\n",
    "validate_cc(cc)"
   ]
  },
  {
   "cell_type": "code",
   "execution_count": 3,
   "metadata": {},
   "outputs": [],
   "source": [
    "# your code here (Filipa)\n",
    "\n",
    "def dashes(x):\n",
    "    s = str(x)\n",
    "    no_ints = ''.join([i for i in s if not i.isdigit()])\n",
    "    if (s[4] == '-') and (s[9] == '-') and (s[14] == '-') and (no_ints == '---') and (len(s) == 19):\n",
    "        return True\n",
    "\n",
    "def no_four_consecutive_1(num): # or find in list of 0000, 1111, 2222\n",
    "    res = \"\".join(num.split(\"-\"))\n",
    "    for i in range(len(res)):\n",
    "        try:\n",
    "            if (res[i] == res[i+1]):\n",
    "                if (res[i+1] == res[i+2]):\n",
    "                    if (res[i+2] == res[i+3]): # try with and and and...\n",
    "                        return False\n",
    "        except IndexError:\n",
    "            pass\n",
    "    return True\n",
    "\n",
    "# or...\n",
    "\n",
    "def no_four_consecutive_2(num):\n",
    "    res = \"\".join(num.split(\"-\"))\n",
    "    consecutives = [str(i)*4 for i in range(0,10)]\n",
    "    for i in consecutives:\n",
    "        if i in res:\n",
    "            return False\n",
    "    else:\n",
    "        return True"
   ]
  },
  {
   "cell_type": "code",
   "execution_count": 4,
   "metadata": {},
   "outputs": [
    {
     "name": "stdout",
     "output_type": "stream",
     "text": [
      "Credit card validator: 6344-2389-7544-4463\n",
      "Invalid\n"
     ]
    }
   ],
   "source": [
    "s = input(\"Credit card validator: \")\n",
    "\n",
    "if s[0] not in ['4', '5', '6']:\n",
    "    print ('Invalid')\n",
    "elif (len(s) != 16):\n",
    "    if dashes(s) and no_four_consecutive_2(s):\n",
    "        print('Valid')\n",
    "    else:\n",
    "        print('Invalid')\n",
    "elif len(s) == 16 and s.isdigit():\n",
    "    if not no_four_consecutive(s):\n",
    "        print('Invalid')\n",
    "    else:\n",
    "        print('Valid')"
   ]
  },
  {
   "cell_type": "markdown",
   "metadata": {},
   "source": [
    "## Challenge C: Multiplication Table\n",
    "\n",
    "#### Description\n",
    "    \n",
    "Your task, is to create a function which returns a **NxN multiplication table**, of size N provided as a function argument.\n",
    "\n",
    "for example, when given size is 3:\n",
    "\n",
    "1 2 3\n",
    "\n",
    "2 4 6\n",
    "\n",
    "3 6 9\n",
    "\n",
    "So for the given example, the return value should be: [[1,2,3],[2,4,6],[3,6,9]]"
   ]
  },
  {
   "cell_type": "code",
   "execution_count": 159,
   "metadata": {},
   "outputs": [],
   "source": [
    "# your code here\n",
    "\n",
    "def multable(x):\n",
    "    import numpy as np\n",
    "    if not x.isnumeric():\n",
    "        print(\"This is not a positive number.\")\n",
    "        return False\n",
    "    x = int(x)\n",
    "    if int(x)<=0:\n",
    "        print(\"This is not a positive number.\")\n",
    "        return False\n",
    "    y = np.ones((x,x))\n",
    "    y[0:,0] = np.arange(1,x+1)\n",
    "    y[0,0:] = np.arange(1,x+1)\n",
    "    for i in range(1, x):\n",
    "        for j in range(1, x):\n",
    "            y[i, j] = y[i, 0] * y[0, j]\n",
    "    return y"
   ]
  },
  {
   "cell_type": "code",
   "execution_count": 161,
   "metadata": {},
   "outputs": [
    {
     "name": "stdout",
     "output_type": "stream",
     "text": [
      "Please give a number larger than 0: 100\n"
     ]
    },
    {
     "data": {
      "text/plain": [
       "array([[1.000e+00, 2.000e+00, 3.000e+00, ..., 9.800e+01, 9.900e+01,\n",
       "        1.000e+02],\n",
       "       [2.000e+00, 4.000e+00, 6.000e+00, ..., 1.960e+02, 1.980e+02,\n",
       "        2.000e+02],\n",
       "       [3.000e+00, 6.000e+00, 9.000e+00, ..., 2.940e+02, 2.970e+02,\n",
       "        3.000e+02],\n",
       "       ...,\n",
       "       [9.800e+01, 1.960e+02, 2.940e+02, ..., 9.604e+03, 9.702e+03,\n",
       "        9.800e+03],\n",
       "       [9.900e+01, 1.980e+02, 2.970e+02, ..., 9.702e+03, 9.801e+03,\n",
       "        9.900e+03],\n",
       "       [1.000e+02, 2.000e+02, 3.000e+02, ..., 9.800e+03, 9.900e+03,\n",
       "        1.000e+04]])"
      ]
     },
     "execution_count": 161,
     "metadata": {},
     "output_type": "execute_result"
    }
   ],
   "source": [
    "mult = input(\"Please give a number larger than 0: \")\n",
    "multable(mult)\n"
   ]
  },
  {
   "cell_type": "code",
   "execution_count": 217,
   "metadata": {},
   "outputs": [
    {
     "data": {
      "text/plain": [
       "array([[1, 2, 3],\n",
       "       [2, 4, 6],\n",
       "       [3, 6, 9]])"
      ]
     },
     "execution_count": 217,
     "metadata": {},
     "output_type": "execute_result"
    }
   ],
   "source": [
    "# in one line of code\n",
    "\n",
    "def mult_table(x):\n",
    "    return np.array([list(i*np.arange(1,x+1)) for i in range(1, x+1)])\n",
    "\n",
    "mult_table(3)\n"
   ]
  },
  {
   "cell_type": "markdown",
   "metadata": {},
   "source": [
    "###### Challenge D: ID Assignment\n",
    "\n",
    "#### Description\n",
    "\n",
    "a) You work in a company with 100 people - to start, please create a list of people ranging from Person 1 to Person 100. For company purposes, each of these people is identified with a Personal ID, which is a combination of 2 uppercase letters and a random number of 5 digits. For each person, generate a random ID, and store it in a dictionary alongside their name (for example ('Person 5': 'AB73648')). Then sort the dictionary according to the values of their Personal IDs.\n",
    "\n",
    "b) One month later, your company changes the ID format for every employee - from now on, every person will have an ID that consists of only letters. In order to convert them, every number in the employee ID should be replaced by the corresponding uppercase letter in the alphabeth. Please write a function that accomplishes this change"
   ]
  },
  {
   "cell_type": "code",
   "execution_count": 220,
   "metadata": {
    "scrolled": true
   },
   "outputs": [
    {
     "name": "stdout",
     "output_type": "stream",
     "text": [
      "{'Person 1': 'UY23319', 'Person 2': 'AU44318', 'Person 3': 'IG36723', 'Person 4': 'JV28416', 'Person 5': 'GD60474', 'Person 6': 'GI95391', 'Person 7': 'GM85259', 'Person 8': 'HP56172', 'Person 9': 'HO25073', 'Person 10': 'AI75563', 'Person 11': 'BR76679', 'Person 12': 'EX30231', 'Person 13': 'IY72583', 'Person 14': 'KG76334', 'Person 15': 'SN98581', 'Person 16': 'PK73522', 'Person 17': 'MQ24834', 'Person 18': 'UX47696', 'Person 19': 'GB78897', 'Person 20': 'LP12803', 'Person 21': 'MB19673', 'Person 22': 'WP39423', 'Person 23': 'QO36756', 'Person 24': 'BG67309', 'Person 25': 'OY70092', 'Person 26': 'PJ31320', 'Person 27': 'QP16825', 'Person 28': 'HQ21522', 'Person 29': 'OF49794', 'Person 30': 'LG11460', 'Person 31': 'MI80045', 'Person 32': 'PI93887', 'Person 33': 'MB52546', 'Person 34': 'PR65865', 'Person 35': 'KN23401', 'Person 36': 'NX12401', 'Person 37': 'WY62138', 'Person 38': 'QQ36481', 'Person 39': 'JY10746', 'Person 40': 'UL78761', 'Person 41': 'OE63838', 'Person 42': 'CI68657', 'Person 43': 'XO61987', 'Person 44': 'CH65057', 'Person 45': 'EX35339', 'Person 46': 'JN79343', 'Person 47': 'HE17160', 'Person 48': 'DH72738', 'Person 49': 'LI24832', 'Person 50': 'TX78032', 'Person 51': 'EC82229', 'Person 52': 'VW83812', 'Person 53': 'KO64128', 'Person 54': 'RJ15008', 'Person 55': 'ES85743', 'Person 56': 'YR40756', 'Person 57': 'AI74719', 'Person 58': 'FD39919', 'Person 59': 'KN89627', 'Person 60': 'TY67037', 'Person 61': 'VT45338', 'Person 62': 'LW41964', 'Person 63': 'AA46237', 'Person 64': 'OH46445', 'Person 65': 'DC19199', 'Person 66': 'DR43764', 'Person 67': 'AN51755', 'Person 68': 'XK35421', 'Person 69': 'IS83320', 'Person 70': 'AL83492', 'Person 71': 'AK73949', 'Person 72': 'YL52543', 'Person 73': 'WS57477', 'Person 74': 'QF85340', 'Person 75': 'JD90025', 'Person 76': 'BY54969', 'Person 77': 'AV44367', 'Person 78': 'KJ45636', 'Person 79': 'AU69933', 'Person 80': 'UP51753', 'Person 81': 'FK18447', 'Person 82': 'XK80131', 'Person 83': 'EB98114', 'Person 84': 'KU66305', 'Person 85': 'MD27142', 'Person 86': 'UU93077', 'Person 87': 'SQ54470', 'Person 88': 'NS95568', 'Person 89': 'SI18263', 'Person 90': 'WQ67468', 'Person 91': 'NN38054', 'Person 92': 'FH54829', 'Person 93': 'TV21821', 'Person 94': 'GB31511', 'Person 95': 'SC79046', 'Person 96': 'GF18351', 'Person 97': 'DW55595', 'Person 98': 'EU15241', 'Person 99': 'UL46576', 'Person 100': 'WE52363'}\n",
      "{'Person 1': 'UYBCCAI', 'Person 2': 'AUDDCAH', 'Person 3': 'IGCFGBC', 'Person 4': 'JVBHDAF', 'Person 5': 'GDFZDGD', 'Person 6': 'GIIECIA', 'Person 7': 'GMHEBEI', 'Person 8': 'HPEFAGB', 'Person 9': 'HOBEZGC', 'Person 10': 'AIGEEFC', 'Person 11': 'BRGFFGI', 'Person 12': 'EXCZBCA', 'Person 13': 'IYGBEHC', 'Person 14': 'KGGFCCD', 'Person 15': 'SNIHEHA', 'Person 16': 'PKGCEBB', 'Person 17': 'MQBDHCD', 'Person 18': 'UXDGFIF', 'Person 19': 'GBGHHIG', 'Person 20': 'LPABHZC', 'Person 21': 'MBAIFGC', 'Person 22': 'WPCIDBC', 'Person 23': 'QOCFGEF', 'Person 24': 'BGFGCZI', 'Person 25': 'OYGZZIB', 'Person 26': 'PJCACBZ', 'Person 27': 'QPAFHBE', 'Person 28': 'HQBAEBB', 'Person 29': 'OFDIGID', 'Person 30': 'LGAADFZ', 'Person 31': 'MIHZZDE', 'Person 32': 'PIICHHG', 'Person 33': 'MBEBEDF', 'Person 34': 'PRFEHFE', 'Person 35': 'KNBCDZA', 'Person 36': 'NXABDZA', 'Person 37': 'WYFBACH', 'Person 38': 'QQCFDHA', 'Person 39': 'JYAZGDF', 'Person 40': 'ULGHGFA', 'Person 41': 'OEFCHCH', 'Person 42': 'CIFHFEG', 'Person 43': 'XOFAIHG', 'Person 44': 'CHFEZEG', 'Person 45': 'EXCECCI', 'Person 46': 'JNGICDC', 'Person 47': 'HEAGAFZ', 'Person 48': 'DHGBGCH', 'Person 49': 'LIBDHCB', 'Person 50': 'TXGHZCB', 'Person 51': 'ECHBBBI', 'Person 52': 'VWHCHAB', 'Person 53': 'KOFDABH', 'Person 54': 'RJAEZZH', 'Person 55': 'ESHEGDC', 'Person 56': 'YRDZGEF', 'Person 57': 'AIGDGAI', 'Person 58': 'FDCIIAI', 'Person 59': 'KNHIFBG', 'Person 60': 'TYFGZCG', 'Person 61': 'VTDECCH', 'Person 62': 'LWDAIFD', 'Person 63': 'AADFBCG', 'Person 64': 'OHDFDDE', 'Person 65': 'DCAIAII', 'Person 66': 'DRDCGFD', 'Person 67': 'ANEAGEE', 'Person 68': 'XKCEDBA', 'Person 69': 'ISHCCBZ', 'Person 70': 'ALHCDIB', 'Person 71': 'AKGCIDI', 'Person 72': 'YLEBEDC', 'Person 73': 'WSEGDGG', 'Person 74': 'QFHECDZ', 'Person 75': 'JDIZZBE', 'Person 76': 'BYEDIFI', 'Person 77': 'AVDDCFG', 'Person 78': 'KJDEFCF', 'Person 79': 'AUFIICC', 'Person 80': 'UPEAGEC', 'Person 81': 'FKAHDDG', 'Person 82': 'XKHZACA', 'Person 83': 'EBIHAAD', 'Person 84': 'KUFFCZE', 'Person 85': 'MDBGADB', 'Person 86': 'UUICZGG', 'Person 87': 'SQEDDGZ', 'Person 88': 'NSIEEFH', 'Person 89': 'SIAHBFC', 'Person 90': 'WQFGDFH', 'Person 91': 'NNCHZED', 'Person 92': 'FHEDHBI', 'Person 93': 'TVBAHBA', 'Person 94': 'GBCAEAA', 'Person 95': 'SCGIZDF', 'Person 96': 'GFAHCEA', 'Person 97': 'DWEEEIE', 'Person 98': 'EUAEBDA', 'Person 99': 'ULDFEGF', 'Person 100': 'WEEBCFC'}\n"
     ]
    }
   ],
   "source": [
    "# your code here\n",
    "import numpy as np\n",
    "import string\n",
    "\n",
    "people = [(lambda x: \"Person \" + str(x))(x) for x in range(1, 101)]\n",
    "ids = set([string.ascii_uppercase[np.random.randint(25)] + string.ascii_uppercase[np.random.randint(25)] + str(np.random.randint(10000, 100000)) for x in range(1, 101)]) \n",
    "\n",
    "people_ids = dict(zip(people, ids))\n",
    "print(people_ids)\n",
    "\n",
    "def convert_ids(x):\n",
    "    newid = x[0:2]\n",
    "    for i in range(2, 7):\n",
    "        newid = newid + string.ascii_uppercase[int(x[i])-1]\n",
    "    return newid\n",
    "\n",
    "\n",
    "for (k, v) in people_ids.items():\n",
    "    people_ids[k] = convert_ids(v)\n",
    "\n",
    "print(people_ids)"
   ]
  }
 ],
 "metadata": {
  "kernelspec": {
   "display_name": "Python 3",
   "language": "python",
   "name": "python3"
  },
  "language_info": {
   "codemirror_mode": {
    "name": "ipython",
    "version": 3
   },
   "file_extension": ".py",
   "mimetype": "text/x-python",
   "name": "python",
   "nbconvert_exporter": "python",
   "pygments_lexer": "ipython3",
   "version": "3.7.4"
  }
 },
 "nbformat": 4,
 "nbformat_minor": 2
}
