{
 "cells": [
  {
   "cell_type": "markdown",
   "metadata": {},
   "source": [
    "# Working with Numpy\n",
    "\n",
    "Numpy is the numerical python package, with a lot of mathematical capabilities. Before we can use it, we need to first import the package. We will import it under the name np such that we can afterwards refer to it by this short name."
   ]
  },
  {
   "cell_type": "code",
   "execution_count": 10,
   "metadata": {},
   "outputs": [],
   "source": [
    "# your code here\n",
    "import numpy as np"
   ]
  },
  {
   "cell_type": "markdown",
   "metadata": {},
   "source": [
    "In the cell below, generate two 2x3 array with all elements equal to 1 - assign one of the arrays to the variable a and the other one to b. Add the two arrays. What do you get?"
   ]
  },
  {
   "cell_type": "code",
   "execution_count": 13,
   "metadata": {},
   "outputs": [
    {
     "name": "stdout",
     "output_type": "stream",
     "text": [
      "[[1.60223288 1.77194272 1.48275898]\n",
      " [0.38885393 0.46980732 1.44431248]]\n"
     ]
    }
   ],
   "source": [
    "# your code here a = np.random.random((10,4))\n",
    "# np.random.random((2,3))\n",
    "\n",
    "a = np.random.random((2,3)) * 1\n",
    "b = np.random.random((2,3)) * 1\n",
    "\n",
    "print(np.add(a, b))"
   ]
  },
  {
   "cell_type": "markdown",
   "metadata": {},
   "source": [
    "Now generate another array c which is a 3x2 array with all elements equal to 1. Are you able to add a and c? Why or why not?"
   ]
  },
  {
   "cell_type": "code",
   "execution_count": 14,
   "metadata": {},
   "outputs": [
    {
     "ename": "ValueError",
     "evalue": "operands could not be broadcast together with shapes (2,3) (3,2) ",
     "output_type": "error",
     "traceback": [
      "\u001b[1;31m---------------------------------------------------------------------------\u001b[0m",
      "\u001b[1;31mValueError\u001b[0m                                Traceback (most recent call last)",
      "\u001b[1;32m<ipython-input-14-5c237b287ef3>\u001b[0m in \u001b[0;36m<module>\u001b[1;34m\u001b[0m\n\u001b[0;32m      1\u001b[0m \u001b[1;31m# your code here\u001b[0m\u001b[1;33m\u001b[0m\u001b[1;33m\u001b[0m\u001b[1;33m\u001b[0m\u001b[0m\n\u001b[0;32m      2\u001b[0m \u001b[0mc\u001b[0m \u001b[1;33m=\u001b[0m \u001b[0mnp\u001b[0m\u001b[1;33m.\u001b[0m\u001b[0mrandom\u001b[0m\u001b[1;33m.\u001b[0m\u001b[0mrandom\u001b[0m\u001b[1;33m(\u001b[0m\u001b[1;33m(\u001b[0m\u001b[1;36m3\u001b[0m\u001b[1;33m,\u001b[0m\u001b[1;36m2\u001b[0m\u001b[1;33m)\u001b[0m\u001b[1;33m)\u001b[0m \u001b[1;33m*\u001b[0m \u001b[1;36m1\u001b[0m\u001b[1;33m\u001b[0m\u001b[1;33m\u001b[0m\u001b[0m\n\u001b[1;32m----> 3\u001b[1;33m \u001b[0mprint\u001b[0m\u001b[1;33m(\u001b[0m\u001b[0mnp\u001b[0m\u001b[1;33m.\u001b[0m\u001b[0madd\u001b[0m\u001b[1;33m(\u001b[0m\u001b[0ma\u001b[0m\u001b[1;33m,\u001b[0m \u001b[0mc\u001b[0m\u001b[1;33m)\u001b[0m\u001b[1;33m)\u001b[0m\u001b[1;33m\u001b[0m\u001b[1;33m\u001b[0m\u001b[0m\n\u001b[0m",
      "\u001b[1;31mValueError\u001b[0m: operands could not be broadcast together with shapes (2,3) (3,2) "
     ]
    }
   ],
   "source": [
    "# your code here\n",
    "c = np.random.random((3,2)) * 1\n",
    "print(np.add(a, c))\n",
    "\n",
    "# the first(a) has matrix 2x3, while the latter (c) has 3,2, \n",
    "# hence, operands could not be broadcast together with shapes (2,3) (3,2) "
   ]
  },
  {
   "cell_type": "markdown",
   "metadata": {},
   "source": [
    "Transpose c so that it has the same structure of a (i.e. become a 2x3 array). Assign the transposed array to variable \"d\". Are you able to add a and d?"
   ]
  },
  {
   "cell_type": "code",
   "execution_count": 17,
   "metadata": {
    "scrolled": true
   },
   "outputs": [
    {
     "name": "stdout",
     "output_type": "stream",
     "text": [
      "[[1.63746433 1.44311259 1.40546912]\n",
      " [0.72368097 0.73326333 1.48481806]]\n"
     ]
    }
   ],
   "source": [
    "# your code here\n",
    "d = np.random.random((2,3))\n",
    "d\n",
    "print(np.add(a,d))"
   ]
  },
  {
   "cell_type": "markdown",
   "metadata": {},
   "source": [
    "Which combination of arrays are you able to multiply with each other? Why?"
   ]
  },
  {
   "cell_type": "code",
   "execution_count": 18,
   "metadata": {},
   "outputs": [
    {
     "name": "stdout",
     "output_type": "stream",
     "text": [
      "[[0.66524288 0.51574251 0.49225711]\n",
      " [0.06760943 0.10641565 0.55010352]]\n"
     ]
    }
   ],
   "source": [
    "# your code here\n",
    "# Multiply elements of a and d together because they have the same 2,3 matrix size\n",
    "print(np.multiply(a,d))"
   ]
  },
  {
   "cell_type": "markdown",
   "metadata": {},
   "source": [
    "Create a list which contains the numbers from 0 to 10. Square the list elementwise using numpy functions."
   ]
  },
  {
   "cell_type": "code",
   "execution_count": 26,
   "metadata": {},
   "outputs": [
    {
     "data": {
      "text/plain": [
       "array([[12.47934538,  9.78200932, 20.28856378, 34.43625935, 20.58910975],\n",
       "       [ 4.57262727, 97.44171673, 68.74707042, 17.20198135, 36.67446548],\n",
       "       [25.59810345,  2.64168319, 34.85606711, 40.80240347,  3.23594059]])"
      ]
     },
     "execution_count": 26,
     "metadata": {},
     "output_type": "execute_result"
    }
   ],
   "source": [
    "# your code here\n",
    "num = np.random.random((3,5)) * 10\n",
    "np.square(num)"
   ]
  },
  {
   "cell_type": "markdown",
   "metadata": {},
   "source": [
    "Create a numpy array of size 10x10 which has random numbers between 0 and 100 on the main diagonal and zeros otherwise."
   ]
  },
  {
   "cell_type": "code",
   "execution_count": 23,
   "metadata": {},
   "outputs": [
    {
     "data": {
      "text/plain": [
       "array([[47.18089059, 30.71718227, 60.11608556, 20.28913466, 24.37082662,\n",
       "        33.84278054, 49.48599775, 34.191858  , 59.40124467, 62.18308179],\n",
       "       [54.92223843, 80.08716572, 18.2408713 , 90.18265936, 29.13211929,\n",
       "        26.67092344,  9.02288001, 52.30440686, 83.23436521, 32.29649489],\n",
       "       [71.68096108, 66.40248247, 40.61915726,  6.62104964, 33.10080356,\n",
       "        58.42562662, 75.92654391, 88.41366872, 63.12576609, 27.29348104],\n",
       "       [37.85762936, 23.69215384, 63.93434714,  9.62953482, 27.05963389,\n",
       "        22.85060108, 26.18238863, 88.80079048, 36.42375161, 13.81063687],\n",
       "       [86.62931629, 26.24239923,  1.34234817, 85.99396612, 64.19829771,\n",
       "        46.51472369, 83.33396403, 30.35891986, 47.70385176, 12.75798641],\n",
       "       [55.80296557, 35.98150073, 21.01745096,  6.98587754, 54.23907401,\n",
       "        44.82722976,  7.22944233, 29.56768491, 28.62392361, 58.91397832],\n",
       "       [95.25346033, 83.03995854, 38.17271768, 80.75339045, 70.04921113,\n",
       "        17.12418724,  0.36495654, 27.13130642, 31.98864981, 29.60238296],\n",
       "       [11.21407834, 52.91582986,  0.41470711, 40.76147646, 90.38183026,\n",
       "         9.59055275, 28.22174464, 60.90315184, 75.75003293, 33.13870445],\n",
       "       [38.45981799, 65.67634486, 85.12824491, 68.79202828, 19.54898158,\n",
       "        80.38166028, 89.80775166,  6.10977959, 37.82675248, 32.09495904],\n",
       "       [ 0.4473318 , 31.18384378, 11.49036994, 75.65956545, 47.88233497,\n",
       "        70.21687909, 52.11654987,  2.68187099, 43.71252833, 27.07203692]])"
      ]
     },
     "execution_count": 23,
     "metadata": {},
     "output_type": "execute_result"
    }
   ],
   "source": [
    "# your code here\n",
    "np.random.random((10,10)) * 100\n",
    "\n"
   ]
  },
  {
   "cell_type": "code",
   "execution_count": null,
   "metadata": {},
   "outputs": [],
   "source": []
  }
 ],
 "metadata": {
  "kernelspec": {
   "display_name": "Python 3",
   "language": "python",
   "name": "python3"
  },
  "language_info": {
   "codemirror_mode": {
    "name": "ipython",
    "version": 3
   },
   "file_extension": ".py",
   "mimetype": "text/x-python",
   "name": "python",
   "nbconvert_exporter": "python",
   "pygments_lexer": "ipython3",
   "version": "3.8.3"
  }
 },
 "nbformat": 4,
 "nbformat_minor": 2
}
