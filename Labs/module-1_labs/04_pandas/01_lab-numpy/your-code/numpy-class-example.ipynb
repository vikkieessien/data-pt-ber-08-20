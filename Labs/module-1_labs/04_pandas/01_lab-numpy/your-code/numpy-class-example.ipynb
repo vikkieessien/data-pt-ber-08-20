{
 "cells": [
  {
   "cell_type": "markdown",
   "metadata": {},
   "source": [
    "# The Numpy Package"
   ]
  },
  {
   "cell_type": "markdown",
   "metadata": {},
   "source": [
    "#### Importing and working with the package"
   ]
  },
  {
   "cell_type": "code",
   "execution_count": 51,
   "metadata": {},
   "outputs": [],
   "source": [
    "import numpy"
   ]
  },
  {
   "cell_type": "code",
   "execution_count": 52,
   "metadata": {
    "jupyter": {
     "outputs_hidden": true
    }
   },
   "outputs": [],
   "source": [
    "numpy?"
   ]
  },
  {
   "cell_type": "code",
   "execution_count": 53,
   "metadata": {
    "jupyter": {
     "outputs_hidden": true
    }
   },
   "outputs": [],
   "source": [
    "import numpy as np\n"
   ]
  },
  {
   "cell_type": "markdown",
   "metadata": {},
   "source": [
    "#### Numpy data structures: arrays"
   ]
  },
  {
   "cell_type": "code",
   "execution_count": 54,
   "metadata": {
    "jupyter": {
     "outputs_hidden": true
    }
   },
   "outputs": [],
   "source": [
    "a = np.random.random((2, 3, 5))"
   ]
  },
  {
   "cell_type": "code",
   "execution_count": 55,
   "metadata": {},
   "outputs": [
    {
     "name": "stdout",
     "output_type": "stream",
     "text": [
      "[[[0.29741417 0.97576913 0.00123844 0.84777876 0.93840907]\n",
      "  [0.36052392 0.6830893  0.46484724 0.66064581 0.70490264]\n",
      "  [0.67449165 0.26244965 0.76578421 0.47864934 0.02098919]]\n",
      "\n",
      " [[0.59625714 0.72641189 0.59696288 0.66342725 0.16394495]\n",
      "  [0.13429663 0.30349888 0.89953311 0.55906956 0.40574699]\n",
      "  [0.38594497 0.17823099 0.81859363 0.46100893 0.31519695]]]\n"
     ]
    }
   ],
   "source": [
    "print(a)"
   ]
  },
  {
   "cell_type": "code",
   "execution_count": 56,
   "metadata": {},
   "outputs": [
    {
     "name": "stdout",
     "output_type": "stream",
     "text": [
      "(2, 3, 5)\n",
      "30\n"
     ]
    }
   ],
   "source": [
    "print(a.shape)\n",
    "print(a.size)"
   ]
  },
  {
   "cell_type": "markdown",
   "metadata": {},
   "source": [
    "#### Extracting data from arrays"
   ]
  },
  {
   "cell_type": "code",
   "execution_count": 57,
   "metadata": {
    "jupyter": {
     "outputs_hidden": true
    }
   },
   "outputs": [
    {
     "data": {
      "text/plain": [
       "array([0.00123844, 0.46484724, 0.76578421])"
      ]
     },
     "execution_count": 57,
     "metadata": {},
     "output_type": "execute_result"
    }
   ],
   "source": [
    "a[0,0,0]\n",
    "a[0,:,2]"
   ]
  },
  {
   "cell_type": "code",
   "execution_count": 58,
   "metadata": {
    "jupyter": {
     "outputs_hidden": true
    }
   },
   "outputs": [
    {
     "data": {
      "text/plain": [
       "array([[[5.00000000e+00, 9.75769130e-01, 1.23843839e-03, 8.47778759e-01,\n",
       "         9.38409075e-01],\n",
       "        [3.60523922e-01, 6.83089296e-01, 4.64847238e-01, 6.60645807e-01,\n",
       "         7.04902643e-01],\n",
       "        [6.74491650e-01, 2.62449654e-01, 7.65784209e-01, 4.78649337e-01,\n",
       "         2.09891896e-02]],\n",
       "\n",
       "       [[5.96257143e-01, 7.26411894e-01, 5.96962879e-01, 6.63427254e-01,\n",
       "         1.63944947e-01],\n",
       "        [1.34296627e-01, 3.03498879e-01, 8.99533114e-01, 5.59069565e-01,\n",
       "         4.05746987e-01],\n",
       "        [3.85944965e-01, 1.78230990e-01, 8.18593625e-01, 4.61008933e-01,\n",
       "         3.15196950e-01]]])"
      ]
     },
     "execution_count": 58,
     "metadata": {},
     "output_type": "execute_result"
    }
   ],
   "source": [
    "# numpy arrays are mutable!\n",
    "a[0,0,0] = 5\n",
    "a"
   ]
  },
  {
   "cell_type": "markdown",
   "metadata": {},
   "source": [
    "#### Converting other data structures to arrays"
   ]
  },
  {
   "cell_type": "code",
   "execution_count": 59,
   "metadata": {
    "jupyter": {
     "outputs_hidden": true
    }
   },
   "outputs": [],
   "source": [
    "mylist1 = ['cat', 'dog']\n",
    "mylist2 = [['cat', 'dog'], ['squirrel', 'mouse'], ['anteater', 'bear']]"
   ]
  },
  {
   "cell_type": "code",
   "execution_count": 60,
   "metadata": {
    "jupyter": {
     "outputs_hidden": true
    }
   },
   "outputs": [
    {
     "data": {
      "text/plain": [
       "array(['cat', 'dog'], dtype='<U3')"
      ]
     },
     "execution_count": 60,
     "metadata": {},
     "output_type": "execute_result"
    }
   ],
   "source": [
    "np.array(mylist1)"
   ]
  },
  {
   "cell_type": "code",
   "execution_count": 61,
   "metadata": {},
   "outputs": [
    {
     "data": {
      "text/plain": [
       "array([['cat', 'dog'],\n",
       "       ['squirrel', 'mouse'],\n",
       "       ['anteater', 'bear']], dtype='<U8')"
      ]
     },
     "execution_count": 61,
     "metadata": {},
     "output_type": "execute_result"
    }
   ],
   "source": [
    "np.array(mylist2)"
   ]
  },
  {
   "cell_type": "code",
   "execution_count": 62,
   "metadata": {
    "jupyter": {
     "outputs_hidden": true
    }
   },
   "outputs": [
    {
     "data": {
      "text/plain": [
       "array([4, 5, 6, 7, 8, 2, 4, 5, 6, list(['cat', 'dog']),\n",
       "       list(['squirrel', 'mouse']), list(['anteater', 'bear'])],\n",
       "      dtype=object)"
      ]
     },
     "execution_count": 62,
     "metadata": {},
     "output_type": "execute_result"
    }
   ],
   "source": [
    "test = [4, 5, 6, 7, 8, 2, 4, 5, 6]\n",
    "np.array(test + mylist)"
   ]
  },
  {
   "cell_type": "markdown",
   "metadata": {},
   "source": [
    "#### Element-wise mathematical operations"
   ]
  },
  {
   "cell_type": "code",
   "execution_count": 63,
   "metadata": {
    "jupyter": {
     "outputs_hidden": true
    }
   },
   "outputs": [
    {
     "name": "stdout",
     "output_type": "stream",
     "text": [
      "[[0.62510694 0.23937774 0.79160688 0.22818505]\n",
      " [0.69330025 0.27854171 0.25535333 0.90521148]\n",
      " [0.04716762 0.06241652 0.40958252 0.77294959]]\n",
      "[[0.70486755 0.35464579 0.27203457 0.87450304]\n",
      " [0.5633216  0.86495626 0.89099352 0.3437802 ]\n",
      " [0.14438665 0.67568645 0.66879595 0.65103946]]\n"
     ]
    }
   ],
   "source": [
    "first = np.random.random((3, 4))\n",
    "second = np.random.random((3, 4))\n",
    "print(first)\n",
    "print(second)"
   ]
  },
  {
   "cell_type": "code",
   "execution_count": 64,
   "metadata": {
    "jupyter": {
     "outputs_hidden": true
    }
   },
   "outputs": [
    {
     "name": "stdout",
     "output_type": "stream",
     "text": [
      "[[1.32997449 0.59402353 1.06364146 1.10268809]\n",
      " [1.25662185 1.14349797 1.14634685 1.24899168]\n",
      " [0.19155428 0.73810297 1.07837847 1.42398905]]\n"
     ]
    }
   ],
   "source": [
    "result = np.add(first, second)\n",
    "print(result)"
   ]
  },
  {
   "cell_type": "code",
   "execution_count": 65,
   "metadata": {
    "jupyter": {
     "outputs_hidden": true
    }
   },
   "outputs": [
    {
     "data": {
      "text/plain": [
       "array([[1.32997449, 0.59402353, 1.06364146, 1.10268809],\n",
       "       [1.25662185, 1.14349797, 1.14634685, 1.24899168],\n",
       "       [0.19155428, 0.73810297, 1.07837847, 1.42398905]])"
      ]
     },
     "execution_count": 65,
     "metadata": {},
     "output_type": "execute_result"
    }
   ],
   "source": [
    "first + second"
   ]
  },
  {
   "cell_type": "code",
   "execution_count": 66,
   "metadata": {
    "jupyter": {
     "outputs_hidden": true
    }
   },
   "outputs": [
    {
     "data": {
      "text/plain": [
       "[1, 2, 4, 1, 2, 3]"
      ]
     },
     "execution_count": 66,
     "metadata": {},
     "output_type": "execute_result"
    }
   ],
   "source": [
    "[1, 2, 4] + [1, 2, 3]"
   ]
  },
  {
   "cell_type": "code",
   "execution_count": 67,
   "metadata": {},
   "outputs": [
    {
     "data": {
      "text/plain": [
       "array([2, 4, 7])"
      ]
     },
     "execution_count": 67,
     "metadata": {},
     "output_type": "execute_result"
    }
   ],
   "source": [
    "np.add([1, 2, 4], [1, 2, 3])"
   ]
  },
  {
   "cell_type": "code",
   "execution_count": null,
   "metadata": {},
   "outputs": [],
   "source": []
  }
 ],
 "metadata": {
  "kernelspec": {
   "display_name": "Python 3",
   "language": "python",
   "name": "python3"
  },
  "language_info": {
   "codemirror_mode": {
    "name": "ipython",
    "version": 3
   },
   "file_extension": ".py",
   "mimetype": "text/x-python",
   "name": "python",
   "nbconvert_exporter": "python",
   "pygments_lexer": "ipython3",
   "version": "3.7.4"
  }
 },
 "nbformat": 4,
 "nbformat_minor": 4
}
