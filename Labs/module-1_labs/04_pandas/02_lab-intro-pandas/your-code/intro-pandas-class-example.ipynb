{
 "cells": [
  {
   "cell_type": "markdown",
   "metadata": {},
   "source": [
    "## Introduction to Pandas"
   ]
  },
  {
   "cell_type": "markdown",
   "metadata": {},
   "source": [
    "#### Importing and using the package"
   ]
  },
  {
   "cell_type": "code",
   "execution_count": 149,
   "metadata": {},
   "outputs": [],
   "source": [
    "import numpy as np\n",
    "import pandas as pd"
   ]
  },
  {
   "cell_type": "code",
   "execution_count": 150,
   "metadata": {},
   "outputs": [],
   "source": [
    "pd?"
   ]
  },
  {
   "cell_type": "markdown",
   "metadata": {},
   "source": [
    "#### Data Structure 1: Series"
   ]
  },
  {
   "cell_type": "code",
   "execution_count": 151,
   "metadata": {},
   "outputs": [
    {
     "name": "stdout",
     "output_type": "stream",
     "text": [
      "[0 1 2 3 4 5 6 7 8 9]\n"
     ]
    }
   ],
   "source": [
    "print(np.arange(10))\n"
   ]
  },
  {
   "cell_type": "code",
   "execution_count": 152,
   "metadata": {},
   "outputs": [
    {
     "name": "stdout",
     "output_type": "stream",
     "text": [
      "0    0.346133\n",
      "1    0.797978\n",
      "2    0.761719\n",
      "3    0.478788\n",
      "4    0.849617\n",
      "5    0.887745\n",
      "6    0.977799\n",
      "7    0.405978\n",
      "8    0.401578\n",
      "9    0.991548\n",
      "dtype: float64\n"
     ]
    }
   ],
   "source": [
    "a = pd.Series(np.random.random(10))\n",
    "\n",
    "print(a)"
   ]
  },
  {
   "cell_type": "code",
   "execution_count": 153,
   "metadata": {},
   "outputs": [
    {
     "name": "stdout",
     "output_type": "stream",
     "text": [
      "0    3.461333\n",
      "1    7.979777\n",
      "2    7.617191\n",
      "3    4.787882\n",
      "4    8.496171\n",
      "5    8.877455\n",
      "6    9.777988\n",
      "7    4.059777\n",
      "8    4.015781\n",
      "9    9.915475\n",
      "dtype: float64\n"
     ]
    }
   ],
   "source": [
    "print(a *10)"
   ]
  },
  {
   "cell_type": "markdown",
   "metadata": {},
   "source": [
    "#### Accessing elements in a DataFrame"
   ]
  },
  {
   "cell_type": "code",
   "execution_count": 154,
   "metadata": {},
   "outputs": [
    {
     "data": {
      "text/plain": [
       "0.8877454852683951"
      ]
     },
     "execution_count": 154,
     "metadata": {},
     "output_type": "execute_result"
    }
   ],
   "source": [
    "a[5]"
   ]
  },
  {
   "cell_type": "code",
   "execution_count": 155,
   "metadata": {},
   "outputs": [
    {
     "name": "stdout",
     "output_type": "stream",
     "text": [
      "a    0\n",
      "b    1\n",
      "c    2\n",
      "d    3\n",
      "e    4\n",
      "f    5\n",
      "g    6\n",
      "h    7\n",
      "i    8\n",
      "j    9\n",
      "dtype: int64\n"
     ]
    }
   ],
   "source": [
    "b = pd.Series(np.arange(10), index = ['a', 'b', 'c', 'd', 'e', 'f', 'g', 'h', 'i', 'j'])\n",
    "print(b)"
   ]
  },
  {
   "cell_type": "code",
   "execution_count": 156,
   "metadata": {},
   "outputs": [
    {
     "name": "stdout",
     "output_type": "stream",
     "text": [
      "5\n",
      "5\n"
     ]
    }
   ],
   "source": [
    "print(b[5])\n",
    "print(b['f'])"
   ]
  },
  {
   "cell_type": "code",
   "execution_count": 157,
   "metadata": {},
   "outputs": [
    {
     "data": {
      "text/plain": [
       "a    0\n",
       "b    1\n",
       "c    2\n",
       "d    3\n",
       "e    4\n",
       "dtype: int64"
      ]
     },
     "execution_count": 157,
     "metadata": {},
     "output_type": "execute_result"
    }
   ],
   "source": [
    "mydict = {'a': 0, 'b': 1, 'c': 2, 'd': 3, 'e': 4}\n",
    "pd.Series(mydict)"
   ]
  },
  {
   "cell_type": "markdown",
   "metadata": {},
   "source": [
    "#### Data Structure 2: DataFrames"
   ]
  },
  {
   "cell_type": "code",
   "execution_count": 158,
   "metadata": {},
   "outputs": [
    {
     "name": "stdout",
     "output_type": "stream",
     "text": [
      "   0\n",
      "0  0\n",
      "1  1\n",
      "2  2\n",
      "3  3\n",
      "4  4\n",
      "5  5\n",
      "6  6\n",
      "7  7\n",
      "8  8\n",
      "9  9\n"
     ]
    }
   ],
   "source": [
    "df_ser = pd.DataFrame(np.arange(10))\n",
    "print(df_ser)"
   ]
  },
  {
   "cell_type": "code",
   "execution_count": 159,
   "metadata": {},
   "outputs": [
    {
     "name": "stdout",
     "output_type": "stream",
     "text": [
      "          0         1         2         3         4         5         6  \\\n",
      "0  0.003194  0.640856  0.467976  0.882441  0.968963  0.848019  0.586291   \n",
      "1  0.016314  0.470079  0.542594  0.441127  0.646192  0.659801  0.633578   \n",
      "2  0.288990  0.629982  0.609355  0.172555  0.544920  0.039520  0.269780   \n",
      "3  0.818096  0.019234  0.765491  0.877781  0.625841  0.636962  0.279573   \n",
      "4  0.270662  0.260186  0.328665  0.599840  0.441915  0.357077  0.264094   \n",
      "5  0.325917  0.404245  0.915228  0.599730  0.247502  0.646339  0.471267   \n",
      "6  0.143226  0.946736  0.630938  0.307683  0.779672  0.382873  0.933032   \n",
      "7  0.730493  0.930340  0.903647  0.512148  0.193745  0.108470  0.956967   \n",
      "8  0.682703  0.116409  0.577964  0.424816  0.619583  0.759502  0.825766   \n",
      "9  0.227504  0.158928  0.813582  0.337022  0.593836  0.833155  0.792723   \n",
      "\n",
      "          7         8         9  \n",
      "0  0.309633  0.655552  0.890668  \n",
      "1  0.152616  0.865806  0.745442  \n",
      "2  0.379790  0.938776  0.002150  \n",
      "3  0.030356  0.850163  0.336549  \n",
      "4  0.395158  0.684538  0.151975  \n",
      "5  0.592496  0.365472  0.257056  \n",
      "6  0.405015  0.920276  0.484972  \n",
      "7  0.709913  0.732849  0.653693  \n",
      "8  0.335139  0.547945  0.611849  \n",
      "9  0.637880  0.415183  0.406972  \n"
     ]
    }
   ],
   "source": [
    "np.random.random((10, 10))\n",
    "df = pd.DataFrame(np.random.random((10, 10)))\n",
    "print(df)"
   ]
  },
  {
   "cell_type": "code",
   "execution_count": 160,
   "metadata": {},
   "outputs": [
    {
     "name": "stdout",
     "output_type": "stream",
     "text": [
      "RangeIndex(start=0, stop=10, step=1)\n",
      "0    0.640856\n",
      "1    0.470079\n",
      "2    0.629982\n",
      "3    0.019234\n",
      "4    0.260186\n",
      "5    0.404245\n",
      "6    0.946736\n",
      "7    0.930340\n",
      "8    0.116409\n",
      "9    0.158928\n",
      "Name: 1, dtype: float64\n"
     ]
    }
   ],
   "source": [
    "print(df.columns)\n",
    "print(df[1])"
   ]
  },
  {
   "cell_type": "markdown",
   "metadata": {},
   "source": [
    "#### Using Column Names"
   ]
  },
  {
   "cell_type": "code",
   "execution_count": 161,
   "metadata": {},
   "outputs": [],
   "source": [
    "colnames = ['Apple', 'Banana', 'Dog', 'Column3', 'Column4', 'Column5', 'Column6', 'Column7', 'Column8', 'Column9']"
   ]
  },
  {
   "cell_type": "code",
   "execution_count": 162,
   "metadata": {},
   "outputs": [
    {
     "name": "stdout",
     "output_type": "stream",
     "text": [
      "      Apple    Banana       Dog   Column3   Column4   Column5   Column6  \\\n",
      "0  0.892246  0.256770  0.432921  0.750459  0.079918  0.854299  0.346827   \n",
      "1  0.521102  0.404983  0.589741  0.508616  0.673042  0.521756  0.269122   \n",
      "2  0.233658  0.320110  0.476703  0.018488  0.156361  0.969052  0.796124   \n",
      "3  0.148347  0.202239  0.251320  0.509947  0.863439  0.090418  0.347524   \n",
      "4  0.138513  0.579799  0.346740  0.895475  0.917741  0.214882  0.476842   \n",
      "5  0.008062  0.388985  0.965170  0.324583  0.969800  0.169117  0.360348   \n",
      "6  0.668599  0.742115  0.512902  0.210390  0.462461  0.400269  0.924729   \n",
      "7  0.404450  0.181880  0.504973  0.666939  0.869564  0.552127  0.143134   \n",
      "8  0.952894  0.104806  0.581307  0.673884  0.398890  0.746759  0.659107   \n",
      "9  0.324680  0.564644  0.129679  0.691449  0.124589  0.340759  0.028648   \n",
      "\n",
      "    Column7   Column8   Column9  \n",
      "0  0.337535  0.733914  0.607870  \n",
      "1  0.902213  0.541489  0.716684  \n",
      "2  0.940292  0.452019  0.567833  \n",
      "3  0.258797  0.149091  0.965126  \n",
      "4  0.734257  0.998288  0.587311  \n",
      "5  0.305695  0.945466  0.151928  \n",
      "6  0.778438  0.715573  0.924678  \n",
      "7  0.883804  0.742215  0.493872  \n",
      "8  0.691952  0.653811  0.417676  \n",
      "9  0.980458  0.063459  0.382132  \n"
     ]
    }
   ],
   "source": [
    "df_col = pd.DataFrame(np.random.random((10, 10)), columns=colnames)\n",
    "print(df_col)"
   ]
  },
  {
   "cell_type": "code",
   "execution_count": 163,
   "metadata": {},
   "outputs": [
    {
     "data": {
      "text/html": [
       "<div>\n",
       "<style scoped>\n",
       "    .dataframe tbody tr th:only-of-type {\n",
       "        vertical-align: middle;\n",
       "    }\n",
       "\n",
       "    .dataframe tbody tr th {\n",
       "        vertical-align: top;\n",
       "    }\n",
       "\n",
       "    .dataframe thead th {\n",
       "        text-align: right;\n",
       "    }\n",
       "</style>\n",
       "<table border=\"1\" class=\"dataframe\">\n",
       "  <thead>\n",
       "    <tr style=\"text-align: right;\">\n",
       "      <th></th>\n",
       "      <th>Apple</th>\n",
       "      <th>Banana</th>\n",
       "      <th>Dog</th>\n",
       "      <th>Column3</th>\n",
       "      <th>Column4</th>\n",
       "      <th>Column5</th>\n",
       "      <th>Column6</th>\n",
       "      <th>Column7</th>\n",
       "      <th>Column8</th>\n",
       "      <th>Column9</th>\n",
       "    </tr>\n",
       "  </thead>\n",
       "  <tbody>\n",
       "    <tr>\n",
       "      <td>5</td>\n",
       "      <td>0.008062</td>\n",
       "      <td>0.388985</td>\n",
       "      <td>0.965170</td>\n",
       "      <td>0.324583</td>\n",
       "      <td>0.969800</td>\n",
       "      <td>0.169117</td>\n",
       "      <td>0.360348</td>\n",
       "      <td>0.305695</td>\n",
       "      <td>0.945466</td>\n",
       "      <td>0.151928</td>\n",
       "    </tr>\n",
       "    <tr>\n",
       "      <td>6</td>\n",
       "      <td>0.668599</td>\n",
       "      <td>0.742115</td>\n",
       "      <td>0.512902</td>\n",
       "      <td>0.210390</td>\n",
       "      <td>0.462461</td>\n",
       "      <td>0.400269</td>\n",
       "      <td>0.924729</td>\n",
       "      <td>0.778438</td>\n",
       "      <td>0.715573</td>\n",
       "      <td>0.924678</td>\n",
       "    </tr>\n",
       "    <tr>\n",
       "      <td>7</td>\n",
       "      <td>0.404450</td>\n",
       "      <td>0.181880</td>\n",
       "      <td>0.504973</td>\n",
       "      <td>0.666939</td>\n",
       "      <td>0.869564</td>\n",
       "      <td>0.552127</td>\n",
       "      <td>0.143134</td>\n",
       "      <td>0.883804</td>\n",
       "      <td>0.742215</td>\n",
       "      <td>0.493872</td>\n",
       "    </tr>\n",
       "    <tr>\n",
       "      <td>8</td>\n",
       "      <td>0.952894</td>\n",
       "      <td>0.104806</td>\n",
       "      <td>0.581307</td>\n",
       "      <td>0.673884</td>\n",
       "      <td>0.398890</td>\n",
       "      <td>0.746759</td>\n",
       "      <td>0.659107</td>\n",
       "      <td>0.691952</td>\n",
       "      <td>0.653811</td>\n",
       "      <td>0.417676</td>\n",
       "    </tr>\n",
       "    <tr>\n",
       "      <td>9</td>\n",
       "      <td>0.324680</td>\n",
       "      <td>0.564644</td>\n",
       "      <td>0.129679</td>\n",
       "      <td>0.691449</td>\n",
       "      <td>0.124589</td>\n",
       "      <td>0.340759</td>\n",
       "      <td>0.028648</td>\n",
       "      <td>0.980458</td>\n",
       "      <td>0.063459</td>\n",
       "      <td>0.382132</td>\n",
       "    </tr>\n",
       "  </tbody>\n",
       "</table>\n",
       "</div>"
      ],
      "text/plain": [
       "      Apple    Banana       Dog   Column3   Column4   Column5   Column6  \\\n",
       "5  0.008062  0.388985  0.965170  0.324583  0.969800  0.169117  0.360348   \n",
       "6  0.668599  0.742115  0.512902  0.210390  0.462461  0.400269  0.924729   \n",
       "7  0.404450  0.181880  0.504973  0.666939  0.869564  0.552127  0.143134   \n",
       "8  0.952894  0.104806  0.581307  0.673884  0.398890  0.746759  0.659107   \n",
       "9  0.324680  0.564644  0.129679  0.691449  0.124589  0.340759  0.028648   \n",
       "\n",
       "    Column7   Column8   Column9  \n",
       "5  0.305695  0.945466  0.151928  \n",
       "6  0.778438  0.715573  0.924678  \n",
       "7  0.883804  0.742215  0.493872  \n",
       "8  0.691952  0.653811  0.417676  \n",
       "9  0.980458  0.063459  0.382132  "
      ]
     },
     "execution_count": 163,
     "metadata": {},
     "output_type": "execute_result"
    }
   ],
   "source": [
    "df_col.head()\n",
    "df_col.head(3)\n",
    "df_col.tail()"
   ]
  },
  {
   "cell_type": "markdown",
   "metadata": {},
   "source": [
    "#### Converting other structures to DataFrames"
   ]
  },
  {
   "cell_type": "code",
   "execution_count": 164,
   "metadata": {},
   "outputs": [
    {
     "data": {
      "text/html": [
       "<div>\n",
       "<style scoped>\n",
       "    .dataframe tbody tr th:only-of-type {\n",
       "        vertical-align: middle;\n",
       "    }\n",
       "\n",
       "    .dataframe tbody tr th {\n",
       "        vertical-align: top;\n",
       "    }\n",
       "\n",
       "    .dataframe thead th {\n",
       "        text-align: right;\n",
       "    }\n",
       "</style>\n",
       "<table border=\"1\" class=\"dataframe\">\n",
       "  <thead>\n",
       "    <tr style=\"text-align: right;\">\n",
       "      <th></th>\n",
       "      <th>mycolumn</th>\n",
       "    </tr>\n",
       "  </thead>\n",
       "  <tbody>\n",
       "    <tr>\n",
       "      <td>0</td>\n",
       "      <td>4</td>\n",
       "    </tr>\n",
       "    <tr>\n",
       "      <td>1</td>\n",
       "      <td>5</td>\n",
       "    </tr>\n",
       "    <tr>\n",
       "      <td>2</td>\n",
       "      <td>6</td>\n",
       "    </tr>\n",
       "    <tr>\n",
       "      <td>3</td>\n",
       "      <td>7</td>\n",
       "    </tr>\n",
       "    <tr>\n",
       "      <td>4</td>\n",
       "      <td>8</td>\n",
       "    </tr>\n",
       "  </tbody>\n",
       "</table>\n",
       "</div>"
      ],
      "text/plain": [
       "   mycolumn\n",
       "0         4\n",
       "1         5\n",
       "2         6\n",
       "3         7\n",
       "4         8"
      ]
     },
     "execution_count": 164,
     "metadata": {},
     "output_type": "execute_result"
    }
   ],
   "source": [
    "mylist = [4, 5, 6, 7, 8]\n",
    "pd.DataFrame(mylist, columns = [\"mycolumn\"])"
   ]
  },
  {
   "cell_type": "code",
   "execution_count": 165,
   "metadata": {},
   "outputs": [
    {
     "data": {
      "text/html": [
       "<div>\n",
       "<style scoped>\n",
       "    .dataframe tbody tr th:only-of-type {\n",
       "        vertical-align: middle;\n",
       "    }\n",
       "\n",
       "    .dataframe tbody tr th {\n",
       "        vertical-align: top;\n",
       "    }\n",
       "\n",
       "    .dataframe thead th {\n",
       "        text-align: right;\n",
       "    }\n",
       "</style>\n",
       "<table border=\"1\" class=\"dataframe\">\n",
       "  <thead>\n",
       "    <tr style=\"text-align: right;\">\n",
       "      <th></th>\n",
       "      <th>Breed</th>\n",
       "      <th>Name</th>\n",
       "    </tr>\n",
       "  </thead>\n",
       "  <tbody>\n",
       "    <tr>\n",
       "      <td>0</td>\n",
       "      <td>Cat</td>\n",
       "      <td>Meowy</td>\n",
       "    </tr>\n",
       "    <tr>\n",
       "      <td>1</td>\n",
       "      <td>Dog</td>\n",
       "      <td>Bello</td>\n",
       "    </tr>\n",
       "    <tr>\n",
       "      <td>2</td>\n",
       "      <td>GuineaPig</td>\n",
       "      <td>Carmen</td>\n",
       "    </tr>\n",
       "  </tbody>\n",
       "</table>\n",
       "</div>"
      ],
      "text/plain": [
       "       Breed    Name\n",
       "0        Cat   Meowy\n",
       "1        Dog   Bello\n",
       "2  GuineaPig  Carmen"
      ]
     },
     "execution_count": 165,
     "metadata": {},
     "output_type": "execute_result"
    }
   ],
   "source": [
    "mydict={\"Breed\": [\"Cat\", \"Dog\", \"GuineaPig\"], \"Name\": [\"Meowy\", \"Bello\", \"Carmen\"]}\n",
    "pd.DataFrame(mydict)"
   ]
  },
  {
   "cell_type": "code",
   "execution_count": 166,
   "metadata": {},
   "outputs": [
    {
     "name": "stdout",
     "output_type": "stream",
     "text": [
      "       Breed    Name\n",
      "0        Cat   Meowy\n",
      "1        Dog   Bello\n",
      "2  GuineaPig  Carmen\n",
      "           0      1          2\n",
      "Breed    Cat    Dog  GuineaPig\n",
      "Name   Meowy  Bello     Carmen\n"
     ]
    }
   ],
   "source": [
    "print(pd.DataFrame.from_dict(mydict, orient='columns'))\n",
    "print(pd.DataFrame.from_dict(mydict, orient='index'))"
   ]
  },
  {
   "cell_type": "code",
   "execution_count": 167,
   "metadata": {},
   "outputs": [],
   "source": [
    "pd.DataFrame.from_dict?"
   ]
  },
  {
   "cell_type": "markdown",
   "metadata": {},
   "source": [
    "#### Applying functions to DataFrames"
   ]
  },
  {
   "cell_type": "code",
   "execution_count": 168,
   "metadata": {},
   "outputs": [
    {
     "data": {
      "text/plain": [
       "Apple      0.429255\n",
       "Banana     0.374633\n",
       "Dog        0.479146\n",
       "Column3    0.525023\n",
       "Column4    0.551580\n",
       "Column5    0.485944\n",
       "Column6    0.435240\n",
       "Column7    0.681344\n",
       "Column8    0.599532\n",
       "Column9    0.581511\n",
       "dtype: float64"
      ]
     },
     "execution_count": 168,
     "metadata": {},
     "output_type": "execute_result"
    }
   ],
   "source": [
    "# taking the mean of each column\n",
    "df_col.mean()\n",
    "df_col.mean(axis=0)"
   ]
  },
  {
   "cell_type": "code",
   "execution_count": 169,
   "metadata": {},
   "outputs": [
    {
     "data": {
      "text/plain": [
       "0    0.529276\n",
       "1    0.564875\n",
       "2    0.493064\n",
       "3    0.378625\n",
       "4    0.588985\n",
       "5    0.458915\n",
       "6    0.634015\n",
       "7    0.544296\n",
       "8    0.588109\n",
       "9    0.363050\n",
       "dtype: float64"
      ]
     },
     "execution_count": 169,
     "metadata": {},
     "output_type": "execute_result"
    }
   ],
   "source": [
    "# taking the mean of each row\n",
    "df_col.mean(axis=1)"
   ]
  }
 ],
 "metadata": {
  "kernelspec": {
   "display_name": "Python 3",
   "language": "python",
   "name": "python3"
  },
  "language_info": {
   "codemirror_mode": {
    "name": "ipython",
    "version": 3
   },
   "file_extension": ".py",
   "mimetype": "text/x-python",
   "name": "python",
   "nbconvert_exporter": "python",
   "pygments_lexer": "ipython3",
   "version": "3.7.4"
  }
 },
 "nbformat": 4,
 "nbformat_minor": 2
}
