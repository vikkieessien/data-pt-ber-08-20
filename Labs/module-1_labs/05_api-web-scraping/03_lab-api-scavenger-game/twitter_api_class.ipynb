{
 "cells": [
  {
   "cell_type": "code",
   "execution_count": null,
   "metadata": {},
   "outputs": [],
   "source": [
    "import sys\n",
    "!{sys.executable} -m pip install tweepy\n",
    "import tweepy"
   ]
  },
  {
   "cell_type": "code",
   "execution_count": null,
   "metadata": {},
   "outputs": [],
   "source": [
    "import json\n",
    "import pandas as pd"
   ]
  },
  {
   "cell_type": "markdown",
   "metadata": {},
   "source": [
    "### Twitter API"
   ]
  },
  {
   "cell_type": "markdown",
   "metadata": {},
   "source": [
    "For this API, we first need to generate credentials online. Then we will save them in a local json file - it's important to never save and upload credentials in your jupyter notebook! Instead, we will save them in a local credentials file, which we never will upload to your online repo.\n",
    "\n",
    "To do this, first we need to create a .gitignore file in the folder of your repo.\n",
    "To do this, run\n",
    "\n",
    "``touch .gitignore``\n",
    "\n",
    "in your terminal in the correct folder. Open this file (it might be hidden!) and write the name of the file in it, which you would like to exclude from uploading (\"ignore\"). In this case, our .gitignore file should have a line in it that says 'twitter_credentials.json'.\n",
    "Upload this file to GitHub by running\n",
    "\n",
    "``\n",
    "git add .gitignore\n",
    "git commit -am \"gitignore file\"\n",
    "git push\n",
    "``\n",
    "\n",
    "Next, you can proceed to create your credentials file as below (replace the value with the ones you generated online of course!). When you push code to your repo now, the credentials file will be ignored and not appear online!"
   ]
  },
  {
   "cell_type": "code",
   "execution_count": null,
   "metadata": {},
   "outputs": [],
   "source": [
    "#import json\n",
    "\n",
    "#cred = {}\n",
    "#cred['API_KEY'] = API_KEY\n",
    "#cred['API_SECRET'] = API_SECRET\n",
    "#cred['ACCESS_TOKEN'] = ACCESS_TOKEN\n",
    "#cred['ACCESS_TOKEN_SECRET'] = ACCESS_TOKEN_SECRET\n",
    "\n",
    "\n",
    "#with open('twitter_credentials.json', 'w') as outfile:\n",
    "#    json.dump(cred, outfile)\n",
    "\n"
   ]
  },
  {
   "cell_type": "code",
   "execution_count": null,
   "metadata": {},
   "outputs": [],
   "source": [
    "with open('twitter_credentials.json', 'r') as infile:\n",
    "    credentials = json.loads(infile.read())"
   ]
  },
  {
   "cell_type": "code",
   "execution_count": null,
   "metadata": {},
   "outputs": [],
   "source": [
    "auth = tweepy.OAuthHandler(credentials['API_KEY'], credentials['API_SECRET'])\n",
    "auth.set_access_token(credentials['ACCESS_TOKEN'], credentials['ACCESS_TOKEN_SECRET'])\n",
    "api = tweepy.API(auth)"
   ]
  },
  {
   "cell_type": "code",
   "execution_count": null,
   "metadata": {},
   "outputs": [],
   "source": [
    "api.me()"
   ]
  },
  {
   "cell_type": "markdown",
   "metadata": {},
   "source": [
    "#### Read the Tweepy documentation to find out about methods\n",
    "https://tweepy.readthedocs.io/en/v3.9.0/api.html#trends-methods"
   ]
  },
  {
   "cell_type": "markdown",
   "metadata": {},
   "source": [
    "#### https://tweepy.readthedocs.io/en/v3.9.0/api.html#user-methods"
   ]
  },
  {
   "cell_type": "code",
   "execution_count": null,
   "metadata": {},
   "outputs": [],
   "source": [
    "trends = pd.json_normalize(api.trends_available())\n",
    "trends"
   ]
  },
  {
   "cell_type": "code",
   "execution_count": null,
   "metadata": {},
   "outputs": [],
   "source": [
    "trends_berlin = api.trends_place(638242)\n",
    "print(trends_berlin)"
   ]
  },
  {
   "cell_type": "code",
   "execution_count": null,
   "metadata": {},
   "outputs": [],
   "source": [
    "pd.json_normalize(trends_berlin)"
   ]
  },
  {
   "cell_type": "code",
   "execution_count": null,
   "metadata": {},
   "outputs": [],
   "source": [
    "trends_berlin[0].keys()"
   ]
  },
  {
   "cell_type": "code",
   "execution_count": null,
   "metadata": {},
   "outputs": [],
   "source": [
    "trends_berlin[0].keys()"
   ]
  },
  {
   "cell_type": "code",
   "execution_count": null,
   "metadata": {},
   "outputs": [],
   "source": [
    "trends_berlin[0]['created_at']"
   ]
  },
  {
   "cell_type": "code",
   "execution_count": null,
   "metadata": {},
   "outputs": [],
   "source": [
    "trends_berlin[0]['locations']"
   ]
  },
  {
   "cell_type": "code",
   "execution_count": null,
   "metadata": {},
   "outputs": [],
   "source": [
    "trends_berlin[0]['trends'][0]['url']"
   ]
  },
  {
   "cell_type": "code",
   "execution_count": null,
   "metadata": {},
   "outputs": [],
   "source": [
    "hashtags = [trends_berlin[0]['trends'][i]['name'] for i in range(5)]"
   ]
  },
  {
   "cell_type": "code",
   "execution_count": null,
   "metadata": {},
   "outputs": [],
   "source": [
    "hashtags"
   ]
  },
  {
   "cell_type": "code",
   "execution_count": null,
   "metadata": {},
   "outputs": [],
   "source": [
    "for i in range(5):\n",
    "    print(trends_berlin[0]['trends'][i]['name'])"
   ]
  },
  {
   "cell_type": "code",
   "execution_count": null,
   "metadata": {},
   "outputs": [],
   "source": []
  }
 ],
 "metadata": {
  "kernelspec": {
   "display_name": "Python 3",
   "language": "python",
   "name": "python3"
  },
  "language_info": {
   "codemirror_mode": {
    "name": "ipython",
    "version": 3
   },
   "file_extension": ".py",
   "mimetype": "text/x-python",
   "name": "python",
   "nbconvert_exporter": "python",
   "pygments_lexer": "ipython3",
   "version": "3.7.7"
  }
 },
 "nbformat": 4,
 "nbformat_minor": 4
}
