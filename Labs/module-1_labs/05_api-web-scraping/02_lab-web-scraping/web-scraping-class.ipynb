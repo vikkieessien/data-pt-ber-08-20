{
 "cells": [
  {
   "cell_type": "markdown",
   "metadata": {},
   "source": [
    "# Web Scraping"
   ]
  },
  {
   "cell_type": "markdown",
   "metadata": {},
   "source": [
    "# Apply for Twitter API Developer Account!"
   ]
  },
  {
   "cell_type": "code",
   "execution_count": 2,
   "metadata": {},
   "outputs": [],
   "source": [
    "import requests\n",
    "from bs4 import BeautifulSoup\n",
    "import re\n",
    "import pandas as pd"
   ]
  },
  {
   "cell_type": "markdown",
   "metadata": {},
   "source": [
    "#### Web Scraping an Article from Tagesschau"
   ]
  },
  {
   "cell_type": "code",
   "execution_count": 5,
   "metadata": {},
   "outputs": [
    {
     "data": {
      "text/plain": [
       "True"
      ]
     },
     "execution_count": 5,
     "metadata": {},
     "output_type": "execute_result"
    }
   ],
   "source": [
    "url = 'https://www.tagesschau.de/ausland/ischgl-corona-111.html'\n",
    "requests.get(url).ok"
   ]
  },
  {
   "cell_type": "code",
   "execution_count": 13,
   "metadata": {},
   "outputs": [],
   "source": [
    "html = requests.get(url).content"
   ]
  },
  {
   "cell_type": "code",
   "execution_count": 12,
   "metadata": {},
   "outputs": [],
   "source": [
    "soup = BeautifulSoup(html, 'lxml')\n",
    "#BeautifulSoup(html, 'html.parser')"
   ]
  },
  {
   "cell_type": "code",
   "execution_count": 32,
   "metadata": {},
   "outputs": [
    {
     "data": {
      "text/plain": [
       "['Corona-Verordnung Stunden später an \"schwarzen Brettern\"',\n",
       " '\"Mehr konnten wir nicht tun\"',\n",
       " '10.000 Seiten Beweismaterial gesichtet',\n",
       " 'Überblick über die tagesschau.de-Seiten und weitere ARD Online-Angebote']"
      ]
     },
     "execution_count": 32,
     "metadata": {},
     "output_type": "execute_result"
    }
   ],
   "source": [
    "#soup.find_all(['h1','h2', 'h3', 'p'])\n",
    "headings2 = soup.find_all('h2')\n",
    "[i.text for i in soup.find_all('h2')]"
   ]
  },
  {
   "cell_type": "code",
   "execution_count": 48,
   "metadata": {},
   "outputs": [
    {
     "name": "stdout",
     "output_type": "stream",
     "text": [
      "Detail Navigation:\n",
      "\n",
      "Corona-Hotspot Ischgl\n",
      "Justiz ermittelt gegen vier Personen\n",
      "\n",
      "Stand: 30.09.2020 13:30 Uhr\n",
      "Ischgl soll maßgeblich zur Virus-Verbreitung in Teilen Europas beigetragen haben. Was lief schief im Tiroler Skiort? 10.000 Seiten Material hat die Justiz zusammengetragen - gegen vier Personen wird ermittelt.\n",
      "Von Clemens Verenkotte, ARD-Studio Wien\n",
      " Die Staatsanwaltschaft Innsbruck hat gegen vier Beschuldigte rund um die Umsetzung der Quarantäne-Verordnungen im Paznauntal und der Verkehrsbeschränkungen in Ischgl Mitte März dieses Jahres Ermittlungsverfahren eingeleitet. Dies bestätigte der Sprecher der Staatsanwaltschaft Innsbruck, Hansjörg Mayr, gegenüber dem ARD-Studio Wien. Auskünfte dazu, um wen es sich bei den Beschuldigten handele, würden nicht erteilt.\n",
      "Corona-Verordnung Stunden später an \"schwarzen Brettern\"\n",
      " Damit richten sich rund sechs Monate nach der teilweise chaotisch abgelaufenen Abreise von rund 10.000 Touristen aus Ischgl und dem Paznauntal am Freitag, den 13. März, die Ermittlungen auf die folgende Frage: Warum wurde die Quarantäne-Verordnung der Bezirkshauptmannschaft Landeck erst am Abend des 13. März an den \"schwarzen Brettern\" der betroffenen Ski-Orte ausgehängt und damit rechtswirksam, obwohl diese Verordnung bereits am Morgen desselben Tages beschlossen worden war?\n",
      "Klagen nach Corona-Ausbruch in Ischgl\n",
      "\n",
      "Nach dem Corona-Ausbruch im März in Ischgl reicht der österreichische Verbraucherschutzverein Klage ein.\n",
      "| mehr\n",
      "\n",
      "\"Mehr konnten wir nicht tun\"\n",
      " Die Quarantäne-Verordnung sah unter anderem vor, dass alle ausländischen Touristen ihre Namen und Handynummern hinterlassen und Österreich auf dem schnellsten Wege zu verlassen hätten. Österreichische Touristen, Dorfbewohner und Saisonarbeiter sollten im Tal in Quarantäne bleiben. Doch das Inkrafttreten dieser  - wie sich später herausstellen sollte - entscheidenden Verordnung wurde mit elfstündiger Verspätung wirksam, erst abends, gegen 19.30 Uhr, durch die Veröffentlichung an \"schwarzen Brettern\" der Gemeinden.\n",
      " Bundeskanzler Sebastian Kurz hatte am frühen Nachmittag des 13. März auf einer Pressekonferenz in Wien mitgeteilt, dass das Paznauntal und St. Anton am Arlberg unter Quarantäne gestellt werde. Daraufhin verließen Tausende von Touristen, darunter viele aus Deutschland, den Niederlanden, Großbritannien und den skandinavischen Ländern, fluchtartig das Paznauntal.\n",
      "Coronavirus-Ausbreitung\n",
      "\n",
      "Wie kam es zur Ausbreitung des Coronavirus in ganz Deutschland?\n",
      "| 31.03.2020 \n",
      "\n",
      " Im Rückblick schilderte Ischgls Bürgermeister Werner Kurz Mitte September gegenüber dem ARD-Studio Wien den Ablauf dieses Nachmittags so:\n",
      "\"Ich war mit dem Auto von Richtung Landeck nach Ischgl unterwegs, so gegen 13.50 Uhr. Und ich habe es dann um 14 Uhr im Radio gehört, die Pressekonferenz, dass eben eine Quarantäne oder Checkpoints eingerichtet werden. Dass das natürlich bei so vielen Gästen, die wir hier im Tal haben schnell ein Lauffeuer macht und jeder chaotisch abreist, das ist verständlich. Wir haben nur einen Weg nach drinnen und einen Weg nach draußen. Es war aus meiner Sicht auch ein bisschen chaotisch, aber wir haben alles umgesetzt, was uns vorgegeben wurde. Mehr konnten wir nicht tun.\"\n",
      "10.000 Seiten Beweismaterial gesichtet\n",
      " Nach Angaben der Innsbrucker Staatsanwaltschaft sind in den vergangenen sechs Monaten rund 10.000 Seiten Beweismaterial gesichtet und ausgewertet worden. Mit dem Ermittlungsverfahren sei eine Staatsanwältin beauftragt worden, die teilweise von einem Kollegen unterstützt würde.\n",
      " Der Sprecher der Innsbrucker Staatsanwaltschaft, Mayr, nannte Mitte September gegenüber dem ARD-Studio Wien als eines der Hauptcharakteristika des Verfahrens: \"Dieser Fall ist tatsächlich auch dadurch geprägt - und da meine ich jetzt das ganze Handeln der zuständigen Verwaltungsbehörden-, dass die Kompetenzen sehr überschneidend waren und zum Teil recht unklar. Oder manche Behördenkompetenzen vorgreifend wahrgenommen haben etc. oder nachgeordnete Behörden nicht entsprechend gehandelt haben.\"\n",
      " Das sei ein Aspekt, den es gelte aufzuklären, so Mayer weiter. Er denke schon, \"dass wir hier zu einem Ergebnis kommen werden, womit das Ganze sehr klar dargestellt werden kann.\" \n",
      " Die \"Tiroler Zeitung\" hatte Ende August berichtet, dass die Staatsanwaltschaft Innsbruck gegen den Bezirkshauptmann von Landeck, dessen Stellvertreter sowie gegen den Bürgermeister von Ischgl, Kurz, ermitteln würde. Dies wurde von der Staatsanwaltschaft Innsbruck gegenüber dem ARD-Studio Wien weder bestätigt noch dementiert.\n",
      "Ischgl – Staatsanwaltschaft Innsbruck ermittelt gegen vier BeschuldigteClemens Verenkotte, ARD Wien  30.09.2020 12:34 Uhr\n",
      "Download der Audiodatei\n",
      "Wir bieten dieses Audio in folgenden Formaten zum Download an:\n",
      "Hinweis: Falls die Audiodatei beim Klicken nicht automatisch gespeichert wird, können Sie mit der rechten Maustaste klicken und \"Ziel speichern unter ...\" auswählen.\n",
      "Über dieses Thema berichtete Inforadio am 30. September 2020 um 12:52 Uhr.\n",
      "\n",
      "Mehr zu diesem Thema:\n",
      "\n",
      "\n",
      "Hier finden Sie eine Übersicht aller Berichte von tagesschau.de zum Coronavirus. | mehr\n",
      "Die täglich aktualisierte Weltkarte zeigt Coronavirus-Fälle, ihre Entwicklung, die Todesfälle und die Anzahl der Genesenen. | mehr\n",
      "Überblick über die tagesschau.de-Seiten und weitere ARD Online-Angebote\n",
      "© ARD-aktuell / tagesschau.de\n"
     ]
    }
   ],
   "source": [
    "text = [i.text for i in soup.find_all(['h1', 'h2', 'p'])]\n",
    "print(\"\\n\".join(text))\n",
    "#[i.text for i in soup.find_all(['a'])]"
   ]
  },
  {
   "cell_type": "markdown",
   "metadata": {},
   "source": [
    "#### Writing a function for getting the url"
   ]
  },
  {
   "cell_type": "code",
   "execution_count": 52,
   "metadata": {},
   "outputs": [],
   "source": [
    "def make_soup(url):\n",
    "    html = requests.get(url).content\n",
    "    soup = BeautifulSoup(html, 'lxml')\n",
    "    return soup\n",
    "   "
   ]
  },
  {
   "cell_type": "markdown",
   "metadata": {},
   "source": [
    "#### Web Scraping a Wikipedia Article"
   ]
  },
  {
   "cell_type": "code",
   "execution_count": 55,
   "metadata": {},
   "outputs": [],
   "source": [
    "url = 'https://en.wikipedia.org/wiki/List_of_police_dog_breeds'\n",
    "html = requests.get(url).content\n",
    "soup = BeautifulSoup(html, 'lxml')"
   ]
  },
  {
   "cell_type": "code",
   "execution_count": 54,
   "metadata": {},
   "outputs": [],
   "source": [
    "url = 'https://en.wikipedia.org/wiki/List_of_police_dog_breeds'\n",
    "soup = make_soup(url)"
   ]
  },
  {
   "cell_type": "code",
   "execution_count": 49,
   "metadata": {},
   "outputs": [
    {
     "name": "stdout",
     "output_type": "stream",
     "text": [
      "Help on method find_all in module bs4.element:\n",
      "\n",
      "find_all(name=None, attrs={}, recursive=True, text=None, limit=None, **kwargs) method of bs4.BeautifulSoup instance\n",
      "    Extracts a list of Tag objects that match the given\n",
      "    criteria.  You can specify the name of the Tag and any\n",
      "    attributes you want the Tag to have.\n",
      "    \n",
      "    The value of a key-value pair in the 'attrs' map can be a\n",
      "    string, a list of strings, a regular expression object, or a\n",
      "    callable that takes a string and returns whether or not the\n",
      "    string matches for some custom definition of 'matches'. The\n",
      "    same is true of the tag name.\n",
      "\n"
     ]
    }
   ],
   "source": [
    "help(soup.find_all)"
   ]
  },
  {
   "cell_type": "code",
   "execution_count": 72,
   "metadata": {},
   "outputs": [],
   "source": [
    "dogs = [i.text.replace('[', '').replace(']', '').strip() for i in soup.find_all('li') if re.match('[A-Z]', i.text)][0:17]\n"
   ]
  },
  {
   "cell_type": "code",
   "execution_count": 73,
   "metadata": {},
   "outputs": [
    {
     "data": {
      "text/html": [
       "<div>\n",
       "<style scoped>\n",
       "    .dataframe tbody tr th:only-of-type {\n",
       "        vertical-align: middle;\n",
       "    }\n",
       "\n",
       "    .dataframe tbody tr th {\n",
       "        vertical-align: top;\n",
       "    }\n",
       "\n",
       "    .dataframe thead th {\n",
       "        text-align: right;\n",
       "    }\n",
       "</style>\n",
       "<table border=\"1\" class=\"dataframe\">\n",
       "  <thead>\n",
       "    <tr style=\"text-align: right;\">\n",
       "      <th></th>\n",
       "      <th>0</th>\n",
       "    </tr>\n",
       "  </thead>\n",
       "  <tbody>\n",
       "    <tr>\n",
       "      <td>0</td>\n",
       "      <td>Airedale Terrier</td>\n",
       "    </tr>\n",
       "    <tr>\n",
       "      <td>1</td>\n",
       "      <td>Akita</td>\n",
       "    </tr>\n",
       "    <tr>\n",
       "      <td>2</td>\n",
       "      <td>Belgian Malinois</td>\n",
       "    </tr>\n",
       "    <tr>\n",
       "      <td>3</td>\n",
       "      <td>Belgian Sheepdog</td>\n",
       "    </tr>\n",
       "    <tr>\n",
       "      <td>4</td>\n",
       "      <td>Staffordshire Bull Terrier</td>\n",
       "    </tr>\n",
       "    <tr>\n",
       "      <td>5</td>\n",
       "      <td>Border Collie1</td>\n",
       "    </tr>\n",
       "    <tr>\n",
       "      <td>6</td>\n",
       "      <td>Bouvier des Flandres</td>\n",
       "    </tr>\n",
       "    <tr>\n",
       "      <td>7</td>\n",
       "      <td>Boxer</td>\n",
       "    </tr>\n",
       "    <tr>\n",
       "      <td>8</td>\n",
       "      <td>Doberman Pinscher</td>\n",
       "    </tr>\n",
       "    <tr>\n",
       "      <td>9</td>\n",
       "      <td>Dutch Shepherd</td>\n",
       "    </tr>\n",
       "    <tr>\n",
       "      <td>10</td>\n",
       "      <td>German Shepherd</td>\n",
       "    </tr>\n",
       "    <tr>\n",
       "      <td>11</td>\n",
       "      <td>Giant Schnauzer</td>\n",
       "    </tr>\n",
       "    <tr>\n",
       "      <td>12</td>\n",
       "      <td>Indian pariah dog2</td>\n",
       "    </tr>\n",
       "    <tr>\n",
       "      <td>13</td>\n",
       "      <td>Labrador Retriever</td>\n",
       "    </tr>\n",
       "    <tr>\n",
       "      <td>14</td>\n",
       "      <td>Rottweiler</td>\n",
       "    </tr>\n",
       "    <tr>\n",
       "      <td>15</td>\n",
       "      <td>Weimaraner</td>\n",
       "    </tr>\n",
       "    <tr>\n",
       "      <td>16</td>\n",
       "      <td>Bloodhound</td>\n",
       "    </tr>\n",
       "  </tbody>\n",
       "</table>\n",
       "</div>"
      ],
      "text/plain": [
       "                             0\n",
       "0             Airedale Terrier\n",
       "1                        Akita\n",
       "2             Belgian Malinois\n",
       "3             Belgian Sheepdog\n",
       "4   Staffordshire Bull Terrier\n",
       "5               Border Collie1\n",
       "6         Bouvier des Flandres\n",
       "7                        Boxer\n",
       "8            Doberman Pinscher\n",
       "9               Dutch Shepherd\n",
       "10             German Shepherd\n",
       "11             Giant Schnauzer\n",
       "12          Indian pariah dog2\n",
       "13          Labrador Retriever\n",
       "14                  Rottweiler\n",
       "15                  Weimaraner\n",
       "16                  Bloodhound"
      ]
     },
     "execution_count": 73,
     "metadata": {},
     "output_type": "execute_result"
    }
   ],
   "source": [
    "pd.DataFrame(dogs)"
   ]
  },
  {
   "cell_type": "code",
   "execution_count": 80,
   "metadata": {},
   "outputs": [
    {
     "data": {
      "text/plain": [
       "[<a class=\"mw-jump-link\" href=\"#mw-head\">Jump to navigation</a>,\n",
       " <a class=\"mw-jump-link\" href=\"#searchInput\">Jump to search</a>]"
      ]
     },
     "execution_count": 80,
     "metadata": {},
     "output_type": "execute_result"
    }
   ],
   "source": [
    "soup.find_all('a', {'class':'mw-jump-link'})"
   ]
  },
  {
   "cell_type": "code",
   "execution_count": 76,
   "metadata": {},
   "outputs": [
    {
     "name": "stdout",
     "output_type": "stream",
     "text": [
      "Help on method find_all in module bs4.element:\n",
      "\n",
      "find_all(name=None, attrs={}, recursive=True, text=None, limit=None, **kwargs) method of bs4.BeautifulSoup instance\n",
      "    Extracts a list of Tag objects that match the given\n",
      "    criteria.  You can specify the name of the Tag and any\n",
      "    attributes you want the Tag to have.\n",
      "    \n",
      "    The value of a key-value pair in the 'attrs' map can be a\n",
      "    string, a list of strings, a regular expression object, or a\n",
      "    callable that takes a string and returns whether or not the\n",
      "    string matches for some custom definition of 'matches'. The\n",
      "    same is true of the tag name.\n",
      "\n"
     ]
    }
   ],
   "source": [
    "help(soup.find_all)"
   ]
  },
  {
   "cell_type": "code",
   "execution_count": null,
   "metadata": {},
   "outputs": [],
   "source": []
  }
 ],
 "metadata": {
  "kernelspec": {
   "display_name": "Python 3",
   "language": "python",
   "name": "python3"
  },
  "language_info": {
   "codemirror_mode": {
    "name": "ipython",
    "version": 3
   },
   "file_extension": ".py",
   "mimetype": "text/x-python",
   "name": "python",
   "nbconvert_exporter": "python",
   "pygments_lexer": "ipython3",
   "version": "3.7.4"
  }
 },
 "nbformat": 4,
 "nbformat_minor": 2
}
