{
 "cells": [
  {
   "cell_type": "markdown",
   "metadata": {},
   "source": [
    "# Web Scraping Lab\n",
    "\n",
    "You will find in this notebook some scrapy exercises to practise your scraping skills.\n",
    "\n",
    "**Tips:**\n",
    "\n",
    "- Check the response status code for each request to ensure you have obtained the intended contennt.\n",
    "- Print the response text in each request to understand the kind of info you are getting and its format.\n",
    "- Check for patterns in the response text to extract the data/info requested in each question.\n",
    "- Visit each url and take a look at its source through Chrome DevTools. You'll need to identify the html tags, special class names etc. used for the html content you are expected to extract."
   ]
  },
  {
   "cell_type": "markdown",
   "metadata": {},
   "source": [
    "- [Requests library](http://docs.python-requests.org/en/master/#the-user-guide) documentation \n",
    "- [Beautiful Soup Doc](https://www.crummy.com/software/BeautifulSoup/bs4/doc/)\n",
    "- [Urllib](https://docs.python.org/3/library/urllib.html#module-urllib)\n",
    "- [re lib](https://docs.python.org/3/library/re.html)\n",
    "- [lxml lib](https://lxml.de/)\n",
    "- [Scrapy](https://scrapy.org/)\n",
    "- [List of HTTP status codes](https://en.wikipedia.org/wiki/List_of_HTTP_status_codes)\n",
    "- [HTML basics](http://www.simplehtmlguide.com/cheatsheet.php)\n",
    "- [CSS basics](https://www.cssbasics.com/#page_start)"
   ]
  },
  {
   "cell_type": "markdown",
   "metadata": {},
   "source": [
    "#### Below are the libraries and modules you may need. `requests`,  `BeautifulSoup` and `pandas` are imported for you. If you prefer to use additional libraries feel free to uncomment them."
   ]
  },
  {
   "cell_type": "code",
   "execution_count": null,
   "metadata": {},
   "outputs": [],
   "source": [
    "import requests\n",
    "from bs4 import BeautifulSoup\n",
    "import pandas as pd\n",
    "# from pprint import pprint\n",
    "# from lxml import html\n",
    "# from lxml.html import fromstring\n",
    "# import urllib.request\n",
    "# from urllib.request import urlopen\n",
    "# import random\n",
    "# import re\n",
    "# import scrapy"
   ]
  },
  {
   "cell_type": "markdown",
   "metadata": {},
   "source": [
    "#### Download, parse (using BeautifulSoup), and print the content from the Trending Developers page from GitHub:"
   ]
  },
  {
   "cell_type": "code",
   "execution_count": null,
   "metadata": {},
   "outputs": [],
   "source": [
    "# This is the url you will scrape in this exercise\n",
    "url = 'https://github.com/trending/developers'"
   ]
  },
  {
   "cell_type": "code",
   "execution_count": null,
   "metadata": {},
   "outputs": [],
   "source": [
    "#your code"
   ]
  },
  {
   "cell_type": "markdown",
   "metadata": {},
   "source": [
    "#### Display the names of the trending developers retrieved in the previous step.\n",
    "\n",
    "Your output should be a Python list of developer names. Each name should not contain any html tag.\n",
    "\n",
    "**Instructions:**\n",
    "\n",
    "1. Find out the html tag and class names used for the developer names. You can achieve this using Chrome DevTools.\n",
    "\n",
    "1. Use BeautifulSoup to extract all the html elements that contain the developer names.\n",
    "\n",
    "1. Use string manipulation techniques to replace whitespaces and linebreaks (i.e. `\\n`) in the *text* of each html element. Use a list to store the clean names.\n",
    "\n",
    "1. Print the list of names.\n",
    "\n",
    "Your output should look like below:\n",
    "\n",
    "```\n",
    "['JaredPalmer',\n",
    " 'MaëlNison',\n",
    " 'JacobHoffman-Andrews',\n",
    " 'PySimpleGUI',\n",
    " 'ChristianMuehlhaeuser',\n",
    " 'FranckNijhof',\n",
    " 'hackerman',\n",
    " 'DotanSimha',\n",
    " 'damienbod',\n",
    " 'MatthiasUrhahn',\n",
    " 'JasonMiller',\n",
    " 'ConnorClark',\n",
    " 'TaylorOtwell',\n",
    " 'SindreSorhus',\n",
    " 'VítorGalvão',\n",
    " 'jcesarmobile',\n",
    " 'EvgeniGolov',\n",
    " 'AnuragHazra',\n",
    " 'JamesNewton-King',\n",
    " 'MiekGieben',\n",
    " 'MeganMarsh',\n",
    " 'DomenicDenicola',\n",
    " 'WilliamCandillon',\n",
    " 'NormanMaurer',\n",
    " 'TimGroßmann']\n",
    " ```"
   ]
  },
  {
   "cell_type": "code",
   "execution_count": null,
   "metadata": {},
   "outputs": [],
   "source": [
    "#your code"
   ]
  },
  {
   "cell_type": "markdown",
   "metadata": {},
   "source": [
    "#### Display the trending Python repositories in GitHub\n",
    "\n",
    "The steps to solve this problem is similar to the previous one except that you need to find out the repository names instead of developer names.\n",
    "\n",
    "Your output should look like below:\n",
    "\n",
    "```\n",
    "['anandpawara/Real_Time_Image_Animation',\n",
    " 'apprenticeharper/DeDRM_tools',\n",
    " 'donnemartin/system-design-primer',\n",
    " 'mingrammer/diagrams',\n",
    " 'facebookresearch/detr',\n",
    " 'google-research/football',\n",
    " 'domokane/FinancePy',\n",
    " 'qxresearch/qxresearch-event-1',\n",
    " 'remzi-arpacidusseau/ostep-homework',\n",
    " 'NVlabs/imaginaire',\n",
    " 'bridgecrewio/checkov',\n",
    " 'rvizzz/rotate',\n",
    " 'home-assistant/core',\n",
    " 'ytdl-org/youtube-dl',\n",
    " 'zdyshine/RTC2020_EfficientSR',\n",
    " 'vt-vl-lab/FGVC',\n",
    " 'microsoft/qlib',\n",
    " 'DataDog/integrations-core',\n",
    " 'Rudrabha/Wav2Lip',\n",
    " 'parzulpan/real-live',\n",
    " 'liangliangyy/DjangoBlog',\n",
    " 'boto/boto3',\n",
    " 'kov4l3nko/MEDUZA',\n",
    " 'Rapptz/discord.py',\n",
    " 'apache/airflow']\n",
    " ```"
   ]
  },
  {
   "cell_type": "code",
   "execution_count": null,
   "metadata": {},
   "outputs": [],
   "source": [
    "# This is the url you will scrape in this exercise\n",
    "url = 'https://github.com/trending/python?since=daily'"
   ]
  },
  {
   "cell_type": "code",
   "execution_count": null,
   "metadata": {},
   "outputs": [],
   "source": [
    "#your code"
   ]
  },
  {
   "cell_type": "markdown",
   "metadata": {},
   "source": [
    "#### Display all the image links from Walt Disney wikipedia page\n",
    "\n",
    "Hint: once you have extracted the image links, you can find the link under link.attrs of each item, and you would like the attribute 'href' - print the link attrs to see what they look like. Careful! Not all of them might have the href attribute, so you need to generate your list using a for-loop with an if condition, that checks if this attribute is present.\n",
    "\n",
    "\n",
    "Your output should look like below:\n",
    "\n",
    "```\n",
    "['/wiki/File:Walt_Disney_1946.JPG',\n",
    " '/wiki/File:Walt_Disney_1942_signature.svg',\n",
    " '/wiki/File:Walt_Disney_envelope_ca._1921.jpg',\n",
    " '/wiki/File:Trolley_Troubles_poster.jpg',\n",
    " '/wiki/File:Walt_Disney_and_his_cartoon_creation_%22Mickey_Mouse%22_-_National_Board_of_Review_Magazine.jpg',\n",
    " '/wiki/File:Steamboat-willie.jpg',\n",
    " '/wiki/File:Walt_Disney_1935.jpg',\n",
    " '/wiki/File:Walt_Disney_Snow_white_1937_trailer_screenshot_(13).jpg',\n",
    " '/wiki/File:Disney_drawing_goofy.jpg',\n",
    " '/wiki/File:DisneySchiphol1951.jpg',\n",
    " '/wiki/File:WaltDisneyplansDisneylandDec1954.jpg',\n",
    " '/wiki/File:Walt_disney_portrait_right.jpg',\n",
    " '/wiki/File:Walt_Disney_Grave.JPG',\n",
    " '/wiki/File:Roy_O._Disney_with_Company_at_Press_Conference.jpg',\n",
    " '/wiki/File:Disney_Display_Case.JPG',\n",
    " '/wiki/File:Disney1968.jpg',\n",
    " '/wiki/File:The_Walt_Disney_Company_Logo.svg',\n",
    " '/wiki/File:Animation_disc.svg',\n",
    " '/wiki/File:P_vip.svg',\n",
    " '/wiki/File:Magic_Kingdom_castle.jpg',\n",
    " '/wiki/File:Video-x-generic.svg',\n",
    " '/wiki/File:Flag_of_Los_Angeles_County,_California.svg',\n",
    " '/wiki/File:Blank_television_set.svg',\n",
    " '/wiki/File:Flag_of_the_United_States.svg']\n",
    " ```"
   ]
  },
  {
   "cell_type": "code",
   "execution_count": null,
   "metadata": {},
   "outputs": [],
   "source": [
    "# This is the url you will scrape in this exercise\n",
    "url = 'https://en.wikipedia.org/wiki/Walt_Disney'"
   ]
  },
  {
   "cell_type": "code",
   "execution_count": null,
   "metadata": {},
   "outputs": [],
   "source": [
    "#your code"
   ]
  },
  {
   "cell_type": "markdown",
   "metadata": {},
   "source": [
    "#### Retrieve the Wikipedia page of \"Python\" and create a list of links on that page\n",
    "\n",
    "Your output should look like below:\n",
    "\n",
    "```\n",
    "['#mw-head',\n",
    " '#searchInput',\n",
    " 'https://en.wiktionary.org/wiki/Python',\n",
    " 'https://en.wiktionary.org/wiki/python',\n",
    " '/wiki/Pythons',\n",
    " '/wiki/Python_(genus)',\n",
    " '#Computing',\n",
    " '#People',\n",
    " '#Roller_coasters',\n",
    " '#Vehicles',\n",
    " '#Weaponry',\n",
    " '#Other_uses',\n",
    " '#People_with_the_given_name',\n",
    " '#See_also',\n",
    " '/w/index.php?title=Python&action=edit&section=1',\n",
    " '/wiki/Python_(programming_language)',\n",
    " '/wiki/CMU_Common_Lisp',\n",
    " '/wiki/PERQ#PERQ_3',\n",
    " ...\n",
    " ```"
   ]
  },
  {
   "cell_type": "code",
   "execution_count": null,
   "metadata": {},
   "outputs": [],
   "source": [
    "# This is the url you will scrape in this exercise\n",
    "url ='https://en.wikipedia.org/wiki/Python' "
   ]
  },
  {
   "cell_type": "code",
   "execution_count": null,
   "metadata": {},
   "outputs": [],
   "source": [
    "#your code"
   ]
  },
  {
   "cell_type": "markdown",
   "metadata": {},
   "source": [
    "#### A Python list with the top ten FBI's Most Wanted names \n",
    "\n",
    "Your output should look like below:\n",
    "```\n",
    "['ROBERT WILLIAM FISHER',\n",
    " 'BHADRESHKUMAR CHETANBHAI PATEL',\n",
    " 'ALEJANDRO ROSALES CASTILLO',\n",
    " 'ARNOLDO JIMENEZ',\n",
    " 'JASON DEREK BROWN',\n",
    " 'ALEXIS FLORES',\n",
    " 'EUGENE PALMER',\n",
    " 'RAFAEL CARO-QUINTERO',\n",
    " 'YASER ABDEL SAID',\n",
    " 'SANTIAGO VILLALBA MEDEROS']\n",
    "```"
   ]
  },
  {
   "cell_type": "code",
   "execution_count": null,
   "metadata": {},
   "outputs": [],
   "source": [
    "# This is the url you will scrape in this exercise\n",
    "url = 'https://www.fbi.gov/wanted/topten'"
   ]
  },
  {
   "cell_type": "code",
   "execution_count": null,
   "metadata": {},
   "outputs": [],
   "source": [
    "#your code "
   ]
  },
  {
   "cell_type": "markdown",
   "metadata": {},
   "source": [
    "####  20 latest earthquakes info (date, time, latitude, longitude and region name) by the EMSC as a pandas dataframe\n",
    "\n",
    "Your output should look like below:\n",
    "```\n",
    "\t0\n",
    "0\tPUERTO RICO REGION\n",
    "1\tISLAND OF HAWAII, HAWAII\n",
    "2\tEASTERN TURKEY\n",
    "3\tMADEIRA ISLANDS, PORTUGAL REGION\n",
    "4\tNEAR EAST COAST OF HONSHU, JAPAN\n",
    "5\tOFFSHORE GUATEMALA\n",
    "6\tCENTRAL CALIFORNIA\n",
    "7\tTARAPACA, CHILE\n",
    "8\tOFF COAST OF COSTA RICA\n",
    "9\tSWITZERLAND\n",
    "10\tPHILIPPINE ISLANDS REGION\n",
    "11\tWESTERN TURKEY\n",
    "12\tSOUTHERN IDAHO\n",
    "13\tSAN FRANCISCO BAY AREA, CALIF.\n",
    "14\tPUERTO RICO REGION\n",
    "15\tCOSTA RICA\n",
    "16\tCENTRAL ITALY\n",
    "17\tISLAND OF HAWAII, HAWAII\n",
    "18\tTARAPACA, CHILE\n",
    "19\tVERACRUZ, MEXICO\n",
    "```"
   ]
  },
  {
   "cell_type": "code",
   "execution_count": null,
   "metadata": {},
   "outputs": [],
   "source": [
    "# This is the url you will scrape in this exercise\n",
    "url = 'https://www.emsc-csem.org/Earthquake/'"
   ]
  },
  {
   "cell_type": "code",
   "execution_count": null,
   "metadata": {},
   "outputs": [],
   "source": [
    "#your code"
   ]
  },
  {
   "cell_type": "markdown",
   "metadata": {},
   "source": [
    "## Bonus Questions"
   ]
  },
  {
   "cell_type": "markdown",
   "metadata": {},
   "source": [
    "#### Display the date, days, title, city, country of next 25 hackathon events as a Pandas dataframe table"
   ]
  },
  {
   "cell_type": "code",
   "execution_count": null,
   "metadata": {},
   "outputs": [],
   "source": [
    "# This is the url you will scrape in this exercise\n",
    "url ='https://hackevents.co/hackathons'"
   ]
  },
  {
   "cell_type": "code",
   "execution_count": null,
   "metadata": {},
   "outputs": [],
   "source": [
    "#your code"
   ]
  },
  {
   "cell_type": "markdown",
   "metadata": {},
   "source": [
    "#### Count number of tweets by a given Twitter account."
   ]
  },
  {
   "cell_type": "markdown",
   "metadata": {},
   "source": [
    "You will need to include a ***try/except block*** for account names not found. \n",
    "<br>***Hint:*** the program should count the number of tweets for any provided account"
   ]
  },
  {
   "cell_type": "code",
   "execution_count": null,
   "metadata": {},
   "outputs": [],
   "source": [
    "# This is the url you will scrape in this exercise \n",
    "# You will need to add the account credentials to this url\n",
    "url = 'https://twitter.com/'"
   ]
  },
  {
   "cell_type": "code",
   "execution_count": null,
   "metadata": {},
   "outputs": [],
   "source": [
    "#your code"
   ]
  },
  {
   "cell_type": "markdown",
   "metadata": {},
   "source": [
    "#### Number of followers of a given twitter account"
   ]
  },
  {
   "cell_type": "markdown",
   "metadata": {},
   "source": [
    "You will need to include a ***try/except block*** in case account/s name not found. \n",
    "<br>***Hint:*** the program should count the followers for any provided account"
   ]
  },
  {
   "cell_type": "code",
   "execution_count": null,
   "metadata": {},
   "outputs": [],
   "source": [
    "# This is the url you will scrape in this exercise \n",
    "# You will need to add the account credentials to this url\n",
    "url = 'https://twitter.com/'"
   ]
  },
  {
   "cell_type": "code",
   "execution_count": null,
   "metadata": {},
   "outputs": [],
   "source": [
    "#your code"
   ]
  },
  {
   "cell_type": "markdown",
   "metadata": {},
   "source": [
    "#### List all language names and number of related articles in the order they appear in wikipedia.org"
   ]
  },
  {
   "cell_type": "code",
   "execution_count": null,
   "metadata": {},
   "outputs": [],
   "source": [
    "# This is the url you will scrape in this exercise\n",
    "url = 'https://www.wikipedia.org/'"
   ]
  },
  {
   "cell_type": "code",
   "execution_count": null,
   "metadata": {},
   "outputs": [],
   "source": [
    "#your code"
   ]
  },
  {
   "cell_type": "markdown",
   "metadata": {},
   "source": [
    "#### A list with the different kind of datasets available in data.gov.uk "
   ]
  },
  {
   "cell_type": "code",
   "execution_count": null,
   "metadata": {},
   "outputs": [],
   "source": [
    "# This is the url you will scrape in this exercise\n",
    "url = 'https://data.gov.uk/'"
   ]
  },
  {
   "cell_type": "code",
   "execution_count": null,
   "metadata": {},
   "outputs": [],
   "source": [
    "#your code "
   ]
  },
  {
   "cell_type": "markdown",
   "metadata": {},
   "source": [
    "#### Top 10 languages by number of native speakers stored in a Pandas Dataframe"
   ]
  },
  {
   "cell_type": "code",
   "execution_count": null,
   "metadata": {},
   "outputs": [],
   "source": [
    "# This is the url you will scrape in this exercise\n",
    "url = 'https://en.wikipedia.org/wiki/List_of_languages_by_number_of_native_speakers'"
   ]
  },
  {
   "cell_type": "code",
   "execution_count": null,
   "metadata": {},
   "outputs": [],
   "source": [
    "#your code"
   ]
  },
  {
   "cell_type": "markdown",
   "metadata": {},
   "source": [
    "#### Scrape a certain number of tweets of a given Twitter account."
   ]
  },
  {
   "cell_type": "code",
   "execution_count": null,
   "metadata": {},
   "outputs": [],
   "source": [
    "# This is the url you will scrape in this exercise \n",
    "# You will need to add the account credentials to this url\n",
    "url = 'https://twitter.com/'"
   ]
  },
  {
   "cell_type": "code",
   "execution_count": null,
   "metadata": {},
   "outputs": [],
   "source": [
    "# your code"
   ]
  },
  {
   "cell_type": "markdown",
   "metadata": {},
   "source": [
    "#### IMDB's Top 250 data (movie name, Initial release, director name and stars) as a pandas dataframe"
   ]
  },
  {
   "cell_type": "code",
   "execution_count": null,
   "metadata": {},
   "outputs": [],
   "source": [
    "# This is the url you will scrape in this exercise \n",
    "url = 'https://www.imdb.com/chart/top'"
   ]
  },
  {
   "cell_type": "code",
   "execution_count": null,
   "metadata": {},
   "outputs": [],
   "source": [
    "# your code"
   ]
  },
  {
   "cell_type": "markdown",
   "metadata": {},
   "source": [
    "#### Movie name, year and a brief summary of the top 10 random movies (IMDB) as a pandas dataframe."
   ]
  },
  {
   "cell_type": "code",
   "execution_count": null,
   "metadata": {},
   "outputs": [],
   "source": [
    "#This is the url you will scrape in this exercise\n",
    "url = 'http://www.imdb.com/chart/top'"
   ]
  },
  {
   "cell_type": "code",
   "execution_count": null,
   "metadata": {},
   "outputs": [],
   "source": [
    "#your code"
   ]
  },
  {
   "cell_type": "markdown",
   "metadata": {},
   "source": [
    "#### Find the live weather report (temperature, wind speed, description and weather) of a given city."
   ]
  },
  {
   "cell_type": "code",
   "execution_count": null,
   "metadata": {},
   "outputs": [],
   "source": [
    "#https://openweathermap.org/current\n",
    "city = city=input('Enter the city:')\n",
    "url = 'http://api.openweathermap.org/data/2.5/weather?'+'q='+city+'&APPID=b35975e18dc93725acb092f7272cc6b8&units=metric'"
   ]
  },
  {
   "cell_type": "code",
   "execution_count": null,
   "metadata": {},
   "outputs": [],
   "source": [
    "# your code"
   ]
  },
  {
   "cell_type": "markdown",
   "metadata": {},
   "source": [
    "#### Book name,price and stock availability as a pandas dataframe."
   ]
  },
  {
   "cell_type": "code",
   "execution_count": null,
   "metadata": {},
   "outputs": [],
   "source": [
    "# This is the url you will scrape in this exercise. \n",
    "# It is a fictional bookstore created to be scraped. \n",
    "url = 'http://books.toscrape.com/'"
   ]
  },
  {
   "cell_type": "code",
   "execution_count": null,
   "metadata": {},
   "outputs": [],
   "source": [
    "#your code"
   ]
  }
 ],
 "metadata": {
  "kernelspec": {
   "display_name": "Python 3",
   "language": "python",
   "name": "python3"
  },
  "language_info": {
   "codemirror_mode": {
    "name": "ipython",
    "version": 3
   },
   "file_extension": ".py",
   "mimetype": "text/x-python",
   "name": "python",
   "nbconvert_exporter": "python",
   "pygments_lexer": "ipython3",
   "version": "3.7.4"
  }
 },
 "nbformat": 4,
 "nbformat_minor": 2
}
