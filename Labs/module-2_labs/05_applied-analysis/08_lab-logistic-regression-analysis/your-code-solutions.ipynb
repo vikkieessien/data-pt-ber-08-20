{
 "cells": [
  {
   "cell_type": "markdown",
   "metadata": {},
   "source": [
    "# Lab: Logistic Regression Analysis"
   ]
  },
  {
   "cell_type": "markdown",
   "metadata": {},
   "source": [
    "For this lab, we will use the CustomerChurn.csv data set. You can find a copy of the dataset in the git hub folder. This dataset includes variables related to customer characteristics, as well as a variable indicating whether or not they churned. As discussed in class the goal of this exercise is to predict whether or not a customer will churn. "
   ]
  },
  {
   "cell_type": "code",
   "execution_count": 2,
   "metadata": {},
   "outputs": [],
   "source": [
    "# Import any libraries you may need & the data\n",
    "import pandas as pd\n",
    "import numpy as np\n",
    "import statsmodels.api as sm\n",
    "\n",
    "churn = pd.read_csv('Customer-Churn.csv')\n",
    "churn.head()"
   ]
  },
  {
   "cell_type": "code",
   "execution_count": 18,
   "metadata": {},
   "outputs": [
    {
     "data": {
      "text/plain": [
       "Index(['customerID', 'gender', 'SeniorCitizen', 'Partner', 'Dependents',\n",
       "       'tenure', 'PhoneService', 'MultipleLines', 'InternetService',\n",
       "       'OnlineSecurity', 'OnlineBackup', 'DeviceProtection', 'TechSupport',\n",
       "       'StreamingTV', 'StreamingMovies', 'Contract', 'PaperlessBilling',\n",
       "       'PaymentMethod', 'MonthlyCharges', 'TotalCharges', 'Churn'],\n",
       "      dtype='object')"
      ]
     },
     "execution_count": 18,
     "metadata": {},
     "output_type": "execute_result"
    }
   ],
   "source": [
    "churn.columns"
   ]
  },
  {
   "cell_type": "markdown",
   "metadata": {},
   "source": [
    "In order to use 'Churn' as a target variable, we need to encode it to 0 - 1 (or True - False) instead of yes / no. Use np.where to create a variable called y, which has the value 1 or True whenever 'Churn' is yes, and 0 or False otherwise."
   ]
  },
  {
   "cell_type": "code",
   "execution_count": null,
   "metadata": {},
   "outputs": [],
   "source": [
    "# Your code here\n",
    "y = np.where(churn['Churn']=='Yes', 1, 0)"
   ]
  },
  {
   "cell_type": "markdown",
   "metadata": {},
   "source": [
    "First, we would like use 'tenure' as an explanatory variable. Declare this as your variable X, add a constant term and run a logistic regression of 'Churn' on 'tenure'. Interpret the values of the model."
   ]
  },
  {
   "cell_type": "code",
   "execution_count": 12,
   "metadata": {},
   "outputs": [
    {
     "name": "stdout",
     "output_type": "stream",
     "text": [
      "Optimization terminated successfully.\n",
      "         Current function value: 0.510569\n",
      "         Iterations 6\n"
     ]
    },
    {
     "data": {
      "text/html": [
       "<table class=\"simpletable\">\n",
       "<caption>Logit Regression Results</caption>\n",
       "<tr>\n",
       "  <th>Dep. Variable:</th>           <td>y</td>        <th>  No. Observations:  </th>   <td>  7043</td>  \n",
       "</tr>\n",
       "<tr>\n",
       "  <th>Model:</th>                 <td>Logit</td>      <th>  Df Residuals:      </th>   <td>  7041</td>  \n",
       "</tr>\n",
       "<tr>\n",
       "  <th>Method:</th>                 <td>MLE</td>       <th>  Df Model:          </th>   <td>     1</td>  \n",
       "</tr>\n",
       "<tr>\n",
       "  <th>Date:</th>            <td>Mon, 09 Nov 2020</td> <th>  Pseudo R-squ.:     </th>   <td>0.1176</td>  \n",
       "</tr>\n",
       "<tr>\n",
       "  <th>Time:</th>                <td>18:23:50</td>     <th>  Log-Likelihood:    </th>  <td> -3595.9</td> \n",
       "</tr>\n",
       "<tr>\n",
       "  <th>converged:</th>             <td>True</td>       <th>  LL-Null:           </th>  <td> -4075.1</td> \n",
       "</tr>\n",
       "<tr>\n",
       "  <th>Covariance Type:</th>     <td>nonrobust</td>    <th>  LLR p-value:       </th> <td>2.106e-210</td>\n",
       "</tr>\n",
       "</table>\n",
       "<table class=\"simpletable\">\n",
       "<tr>\n",
       "     <td></td>       <th>coef</th>     <th>std err</th>      <th>z</th>      <th>P>|z|</th>  <th>[0.025</th>    <th>0.975]</th>  \n",
       "</tr>\n",
       "<tr>\n",
       "  <th>const</th>  <td>    0.0273</td> <td>    0.042</td> <td>    0.647</td> <td> 0.518</td> <td>   -0.055</td> <td>    0.110</td>\n",
       "</tr>\n",
       "<tr>\n",
       "  <th>tenure</th> <td>   -0.0388</td> <td>    0.001</td> <td>  -27.586</td> <td> 0.000</td> <td>   -0.042</td> <td>   -0.036</td>\n",
       "</tr>\n",
       "</table>"
      ],
      "text/plain": [
       "<class 'statsmodels.iolib.summary.Summary'>\n",
       "\"\"\"\n",
       "                           Logit Regression Results                           \n",
       "==============================================================================\n",
       "Dep. Variable:                      y   No. Observations:                 7043\n",
       "Model:                          Logit   Df Residuals:                     7041\n",
       "Method:                           MLE   Df Model:                            1\n",
       "Date:                Mon, 09 Nov 2020   Pseudo R-squ.:                  0.1176\n",
       "Time:                        18:23:50   Log-Likelihood:                -3595.9\n",
       "converged:                       True   LL-Null:                       -4075.1\n",
       "Covariance Type:            nonrobust   LLR p-value:                2.106e-210\n",
       "==============================================================================\n",
       "                 coef    std err          z      P>|z|      [0.025      0.975]\n",
       "------------------------------------------------------------------------------\n",
       "const          0.0273      0.042      0.647      0.518      -0.055       0.110\n",
       "tenure        -0.0388      0.001    -27.586      0.000      -0.042      -0.036\n",
       "==============================================================================\n",
       "\"\"\""
      ]
     },
     "execution_count": 12,
     "metadata": {},
     "output_type": "execute_result"
    }
   ],
   "source": [
    "X = churn[['tenure']]\n",
    "X = sm.add_constant(X)\n",
    "model = sm.Logit(y, X).fit()\n",
    "model.summary()"
   ]
  },
  {
   "cell_type": "markdown",
   "metadata": {},
   "source": [
    "Next, we would like to add the variable 'Senior Citizen' to the model. Run a logistic regression of 'Churn' on 'tenure' and 'SeniorCitizen'. Interpret the values of the model."
   ]
  },
  {
   "cell_type": "code",
   "execution_count": 25,
   "metadata": {},
   "outputs": [
    {
     "name": "stdout",
     "output_type": "stream",
     "text": [
      "Optimization terminated successfully.\n",
      "         Current function value: 0.496871\n",
      "         Iterations 6\n"
     ]
    },
    {
     "data": {
      "text/html": [
       "<table class=\"simpletable\">\n",
       "<caption>Logit Regression Results</caption>\n",
       "<tr>\n",
       "  <th>Dep. Variable:</th>           <td>y</td>        <th>  No. Observations:  </th>   <td>  7043</td>  \n",
       "</tr>\n",
       "<tr>\n",
       "  <th>Model:</th>                 <td>Logit</td>      <th>  Df Residuals:      </th>   <td>  7040</td>  \n",
       "</tr>\n",
       "<tr>\n",
       "  <th>Method:</th>                 <td>MLE</td>       <th>  Df Model:          </th>   <td>     2</td>  \n",
       "</tr>\n",
       "<tr>\n",
       "  <th>Date:</th>            <td>Mon, 09 Nov 2020</td> <th>  Pseudo R-squ.:     </th>   <td>0.1413</td>  \n",
       "</tr>\n",
       "<tr>\n",
       "  <th>Time:</th>                <td>18:29:23</td>     <th>  Log-Likelihood:    </th>  <td> -3499.5</td> \n",
       "</tr>\n",
       "<tr>\n",
       "  <th>converged:</th>             <td>True</td>       <th>  LL-Null:           </th>  <td> -4075.1</td> \n",
       "</tr>\n",
       "<tr>\n",
       "  <th>Covariance Type:</th>     <td>nonrobust</td>    <th>  LLR p-value:       </th> <td>1.038e-250</td>\n",
       "</tr>\n",
       "</table>\n",
       "<table class=\"simpletable\">\n",
       "<tr>\n",
       "        <td></td>           <th>coef</th>     <th>std err</th>      <th>z</th>      <th>P>|z|</th>  <th>[0.025</th>    <th>0.975]</th>  \n",
       "</tr>\n",
       "<tr>\n",
       "  <th>const</th>         <td>   -0.1232</td> <td>    0.044</td> <td>   -2.801</td> <td> 0.005</td> <td>   -0.209</td> <td>   -0.037</td>\n",
       "</tr>\n",
       "<tr>\n",
       "  <th>tenure</th>        <td>   -0.0405</td> <td>    0.001</td> <td>  -27.981</td> <td> 0.000</td> <td>   -0.043</td> <td>   -0.038</td>\n",
       "</tr>\n",
       "<tr>\n",
       "  <th>SeniorCitizen</th> <td>    1.0465</td> <td>    0.075</td> <td>   13.964</td> <td> 0.000</td> <td>    0.900</td> <td>    1.193</td>\n",
       "</tr>\n",
       "</table>"
      ],
      "text/plain": [
       "<class 'statsmodels.iolib.summary.Summary'>\n",
       "\"\"\"\n",
       "                           Logit Regression Results                           \n",
       "==============================================================================\n",
       "Dep. Variable:                      y   No. Observations:                 7043\n",
       "Model:                          Logit   Df Residuals:                     7040\n",
       "Method:                           MLE   Df Model:                            2\n",
       "Date:                Mon, 09 Nov 2020   Pseudo R-squ.:                  0.1413\n",
       "Time:                        18:29:23   Log-Likelihood:                -3499.5\n",
       "converged:                       True   LL-Null:                       -4075.1\n",
       "Covariance Type:            nonrobust   LLR p-value:                1.038e-250\n",
       "=================================================================================\n",
       "                    coef    std err          z      P>|z|      [0.025      0.975]\n",
       "---------------------------------------------------------------------------------\n",
       "const            -0.1232      0.044     -2.801      0.005      -0.209      -0.037\n",
       "tenure           -0.0405      0.001    -27.981      0.000      -0.043      -0.038\n",
       "SeniorCitizen     1.0465      0.075     13.964      0.000       0.900       1.193\n",
       "=================================================================================\n",
       "\"\"\""
      ]
     },
     "execution_count": 25,
     "metadata": {},
     "output_type": "execute_result"
    }
   ],
   "source": [
    "X = churn[['tenure', 'SeniorCitizen']]\n",
    "X = sm.add_constant(X)\n",
    "model = sm.Logit(y, X).fit()\n",
    "model.summary()"
   ]
  },
  {
   "cell_type": "markdown",
   "metadata": {},
   "source": [
    "Finally, we would like to add the variable 'Contract' to the model. Please inspect the possible values for 'Contract'. What type of variable is it?"
   ]
  },
  {
   "cell_type": "code",
   "execution_count": 26,
   "metadata": {},
   "outputs": [
    {
     "data": {
      "text/plain": [
       "Month-to-month    3875\n",
       "Two year          1695\n",
       "One year          1473\n",
       "Name: Contract, dtype: int64"
      ]
     },
     "execution_count": 26,
     "metadata": {},
     "output_type": "execute_result"
    }
   ],
   "source": [
    "churn['Contract'].value_counts()"
   ]
  },
  {
   "cell_type": "markdown",
   "metadata": {},
   "source": [
    "Please convert Contract to dummy variables, and add it to the matrix of explanatory variables. Then run a logistic regression of 'Churn' on 'tenure', 'SeniorCitizen' and 'Contract'. Interpret the values of the model."
   ]
  },
  {
   "cell_type": "code",
   "execution_count": 28,
   "metadata": {},
   "outputs": [
    {
     "name": "stdout",
     "output_type": "stream",
     "text": [
      "Optimization terminated successfully.\n",
      "         Current function value: 0.466523\n",
      "         Iterations 8\n"
     ]
    },
    {
     "data": {
      "text/html": [
       "<table class=\"simpletable\">\n",
       "<caption>Logit Regression Results</caption>\n",
       "<tr>\n",
       "  <th>Dep. Variable:</th>           <td>y</td>        <th>  No. Observations:  </th>  <td>  7043</td> \n",
       "</tr>\n",
       "<tr>\n",
       "  <th>Model:</th>                 <td>Logit</td>      <th>  Df Residuals:      </th>  <td>  7038</td> \n",
       "</tr>\n",
       "<tr>\n",
       "  <th>Method:</th>                 <td>MLE</td>       <th>  Df Model:          </th>  <td>     4</td> \n",
       "</tr>\n",
       "<tr>\n",
       "  <th>Date:</th>            <td>Mon, 09 Nov 2020</td> <th>  Pseudo R-squ.:     </th>  <td>0.1937</td> \n",
       "</tr>\n",
       "<tr>\n",
       "  <th>Time:</th>                <td>18:32:59</td>     <th>  Log-Likelihood:    </th> <td> -3285.7</td>\n",
       "</tr>\n",
       "<tr>\n",
       "  <th>converged:</th>             <td>True</td>       <th>  LL-Null:           </th> <td> -4075.1</td>\n",
       "</tr>\n",
       "<tr>\n",
       "  <th>Covariance Type:</th>     <td>nonrobust</td>    <th>  LLR p-value:       </th>  <td> 0.000</td> \n",
       "</tr>\n",
       "</table>\n",
       "<table class=\"simpletable\">\n",
       "<tr>\n",
       "        <td></td>           <th>coef</th>     <th>std err</th>      <th>z</th>      <th>P>|z|</th>  <th>[0.025</th>    <th>0.975]</th>  \n",
       "</tr>\n",
       "<tr>\n",
       "  <th>const</th>         <td>   -0.1061</td> <td>    0.045</td> <td>   -2.344</td> <td> 0.019</td> <td>   -0.195</td> <td>   -0.017</td>\n",
       "</tr>\n",
       "<tr>\n",
       "  <th>tenure</th>        <td>   -0.0197</td> <td>    0.002</td> <td>  -11.157</td> <td> 0.000</td> <td>   -0.023</td> <td>   -0.016</td>\n",
       "</tr>\n",
       "<tr>\n",
       "  <th>SeniorCitizen</th> <td>    0.7413</td> <td>    0.077</td> <td>    9.682</td> <td> 0.000</td> <td>    0.591</td> <td>    0.891</td>\n",
       "</tr>\n",
       "<tr>\n",
       "  <th>One year</th>      <td>   -1.2895</td> <td>    0.097</td> <td>  -13.328</td> <td> 0.000</td> <td>   -1.479</td> <td>   -1.100</td>\n",
       "</tr>\n",
       "<tr>\n",
       "  <th>Two year</th>      <td>   -2.4539</td> <td>    0.162</td> <td>  -15.130</td> <td> 0.000</td> <td>   -2.772</td> <td>   -2.136</td>\n",
       "</tr>\n",
       "</table>"
      ],
      "text/plain": [
       "<class 'statsmodels.iolib.summary.Summary'>\n",
       "\"\"\"\n",
       "                           Logit Regression Results                           \n",
       "==============================================================================\n",
       "Dep. Variable:                      y   No. Observations:                 7043\n",
       "Model:                          Logit   Df Residuals:                     7038\n",
       "Method:                           MLE   Df Model:                            4\n",
       "Date:                Mon, 09 Nov 2020   Pseudo R-squ.:                  0.1937\n",
       "Time:                        18:32:59   Log-Likelihood:                -3285.7\n",
       "converged:                       True   LL-Null:                       -4075.1\n",
       "Covariance Type:            nonrobust   LLR p-value:                     0.000\n",
       "=================================================================================\n",
       "                    coef    std err          z      P>|z|      [0.025      0.975]\n",
       "---------------------------------------------------------------------------------\n",
       "const            -0.1061      0.045     -2.344      0.019      -0.195      -0.017\n",
       "tenure           -0.0197      0.002    -11.157      0.000      -0.023      -0.016\n",
       "SeniorCitizen     0.7413      0.077      9.682      0.000       0.591       0.891\n",
       "One year         -1.2895      0.097    -13.328      0.000      -1.479      -1.100\n",
       "Two year         -2.4539      0.162    -15.130      0.000      -2.772      -2.136\n",
       "=================================================================================\n",
       "\"\"\""
      ]
     },
     "execution_count": 28,
     "metadata": {},
     "output_type": "execute_result"
    }
   ],
   "source": [
    "# your code here\n",
    "\n",
    "X = pd.concat([X, pd.get_dummies(churn['Contract'], drop_first=True)], axis=1) \n",
    "X = sm.add_constant(X)\n",
    "model = sm.Logit(y, X).fit()\n",
    "model.summary()"
   ]
  },
  {
   "cell_type": "markdown",
   "metadata": {},
   "source": [
    "## Bonus Challenge: Feature Selection"
   ]
  },
  {
   "cell_type": "markdown",
   "metadata": {},
   "source": [
    "Use the above data set on customer churn, and try including and excluding different variables to build the best model. Which criteria can you use for deciding whether a variable is helpful for predicting whether a customer will churn or not?"
   ]
  },
  {
   "cell_type": "code",
   "execution_count": 7,
   "metadata": {},
   "outputs": [],
   "source": [
    "# Your code here. \n",
    "\n",
    "# https://www.displayr.com/how-to-interpret-logistic-regression-coefficients/"
   ]
  }
 ],
 "metadata": {
  "kernelspec": {
   "display_name": "Python 3",
   "language": "python",
   "name": "python3"
  },
  "language_info": {
   "codemirror_mode": {
    "name": "ipython",
    "version": 3
   },
   "file_extension": ".py",
   "mimetype": "text/x-python",
   "name": "python",
   "nbconvert_exporter": "python",
   "pygments_lexer": "ipython3",
   "version": "3.7.7"
  }
 },
 "nbformat": 4,
 "nbformat_minor": 2
}
