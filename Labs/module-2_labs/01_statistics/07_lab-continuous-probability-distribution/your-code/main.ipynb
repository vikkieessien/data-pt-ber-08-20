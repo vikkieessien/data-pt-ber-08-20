{
 "cells": [
  {
   "cell_type": "markdown",
   "metadata": {},
   "source": [
    "# Before your start:\n",
    "\n",
    "    Read the README.md file\n",
    "    Comment as much as you can and use the resources (README.md file)\n",
    "    Happy learning!"
   ]
  },
  {
   "cell_type": "markdown",
   "metadata": {},
   "source": [
    "In this exercise, we  will generate random numbers from the continuous disributions we learned in the lesson. There are two ways to generate random numbers:\n",
    "\n",
    "1. Using the numpy library \n",
    "1. using the Scipy library \n",
    "\n",
    "Use either or both of the lbraries in this exercise."
   ]
  },
  {
   "cell_type": "markdown",
   "metadata": {},
   "source": [
    "## Uniform Distribution\n",
    "\n",
    "To generate uniform random numbers between any two given values using scipy, we can either use the following code or the code that we have\n",
    "discussed in class:"
   ]
  },
  {
   "cell_type": "code",
   "execution_count": 39,
   "metadata": {},
   "outputs": [
    {
     "name": "stdout",
     "output_type": "stream",
     "text": [
      "[2.82622801 2.51109912 2.04590266 2.54964636 2.23363423 2.2137002\n",
      " 2.72811838 2.99286096 2.09087296 2.56543521]\n"
     ]
    }
   ],
   "source": [
    "import numpy as np\n",
    "import scipy.stats\n",
    "from scipy.stats import mode\n",
    "from scipy.stats import randint\n",
    "import matplotlib.pyplot as plt\n",
    "from scipy.stats import bernoulli\n",
    "from scipy.stats import binom\n",
    "from scipy.stats import norm\n",
    "\n",
    "\n",
    "\n",
    "\n",
    "\n",
    "\n",
    "\n",
    "\n",
    "from scipy.stats import uniform\n",
    "x = uniform.rvs(size=10)\n",
    "a = 2\n",
    "b = 3\n",
    "randoms  = a + (b-a)*x\n",
    "print(randoms)"
   ]
  },
  {
   "cell_type": "markdown",
   "metadata": {},
   "source": [
    "**Your task:**\n",
    "\n",
    "1. Based on the code above, write a function that generates uniformly distributed random numbers. There are several requirements for your function:\n",
    "    * It should accept 3 parameters: \n",
    "        * `bottom` - the lower boundary of the generated numbers\n",
    "        * `ceiling` - the upper boundary of the generated numbers\n",
    "        * `count` - how many numbers to generate\n",
    "    * It should return an array of uniformly distributed random numbers\n",
    "\n",
    "1. Call your function with 2 sets of params below:\n",
    "    * bottom=10, ceiling=15, count=100\n",
    "    * bottom=10, ceiling=60, count=1,000\n",
    "\n",
    "1. Plot the uniform distributions generated above using histograms, where x axis is the value and y axis is the count. Let the histogram's number of bins be 10.\n",
    "\n",
    "Your output should look like below:\n",
    "\n",
    "![uniform distribution](ud.png)"
   ]
  },
  {
   "cell_type": "code",
   "execution_count": 29,
   "metadata": {},
   "outputs": [],
   "source": [
    "\n",
    "cuni = uniform.rvs(10, 5, 100)\n",
    "cuni2 = uniform.rvs(10, 50, 1000)"
   ]
  },
  {
   "cell_type": "code",
   "execution_count": 30,
   "metadata": {},
   "outputs": [
    {
     "data": {
      "image/png": "[encoded data removed]",
      "text/plain": [
       "<Figure size 432x288 with 2 Axes>"
      ]
     },
     "metadata": {
      "needs_background": "light"
     },
     "output_type": "display_data"
    }
   ],
   "source": [
    "plt.subplot(1,2,1)\n",
    "plt.hist(cuni, bins = 10)\n",
    "plt.subplot(1,2,2)\n",
    "plt.hist(cuni2, bins = 10)\n",
    "plt.show()\n"
   ]
  },
  {
   "cell_type": "markdown",
   "metadata": {},
   "source": [
    "How are the two distributions different?"
   ]
  },
  {
   "cell_type": "code",
   "execution_count": 31,
   "metadata": {},
   "outputs": [],
   "source": [
    "#  the lower boundary of the generated numbers is "
   ]
  },
  {
   "cell_type": "markdown",
   "metadata": {},
   "source": [
    "## Normal Distribution\n",
    "\n",
    "1. In the same way in the Uniform Distribution challenge, write a function that generates normally distributed random numbers.\n",
    "1. Generate 1,000 normally distributed numbers with the average of 10 and standard deviation of 1\n",
    "1. Generate 1,000 normally distributed numbers with the average of 10 and standard deviation of 50\n",
    "2. Plot the distributions of the data generated.\n",
    "\n",
    "Expected output:\n",
    "\n",
    "![normal distribution](nd.png)"
   ]
  },
  {
   "cell_type": "code",
   "execution_count": 41,
   "metadata": {},
   "outputs": [
    {
     "data": {
      "image/png": "[encoded data removed]",
      "text/plain": [
       "<Figure size 432x288 with 2 Axes>"
      ]
     },
     "metadata": {
      "needs_background": "light"
     },
     "output_type": "display_data"
    }
   ],
   "source": [
    "#the first parameter is mean and the second is standard deviation\n",
    "normal = norm(10, 1)\n",
    "numrange = normal.rvs(size = 1000)\n",
    "\n",
    "normal2 = norm(10, 50)\n",
    "numrange2 = normal2.rvs(size = 1000)\n",
    "\n",
    "\n",
    "plt.subplot(1,2,1)\n",
    "plt.hist(numrange, bins = 10)\n",
    "\n",
    "plt.subplot(1,2,2)\n",
    "plt.hist(numrange2, bins = 10)\n",
    "plt.show()"
   ]
  },
  {
   "cell_type": "code",
   "execution_count": 40,
   "metadata": {},
   "outputs": [
    {
     "data": {
      "text/plain": [
       "array([10.71909042,  9.16449726,  7.19724463, 10.74034605,  9.5677962 ,\n",
       "        9.7033542 ,  9.9937416 , 11.51804996,  9.76649955,  8.54679869,\n",
       "        9.23810095, 10.283195  ,  8.86034717, 10.81945735, 10.30321876,\n",
       "       11.9227935 , 11.07706   ,  9.1795719 ,  9.68332665, 10.14535746,\n",
       "        9.63953984, 11.27051068, 10.02717449, 10.21112355, 10.55496526,\n",
       "       10.80071464, 10.96767747,  9.17963891,  9.58053118,  8.79157461,\n",
       "       10.60793783,  9.99440947, 10.05060077, 10.3317652 , 10.85999004,\n",
       "        9.55827477,  8.61681373,  9.26940866, 12.83466807,  8.72097354,\n",
       "       11.29375813, 10.22832707, 10.29703233,  8.83331861, 10.81826311,\n",
       "       10.79089122,  9.7753589 , 11.47330628, 10.40531207,  9.86548919,\n",
       "        8.82374776,  9.21579441,  9.88741555,  9.08810616, 10.25988691,\n",
       "       10.89961015, 10.16188189, 11.9763802 , 13.06849632,  8.76762002,\n",
       "        9.36135675, 10.75518809, 10.3835249 ,  8.44045938, 10.86641421,\n",
       "       10.60740972, 11.06724509,  8.57551015,  8.8287688 ,  9.04944088,\n",
       "       10.27039182,  9.43707509,  9.6463359 ,  9.57945394,  8.38046779,\n",
       "        7.65280212,  8.17379391,  8.79485186, 10.44580278, 11.35974891,\n",
       "        8.34657318,  8.74699381,  9.53650754, 12.12544058,  9.86708214,\n",
       "        9.95821875,  8.78074002,  9.29754096, 10.20017986, 11.21324323,\n",
       "       10.60530713, 12.45693353,  9.27738874, 10.17609512,  8.37931495,\n",
       "       10.95020105,  9.87480891, 11.00386887,  9.246866  , 10.31879611,\n",
       "       10.48375818,  9.76997455,  9.44291384,  9.39893539,  9.60945784,\n",
       "       10.33973209, 10.77728772,  9.00352812,  8.88579264,  9.77127313,\n",
       "       11.9467846 , 11.32383494,  9.08023367, 11.0280653 , 10.26217587,\n",
       "       10.84071941,  8.6442625 ,  9.30947394,  9.41620961, 11.78637788,\n",
       "        9.55624013, 10.78586331,  9.63314083,  8.69609572,  9.53206283,\n",
       "        9.68361169,  9.32154199, 10.01931786, 12.20014986,  9.75396428,\n",
       "       11.27103776,  9.53906173, 11.42600584,  9.63653147,  9.62381999,\n",
       "       10.41632117,  9.98838536,  9.18832816,  9.73905171, 11.35728768,\n",
       "       11.14391688, 10.11435298,  8.09447127, 10.77386189,  9.57577985,\n",
       "        9.05712396,  9.04479103,  9.6817055 ,  8.93195977, 12.47456487,\n",
       "        9.41337884,  9.18136953,  7.52870113, 10.23408009, 10.47407075,\n",
       "        9.40506012,  8.61720745,  8.73273189,  9.79212364,  9.50139381,\n",
       "        9.82645151,  9.47843858, 11.96244628, 10.02269003,  9.74664547,\n",
       "        8.43794094, 10.30665571, 12.30140786,  8.92419061, 10.69306624,\n",
       "       10.03999195,  9.37119129, 10.40878896, 11.93155957,  8.59305264,\n",
       "        9.9430535 , 11.70732133,  9.21553764,  9.51479054, 10.47953645,\n",
       "       10.95508561,  9.84092535,  7.82266634,  8.83549396, 10.51710974,\n",
       "       10.92400459,  9.45666913, 10.10965705,  9.23838724,  9.60019367,\n",
       "        9.10539107,  8.37960243, 11.27567526,  9.57403506, 11.93090927,\n",
       "        9.85282035, 10.38594176, 12.16772966,  9.83469299,  9.91444567,\n",
       "        9.1573601 ,  9.11551275, 11.4037847 ,  9.11363972,  8.06058315,\n",
       "       12.42756295,  9.77721118, 10.79832292, 10.22822965,  8.64016961,\n",
       "       10.42817239,  9.79031125,  9.31544311,  9.98863863,  8.02350871,\n",
       "       10.96388148,  9.90504216, 10.70176296,  9.00703996,  8.9141423 ,\n",
       "       12.49642889, 10.08630418,  9.81765808, 10.56164974, 10.51245422,\n",
       "       13.1197058 , 10.2344928 ,  9.73440688,  9.21306147, 10.08382304,\n",
       "        9.78156555,  9.7995127 , 10.1933686 , 10.33238655, 10.28014433,\n",
       "       10.46273808,  9.65059184,  9.27602881,  9.20959875,  9.78283742,\n",
       "       11.26589181, 11.01878932, 10.90292237,  9.58879998,  9.35460478,\n",
       "       12.69399719, 11.04132309,  9.35408661, 10.53539461, 10.07520465,\n",
       "        9.94132819, 10.14736796, 10.65799651, 11.14751175,  9.17677127,\n",
       "        8.28329495,  8.94931109, 11.82875761,  8.34962274,  9.87158628,\n",
       "       12.82768465,  9.12593864,  8.57353113, 12.77659735,  8.76707666,\n",
       "       10.47978209, 10.1495747 ,  7.28020787,  9.50666066, 10.23325213,\n",
       "       11.55444807, 10.69152408,  8.90633226,  8.33518501,  9.70453022,\n",
       "        9.95620364, 10.77947148, 10.83201314,  9.89235221, 10.23977739,\n",
       "       10.92681754,  8.92103254,  9.69121052,  9.66710659, 10.01176637,\n",
       "        9.76066196, 10.07628326,  9.11439837,  9.09348951, 10.59184818,\n",
       "       10.26759414,  8.43683638, 10.72788299,  9.39070587, 10.48635411,\n",
       "       11.50481652, 10.68410869, 10.22634776, 10.23622821, 10.24888876,\n",
       "        9.72520253, 12.03796436, 10.15573109, 11.90871206, 10.44088249,\n",
       "       11.55527254, 10.25413295, 10.64523096,  9.51028417, 10.17858908,\n",
       "        9.25559856, 10.39771181, 12.3796675 , 10.27496399, 11.22685152,\n",
       "        9.39693139, 11.60290178, 10.39727456, 10.01340631,  9.19839774,\n",
       "        9.90050973, 10.2314212 , 12.04450912,  9.24391968, 10.47088315,\n",
       "       10.32728395, 10.94487372,  8.39194787,  9.28191007, 11.05634177,\n",
       "       10.09902261, 10.40811819, 12.69610694,  8.2777028 ,  7.27983259,\n",
       "        8.80333829,  9.56038587, 10.46973473,  9.98837062, 10.17338532,\n",
       "        9.50049545,  9.22610137,  9.50942026, 11.69969717, 10.44422594,\n",
       "        9.6370053 , 11.10193214,  9.75038364,  9.47753871, 10.0178585 ,\n",
       "       10.13750765, 10.80493198,  9.53507135,  9.92543243,  9.54384606,\n",
       "       10.10965257, 10.38286371,  8.41237194,  9.73642671,  9.45675958,\n",
       "       11.03639035,  9.00055689, 10.78864751,  8.84921587, 10.63146253,\n",
       "        9.73985938,  9.40225058, 10.19350134, 11.24204029,  8.37460816,\n",
       "       10.3567059 ,  9.86386679, 10.02834465,  8.54298318, 10.40227312,\n",
       "        8.46877967, 10.92721899,  9.70966596, 12.00160904, 11.15836938,\n",
       "        7.86346809, 13.15776736,  9.75681753,  8.41893769, 11.89012243,\n",
       "       10.28779886,  9.09708114, 11.16513875,  8.60437494,  8.36426777,\n",
       "        8.95619953,  8.16152627, 11.88568093,  9.88403094,  9.47139768,\n",
       "       12.46621747, 10.16864448,  8.68901235, 12.59255866, 11.39427371,\n",
       "       12.81922262,  6.27597447, 10.67306657, 10.56948172, 10.52558339,\n",
       "       11.81394159,  8.79168247, 10.29242504, 10.52054033,  9.20303646,\n",
       "        8.58434603,  8.72277832, 10.07885984, 10.44310066, 10.71245295,\n",
       "        8.34395923,  9.51234663, 10.29079622,  9.23212765, 11.60243375,\n",
       "       11.0231801 , 10.44548418, 11.32531056, 11.03824505,  8.55858428,\n",
       "       10.82015358,  9.08982931, 10.48205345, 10.9826683 ,  8.97593213,\n",
       "        9.15463782, 11.42837177, 11.26350793,  9.68882733,  7.5470113 ,\n",
       "        8.87330395, 11.20539205,  9.50562386, 10.5610947 , 10.67119218,\n",
       "       11.18123276, 10.2570204 ,  9.96521859,  9.15588761,  7.48538821,\n",
       "       11.34464388,  9.5529196 ,  9.58947449,  8.80540851, 11.90606469,\n",
       "       10.35457224, 10.68196109,  8.53562993,  9.07977819, 10.38334274,\n",
       "        9.73555686, 11.86077307,  9.20074222,  9.79473079,  8.45102739,\n",
       "        9.87668734, 11.59749657, 10.03660479,  9.3153834 ,  9.71708887,\n",
       "       11.2743562 , 10.70496119,  9.35678827, 10.97677691,  9.07947154,\n",
       "        8.5183196 ,  7.86649956,  9.79119668,  9.4102135 ,  9.86522352,\n",
       "       10.34240583,  9.92271297, 11.36608101, 10.80092602,  9.47010637,\n",
       "        9.82381067,  9.52952056, 11.8053494 ,  9.69388865, 10.34689228,\n",
       "       11.28011175,  9.09327387, 10.53024586, 12.45843607, 11.43842937,\n",
       "       10.63657561, 11.22886675,  9.52152612,  9.26792255, 11.35130547,\n",
       "       11.39713317, 10.08736619, 10.28346765,  9.05807121,  8.77926373,\n",
       "        7.79628047, 10.85780117, 10.51352616,  9.4244927 ,  9.70983862,\n",
       "        8.88344861,  8.99996766, 12.08571134,  9.40403632, 11.94575518,\n",
       "       10.6538856 , 13.01966542,  9.76607861,  9.91742172,  8.97115231,\n",
       "        9.74960683,  9.09744622,  9.75366995, 11.43532938,  9.73172909,\n",
       "       10.28232389, 12.16940509, 11.72947203,  8.9815573 , 11.4310059 ,\n",
       "        9.72596563,  8.38768216, 10.58649546,  9.76670282, 10.23644883,\n",
       "        9.31172012, 10.44196853,  7.98394407, 10.41078178,  9.49573106,\n",
       "       12.06260175,  8.90302514, 10.08416116, 10.36511281, 10.72631156,\n",
       "        9.74119023,  8.79373435,  9.94062366, 11.38703686,  9.17561556,\n",
       "       10.9264213 , 10.32190671, 10.13565501, 11.8899972 ,  9.96719109,\n",
       "        9.28788018, 11.76200109,  9.92941766,  8.85006568,  9.19756706,\n",
       "       11.03203439,  9.63371875, 11.25391491,  9.90740633, 11.67287778,\n",
       "       10.44963566, 10.92330617,  9.69343397,  8.97145463, 11.07073374,\n",
       "        8.83202736,  8.24501814, 10.48909509,  9.87283827,  9.02335847,\n",
       "       10.12040805, 10.36508184, 10.84692399, 10.91081625,  9.83658092,\n",
       "        7.73587437, 11.36371718, 10.86850432, 11.07367399,  7.18766388,\n",
       "        9.01572761, 10.89173564,  9.42451961,  8.38579216,  9.06089447,\n",
       "        9.65750548, 10.03497413, 10.19280175,  8.38117527, 10.7432517 ,\n",
       "       10.00041715, 10.43044469, 10.1060125 , 10.43421359,  9.98399328,\n",
       "       10.1661842 , 10.68072996,  9.10020656, 10.139983  , 10.18363712,\n",
       "       11.61361921,  9.39389922, 11.032905  , 10.28450546,  7.97478706,\n",
       "        9.76091959, 10.94226681, 10.03648231, 10.29187073, 10.0768089 ,\n",
       "       11.74849493, 10.70962021, 12.32249516, 10.13234491, 10.09825541,\n",
       "        9.54361953, 10.72987701,  8.78964736,  9.68430156, 11.45070063,\n",
       "       12.67058472,  9.29128172,  9.69838479,  9.53423597,  9.04610985,\n",
       "       10.42450758,  9.89877613, 10.95673466,  8.78177486, 10.58538955,\n",
       "        9.83271382,  8.88417994,  8.38376237, 10.13631846, 10.26726627,\n",
       "        9.54828751, 11.29967656,  9.25250066, 11.0228214 ,  9.92241395,\n",
       "        9.26342805, 10.28619894, 10.34210145,  9.8054523 , 10.40403541,\n",
       "        9.28445324,  8.83955317,  9.9554157 ,  7.6478375 , 10.98883499,\n",
       "       10.41421201,  8.48074592,  8.62090724,  9.08351833,  9.63152131,\n",
       "       11.82626527, 10.23077005, 11.27252386,  9.62189403,  8.61421759,\n",
       "       10.23760688, 12.3848019 , 11.45784435, 10.78357909,  9.45883147,\n",
       "        9.99472241, 10.89928411, 10.00895176, 11.65248978,  7.97394663,\n",
       "        8.62842858,  9.60155186, 10.26638862,  9.01329414, 10.5098077 ,\n",
       "       10.04732012, 11.63869966,  9.284863  , 10.51949412,  9.98614559,\n",
       "       10.42607156,  9.18364913,  9.43089646, 12.57880137,  9.57229165,\n",
       "        9.26950995,  9.84169361,  9.20258046, 10.4627547 ,  8.93771622,\n",
       "        9.76560388, 10.18918914, 10.76338835, 10.40676601, 10.8408496 ,\n",
       "        9.23583883, 10.2003364 ,  9.982483  ,  8.71429775, 10.91988815,\n",
       "       10.894918  ,  8.48721657,  9.70320428,  9.93109345,  9.9429753 ,\n",
       "        9.95412025,  9.93086517,  8.13561419, 10.13304055, 10.85153098,\n",
       "       10.36540487,  9.43520676,  8.59303076, 11.22986263,  8.88314839,\n",
       "       10.11747725,  9.88764295,  9.43186467,  9.62837993,  9.53720038,\n",
       "       10.80275598, 10.33655056, 10.37405219, 10.95481429,  8.93642825,\n",
       "        8.69484589, 10.14206609, 10.21605878, 11.16350812, 10.53189695,\n",
       "        8.39345281, 10.7732241 ,  9.22107176,  8.91561837, 10.09580352,\n",
       "        9.26911808,  8.13056461, 10.24190521,  9.05525899,  9.99955718,\n",
       "       11.76259161,  8.26851424,  8.92964485, 10.1148986 , 10.62816099,\n",
       "       11.14912326,  9.42483386, 11.48235007, 10.35784195,  9.29240887,\n",
       "       10.83107532, 10.19327396,  9.97610552,  9.30925047,  9.48357307,\n",
       "       10.64672478,  8.29668569,  7.70277702, 10.75522002, 12.39371359,\n",
       "       10.26190683, 10.40921957, 10.61396445, 11.19746025, 10.52866027,\n",
       "       10.75995595,  8.74147015,  9.78692447, 10.08260426, 11.91860363,\n",
       "       10.62083336, 10.0347405 , 10.56106664, 10.12364091,  9.50257447,\n",
       "       10.25061381,  9.56368753, 11.6039811 ,  9.04694194, 10.7817898 ,\n",
       "        9.99896036,  9.91947978, 10.32186276,  8.37419674,  9.09220787,\n",
       "        9.37598466,  9.85526661, 11.45510255, 10.61313573,  9.06767127,\n",
       "       11.29819689,  9.58240556,  8.62803737, 10.87798416, 11.36106665,\n",
       "        8.13143007,  9.95004876, 10.13105379, 10.77530344,  9.81404799,\n",
       "        8.18935164,  9.6423167 ,  8.42993237,  9.17578133,  9.25239032,\n",
       "        8.69917192, 10.76954731, 10.04873188, 10.21611116,  9.27259676,\n",
       "        9.45861804,  9.64172849,  9.7971805 ,  9.0912082 ,  8.92832618,\n",
       "       10.23995407,  9.53785585,  8.37442063, 10.23801734,  8.88107055,\n",
       "       11.1910851 , 10.223582  , 10.43807125,  9.62057865,  9.07141116,\n",
       "        9.75805246,  9.42876455, 10.4386482 , 10.72829689, 11.06039274,\n",
       "        9.91214416,  9.84927387,  8.7843305 ,  9.41173498, 10.18005622,\n",
       "       11.25800378,  8.92706394, 11.28408157, 11.57977545, 10.07248306,\n",
       "       10.12796198, 10.35034814,  8.75966909,  8.43290611, 10.31570111,\n",
       "       10.17404667,  9.8984093 , 11.84023768,  8.18221229, 10.94632536,\n",
       "       10.51083122, 10.74075229, 11.67482049, 11.62324951, 10.5329624 ,\n",
       "       10.14255934,  9.16019499, 10.97109325, 10.31630219,  9.03659968,\n",
       "       11.08621504,  9.6920157 , 10.25536034, 11.34294928,  9.78560018,\n",
       "       10.49673918,  9.70486894, 10.20945682,  9.30395782,  9.33468012,\n",
       "        9.38090572,  8.58643142, 10.18101937, 11.62501114, 10.26341141,\n",
       "        9.49844977,  9.62580125, 11.09888017, 11.57161236, 11.03488713,\n",
       "       10.82354008,  7.863763  ,  9.52033806, 10.26974359, 10.46017673,\n",
       "       11.1140437 , 11.27451189, 11.45490759,  8.62340832, 10.19062603,\n",
       "       11.2800495 ,  9.05671971,  9.28484872,  8.76315322, 10.02959918,\n",
       "       10.87060398,  9.35851629, 10.44792084,  9.290534  ,  9.10018435,\n",
       "        9.49970873,  8.15937442,  8.86783234,  9.05591423, 10.00360102,\n",
       "        9.6102413 ,  9.2893784 ,  8.4846269 ,  9.91673898, 10.77479779,\n",
       "       10.47010948, 10.7966193 ,  8.73414458,  9.53796926,  8.34462982,\n",
       "        8.93220626, 11.68011935, 12.44207527, 10.21454518,  9.75456976,\n",
       "        7.95982825,  9.46019867,  8.02445227, 10.21599306,  8.83120357,\n",
       "       11.11550208,  9.50980515,  8.94306916, 10.15251094, 10.99766666,\n",
       "       10.14602424,  9.49248811, 10.08901455, 10.24013089, 10.79884941,\n",
       "        7.89623399, 10.07975101,  9.7358666 , 10.55929801,  8.5298453 ,\n",
       "        9.26244248,  8.54602849, 10.06147137, 11.12686974,  9.14877911,\n",
       "       10.61193425,  9.52381623,  9.58088282, 10.16020899, 12.02354335,\n",
       "       11.21093873,  9.56642837,  9.28187665,  8.46547632, 10.55500136,\n",
       "        9.72976417, 10.03299759, 10.32670987,  8.98385558, 12.54061179,\n",
       "        8.63457281, 10.90256789, 10.07520985,  9.74161362, 11.05195842,\n",
       "       11.16920494,  9.12567343, 10.36917932, 10.70315606,  7.81235567,\n",
       "        8.85071275, 10.61556532, 10.2324866 , 10.07076798, 10.8651167 ,\n",
       "        9.98687956,  9.75445212,  8.73127418,  8.61851619,  9.62708526,\n",
       "        8.72314994,  9.029816  , 10.68676218, 10.08250384, 10.50295144,\n",
       "        9.89341339, 11.39426991,  9.52232929,  9.21557283, 10.0050919 ,\n",
       "       10.50588288,  9.98493362,  9.30876513,  9.0091346 ,  9.99721658,\n",
       "       11.13556934, 11.28101912,  9.76005553, 10.61014849,  9.79022673])"
      ]
     },
     "execution_count": 40,
     "metadata": {},
     "output_type": "execute_result"
    }
   ],
   "source": [
    "normal = norm(10, 1)\n",
    "normal.rvs(size = 1000)"
   ]
  },
  {
   "cell_type": "code",
   "execution_count": null,
   "metadata": {},
   "outputs": [],
   "source": [
    "# The first plot has a bottom of 0 - 15 and the height is 0- 250 and the second plot has a bottom of -100 to 100 and the height of o - 250"
   ]
  },
  {
   "cell_type": "markdown",
   "metadata": {},
   "source": [
    "How are the two distributions different?"
   ]
  },
  {
   "cell_type": "code",
   "execution_count": null,
   "metadata": {},
   "outputs": [],
   "source": [
    "# The first plot has a bottom of 0 - 15 and the height is 0- 250 and the second plot has a bottom of -100 to 100 and the height of o - 250"
   ]
  },
  {
   "cell_type": "markdown",
   "metadata": {},
   "source": [
    "## Normal Distribution of Real Data\n",
    "\n",
    "In this challenge we are going to take a look the real data. We will use vehicles.csv file for this exercise"
   ]
  },
  {
   "cell_type": "markdown",
   "metadata": {},
   "source": [
    "First import vehicles.csv.\n",
    "Then plot the histograms for the following variables:\n",
    "\n",
    "1. Fuel Barrels/Year"
   ]
  },
  {
   "cell_type": "code",
   "execution_count": 44,
   "metadata": {},
   "outputs": [
    {
     "data": {
      "text/html": [
       "<div>\n",
       "<style scoped>\n",
       "    .dataframe tbody tr th:only-of-type {\n",
       "        vertical-align: middle;\n",
       "    }\n",
       "\n",
       "    .dataframe tbody tr th {\n",
       "        vertical-align: top;\n",
       "    }\n",
       "\n",
       "    .dataframe thead th {\n",
       "        text-align: right;\n",
       "    }\n",
       "</style>\n",
       "<table border=\"1\" class=\"dataframe\">\n",
       "  <thead>\n",
       "    <tr style=\"text-align: right;\">\n",
       "      <th></th>\n",
       "      <th>Make</th>\n",
       "      <th>Model</th>\n",
       "      <th>Year</th>\n",
       "      <th>Engine Displacement</th>\n",
       "      <th>Cylinders</th>\n",
       "      <th>Transmission</th>\n",
       "      <th>Drivetrain</th>\n",
       "      <th>Vehicle Class</th>\n",
       "      <th>Fuel Type</th>\n",
       "      <th>Fuel Barrels/Year</th>\n",
       "      <th>City MPG</th>\n",
       "      <th>Highway MPG</th>\n",
       "      <th>Combined MPG</th>\n",
       "      <th>CO2 Emission Grams/Mile</th>\n",
       "      <th>Fuel Cost/Year</th>\n",
       "    </tr>\n",
       "  </thead>\n",
       "  <tbody>\n",
       "    <tr>\n",
       "      <th>0</th>\n",
       "      <td>AM General</td>\n",
       "      <td>DJ Po Vehicle 2WD</td>\n",
       "      <td>1984</td>\n",
       "      <td>2.5</td>\n",
       "      <td>4.0</td>\n",
       "      <td>Automatic 3-spd</td>\n",
       "      <td>2-Wheel Drive</td>\n",
       "      <td>Special Purpose Vehicle 2WD</td>\n",
       "      <td>Regular</td>\n",
       "      <td>19.388824</td>\n",
       "      <td>18</td>\n",
       "      <td>17</td>\n",
       "      <td>17</td>\n",
       "      <td>522.764706</td>\n",
       "      <td>1950</td>\n",
       "    </tr>\n",
       "    <tr>\n",
       "      <th>1</th>\n",
       "      <td>AM General</td>\n",
       "      <td>FJ8c Post Office</td>\n",
       "      <td>1984</td>\n",
       "      <td>4.2</td>\n",
       "      <td>6.0</td>\n",
       "      <td>Automatic 3-spd</td>\n",
       "      <td>2-Wheel Drive</td>\n",
       "      <td>Special Purpose Vehicle 2WD</td>\n",
       "      <td>Regular</td>\n",
       "      <td>25.354615</td>\n",
       "      <td>13</td>\n",
       "      <td>13</td>\n",
       "      <td>13</td>\n",
       "      <td>683.615385</td>\n",
       "      <td>2550</td>\n",
       "    </tr>\n",
       "    <tr>\n",
       "      <th>2</th>\n",
       "      <td>AM General</td>\n",
       "      <td>Post Office DJ5 2WD</td>\n",
       "      <td>1985</td>\n",
       "      <td>2.5</td>\n",
       "      <td>4.0</td>\n",
       "      <td>Automatic 3-spd</td>\n",
       "      <td>Rear-Wheel Drive</td>\n",
       "      <td>Special Purpose Vehicle 2WD</td>\n",
       "      <td>Regular</td>\n",
       "      <td>20.600625</td>\n",
       "      <td>16</td>\n",
       "      <td>17</td>\n",
       "      <td>16</td>\n",
       "      <td>555.437500</td>\n",
       "      <td>2100</td>\n",
       "    </tr>\n",
       "    <tr>\n",
       "      <th>3</th>\n",
       "      <td>AM General</td>\n",
       "      <td>Post Office DJ8 2WD</td>\n",
       "      <td>1985</td>\n",
       "      <td>4.2</td>\n",
       "      <td>6.0</td>\n",
       "      <td>Automatic 3-spd</td>\n",
       "      <td>Rear-Wheel Drive</td>\n",
       "      <td>Special Purpose Vehicle 2WD</td>\n",
       "      <td>Regular</td>\n",
       "      <td>25.354615</td>\n",
       "      <td>13</td>\n",
       "      <td>13</td>\n",
       "      <td>13</td>\n",
       "      <td>683.615385</td>\n",
       "      <td>2550</td>\n",
       "    </tr>\n",
       "  </tbody>\n",
       "</table>\n",
       "</div>"
      ],
      "text/plain": [
       "         Make                Model  Year  Engine Displacement  Cylinders  \\\n",
       "0  AM General    DJ Po Vehicle 2WD  1984                  2.5        4.0   \n",
       "1  AM General     FJ8c Post Office  1984                  4.2        6.0   \n",
       "2  AM General  Post Office DJ5 2WD  1985                  2.5        4.0   \n",
       "3  AM General  Post Office DJ8 2WD  1985                  4.2        6.0   \n",
       "\n",
       "      Transmission        Drivetrain                Vehicle Class Fuel Type  \\\n",
       "0  Automatic 3-spd     2-Wheel Drive  Special Purpose Vehicle 2WD   Regular   \n",
       "1  Automatic 3-spd     2-Wheel Drive  Special Purpose Vehicle 2WD   Regular   \n",
       "2  Automatic 3-spd  Rear-Wheel Drive  Special Purpose Vehicle 2WD   Regular   \n",
       "3  Automatic 3-spd  Rear-Wheel Drive  Special Purpose Vehicle 2WD   Regular   \n",
       "\n",
       "   Fuel Barrels/Year  City MPG  Highway MPG  Combined MPG  \\\n",
       "0          19.388824        18           17            17   \n",
       "1          25.354615        13           13            13   \n",
       "2          20.600625        16           17            16   \n",
       "3          25.354615        13           13            13   \n",
       "\n",
       "   CO2 Emission Grams/Mile  Fuel Cost/Year  \n",
       "0               522.764706            1950  \n",
       "1               683.615385            2550  \n",
       "2               555.437500            2100  \n",
       "3               683.615385            2550  "
      ]
     },
     "execution_count": 44,
     "metadata": {},
     "output_type": "execute_result"
    }
   ],
   "source": [
    "import pandas as pd\n",
    "df = pd.read_csv('vehicles.csv')\n",
    "df.head(4)"
   ]
  },
  {
   "cell_type": "code",
   "execution_count": 45,
   "metadata": {},
   "outputs": [
    {
     "data": {
      "text/plain": [
       "Index(['Make', 'Model', 'Year', 'Engine Displacement', 'Cylinders',\n",
       "       'Transmission', 'Drivetrain', 'Vehicle Class', 'Fuel Type',\n",
       "       'Fuel Barrels/Year', 'City MPG', 'Highway MPG', 'Combined MPG',\n",
       "       'CO2 Emission Grams/Mile', 'Fuel Cost/Year'],\n",
       "      dtype='object')"
      ]
     },
     "execution_count": 45,
     "metadata": {},
     "output_type": "execute_result"
    }
   ],
   "source": [
    "df.columns"
   ]
  },
  {
   "cell_type": "code",
   "execution_count": 46,
   "metadata": {},
   "outputs": [
    {
     "data": {
      "image/png": "[encoded data removed]",
      "text/plain": [
       "<Figure size 432x288 with 1 Axes>"
      ]
     },
     "metadata": {
      "needs_background": "light"
     },
     "output_type": "display_data"
    }
   ],
   "source": [
    "# your code here\n",
    "plt.hist(df['Fuel Barrels/Year'])\n",
    "plt.show()"
   ]
  },
  {
   "cell_type": "markdown",
   "metadata": {},
   "source": [
    "2. CO2 Emission Grams/Mile "
   ]
  },
  {
   "cell_type": "code",
   "execution_count": 47,
   "metadata": {},
   "outputs": [
    {
     "data": {
      "image/png": "[encoded data removed]",
      "text/plain": [
       "<Figure size 432x288 with 1 Axes>"
      ]
     },
     "metadata": {
      "needs_background": "light"
     },
     "output_type": "display_data"
    }
   ],
   "source": [
    "plt.hist(df['CO2 Emission Grams/Mile'])\n",
    "plt.show()"
   ]
  },
  {
   "cell_type": "markdown",
   "metadata": {},
   "source": [
    "3. Combined MPG"
   ]
  },
  {
   "cell_type": "code",
   "execution_count": 48,
   "metadata": {},
   "outputs": [
    {
     "data": {
      "image/png": "[encoded data removed]",
      "text/plain": [
       "<Figure size 432x288 with 1 Axes>"
      ]
     },
     "metadata": {
      "needs_background": "light"
     },
     "output_type": "display_data"
    }
   ],
   "source": [
    "# your code here\n",
    "plt.hist(df['Combined MPG'])\n",
    "plt.show()"
   ]
  },
  {
   "cell_type": "markdown",
   "metadata": {},
   "source": [
    "Which one(s) of the variables are nearly normally distributed? How do you know?"
   ]
  },
  {
   "cell_type": "code",
   "execution_count": 49,
   "metadata": {},
   "outputs": [],
   "source": [
    "# df[‘CO2 Emission Grams/Mile’] looks like nomral distribution because the other 2 variables looks left/negative skewed."
   ]
  },
  {
   "cell_type": "markdown",
   "metadata": {},
   "source": [
    "## Exponential Distribution"
   ]
  },
  {
   "cell_type": "markdown",
   "metadata": {},
   "source": [
    "1. Using `numpy.random.exponential`, create a function that returns a list of numbers exponentially distributed with the mean of 10. \n",
    "\n",
    "1. Use the function to generate two number sequences with the size of 1 and 100.\n",
    "\n",
    "1. Plot the distributions as histograms with the nubmer of bins as 100.\n",
    "\n",
    "Your output should look like below:\n",
    "\n",
    "![exponential distribution](ed.png)"
   ]
  },
  {
   "cell_type": "code",
   "execution_count": null,
   "metadata": {},
   "outputs": [],
   "source": [
    "# your code here"
   ]
  },
  {
   "cell_type": "markdown",
   "metadata": {},
   "source": [
    "How are the two distributions different?"
   ]
  },
  {
   "cell_type": "code",
   "execution_count": null,
   "metadata": {},
   "outputs": [],
   "source": [
    "# your answer here"
   ]
  },
  {
   "cell_type": "markdown",
   "metadata": {},
   "source": [
    "## Exponential Distribution of Real Data\n",
    "\n",
    "Suppose that the amount of time one spends in a bank is exponentially distributed with mean as 10 minutes (i.e. λ = 1/10). What is the probability that a customer will spend less than fifteen minutes in the bank? \n",
    "\n",
    "Write a code in python to solve this problem"
   ]
  },
  {
   "cell_type": "code",
   "execution_count": null,
   "metadata": {},
   "outputs": [],
   "source": [
    "# your answer here\n",
    "# Hint: This is same as saying P(x<15)"
   ]
  },
  {
   "cell_type": "markdown",
   "metadata": {},
   "source": [
    "What is the probability that the customer will spend more than 15 minutes"
   ]
  },
  {
   "cell_type": "code",
   "execution_count": null,
   "metadata": {},
   "outputs": [],
   "source": [
    "# your answer here"
   ]
  },
  {
   "cell_type": "code",
   "execution_count": null,
   "metadata": {},
   "outputs": [],
   "source": []
  }
 ],
 "metadata": {
  "kernelspec": {
   "display_name": "Python 3",
   "language": "python",
   "name": "python3"
  },
  "language_info": {
   "codemirror_mode": {
    "name": "ipython",
    "version": 3
   },
   "file_extension": ".py",
   "mimetype": "text/x-python",
   "name": "python",
   "nbconvert_exporter": "python",
   "pygments_lexer": "ipython3",
   "version": "3.8.5"
  }
 },
 "nbformat": 4,
 "nbformat_minor": 2
}
