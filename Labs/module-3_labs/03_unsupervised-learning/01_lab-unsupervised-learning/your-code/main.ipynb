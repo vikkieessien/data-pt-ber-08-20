{
 "cells": [
  {
   "cell_type": "markdown",
   "metadata": {},
   "source": [
    "# Before your start:\n",
    "- Read the README.md file\n",
    "- Comment as much as you can and use the resources in the README.md file\n",
    "- Happy learning!"
   ]
  },
  {
   "cell_type": "code",
   "execution_count": 2,
   "metadata": {},
   "outputs": [],
   "source": [
    "# Import your libraries:\n",
    "\n",
    "import pandas as pd\n",
    "import numpy as np\n",
    "import seaborn as sns\n",
    "import matplotlib.pyplot as plt\n",
    "from sklearn.metrics import silhouette_score\n",
    "%matplotlib inline"
   ]
  },
  {
   "cell_type": "markdown",
   "metadata": {},
   "source": [
    "# Challenge 1 - Import and Describe the Dataset\n",
    "\n",
    "In this lab, we will use a dataset containing information about customer preferences. We will look at how much each customer spends in a year on each subcategory in the grocery store and try to find similarities using clustering.\n",
    "\n",
    "The origin of the dataset is [here](https://archive.ics.uci.edu/ml/datasets/wholesale+customers)."
   ]
  },
  {
   "cell_type": "code",
   "execution_count": 4,
   "metadata": {},
   "outputs": [
    {
     "data": {
      "text/html": [
       "<div>\n",
       "<style scoped>\n",
       "    .dataframe tbody tr th:only-of-type {\n",
       "        vertical-align: middle;\n",
       "    }\n",
       "\n",
       "    .dataframe tbody tr th {\n",
       "        vertical-align: top;\n",
       "    }\n",
       "\n",
       "    .dataframe thead th {\n",
       "        text-align: right;\n",
       "    }\n",
       "</style>\n",
       "<table border=\"1\" class=\"dataframe\">\n",
       "  <thead>\n",
       "    <tr style=\"text-align: right;\">\n",
       "      <th></th>\n",
       "      <th>Channel</th>\n",
       "      <th>Region</th>\n",
       "      <th>Fresh</th>\n",
       "      <th>Milk</th>\n",
       "      <th>Grocery</th>\n",
       "      <th>Frozen</th>\n",
       "      <th>Detergents_Paper</th>\n",
       "      <th>Delicassen</th>\n",
       "    </tr>\n",
       "  </thead>\n",
       "  <tbody>\n",
       "    <tr>\n",
       "      <th>0</th>\n",
       "      <td>2</td>\n",
       "      <td>3</td>\n",
       "      <td>12669</td>\n",
       "      <td>9656</td>\n",
       "      <td>7561</td>\n",
       "      <td>214</td>\n",
       "      <td>2674</td>\n",
       "      <td>1338</td>\n",
       "    </tr>\n",
       "    <tr>\n",
       "      <th>1</th>\n",
       "      <td>2</td>\n",
       "      <td>3</td>\n",
       "      <td>7057</td>\n",
       "      <td>9810</td>\n",
       "      <td>9568</td>\n",
       "      <td>1762</td>\n",
       "      <td>3293</td>\n",
       "      <td>1776</td>\n",
       "    </tr>\n",
       "    <tr>\n",
       "      <th>2</th>\n",
       "      <td>2</td>\n",
       "      <td>3</td>\n",
       "      <td>6353</td>\n",
       "      <td>8808</td>\n",
       "      <td>7684</td>\n",
       "      <td>2405</td>\n",
       "      <td>3516</td>\n",
       "      <td>7844</td>\n",
       "    </tr>\n",
       "    <tr>\n",
       "      <th>3</th>\n",
       "      <td>1</td>\n",
       "      <td>3</td>\n",
       "      <td>13265</td>\n",
       "      <td>1196</td>\n",
       "      <td>4221</td>\n",
       "      <td>6404</td>\n",
       "      <td>507</td>\n",
       "      <td>1788</td>\n",
       "    </tr>\n",
       "    <tr>\n",
       "      <th>4</th>\n",
       "      <td>2</td>\n",
       "      <td>3</td>\n",
       "      <td>22615</td>\n",
       "      <td>5410</td>\n",
       "      <td>7198</td>\n",
       "      <td>3915</td>\n",
       "      <td>1777</td>\n",
       "      <td>5185</td>\n",
       "    </tr>\n",
       "  </tbody>\n",
       "</table>\n",
       "</div>"
      ],
      "text/plain": [
       "   Channel  Region  Fresh  Milk  Grocery  Frozen  Detergents_Paper  Delicassen\n",
       "0        2       3  12669  9656     7561     214              2674        1338\n",
       "1        2       3   7057  9810     9568    1762              3293        1776\n",
       "2        2       3   6353  8808     7684    2405              3516        7844\n",
       "3        1       3  13265  1196     4221    6404               507        1788\n",
       "4        2       3  22615  5410     7198    3915              1777        5185"
      ]
     },
     "execution_count": 4,
     "metadata": {},
     "output_type": "execute_result"
    }
   ],
   "source": [
    "# loading the data:\n",
    "customers = pd.read_csv('../Wholesale customers data.csv')\n",
    "customers.head()"
   ]
  },
  {
   "cell_type": "markdown",
   "metadata": {},
   "source": [
    "#### Explore the dataset with mathematical and visualization techniques. What do you find?\n",
    "\n",
    "Checklist:\n",
    "\n",
    "* What does each column mean?\n",
    "* Any categorical data to convert?\n",
    "* Any missing data to remove?\n",
    "* Column collinearity - any high correlations?\n",
    "* Descriptive statistics - any outliers to remove?\n",
    "* Column-wise data distribution - is the distribution skewed?\n",
    "* Etc.\n",
    "\n",
    "Additional info: Over a century ago, an Italian economist named Vilfredo Pareto discovered that roughly 20% of the customers account for 80% of the typical retail sales. This is called the [Pareto principle](https://en.wikipedia.org/wiki/Pareto_principle). Check if this dataset displays this characteristic."
   ]
  },
  {
   "cell_type": "code",
   "execution_count": 6,
   "metadata": {},
   "outputs": [
    {
     "data": {
      "text/plain": [
       "(440, 8)"
      ]
     },
     "execution_count": 6,
     "metadata": {},
     "output_type": "execute_result"
    }
   ],
   "source": [
    "# Your code here:\n",
    "customers.shape"
   ]
  },
  {
   "cell_type": "code",
   "execution_count": 7,
   "metadata": {},
   "outputs": [
    {
     "data": {
      "text/plain": [
       "Channel             int64\n",
       "Region              int64\n",
       "Fresh               int64\n",
       "Milk                int64\n",
       "Grocery             int64\n",
       "Frozen              int64\n",
       "Detergents_Paper    int64\n",
       "Delicassen          int64\n",
       "dtype: object"
      ]
     },
     "execution_count": 7,
     "metadata": {},
     "output_type": "execute_result"
    }
   ],
   "source": [
    "customers.dtypes\n"
   ]
  },
  {
   "cell_type": "raw",
   "metadata": {},
   "source": [
    "customers.isna().sum()"
   ]
  },
  {
   "cell_type": "code",
   "execution_count": 12,
   "metadata": {},
   "outputs": [
    {
     "data": {
      "text/html": [
       "<style  type=\"text/css\" >\n",
       "#T_e3a7534f_5d88_11eb_b4ac_d2569fa1abe8row0_col0,#T_e3a7534f_5d88_11eb_b4ac_d2569fa1abe8row1_col1,#T_e3a7534f_5d88_11eb_b4ac_d2569fa1abe8row2_col2,#T_e3a7534f_5d88_11eb_b4ac_d2569fa1abe8row3_col3,#T_e3a7534f_5d88_11eb_b4ac_d2569fa1abe8row4_col4,#T_e3a7534f_5d88_11eb_b4ac_d2569fa1abe8row5_col5,#T_e3a7534f_5d88_11eb_b4ac_d2569fa1abe8row6_col6,#T_e3a7534f_5d88_11eb_b4ac_d2569fa1abe8row7_col7{\n",
       "            background-color:  #023858;\n",
       "            color:  #f1f1f1;\n",
       "        }#T_e3a7534f_5d88_11eb_b4ac_d2569fa1abe8row0_col1{\n",
       "            background-color:  #f3edf5;\n",
       "            color:  #000000;\n",
       "        }#T_e3a7534f_5d88_11eb_b4ac_d2569fa1abe8row0_col2,#T_e3a7534f_5d88_11eb_b4ac_d2569fa1abe8row0_col5,#T_e3a7534f_5d88_11eb_b4ac_d2569fa1abe8row1_col3,#T_e3a7534f_5d88_11eb_b4ac_d2569fa1abe8row1_col7,#T_e3a7534f_5d88_11eb_b4ac_d2569fa1abe8row5_col0,#T_e3a7534f_5d88_11eb_b4ac_d2569fa1abe8row5_col1,#T_e3a7534f_5d88_11eb_b4ac_d2569fa1abe8row5_col4,#T_e3a7534f_5d88_11eb_b4ac_d2569fa1abe8row5_col6{\n",
       "            background-color:  #fff7fb;\n",
       "            color:  #000000;\n",
       "        }#T_e3a7534f_5d88_11eb_b4ac_d2569fa1abe8row0_col3{\n",
       "            background-color:  #8bb2d4;\n",
       "            color:  #000000;\n",
       "        }#T_e3a7534f_5d88_11eb_b4ac_d2569fa1abe8row0_col4{\n",
       "            background-color:  #3790c0;\n",
       "            color:  #000000;\n",
       "        }#T_e3a7534f_5d88_11eb_b4ac_d2569fa1abe8row0_col6{\n",
       "            background-color:  #2182b9;\n",
       "            color:  #000000;\n",
       "        }#T_e3a7534f_5d88_11eb_b4ac_d2569fa1abe8row0_col7{\n",
       "            background-color:  #fef6fa;\n",
       "            color:  #000000;\n",
       "        }#T_e3a7534f_5d88_11eb_b4ac_d2569fa1abe8row1_col0{\n",
       "            background-color:  #d7d6e9;\n",
       "            color:  #000000;\n",
       "        }#T_e3a7534f_5d88_11eb_b4ac_d2569fa1abe8row1_col2{\n",
       "            background-color:  #dddbec;\n",
       "            color:  #000000;\n",
       "        }#T_e3a7534f_5d88_11eb_b4ac_d2569fa1abe8row1_col4{\n",
       "            background-color:  #f8f1f8;\n",
       "            color:  #000000;\n",
       "        }#T_e3a7534f_5d88_11eb_b4ac_d2569fa1abe8row1_col5{\n",
       "            background-color:  #e7e3f0;\n",
       "            color:  #000000;\n",
       "        }#T_e3a7534f_5d88_11eb_b4ac_d2569fa1abe8row1_col6{\n",
       "            background-color:  #eee8f3;\n",
       "            color:  #000000;\n",
       "        }#T_e3a7534f_5d88_11eb_b4ac_d2569fa1abe8row2_col0,#T_e3a7534f_5d88_11eb_b4ac_d2569fa1abe8row4_col1{\n",
       "            background-color:  #fbf3f9;\n",
       "            color:  #000000;\n",
       "        }#T_e3a7534f_5d88_11eb_b4ac_d2569fa1abe8row2_col1{\n",
       "            background-color:  #f4edf6;\n",
       "            color:  #000000;\n",
       "        }#T_e3a7534f_5d88_11eb_b4ac_d2569fa1abe8row2_col3{\n",
       "            background-color:  #f4eef6;\n",
       "            color:  #000000;\n",
       "        }#T_e3a7534f_5d88_11eb_b4ac_d2569fa1abe8row2_col4,#T_e3a7534f_5d88_11eb_b4ac_d2569fa1abe8row2_col6,#T_e3a7534f_5d88_11eb_b4ac_d2569fa1abe8row6_col7{\n",
       "            background-color:  #fbf4f9;\n",
       "            color:  #000000;\n",
       "        }#T_e3a7534f_5d88_11eb_b4ac_d2569fa1abe8row2_col5{\n",
       "            background-color:  #86b0d3;\n",
       "            color:  #000000;\n",
       "        }#T_e3a7534f_5d88_11eb_b4ac_d2569fa1abe8row2_col7,#T_e3a7534f_5d88_11eb_b4ac_d2569fa1abe8row7_col0{\n",
       "            background-color:  #d9d8ea;\n",
       "            color:  #000000;\n",
       "        }#T_e3a7534f_5d88_11eb_b4ac_d2569fa1abe8row3_col0{\n",
       "            background-color:  #5a9ec9;\n",
       "            color:  #000000;\n",
       "        }#T_e3a7534f_5d88_11eb_b4ac_d2569fa1abe8row3_col1,#T_e3a7534f_5d88_11eb_b4ac_d2569fa1abe8row6_col2{\n",
       "            background-color:  #f7f0f7;\n",
       "            color:  #000000;\n",
       "        }#T_e3a7534f_5d88_11eb_b4ac_d2569fa1abe8row3_col2{\n",
       "            background-color:  #d4d4e8;\n",
       "            color:  #000000;\n",
       "        }#T_e3a7534f_5d88_11eb_b4ac_d2569fa1abe8row3_col4{\n",
       "            background-color:  #0872b1;\n",
       "            color:  #f1f1f1;\n",
       "        }#T_e3a7534f_5d88_11eb_b4ac_d2569fa1abe8row3_col5{\n",
       "            background-color:  #c9cee4;\n",
       "            color:  #000000;\n",
       "        }#T_e3a7534f_5d88_11eb_b4ac_d2569fa1abe8row3_col6{\n",
       "            background-color:  #187cb6;\n",
       "            color:  #000000;\n",
       "        }#T_e3a7534f_5d88_11eb_b4ac_d2569fa1abe8row3_col7{\n",
       "            background-color:  #a5bddb;\n",
       "            color:  #000000;\n",
       "        }#T_e3a7534f_5d88_11eb_b4ac_d2569fa1abe8row4_col0{\n",
       "            background-color:  #2383ba;\n",
       "            color:  #000000;\n",
       "        }#T_e3a7534f_5d88_11eb_b4ac_d2569fa1abe8row4_col2,#T_e3a7534f_5d88_11eb_b4ac_d2569fa1abe8row4_col5{\n",
       "            background-color:  #eae6f1;\n",
       "            color:  #000000;\n",
       "        }#T_e3a7534f_5d88_11eb_b4ac_d2569fa1abe8row4_col3{\n",
       "            background-color:  #1077b4;\n",
       "            color:  #f1f1f1;\n",
       "        }#T_e3a7534f_5d88_11eb_b4ac_d2569fa1abe8row4_col6{\n",
       "            background-color:  #034a74;\n",
       "            color:  #f1f1f1;\n",
       "        }#T_e3a7534f_5d88_11eb_b4ac_d2569fa1abe8row4_col7{\n",
       "            background-color:  #e3e0ee;\n",
       "            color:  #000000;\n",
       "        }#T_e3a7534f_5d88_11eb_b4ac_d2569fa1abe8row5_col2{\n",
       "            background-color:  #8cb3d5;\n",
       "            color:  #000000;\n",
       "        }#T_e3a7534f_5d88_11eb_b4ac_d2569fa1abe8row5_col3{\n",
       "            background-color:  #f1ebf4;\n",
       "            color:  #000000;\n",
       "        }#T_e3a7534f_5d88_11eb_b4ac_d2569fa1abe8row5_col7{\n",
       "            background-color:  #abbfdc;\n",
       "            color:  #000000;\n",
       "        }#T_e3a7534f_5d88_11eb_b4ac_d2569fa1abe8row6_col0{\n",
       "            background-color:  #197db7;\n",
       "            color:  #000000;\n",
       "        }#T_e3a7534f_5d88_11eb_b4ac_d2569fa1abe8row6_col1{\n",
       "            background-color:  #fdf5fa;\n",
       "            color:  #000000;\n",
       "        }#T_e3a7534f_5d88_11eb_b4ac_d2569fa1abe8row6_col3{\n",
       "            background-color:  #2c89bd;\n",
       "            color:  #000000;\n",
       "        }#T_e3a7534f_5d88_11eb_b4ac_d2569fa1abe8row6_col4{\n",
       "            background-color:  #034b76;\n",
       "            color:  #f1f1f1;\n",
       "        }#T_e3a7534f_5d88_11eb_b4ac_d2569fa1abe8row6_col5{\n",
       "            background-color:  #f6eff7;\n",
       "            color:  #000000;\n",
       "        }#T_e3a7534f_5d88_11eb_b4ac_d2569fa1abe8row7_col1{\n",
       "            background-color:  #f5eff6;\n",
       "            color:  #000000;\n",
       "        }#T_e3a7534f_5d88_11eb_b4ac_d2569fa1abe8row7_col2{\n",
       "            background-color:  #adc1dd;\n",
       "            color:  #000000;\n",
       "        }#T_e3a7534f_5d88_11eb_b4ac_d2569fa1abe8row7_col3{\n",
       "            background-color:  #a2bcda;\n",
       "            color:  #000000;\n",
       "        }#T_e3a7534f_5d88_11eb_b4ac_d2569fa1abe8row7_col4{\n",
       "            background-color:  #d3d4e7;\n",
       "            color:  #000000;\n",
       "        }#T_e3a7534f_5d88_11eb_b4ac_d2569fa1abe8row7_col5{\n",
       "            background-color:  #76aad0;\n",
       "            color:  #000000;\n",
       "        }#T_e3a7534f_5d88_11eb_b4ac_d2569fa1abe8row7_col6{\n",
       "            background-color:  #e0deed;\n",
       "            color:  #000000;\n",
       "        }</style><table id=\"T_e3a7534f_5d88_11eb_b4ac_d2569fa1abe8\" ><thead>    <tr>        <th class=\"blank level0\" ></th>        <th class=\"col_heading level0 col0\" >Channel</th>        <th class=\"col_heading level0 col1\" >Region</th>        <th class=\"col_heading level0 col2\" >Fresh</th>        <th class=\"col_heading level0 col3\" >Milk</th>        <th class=\"col_heading level0 col4\" >Grocery</th>        <th class=\"col_heading level0 col5\" >Frozen</th>        <th class=\"col_heading level0 col6\" >Detergents_Paper</th>        <th class=\"col_heading level0 col7\" >Delicassen</th>    </tr></thead><tbody>\n",
       "                <tr>\n",
       "                        <th id=\"T_e3a7534f_5d88_11eb_b4ac_d2569fa1abe8level0_row0\" class=\"row_heading level0 row0\" >Channel</th>\n",
       "                        <td id=\"T_e3a7534f_5d88_11eb_b4ac_d2569fa1abe8row0_col0\" class=\"data row0 col0\" >1.000000</td>\n",
       "                        <td id=\"T_e3a7534f_5d88_11eb_b4ac_d2569fa1abe8row0_col1\" class=\"data row0 col1\" >0.062028</td>\n",
       "                        <td id=\"T_e3a7534f_5d88_11eb_b4ac_d2569fa1abe8row0_col2\" class=\"data row0 col2\" >-0.169172</td>\n",
       "                        <td id=\"T_e3a7534f_5d88_11eb_b4ac_d2569fa1abe8row0_col3\" class=\"data row0 col3\" >0.460720</td>\n",
       "                        <td id=\"T_e3a7534f_5d88_11eb_b4ac_d2569fa1abe8row0_col4\" class=\"data row0 col4\" >0.608792</td>\n",
       "                        <td id=\"T_e3a7534f_5d88_11eb_b4ac_d2569fa1abe8row0_col5\" class=\"data row0 col5\" >-0.202046</td>\n",
       "                        <td id=\"T_e3a7534f_5d88_11eb_b4ac_d2569fa1abe8row0_col6\" class=\"data row0 col6\" >0.636026</td>\n",
       "                        <td id=\"T_e3a7534f_5d88_11eb_b4ac_d2569fa1abe8row0_col7\" class=\"data row0 col7\" >0.056011</td>\n",
       "            </tr>\n",
       "            <tr>\n",
       "                        <th id=\"T_e3a7534f_5d88_11eb_b4ac_d2569fa1abe8level0_row1\" class=\"row_heading level0 row1\" >Region</th>\n",
       "                        <td id=\"T_e3a7534f_5d88_11eb_b4ac_d2569fa1abe8row1_col0\" class=\"data row1 col0\" >0.062028</td>\n",
       "                        <td id=\"T_e3a7534f_5d88_11eb_b4ac_d2569fa1abe8row1_col1\" class=\"data row1 col1\" >1.000000</td>\n",
       "                        <td id=\"T_e3a7534f_5d88_11eb_b4ac_d2569fa1abe8row1_col2\" class=\"data row1 col2\" >0.055287</td>\n",
       "                        <td id=\"T_e3a7534f_5d88_11eb_b4ac_d2569fa1abe8row1_col3\" class=\"data row1 col3\" >0.032288</td>\n",
       "                        <td id=\"T_e3a7534f_5d88_11eb_b4ac_d2569fa1abe8row1_col4\" class=\"data row1 col4\" >0.007696</td>\n",
       "                        <td id=\"T_e3a7534f_5d88_11eb_b4ac_d2569fa1abe8row1_col5\" class=\"data row1 col5\" >-0.021044</td>\n",
       "                        <td id=\"T_e3a7534f_5d88_11eb_b4ac_d2569fa1abe8row1_col6\" class=\"data row1 col6\" >-0.001483</td>\n",
       "                        <td id=\"T_e3a7534f_5d88_11eb_b4ac_d2569fa1abe8row1_col7\" class=\"data row1 col7\" >0.045212</td>\n",
       "            </tr>\n",
       "            <tr>\n",
       "                        <th id=\"T_e3a7534f_5d88_11eb_b4ac_d2569fa1abe8level0_row2\" class=\"row_heading level0 row2\" >Fresh</th>\n",
       "                        <td id=\"T_e3a7534f_5d88_11eb_b4ac_d2569fa1abe8row2_col0\" class=\"data row2 col0\" >-0.169172</td>\n",
       "                        <td id=\"T_e3a7534f_5d88_11eb_b4ac_d2569fa1abe8row2_col1\" class=\"data row2 col1\" >0.055287</td>\n",
       "                        <td id=\"T_e3a7534f_5d88_11eb_b4ac_d2569fa1abe8row2_col2\" class=\"data row2 col2\" >1.000000</td>\n",
       "                        <td id=\"T_e3a7534f_5d88_11eb_b4ac_d2569fa1abe8row2_col3\" class=\"data row2 col3\" >0.100510</td>\n",
       "                        <td id=\"T_e3a7534f_5d88_11eb_b4ac_d2569fa1abe8row2_col4\" class=\"data row2 col4\" >-0.011854</td>\n",
       "                        <td id=\"T_e3a7534f_5d88_11eb_b4ac_d2569fa1abe8row2_col5\" class=\"data row2 col5\" >0.345881</td>\n",
       "                        <td id=\"T_e3a7534f_5d88_11eb_b4ac_d2569fa1abe8row2_col6\" class=\"data row2 col6\" >-0.101953</td>\n",
       "                        <td id=\"T_e3a7534f_5d88_11eb_b4ac_d2569fa1abe8row2_col7\" class=\"data row2 col7\" >0.244690</td>\n",
       "            </tr>\n",
       "            <tr>\n",
       "                        <th id=\"T_e3a7534f_5d88_11eb_b4ac_d2569fa1abe8level0_row3\" class=\"row_heading level0 row3\" >Milk</th>\n",
       "                        <td id=\"T_e3a7534f_5d88_11eb_b4ac_d2569fa1abe8row3_col0\" class=\"data row3 col0\" >0.460720</td>\n",
       "                        <td id=\"T_e3a7534f_5d88_11eb_b4ac_d2569fa1abe8row3_col1\" class=\"data row3 col1\" >0.032288</td>\n",
       "                        <td id=\"T_e3a7534f_5d88_11eb_b4ac_d2569fa1abe8row3_col2\" class=\"data row3 col2\" >0.100510</td>\n",
       "                        <td id=\"T_e3a7534f_5d88_11eb_b4ac_d2569fa1abe8row3_col3\" class=\"data row3 col3\" >1.000000</td>\n",
       "                        <td id=\"T_e3a7534f_5d88_11eb_b4ac_d2569fa1abe8row3_col4\" class=\"data row3 col4\" >0.728335</td>\n",
       "                        <td id=\"T_e3a7534f_5d88_11eb_b4ac_d2569fa1abe8row3_col5\" class=\"data row3 col5\" >0.123994</td>\n",
       "                        <td id=\"T_e3a7534f_5d88_11eb_b4ac_d2569fa1abe8row3_col6\" class=\"data row3 col6\" >0.661816</td>\n",
       "                        <td id=\"T_e3a7534f_5d88_11eb_b4ac_d2569fa1abe8row3_col7\" class=\"data row3 col7\" >0.406368</td>\n",
       "            </tr>\n",
       "            <tr>\n",
       "                        <th id=\"T_e3a7534f_5d88_11eb_b4ac_d2569fa1abe8level0_row4\" class=\"row_heading level0 row4\" >Grocery</th>\n",
       "                        <td id=\"T_e3a7534f_5d88_11eb_b4ac_d2569fa1abe8row4_col0\" class=\"data row4 col0\" >0.608792</td>\n",
       "                        <td id=\"T_e3a7534f_5d88_11eb_b4ac_d2569fa1abe8row4_col1\" class=\"data row4 col1\" >0.007696</td>\n",
       "                        <td id=\"T_e3a7534f_5d88_11eb_b4ac_d2569fa1abe8row4_col2\" class=\"data row4 col2\" >-0.011854</td>\n",
       "                        <td id=\"T_e3a7534f_5d88_11eb_b4ac_d2569fa1abe8row4_col3\" class=\"data row4 col3\" >0.728335</td>\n",
       "                        <td id=\"T_e3a7534f_5d88_11eb_b4ac_d2569fa1abe8row4_col4\" class=\"data row4 col4\" >1.000000</td>\n",
       "                        <td id=\"T_e3a7534f_5d88_11eb_b4ac_d2569fa1abe8row4_col5\" class=\"data row4 col5\" >-0.040193</td>\n",
       "                        <td id=\"T_e3a7534f_5d88_11eb_b4ac_d2569fa1abe8row4_col6\" class=\"data row4 col6\" >0.924641</td>\n",
       "                        <td id=\"T_e3a7534f_5d88_11eb_b4ac_d2569fa1abe8row4_col7\" class=\"data row4 col7\" >0.205497</td>\n",
       "            </tr>\n",
       "            <tr>\n",
       "                        <th id=\"T_e3a7534f_5d88_11eb_b4ac_d2569fa1abe8level0_row5\" class=\"row_heading level0 row5\" >Frozen</th>\n",
       "                        <td id=\"T_e3a7534f_5d88_11eb_b4ac_d2569fa1abe8row5_col0\" class=\"data row5 col0\" >-0.202046</td>\n",
       "                        <td id=\"T_e3a7534f_5d88_11eb_b4ac_d2569fa1abe8row5_col1\" class=\"data row5 col1\" >-0.021044</td>\n",
       "                        <td id=\"T_e3a7534f_5d88_11eb_b4ac_d2569fa1abe8row5_col2\" class=\"data row5 col2\" >0.345881</td>\n",
       "                        <td id=\"T_e3a7534f_5d88_11eb_b4ac_d2569fa1abe8row5_col3\" class=\"data row5 col3\" >0.123994</td>\n",
       "                        <td id=\"T_e3a7534f_5d88_11eb_b4ac_d2569fa1abe8row5_col4\" class=\"data row5 col4\" >-0.040193</td>\n",
       "                        <td id=\"T_e3a7534f_5d88_11eb_b4ac_d2569fa1abe8row5_col5\" class=\"data row5 col5\" >1.000000</td>\n",
       "                        <td id=\"T_e3a7534f_5d88_11eb_b4ac_d2569fa1abe8row5_col6\" class=\"data row5 col6\" >-0.131525</td>\n",
       "                        <td id=\"T_e3a7534f_5d88_11eb_b4ac_d2569fa1abe8row5_col7\" class=\"data row5 col7\" >0.390947</td>\n",
       "            </tr>\n",
       "            <tr>\n",
       "                        <th id=\"T_e3a7534f_5d88_11eb_b4ac_d2569fa1abe8level0_row6\" class=\"row_heading level0 row6\" >Detergents_Paper</th>\n",
       "                        <td id=\"T_e3a7534f_5d88_11eb_b4ac_d2569fa1abe8row6_col0\" class=\"data row6 col0\" >0.636026</td>\n",
       "                        <td id=\"T_e3a7534f_5d88_11eb_b4ac_d2569fa1abe8row6_col1\" class=\"data row6 col1\" >-0.001483</td>\n",
       "                        <td id=\"T_e3a7534f_5d88_11eb_b4ac_d2569fa1abe8row6_col2\" class=\"data row6 col2\" >-0.101953</td>\n",
       "                        <td id=\"T_e3a7534f_5d88_11eb_b4ac_d2569fa1abe8row6_col3\" class=\"data row6 col3\" >0.661816</td>\n",
       "                        <td id=\"T_e3a7534f_5d88_11eb_b4ac_d2569fa1abe8row6_col4\" class=\"data row6 col4\" >0.924641</td>\n",
       "                        <td id=\"T_e3a7534f_5d88_11eb_b4ac_d2569fa1abe8row6_col5\" class=\"data row6 col5\" >-0.131525</td>\n",
       "                        <td id=\"T_e3a7534f_5d88_11eb_b4ac_d2569fa1abe8row6_col6\" class=\"data row6 col6\" >1.000000</td>\n",
       "                        <td id=\"T_e3a7534f_5d88_11eb_b4ac_d2569fa1abe8row6_col7\" class=\"data row6 col7\" >0.069291</td>\n",
       "            </tr>\n",
       "            <tr>\n",
       "                        <th id=\"T_e3a7534f_5d88_11eb_b4ac_d2569fa1abe8level0_row7\" class=\"row_heading level0 row7\" >Delicassen</th>\n",
       "                        <td id=\"T_e3a7534f_5d88_11eb_b4ac_d2569fa1abe8row7_col0\" class=\"data row7 col0\" >0.056011</td>\n",
       "                        <td id=\"T_e3a7534f_5d88_11eb_b4ac_d2569fa1abe8row7_col1\" class=\"data row7 col1\" >0.045212</td>\n",
       "                        <td id=\"T_e3a7534f_5d88_11eb_b4ac_d2569fa1abe8row7_col2\" class=\"data row7 col2\" >0.244690</td>\n",
       "                        <td id=\"T_e3a7534f_5d88_11eb_b4ac_d2569fa1abe8row7_col3\" class=\"data row7 col3\" >0.406368</td>\n",
       "                        <td id=\"T_e3a7534f_5d88_11eb_b4ac_d2569fa1abe8row7_col4\" class=\"data row7 col4\" >0.205497</td>\n",
       "                        <td id=\"T_e3a7534f_5d88_11eb_b4ac_d2569fa1abe8row7_col5\" class=\"data row7 col5\" >0.390947</td>\n",
       "                        <td id=\"T_e3a7534f_5d88_11eb_b4ac_d2569fa1abe8row7_col6\" class=\"data row7 col6\" >0.069291</td>\n",
       "                        <td id=\"T_e3a7534f_5d88_11eb_b4ac_d2569fa1abe8row7_col7\" class=\"data row7 col7\" >1.000000</td>\n",
       "            </tr>\n",
       "    </tbody></table>"
      ],
      "text/plain": [
       "<pandas.io.formats.style.Styler at 0x25dbd5882b0>"
      ]
     },
     "execution_count": 12,
     "metadata": {},
     "output_type": "execute_result"
    }
   ],
   "source": [
    "# Build correlation matrix\n",
    "customer_corr = customers.corr()\n",
    "customer_corr.style.background_gradient(cmap='PuBu')"
   ]
  },
  {
   "cell_type": "code",
   "execution_count": 14,
   "metadata": {},
   "outputs": [
    {
     "data": {
      "image/png": "[encoded data removed]",
      "text/plain": [
       "<Figure size 1080x1080 with 2 Axes>"
      ]
     },
     "metadata": {
      "needs_background": "light"
     },
     "output_type": "display_data"
    }
   ],
   "source": [
    "# Build correlation matrix using heatmap\n",
    "import seaborn as sns\n",
    "\n",
    "customer_corr = customers.corr()\n",
    "f, ax = plt.subplots(figsize=(15, 15))\n",
    "mask = np.triu(np.ones_like(customer_corr, dtype=bool)) # removing the other side of the heatmap\n",
    "cmap = sns.diverging_palette(230, 20, as_cmap=True) #preparing cmap\n",
    "sns.heatmap(customer_corr,mask=mask,cmap=cmap,linewidths=.5,square=True,annot=True)\n",
    "plt.show()"
   ]
  },
  {
   "cell_type": "code",
   "execution_count": null,
   "metadata": {},
   "outputs": [],
   "source": [
    "# Your observations here"
   ]
  },
  {
   "cell_type": "markdown",
   "metadata": {},
   "source": [
    "# Challenge 2 - Data Cleaning and Transformation\n",
    "\n",
    "If your conclusion from the previous challenge is the data need cleaning/transformation, do it in the cells below. However, if your conclusion is the data need not be cleaned or transformed, feel free to skip this challenge. But if you do choose the latter, please provide rationale."
   ]
  },
  {
   "cell_type": "code",
   "execution_count": null,
   "metadata": {},
   "outputs": [],
   "source": [
    "# Your code here"
   ]
  },
  {
   "cell_type": "code",
   "execution_count": null,
   "metadata": {},
   "outputs": [],
   "source": [
    "# Your comment here"
   ]
  },
  {
   "cell_type": "markdown",
   "metadata": {},
   "source": [
    "# Challenge 3 - Data Preprocessing\n",
    "\n",
    "One problem with the dataset is the value ranges are remarkably different across various categories (e.g. `Fresh` and `Grocery` compared to `Detergents_Paper` and `Delicassen`). If you made this observation in the first challenge, you've done a great job! This means you not only completed the bonus questions in the previous Supervised Learning lab but also researched deep into [*feature scaling*](https://en.wikipedia.org/wiki/Feature_scaling). Keep on the good work!\n",
    "\n",
    "Diverse value ranges in different features could cause issues in our clustering. The way to reduce the problem is through feature scaling. We'll use this technique again with this dataset.\n",
    "\n",
    "#### We will use the `StandardScaler` from `sklearn.preprocessing` and scale our data. Read more about `StandardScaler` [here](https://scikit-learn.org/stable/modules/generated/sklearn.preprocessing.StandardScaler.html#sklearn.preprocessing.StandardScaler).\n",
    "\n",
    "*After scaling your data, assign the transformed data to a new variable `customers_scale`.*"
   ]
  },
  {
   "cell_type": "code",
   "execution_count": null,
   "metadata": {},
   "outputs": [],
   "source": [
    "# Your import here:\n",
    "\n",
    "from sklearn.preprocessing import StandardScaler\n",
    "\n",
    "# Your code here:\n"
   ]
  },
  {
   "cell_type": "markdown",
   "metadata": {},
   "source": [
    "# Challenge 3 - Data Clustering with K-Means\n",
    "\n",
    "Now let's cluster the data with K-Means first. Initiate the K-Means model, then fit your scaled data. In the data returned from the `.fit` method, there is an attribute called `labels_` which is the cluster number assigned to each data record. What you can do is to assign these labels back to `customers` in a new column called `customers['labels']`. Then you'll see the cluster results of the original data."
   ]
  },
  {
   "cell_type": "code",
   "execution_count": null,
   "metadata": {
    "scrolled": true
   },
   "outputs": [],
   "source": [
    "# Your code here:\n"
   ]
  },
  {
   "cell_type": "markdown",
   "metadata": {},
   "source": [
    "Count the values in `labels`."
   ]
  },
  {
   "cell_type": "code",
   "execution_count": null,
   "metadata": {},
   "outputs": [],
   "source": [
    "# Your code here:\n"
   ]
  },
  {
   "cell_type": "markdown",
   "metadata": {},
   "source": [
    "# Challenge 4 - Data Clustering with DBSCAN\n",
    "\n",
    "Now let's cluster the data using DBSCAN. Use `DBSCAN(eps=0.5)` to initiate the model, then fit your scaled data. In the data returned from the `.fit` method, assign the `labels_` back to `customers['labels_DBSCAN']`. Now your original data have two labels, one from K-Means and the other from DBSCAN."
   ]
  },
  {
   "cell_type": "code",
   "execution_count": null,
   "metadata": {
    "scrolled": true
   },
   "outputs": [],
   "source": [
    "# Your code here\n"
   ]
  },
  {
   "cell_type": "markdown",
   "metadata": {},
   "source": [
    "Count the values in `labels_DBSCAN`."
   ]
  },
  {
   "cell_type": "code",
   "execution_count": null,
   "metadata": {},
   "outputs": [],
   "source": [
    "# Your code here\n"
   ]
  },
  {
   "cell_type": "markdown",
   "metadata": {},
   "source": [
    "# Challenge 5 - Compare K-Means with DBSCAN\n",
    "\n",
    "Now we want to visually compare how K-Means and DBSCAN have clustered our data. We will create scatter plots for several columns. For each of the following column pairs, plot a scatter plot using `labels` and another using `labels_DBSCAN`. Put them side by side to compare. Which clustering algorithm makes better sense?\n",
    "\n",
    "Columns to visualize:\n",
    "\n",
    "* `Detergents_Paper` as X and `Milk` as y\n",
    "* `Grocery` as X and `Fresh` as y\n",
    "* `Frozen` as X and `Delicassen` as y"
   ]
  },
  {
   "cell_type": "markdown",
   "metadata": {},
   "source": [
    "Visualize `Detergents_Paper` as X and `Milk` as y by `labels` and `labels_DBSCAN` respectively"
   ]
  },
  {
   "cell_type": "code",
   "execution_count": null,
   "metadata": {},
   "outputs": [],
   "source": [
    "# Your code here:\n"
   ]
  },
  {
   "cell_type": "markdown",
   "metadata": {},
   "source": [
    "Visualize `Grocery` as X and `Fresh` as y by `labels` and `labels_DBSCAN` respectively"
   ]
  },
  {
   "cell_type": "code",
   "execution_count": null,
   "metadata": {},
   "outputs": [],
   "source": [
    "# Your code here:\n"
   ]
  },
  {
   "cell_type": "markdown",
   "metadata": {},
   "source": [
    "Visualize `Frozen` as X and `Delicassen` as y by `labels` and `labels_DBSCAN` respectively"
   ]
  },
  {
   "cell_type": "code",
   "execution_count": null,
   "metadata": {},
   "outputs": [],
   "source": [
    "# Your code here:"
   ]
  },
  {
   "cell_type": "markdown",
   "metadata": {},
   "source": [
    "Let's use a groupby to see how the mean differs between the groups. Group `customers` by `labels` and `labels_DBSCAN` respectively and compute the means for all columns."
   ]
  },
  {
   "cell_type": "code",
   "execution_count": null,
   "metadata": {},
   "outputs": [],
   "source": [
    "# Your code here:\n"
   ]
  },
  {
   "cell_type": "markdown",
   "metadata": {},
   "source": [
    "Which algorithm appears to perform better?"
   ]
  },
  {
   "cell_type": "code",
   "execution_count": null,
   "metadata": {},
   "outputs": [],
   "source": [
    "# Your observations here"
   ]
  },
  {
   "cell_type": "markdown",
   "metadata": {},
   "source": [
    "# Bonus Challenge 2 - Changing K-Means Number of Clusters\n",
    "\n",
    "As we mentioned earlier, we don't need to worry about the number of clusters with DBSCAN because it automatically decides that based on the parameters we send to it. But with K-Means, we have to supply the `n_clusters` param (if you don't supply `n_clusters`, the algorithm will use `8` by default). You need to know that the optimal number of clusters differs case by case based on the dataset. K-Means can perform badly if the wrong number of clusters is used.\n",
    "\n",
    "In advanced machine learning, data scientists try different numbers of clusters and evaluate the results with statistical measures (read [here](https://en.wikipedia.org/wiki/Cluster_analysis#External_evaluation)). We are not using statistical measures today but we'll use our eyes instead. In the cells below, experiment with different number of clusters and visualize with scatter plots. What number of clusters seems to work best for K-Means?"
   ]
  },
  {
   "cell_type": "code",
   "execution_count": null,
   "metadata": {},
   "outputs": [],
   "source": [
    "# Your code here"
   ]
  },
  {
   "cell_type": "code",
   "execution_count": null,
   "metadata": {},
   "outputs": [],
   "source": [
    "# Your comment here"
   ]
  },
  {
   "cell_type": "markdown",
   "metadata": {},
   "source": [
    "# Bonus Challenge 3 - Changing DBSCAN `eps` and `min_samples`\n",
    "\n",
    "Experiment changing the `eps` and `min_samples` params for DBSCAN. See how the results differ with scatter plot visualization."
   ]
  },
  {
   "cell_type": "code",
   "execution_count": null,
   "metadata": {},
   "outputs": [],
   "source": [
    "# Your code here"
   ]
  },
  {
   "cell_type": "code",
   "execution_count": null,
   "metadata": {},
   "outputs": [],
   "source": [
    "# Your comment here"
   ]
  }
 ],
 "metadata": {
  "kernelspec": {
   "display_name": "Python 3",
   "language": "python",
   "name": "python3"
  },
  "language_info": {
   "codemirror_mode": {
    "name": "ipython",
    "version": 3
   },
   "file_extension": ".py",
   "mimetype": "text/x-python",
   "name": "python",
   "nbconvert_exporter": "python",
   "pygments_lexer": "ipython3",
   "version": "3.8.5"
  }
 },
 "nbformat": 4,
 "nbformat_minor": 2
}
