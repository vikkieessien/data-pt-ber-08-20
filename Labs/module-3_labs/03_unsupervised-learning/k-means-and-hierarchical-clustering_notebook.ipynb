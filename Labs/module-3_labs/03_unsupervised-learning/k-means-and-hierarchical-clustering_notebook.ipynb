{
 "cells": [
  {
   "cell_type": "code",
   "execution_count": null,
   "metadata": {
    "_cell_guid": "b1076dfc-b9ad-4769-8c92-a6c4dae69d19",
    "_uuid": "8f2839f25d086af736a60e9eeb907d3b93b6e0e5"
   },
   "outputs": [],
   "source": [
    "# This Python 3 environment comes with many helpful analytics libraries installed\n",
    "# It is defined by the kaggle/python Docker image: https://github.com/kaggle/docker-python\n",
    "# For example, here's several helpful packages to load\n",
    "\n",
    "import numpy as np # linear algebra\n",
    "import pandas as pd # data processing, CSV file I/O (e.g. pd.read_csv)\n",
    "\n",
    "# Input data files are available in the read-only \"../input/\" directory\n",
    "# For example, running this (by clicking run or pressing Shift+Enter) will list all files under the input directory\n",
    "\n",
    "import os\n",
    "for dirname, _, filenames in os.walk('/kaggle/input'):\n",
    "    for filename in filenames:\n",
    "        print(os.path.join(dirname, filename))\n",
    "\n",
    "# You can write up to 20GB to the current directory (/kaggle/working/) that gets preserved as output when you create a version using \"Save & Run All\" \n",
    "# You can also write temporary files to /kaggle/temp/, but they won't be saved outside of the current session"
   ]
  },
  {
   "cell_type": "markdown",
   "metadata": {},
   "source": [
    "In in this notebook I will going to cluster the countries by using unsupervised learning.I am going to use two techniques here first one is **K-means clustering** and the second one is **Hierarchical clustering**\n",
    "\n",
    "The motive of clustering the countries here is to help international NGOs to decide how much money they need to spend on different countries for their development\n",
    "\n",
    "In last I am going to make a list of under-developing,developing and developed countries by doing some analysis"
   ]
  },
  {
   "cell_type": "code",
   "execution_count": null,
   "metadata": {},
   "outputs": [],
   "source": [
    "# import libraries\n",
    "\n",
    "import pandas as pd\n",
    "import matplotlib.pyplot as plt\n",
    "import seaborn as sns\n",
    "from sklearn import metrics\n",
    "from sklearn.cluster import KMeans\n",
    "from sklearn.preprocessing import StandardScaler\n",
    "import scipy.cluster.hierarchy as hcluster\n",
    "from sklearn.cluster import AgglomerativeClustering"
   ]
  },
  {
   "cell_type": "code",
   "execution_count": null,
   "metadata": {},
   "outputs": [],
   "source": [
    "# path \n",
    "data_dict_path = '../input/unsupervised-learning-on-country-data/data-dictionary.csv'\n",
    "country_path = '../input/unsupervised-learning-on-country-data/Country-data.csv'"
   ]
  },
  {
   "cell_type": "code",
   "execution_count": null,
   "metadata": {},
   "outputs": [],
   "source": [
    "# read csv files\n",
    "dict_df = pd.read_csv(data_dict_path)\n",
    "df = pd.read_csv(country_path)"
   ]
  },
  {
   "cell_type": "code",
   "execution_count": null,
   "metadata": {},
   "outputs": [],
   "source": [
    "# first few rows of dictionary dataset\n",
    "dict_df.head()"
   ]
  },
  {
   "cell_type": "code",
   "execution_count": null,
   "metadata": {},
   "outputs": [],
   "source": [
    "# first few rows of countrty dataset\n",
    "df.head()"
   ]
  },
  {
   "cell_type": "code",
   "execution_count": null,
   "metadata": {},
   "outputs": [],
   "source": [
    "# shape of dataset\n",
    "df.shape"
   ]
  },
  {
   "cell_type": "code",
   "execution_count": null,
   "metadata": {},
   "outputs": [],
   "source": [
    "#some basic info\n",
    "df.info()\n",
    "print(50*'-')\n",
    "dict_df.info()"
   ]
  },
  {
   "cell_type": "code",
   "execution_count": null,
   "metadata": {},
   "outputs": [],
   "source": [
    "#some basic statistical data\n",
    "df.describe()"
   ]
  },
  {
   "cell_type": "code",
   "execution_count": null,
   "metadata": {},
   "outputs": [],
   "source": [
    "#null value \n",
    "df.isnull().sum()"
   ]
  },
  {
   "cell_type": "code",
   "execution_count": null,
   "metadata": {},
   "outputs": [],
   "source": [
    "#null value\n",
    "dict_df.isnull().sum()"
   ]
  },
  {
   "cell_type": "markdown",
   "metadata": {},
   "source": [
    "Let's see the number of unique countries present in our dataset"
   ]
  },
  {
   "cell_type": "code",
   "execution_count": null,
   "metadata": {},
   "outputs": [],
   "source": [
    "#number of unique countries\n",
    "df['country'].nunique()"
   ]
  },
  {
   "cell_type": "markdown",
   "metadata": {},
   "source": [
    "As we are going to use Unsupervised learning technique we don't need the country column here.So we are going to drop it"
   ]
  },
  {
   "cell_type": "code",
   "execution_count": null,
   "metadata": {},
   "outputs": [],
   "source": [
    "#drop country column\n",
    "data=df.drop(['country'],axis=1)"
   ]
  },
  {
   "cell_type": "code",
   "execution_count": null,
   "metadata": {},
   "outputs": [],
   "source": [
    "data.head()"
   ]
  },
  {
   "cell_type": "code",
   "execution_count": null,
   "metadata": {},
   "outputs": [],
   "source": [
    "#correlation \n",
    "corr_matrix=data.corr()\n",
    "sns.heatmap(corr_matrix,annot=True)"
   ]
  },
  {
   "cell_type": "markdown",
   "metadata": {},
   "source": [
    "From above we can conclude that:<br>\n",
    "\n",
    "1. gdpp and income,imports and exports,child_mort and total_fert are highly positive correlated<br>\n",
    "2. whereas life_expec and child_mort are highly negative correlated"
   ]
  },
  {
   "cell_type": "code",
   "execution_count": null,
   "metadata": {},
   "outputs": [],
   "source": [
    "#box plot\n",
    "fig, ax = plt.subplots(3, 3, figsize=(15, 15))\n",
    "bp=sns.boxplot(y=df.child_mort,ax=ax[0, 0])\n",
    "ax[0, 0].set_title('Child Mortality Rate')\n",
    "bp=sns.boxplot(y=df.health,ax=ax[0, 1])\n",
    "ax[0, 1].set_title('Health')\n",
    "bp=sns.boxplot(y=df.income,ax=ax[0, 2])\n",
    "ax[0,2].set_title('Income per Person')\n",
    "bp=sns.boxplot(y=df.inflation,ax=ax[1, 0])\n",
    "ax[1,0].set_title('Inflation')\n",
    "bp=sns.boxplot(y=df.imports,ax=ax[1,1])\n",
    "ax[1, 1].set_title('Imports')\n",
    "s=sns.boxplot(y=df.life_expec,ax=ax[1, 2])\n",
    "ax[1,2].set_title('Life Expectancy')\n",
    "s=sns.boxplot(y=df.total_fer,ax=ax[2,0])\n",
    "ax[2,0].set_title('Total Fertility')\n",
    "s=sns.boxplot(y=df.gdpp,ax=ax[2, 1])\n",
    "ax[2,1].set_title('GDP per Capita')\n",
    "s=sns.boxplot(y=df.exports,ax=ax[2,2])\n",
    "ax[2,2].set_title('Exports')\n",
    "plt.show()"
   ]
  },
  {
   "cell_type": "markdown",
   "metadata": {},
   "source": [
    "From above box-plots we can see that their are so many outliers in our dataset.Most of the outliers are in income per person,GDP per captia and Exports.Now we can remove the outliers but we are not going to do it as our dataset is very small (167 rows only)"
   ]
  },
  {
   "cell_type": "code",
   "execution_count": null,
   "metadata": {},
   "outputs": [],
   "source": [
    "sns.pairplot(df)"
   ]
  },
  {
   "cell_type": "markdown",
   "metadata": {},
   "source": [
    "# Scaling data"
   ]
  },
  {
   "cell_type": "markdown",
   "metadata": {},
   "source": [
    "Our dataset is not scaled some values are much bigger than others,if we will not scale our data our model will not going to perform well.So now we are are going to scale our data for this we are going to use a StandardScaler library<br>\n",
    "**StandardScaler** transform the data such the the mean will be 0 and variance will be 1.\n",
    "\n",
    "**Note:-** Scaling data is necessary just for the algorithms which is based on the distance like K-means clustering and Hierarchical clustering"
   ]
  },
  {
   "cell_type": "code",
   "execution_count": null,
   "metadata": {},
   "outputs": [],
   "source": [
    "#scaling data\n",
    "scaling=StandardScaler()\n",
    "scaled=scaling.fit_transform(data)"
   ]
  },
  {
   "cell_type": "code",
   "execution_count": null,
   "metadata": {},
   "outputs": [],
   "source": [
    "scaled_df=pd.DataFrame(scaled,columns=data.columns)\n",
    "\n",
    "# princt scaled dataset\n",
    "scaled_df.head()"
   ]
  },
  {
   "cell_type": "markdown",
   "metadata": {},
   "source": [
    "# K-Means Clustering"
   ]
  },
  {
   "cell_type": "markdown",
   "metadata": {},
   "source": [
    "K-means Clustering is the most popular unsupervised machine learning algorithm.It is a centroid-based or distance-based algorithm.The woking of the alorithms is as follows:<br>\n",
    "1. First we initialize k points called means randomly\n",
    "2. Then we categorize each item to its closest mean and we update the mean's coordinates,which are the averages of the items     categorized in the mean so far\n",
    "3. We repeat the process for a given number of iteartions and at the end,we have our clusters\n",
    "\n",
    "To decide how many number of clusters consider we are going to use a most popular elbow method"
   ]
  },
  {
   "cell_type": "code",
   "execution_count": null,
   "metadata": {},
   "outputs": [],
   "source": [
    "# plot elbow curve\n",
    "\n",
    "a=[]\n",
    "K=range(1,10)\n",
    "for i in K:\n",
    "    kmean=KMeans(n_clusters=i)\n",
    "    kmean.fit(data)\n",
    "    a.append(kmean.inertia_)\n",
    "    \n",
    "plt.plot(K,a,marker='o')\n",
    "plt.title('Elbow Method',fontsize=15)\n",
    "plt.xlabel('Number of clusters',fontsize=15)\n",
    "plt.ylabel('Sum of Squared distance',fontsize=15)\n",
    "plt.show()"
   ]
  },
  {
   "cell_type": "markdown",
   "metadata": {},
   "source": [
    "As we can see the elbow or a knee like bend is at 3.So choosing 3 as a number of clusters "
   ]
  },
  {
   "cell_type": "code",
   "execution_count": null,
   "metadata": {},
   "outputs": [],
   "source": [
    "#chosing no. of clusters as 3 and refitting kmeans model\n",
    "kmeans = KMeans(n_clusters = 3,random_state = 111)\n",
    "kmeans.fit(scaled_df)"
   ]
  },
  {
   "cell_type": "code",
   "execution_count": null,
   "metadata": {},
   "outputs": [],
   "source": [
    "#count number of records in every cluster\n",
    "pd.Series(kmeans.labels_).value_counts()"
   ]
  },
  {
   "cell_type": "markdown",
   "metadata": {},
   "source": [
    "Now we are going to check how our model is,using **Silhouette Coefficient** "
   ]
  },
  {
   "cell_type": "code",
   "execution_count": null,
   "metadata": {},
   "outputs": [],
   "source": [
    "#calculate how good our model is\n",
    "#calculate Silhouette Coefficient for K=3\n",
    "\n",
    "metrics.silhouette_score(scaled_df, kmeans.labels_)"
   ]
  },
  {
   "cell_type": "markdown",
   "metadata": {},
   "source": [
    "# Prediction"
   ]
  },
  {
   "cell_type": "code",
   "execution_count": null,
   "metadata": {},
   "outputs": [],
   "source": [
    "#predicting values\n",
    "cluster_labels = kmeans.fit_predict(scaled_df)"
   ]
  },
  {
   "cell_type": "code",
   "execution_count": null,
   "metadata": {},
   "outputs": [],
   "source": [
    "preds = kmeans.labels_\n",
    "kmeans_df = pd.DataFrame(df)\n",
    "kmeans_df['KMeans_Clusters'] = preds\n",
    "kmeans_df.head(10)"
   ]
  },
  {
   "cell_type": "code",
   "execution_count": null,
   "metadata": {},
   "outputs": [],
   "source": [
    "#save a kmeans file\n",
    "kmeans_df.to_csv('kmeans_result.csv',index=False)"
   ]
  },
  {
   "cell_type": "markdown",
   "metadata": {},
   "source": [
    "# Visualization of clusters"
   ]
  },
  {
   "cell_type": "code",
   "execution_count": null,
   "metadata": {},
   "outputs": [],
   "source": [
    "#visulization of clusters child mortality vs gdpp\n",
    "sns.scatterplot(kmeans_df['child_mort'],kmeans_df['gdpp'],hue='KMeans_Clusters',data=kmeans_df) \n",
    "plt.title(\"Child Mortality vs gdpp\", fontsize=15)\n",
    "plt.xlabel(\"Child Mortality\", fontsize=12)\n",
    "plt.ylabel(\"gdpp\", fontsize=12)\n",
    "plt.show()"
   ]
  },
  {
   "cell_type": "code",
   "execution_count": null,
   "metadata": {},
   "outputs": [],
   "source": [
    "#visulization of clusters inflation vs gdpp\n",
    "sns.scatterplot(kmeans_df['inflation'],kmeans_df['gdpp'],hue='KMeans_Clusters',data=kmeans_df) \n",
    "plt.title(\"inflation vs gdpp\", fontsize=15)\n",
    "plt.xlabel(\"inflation\", fontsize=12)\n",
    "plt.ylabel(\"gdpp\", fontsize=12)\n",
    "plt.show()"
   ]
  },
  {
   "cell_type": "markdown",
   "metadata": {},
   "source": [
    "From above two clusters graph we can conclude that<br>\n",
    "1. Country having high child-mortality, low GDP per catia and low inflation(The measurement of the annual growth rate of the Total GDP) is a **under-developing country**\n",
    "2. Country having low child-mortality, high gdpp and high infaltion is the **developed country**\n",
    "\n",
    "\n",
    "**So here we conclude that**<br>\n",
    "0 = **under-developing country**<br>\n",
    "1 = **developing country**<br>\n",
    "2 = **developed country**<br>"
   ]
  },
  {
   "cell_type": "code",
   "execution_count": null,
   "metadata": {},
   "outputs": [],
   "source": [
    "#find number of developed country,developing country,under-developed country\n",
    "under_developing=kmeans_df[kmeans_df['KMeans_Clusters']==0]['country']\n",
    "developing=kmeans_df[kmeans_df['KMeans_Clusters']==1]['country']\n",
    "developed=kmeans_df[kmeans_df['KMeans_Clusters']==2]['country']\n",
    "\n",
    "print(\"Number of deveoped countries\",len(under_developing))\n",
    "print(\"Number of developing countries\",len(developing))\n",
    "print(\"Number of under-developing countries\",len(developed))"
   ]
  },
  {
   "cell_type": "code",
   "execution_count": null,
   "metadata": {},
   "outputs": [],
   "source": [
    "#list of developed countries\n",
    "list(developed)"
   ]
  },
  {
   "cell_type": "code",
   "execution_count": null,
   "metadata": {},
   "outputs": [],
   "source": [
    "#list of developing countries\n",
    "list(developing)"
   ]
  },
  {
   "cell_type": "markdown",
   "metadata": {},
   "source": [
    "**Let's check that is India is present in developing countries list**"
   ]
  },
  {
   "cell_type": "code",
   "execution_count": null,
   "metadata": {},
   "outputs": [],
   "source": [
    "for i in developing:\n",
    "    if i == 'India':\n",
    "        print('Yes', i , 'is present in developing countries list')     "
   ]
  },
  {
   "cell_type": "code",
   "execution_count": null,
   "metadata": {},
   "outputs": [],
   "source": [
    "#list of under-developing countries\n",
    "list(under_developing)"
   ]
  },
  {
   "cell_type": "markdown",
   "metadata": {},
   "source": [
    "# Hierarchical Clustering"
   ]
  },
  {
   "cell_type": "markdown",
   "metadata": {},
   "source": [
    "Also called Hierarchical cluster analysis or HCA is an unsupervised clustering algorithm which involves creating clusters that have predominant ordering from top to bottom.\n",
    "This clustering technique is divided into two types:\n",
    "1. Agglomerative Hierarchical Clustering\n",
    "2. Divisive Hierarchical Clustering"
   ]
  },
  {
   "cell_type": "markdown",
   "metadata": {},
   "source": [
    "Agglomerative Hierarchical Clustering<br>\n",
    "The Agglomerative Hierarchical Clustering is the most common type of hierarchical clustering used to group objects in clusters based on their similarity. It’s also known as AGNES (Agglomerative Nesting). It's a “bottom-up” approach: each observation starts in its own cluster, and pairs of clusters are merged as one moves up the hierarchy.\n",
    "\n",
    "Dendogram<br>\n",
    "A Dendrogram is a type of tree diagram showing hierarchical relationships between different sets of data."
   ]
  },
  {
   "cell_type": "code",
   "execution_count": null,
   "metadata": {},
   "outputs": [],
   "source": [
    "#plotting dendogram\n",
    "plt.figure(figsize=(50, 12))\n",
    "dend=hcluster.dendrogram(hcluster.linkage(scaled_df,method='ward'))"
   ]
  },
  {
   "cell_type": "markdown",
   "metadata": {},
   "source": [
    "From above dendogram we can take minimum no of clusters as 2 and maximum number of cluster as 5.As we can see fro dendogram 3 in the the right no of clusters ,so we are going to take 3 no of clusters\n",
    " \n"
   ]
  },
  {
   "cell_type": "code",
   "execution_count": null,
   "metadata": {},
   "outputs": [],
   "source": [
    "# Getting labels from Agglomearative Hierarchical clustering\n",
    "hcluster = AgglomerativeClustering(n_clusters=3, affinity='euclidean', linkage='ward')  \n",
    "hcluster.fit_predict(scaled_df)\n",
    "hcluster_label = hcluster.labels_"
   ]
  },
  {
   "cell_type": "code",
   "execution_count": null,
   "metadata": {},
   "outputs": [],
   "source": [
    "hcluster_df = pd.DataFrame(df)\n",
    "#adding hcluster labels in hcluster_df\n",
    "hcluster_df['hcluster'] = hcluster_label\n",
    "#first few rows of hcluster_df\n",
    "hcluster_df.head()"
   ]
  },
  {
   "cell_type": "markdown",
   "metadata": {},
   "source": [
    "# Visualization hcluster"
   ]
  },
  {
   "cell_type": "code",
   "execution_count": null,
   "metadata": {},
   "outputs": [],
   "source": [
    "#visulazing hcluster results\n",
    "#child mortality vs exports \n",
    "sns.scatterplot(hcluster_df['child_mort'],hcluster_df['gdpp'],hue='hcluster',data=hcluster_df)\n",
    "plt.title(\"Child Mortality vs gdpp\", fontsize=15)\n",
    "plt.xlabel(\"Child Mortality\", fontsize=12)\n",
    "plt.ylabel(\"gdpp\", fontsize=12)\n",
    "plt.show()"
   ]
  },
  {
   "cell_type": "code",
   "execution_count": null,
   "metadata": {},
   "outputs": [],
   "source": [
    "#visulazing hcluster results\n",
    "sns.scatterplot(hcluster_df['inflation'],hcluster_df['gdpp'],hue='hcluster',data=hcluster_df)\n",
    "plt.title(\"Inflation vs gdpp\", fontsize=15)\n",
    "plt.xlabel(\"Inflation\", fontsize=12)\n",
    "plt.ylabel(\"gdpp\", fontsize=12)\n",
    "plt.show()"
   ]
  },
  {
   "cell_type": "markdown",
   "metadata": {},
   "source": [
    "From above we can conclude that:-<br>\n",
    "0 = developed country<br>\n",
    "1 = developing country<br>\n",
    "2 = under-developing country"
   ]
  },
  {
   "cell_type": "code",
   "execution_count": null,
   "metadata": {},
   "outputs": [],
   "source": [
    "#find number of developed country,developing country,under-developed country\n",
    "developed=hcluster_df[hcluster_df['hcluster']==0]['country']\n",
    "developing=hcluster_df[hcluster_df['hcluster']==1]['country']\n",
    "under_developing=hcluster_df[hcluster_df['hcluster']==2]['country']\n",
    "\n",
    "print(\"Number of deveoped countries\",len(developed))\n",
    "print(\"Number of developing countries\",len(developing))\n",
    "print(\"Number of under-developing countries\",len(under_developing))"
   ]
  },
  {
   "cell_type": "markdown",
   "metadata": {},
   "source": [
    "**If you like the notebook then don't forget to upvote it**"
   ]
  }
 ],
 "metadata": {
  "kernelspec": {
   "display_name": "Python 3",
   "language": "python",
   "name": "python3"
  },
  "language_info": {
   "codemirror_mode": {
    "name": "ipython",
    "version": 3
   },
   "file_extension": ".py",
   "mimetype": "text/x-python",
   "name": "python",
   "nbconvert_exporter": "python",
   "pygments_lexer": "ipython3",
   "version": "3.6.4"
  }
 },
 "nbformat": 4,
 "nbformat_minor": 4
}
