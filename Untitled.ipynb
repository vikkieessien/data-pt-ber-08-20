{
 "cells": [
  {
   "cell_type": "code",
   "execution_count": 2,
   "metadata": {},
   "outputs": [
    {
     "name": "stdout",
     "output_type": "stream",
     "text": [
      "Enter the number of elements to be in the list:1, 4, 7, 9\n"
     ]
    },
    {
     "ename": "ValueError",
     "evalue": "invalid literal for int() with base 10: '1, 4, 7, 9'",
     "output_type": "error",
     "traceback": [
      "\u001b[1;31m---------------------------------------------------------------------------\u001b[0m",
      "\u001b[1;31mValueError\u001b[0m                                Traceback (most recent call last)",
      "\u001b[1;32m<ipython-input-2-6b01945dcb94>\u001b[0m in \u001b[0;36m<module>\u001b[1;34m\u001b[0m\n\u001b[1;32m----> 1\u001b[1;33m \u001b[0mn\u001b[0m\u001b[1;33m=\u001b[0m\u001b[0mint\u001b[0m\u001b[1;33m(\u001b[0m\u001b[0minput\u001b[0m\u001b[1;33m(\u001b[0m\u001b[1;34m\"Enter the number of elements to be in the list:\"\u001b[0m\u001b[1;33m)\u001b[0m\u001b[1;33m)\u001b[0m\u001b[1;33m\u001b[0m\u001b[1;33m\u001b[0m\u001b[0m\n\u001b[0m\u001b[0;32m      2\u001b[0m \u001b[0mb\u001b[0m\u001b[1;33m=\u001b[0m\u001b[1;33m[\u001b[0m\u001b[1;33m]\u001b[0m\u001b[1;33m\u001b[0m\u001b[1;33m\u001b[0m\u001b[0m\n\u001b[0;32m      3\u001b[0m \u001b[1;32mfor\u001b[0m \u001b[0mi\u001b[0m \u001b[1;32min\u001b[0m \u001b[0mrange\u001b[0m\u001b[1;33m(\u001b[0m\u001b[1;36m0\u001b[0m\u001b[1;33m,\u001b[0m\u001b[0mn\u001b[0m\u001b[1;33m)\u001b[0m\u001b[1;33m:\u001b[0m\u001b[1;33m\u001b[0m\u001b[1;33m\u001b[0m\u001b[0m\n\u001b[0;32m      4\u001b[0m     \u001b[0ma\u001b[0m\u001b[1;33m=\u001b[0m\u001b[0mint\u001b[0m\u001b[1;33m(\u001b[0m\u001b[0minput\u001b[0m\u001b[1;33m(\u001b[0m\u001b[1;34m\"Element: \"\u001b[0m\u001b[1;33m)\u001b[0m\u001b[1;33m)\u001b[0m\u001b[1;33m\u001b[0m\u001b[1;33m\u001b[0m\u001b[0m\n\u001b[0;32m      5\u001b[0m     \u001b[0mb\u001b[0m\u001b[1;33m.\u001b[0m\u001b[0mappend\u001b[0m\u001b[1;33m(\u001b[0m\u001b[0ma\u001b[0m\u001b[1;33m)\u001b[0m\u001b[1;33m\u001b[0m\u001b[1;33m\u001b[0m\u001b[0m\n",
      "\u001b[1;31mValueError\u001b[0m: invalid literal for int() with base 10: '1, 4, 7, 9'"
     ]
    }
   ],
   "source": [
    "n=int(input(\"Enter the number of elements to be in the list:\"))\n",
    "b=[]\n",
    "for i in range(0,n):\n",
    "    a=int(input(\"Element: \"))\n",
    "    b.append(a)\n",
    "sum1=0\n",
    "sum2=0\n",
    "sum3=0\n",
    "for j in b:\n",
    "    if(j>0):\n",
    "        if(j%2==0):\n",
    "            sum1=sum1+j\n",
    "        else:\n",
    "            sum2=sum2+j\n",
    "    else:\n",
    "       \n",
    "        sum3=sum3+j\n",
    "print(\"Sum of all positive even numbers:\",sum1)\n",
    "print(\"Sum of all positive odd numbers:\",sum2)\n",
    "print(\"Sum of all negative numbers:\",sum3)"
   ]
  },
  {
   "cell_type": "code",
   "execution_count": 3,
   "metadata": {},
   "outputs": [],
   "source": [
    "import numpy as np"
   ]
  },
  {
   "cell_type": "code",
   "execution_count": 4,
   "metadata": {},
   "outputs": [
    {
     "name": "stdout",
     "output_type": "stream",
     "text": [
      "[[0.01148339 0.46655191 0.52144914 0.92043431]\n",
      " [0.82154493 0.95297305 0.86767887 0.46422107]\n",
      " [0.2300888  0.86019109 0.36194406 0.23866848]\n",
      " [0.78493671 0.73713375 0.48581752 0.62937365]\n",
      " [0.54981337 0.54786532 0.04143625 0.42713315]\n",
      " [0.90283709 0.45996152 0.11258312 0.86558306]\n",
      " [0.62215391 0.12474067 0.50794419 0.00895141]\n",
      " [0.02274592 0.99403531 0.62335274 0.49229966]\n",
      " [0.01549276 0.16562033 0.26047648 0.60892595]\n",
      " [0.28406636 0.27809639 0.29234991 0.3592159 ]]\n"
     ]
    }
   ],
   "source": [
    "a = np.random.random((10,4))\n",
    "print(a)"
   ]
  },
  {
   "cell_type": "code",
   "execution_count": 5,
   "metadata": {},
   "outputs": [
    {
     "data": {
      "text/plain": [
       "(10, 4)"
      ]
     },
     "execution_count": 5,
     "metadata": {},
     "output_type": "execute_result"
    }
   ],
   "source": [
    "a.shape"
   ]
  },
  {
   "cell_type": "code",
   "execution_count": 6,
   "metadata": {},
   "outputs": [
    {
     "data": {
      "text/plain": [
       "40"
      ]
     },
     "execution_count": 6,
     "metadata": {},
     "output_type": "execute_result"
    }
   ],
   "source": [
    "a.size"
   ]
  },
  {
   "cell_type": "code",
   "execution_count": 7,
   "metadata": {},
   "outputs": [
    {
     "data": {
      "text/plain": [
       "array([0.01148339, 0.46655191, 0.52144914, 0.92043431])"
      ]
     },
     "execution_count": 7,
     "metadata": {},
     "output_type": "execute_result"
    }
   ],
   "source": [
    "a[0]"
   ]
  },
  {
   "cell_type": "code",
   "execution_count": 8,
   "metadata": {},
   "outputs": [
    {
     "data": {
      "text/plain": [
       "0.4665519054344188"
      ]
     },
     "execution_count": 8,
     "metadata": {},
     "output_type": "execute_result"
    }
   ],
   "source": [
    "a[0,1]"
   ]
  },
  {
   "cell_type": "code",
   "execution_count": 9,
   "metadata": {},
   "outputs": [
    {
     "data": {
      "text/plain": [
       "array([0.01148339, 0.82154493, 0.2300888 , 0.78493671, 0.54981337,\n",
       "       0.90283709, 0.62215391, 0.02274592, 0.01549276, 0.28406636])"
      ]
     },
     "execution_count": 9,
     "metadata": {},
     "output_type": "execute_result"
    }
   ],
   "source": [
    "a[:,0]"
   ]
  },
  {
   "cell_type": "code",
   "execution_count": 10,
   "metadata": {},
   "outputs": [],
   "source": [
    "# Ask for clarification for the above"
   ]
  },
  {
   "cell_type": "code",
   "execution_count": 11,
   "metadata": {},
   "outputs": [
    {
     "data": {
      "text/plain": [
       "0.041436254920964144"
      ]
     },
     "execution_count": 11,
     "metadata": {},
     "output_type": "execute_result"
    }
   ],
   "source": [
    "a[4,2]"
   ]
  },
  {
   "cell_type": "code",
   "execution_count": 12,
   "metadata": {},
   "outputs": [
    {
     "name": "stdout",
     "output_type": "stream",
     "text": [
      "[[[[5.07801106e-01 5.50416511e-01 8.51604286e-01 8.54297084e-01\n",
      "    5.12229839e-02]\n",
      "   [4.53337301e-02 4.95268795e-01 8.97872476e-01 7.11963907e-01\n",
      "    4.39136555e-01]\n",
      "   [6.30187768e-01 3.81267913e-01 3.21360619e-01 2.96276010e-01\n",
      "    6.52783022e-01]\n",
      "   [6.60065878e-01 3.90404169e-01 4.73351552e-01 5.34870509e-01\n",
      "    4.99003734e-01]]\n",
      "\n",
      "  [[5.49752707e-01 1.19907201e-01 5.04342036e-01 6.43985790e-01\n",
      "    6.77592138e-01]\n",
      "   [5.60635485e-01 1.88104963e-01 3.33769352e-01 5.84232936e-01\n",
      "    1.44904440e-02]\n",
      "   [1.45575967e-01 8.74883729e-01 9.95724282e-01 9.08922999e-01\n",
      "    8.33736654e-01]\n",
      "   [9.33981445e-01 2.81002624e-01 6.29972373e-01 7.51115886e-02\n",
      "    3.55158047e-02]]\n",
      "\n",
      "  [[1.41698418e-01 2.00117146e-01 5.41264624e-01 7.62943217e-01\n",
      "    8.34480064e-01]\n",
      "   [1.55642505e-01 5.02337242e-01 8.39866390e-01 3.85814825e-01\n",
      "    9.36571288e-01]\n",
      "   [9.00141462e-02 6.26981733e-01 9.07646327e-01 9.83534959e-01\n",
      "    3.35706792e-01]\n",
      "   [5.65806653e-04 1.12809450e-01 9.26403075e-01 5.07558241e-03\n",
      "    6.36728446e-01]]]\n",
      "\n",
      "\n",
      " [[[6.65307668e-01 5.91221470e-01 6.01739916e-04 4.90781715e-02\n",
      "    5.05948755e-01]\n",
      "   [7.02752670e-01 1.15021936e-01 1.96095384e-01 8.75235183e-01\n",
      "    4.43809837e-01]\n",
      "   [2.27591509e-01 3.80416932e-01 3.50343444e-01 5.65404203e-01\n",
      "    1.25352966e-01]\n",
      "   [4.59891006e-01 5.91279321e-01 5.18034792e-01 4.61432180e-01\n",
      "    8.62224625e-01]]\n",
      "\n",
      "  [[6.30928126e-01 9.53960887e-02 9.10239867e-01 1.60861511e-01\n",
      "    2.82570837e-01]\n",
      "   [2.08344346e-01 4.91312823e-02 5.76182159e-01 2.39082607e-01\n",
      "    8.62750004e-01]\n",
      "   [3.13906177e-01 4.33416275e-01 5.32998901e-01 3.93043601e-01\n",
      "    8.82750081e-01]\n",
      "   [4.10506658e-01 9.32284222e-01 7.86310447e-01 3.55872419e-01\n",
      "    4.24429676e-01]]\n",
      "\n",
      "  [[5.40816093e-01 6.64253729e-02 1.74947415e-01 1.00831378e-01\n",
      "    7.15027969e-01]\n",
      "   [2.83126637e-01 4.54730767e-01 8.97973627e-01 5.50281295e-01\n",
      "    6.36675817e-01]\n",
      "   [5.00461016e-01 4.64562101e-01 6.19438750e-01 4.78354431e-01\n",
      "    3.40230248e-01]\n",
      "   [7.27483142e-01 3.79002893e-01 3.62609518e-01 7.83206249e-01\n",
      "    3.17046218e-01]]]]\n"
     ]
    }
   ],
   "source": [
    "c = np.random.random((2,3,4,5))\n",
    "print(c)"
   ]
  },
  {
   "cell_type": "code",
   "execution_count": 13,
   "metadata": {},
   "outputs": [
    {
     "name": "stdout",
     "output_type": "stream",
     "text": [
      "[[[5.07801106e-01 5.50416511e-01 8.51604286e-01 8.54297084e-01\n",
      "   5.12229839e-02]\n",
      "  [4.53337301e-02 4.95268795e-01 8.97872476e-01 7.11963907e-01\n",
      "   4.39136555e-01]\n",
      "  [6.30187768e-01 3.81267913e-01 3.21360619e-01 2.96276010e-01\n",
      "   6.52783022e-01]\n",
      "  [6.60065878e-01 3.90404169e-01 4.73351552e-01 5.34870509e-01\n",
      "   4.99003734e-01]]\n",
      "\n",
      " [[5.49752707e-01 1.19907201e-01 5.04342036e-01 6.43985790e-01\n",
      "   6.77592138e-01]\n",
      "  [5.60635485e-01 1.88104963e-01 3.33769352e-01 5.84232936e-01\n",
      "   1.44904440e-02]\n",
      "  [1.45575967e-01 8.74883729e-01 9.95724282e-01 9.08922999e-01\n",
      "   8.33736654e-01]\n",
      "  [9.33981445e-01 2.81002624e-01 6.29972373e-01 7.51115886e-02\n",
      "   3.55158047e-02]]\n",
      "\n",
      " [[1.41698418e-01 2.00117146e-01 5.41264624e-01 7.62943217e-01\n",
      "   8.34480064e-01]\n",
      "  [1.55642505e-01 5.02337242e-01 8.39866390e-01 3.85814825e-01\n",
      "   9.36571288e-01]\n",
      "  [9.00141462e-02 6.26981733e-01 9.07646327e-01 9.83534959e-01\n",
      "   3.35706792e-01]\n",
      "  [5.65806653e-04 1.12809450e-01 9.26403075e-01 5.07558241e-03\n",
      "   6.36728446e-01]]]\n"
     ]
    }
   ],
   "source": [
    "print(c[0])"
   ]
  },
  {
   "cell_type": "code",
   "execution_count": 14,
   "metadata": {},
   "outputs": [
    {
     "name": "stdout",
     "output_type": "stream",
     "text": [
      "[[0.54975271 0.1199072  0.50434204 0.64398579 0.67759214]\n",
      " [0.56063548 0.18810496 0.33376935 0.58423294 0.01449044]\n",
      " [0.14557597 0.87488373 0.99572428 0.908923   0.83373665]\n",
      " [0.93398144 0.28100262 0.62997237 0.07511159 0.0355158 ]]\n"
     ]
    }
   ],
   "source": [
    "print(c[0,1])"
   ]
  },
  {
   "cell_type": "code",
   "execution_count": 16,
   "metadata": {},
   "outputs": [
    {
     "name": "stdout",
     "output_type": "stream",
     "text": [
      "[5.65806653e-04 1.12809450e-01 9.26403075e-01 5.07558241e-03\n",
      " 6.36728446e-01]\n"
     ]
    }
   ],
   "source": [
    "print(c[0,2,3])"
   ]
  },
  {
   "cell_type": "code",
   "execution_count": 18,
   "metadata": {},
   "outputs": [
    {
     "name": "stdout",
     "output_type": "stream",
     "text": [
      "[0.64398579 0.58423294 0.908923   0.07511159]\n"
     ]
    }
   ],
   "source": [
    "# I don't understand the colon (Ask for clarification)\n",
    "\n",
    "print(c[0,1,:,3])"
   ]
  },
  {
   "cell_type": "code",
   "execution_count": 19,
   "metadata": {},
   "outputs": [
    {
     "name": "stdout",
     "output_type": "stream",
     "text": [
      "0.9089229987751597\n"
     ]
    }
   ],
   "source": [
    "print(c[0,1,2,3])"
   ]
  },
  {
   "cell_type": "code",
   "execution_count": 20,
   "metadata": {},
   "outputs": [
    {
     "name": "stdout",
     "output_type": "stream",
     "text": [
      "18.922171465928063\n"
     ]
    }
   ],
   "source": [
    "# summation using np\n",
    "# sum of all element in matrix\n",
    "print(np.sum(a))"
   ]
  },
  {
   "cell_type": "code",
   "execution_count": 21,
   "metadata": {},
   "outputs": [
    {
     "name": "stdout",
     "output_type": "stream",
     "text": [
      "57.623211175396165\n"
     ]
    }
   ],
   "source": [
    "print(np.sum(c))"
   ]
  },
  {
   "cell_type": "code",
   "execution_count": 22,
   "metadata": {},
   "outputs": [
    {
     "name": "stdout",
     "output_type": "stream",
     "text": [
      "[4.24516322 5.58716932 4.07503229 5.01480663]\n"
     ]
    }
   ],
   "source": [
    "# sum of all element in column (why is it column instead of row?)\n",
    "print(np.sum(a, axis = 0))"
   ]
  },
  {
   "cell_type": "code",
   "execution_count": 23,
   "metadata": {},
   "outputs": [
    {
     "name": "stdout",
     "output_type": "stream",
     "text": [
      "[1.91991875 3.10641792 1.69089243 2.63726162 1.56624809 2.34096478\n",
      " 1.26379018 2.13243362 1.05051552 1.21372856]\n"
     ]
    }
   ],
   "source": [
    "# sum of all element in row (why is it row, instead of column?) \n",
    "print(np.sum(a, axis = 1))"
   ]
  },
  {
   "cell_type": "code",
   "execution_count": 25,
   "metadata": {},
   "outputs": [
    {
     "data": {
      "text/plain": [
       "5.02633666256242"
      ]
     },
     "execution_count": 25,
     "metadata": {},
     "output_type": "execute_result"
    }
   ],
   "source": [
    "# Sum of all the elements in the first two groups of array b\n",
    "np.sum(a[:2])"
   ]
  },
  {
   "cell_type": "code",
   "execution_count": 26,
   "metadata": {},
   "outputs": [],
   "source": [
    "\n",
    "# The np.mean function works the same way and is also very useful."
   ]
  },
  {
   "cell_type": "code",
   "execution_count": 28,
   "metadata": {},
   "outputs": [
    {
     "data": {
      "text/plain": [
       "0.4730542866482016"
      ]
     },
     "execution_count": 28,
     "metadata": {},
     "output_type": "execute_result"
    }
   ],
   "source": [
    "# Mean of all elements in matrix a\n",
    "np.mean(a)"
   ]
  },
  {
   "cell_type": "code",
   "execution_count": 29,
   "metadata": {},
   "outputs": [
    {
     "name": "stdout",
     "output_type": "stream",
     "text": [
      "[0.42451632 0.55871693 0.40750323 0.50148066]\n"
     ]
    }
   ],
   "source": [
    "print(np.mean(a, axis = 0))"
   ]
  },
  {
   "cell_type": "code",
   "execution_count": 30,
   "metadata": {},
   "outputs": [
    {
     "data": {
      "text/plain": [
       "0.6282920828203025"
      ]
     },
     "execution_count": 30,
     "metadata": {},
     "output_type": "execute_result"
    }
   ],
   "source": [
    "np.mean(a[:2])"
   ]
  },
  {
   "cell_type": "code",
   "execution_count": 36,
   "metadata": {},
   "outputs": [
    {
     "name": "stdout",
     "output_type": "stream",
     "text": [
      "[[0.50780111 0.55041651 0.85160429 0.85429708 0.05122298]\n",
      " [0.04533373 0.49526879 0.89787248 0.71196391 0.43913655]\n",
      " [0.63018777 0.38126791 0.32136062 0.29627601 0.65278302]\n",
      " [0.66006588 0.39040417 0.47335155 0.53487051 0.49900373]]\n"
     ]
    }
   ],
   "source": [
    "i = c[0,0]\n",
    "print(i)"
   ]
  },
  {
   "cell_type": "code",
   "execution_count": 37,
   "metadata": {},
   "outputs": [
    {
     "name": "stdout",
     "output_type": "stream",
     "text": [
      "[[0.54975271 0.1199072  0.50434204 0.64398579 0.67759214]\n",
      " [0.56063548 0.18810496 0.33376935 0.58423294 0.01449044]\n",
      " [0.14557597 0.87488373 0.99572428 0.908923   0.83373665]\n",
      " [0.93398144 0.28100262 0.62997237 0.07511159 0.0355158 ]]\n"
     ]
    }
   ],
   "source": [
    "j = c[0,1]\n",
    "print(j)"
   ]
  },
  {
   "cell_type": "code",
   "execution_count": 40,
   "metadata": {},
   "outputs": [
    {
     "name": "stdout",
     "output_type": "stream",
     "text": [
      "[[1.05755381 0.67032371 1.35594632 1.49828287 0.72881512]\n",
      " [0.60596921 0.68337376 1.23164183 1.29619684 0.453627  ]\n",
      " [0.77576373 1.25615164 1.3170849  1.20519901 1.48651968]\n",
      " [1.59404732 0.67140679 1.10332392 0.6099821  0.53451954]]\n"
     ]
    }
   ],
   "source": [
    "# Add elements of i and j together print\n",
    "print(np.add(i,j))"
   ]
  },
  {
   "cell_type": "code",
   "execution_count": 42,
   "metadata": {},
   "outputs": [
    {
     "name": "stdout",
     "output_type": "stream",
     "text": [
      "[[ 0.0419516  -0.43050931 -0.34726225 -0.21031129  0.62636915]\n",
      " [ 0.51530175 -0.30716383 -0.56410312 -0.12773097 -0.42464611]\n",
      " [-0.4846118   0.49361582  0.67436366  0.61264699  0.18095363]\n",
      " [ 0.27391557 -0.10940154  0.15662082 -0.45975892 -0.46348793]]\n"
     ]
    }
   ],
   "source": [
    "print(np.subtract(j,i))"
   ]
  },
  {
   "cell_type": "code",
   "execution_count": 43,
   "metadata": {},
   "outputs": [
    {
     "name": "stdout",
     "output_type": "stream",
     "text": [
      "[[0.27916503 0.0659989  0.42949984 0.55015518 0.03470829]\n",
      " [0.0254157  0.09316252 0.29968231 0.41595276 0.00636328]\n",
      " [0.09174019 0.33356509 0.31998657 0.26929208 0.54424913]\n",
      " [0.61648928 0.1097046  0.2981984  0.04017497 0.01772252]]\n"
     ]
    }
   ],
   "source": [
    "print(np.multiply(j,i))"
   ]
  },
  {
   "cell_type": "code",
   "execution_count": 45,
   "metadata": {},
   "outputs": [
    {
     "name": "stdout",
     "output_type": "stream",
     "text": [
      "[[ 0.92369005  4.59035409  1.68854512  1.32657754  0.0755956 ]\n",
      " [ 0.08086133  2.63293848  2.69009863  1.21863021 30.30525191]\n",
      " [ 4.32892725  0.43579267  0.32274057  0.32596382  0.78296069]\n",
      " [ 0.70672269  1.38932571  0.75138462  7.1210118  14.05018801]]\n"
     ]
    }
   ],
   "source": [
    "print(np.divide(i,j))"
   ]
  },
  {
   "cell_type": "code",
   "execution_count": 49,
   "metadata": {},
   "outputs": [
    {
     "name": "stdout",
     "output_type": "stream",
     "text": [
      "0.2821787839721024\n"
     ]
    }
   ],
   "source": [
    "# calculating the percentile\n",
    "print(np.percentile(c,25))"
   ]
  },
  {
   "cell_type": "code",
   "execution_count": 50,
   "metadata": {},
   "outputs": [
    {
     "name": "stdout",
     "output_type": "stream",
     "text": [
      "0.49713626412179124\n"
     ]
    }
   ],
   "source": [
    "print(np.percentile(c,50))"
   ]
  },
  {
   "cell_type": "code",
   "execution_count": 51,
   "metadata": {},
   "outputs": [
    {
     "name": "stdout",
     "output_type": "stream",
     "text": [
      "0.6613763252357902\n"
     ]
    }
   ],
   "source": [
    "print(np.percentile(c,75))"
   ]
  },
  {
   "cell_type": "code",
   "execution_count": 52,
   "metadata": {},
   "outputs": [
    {
     "name": "stdout",
     "output_type": "stream",
     "text": [
      "0.9957242819410329\n"
     ]
    }
   ],
   "source": [
    "print(np.percentile(c,100))"
   ]
  },
  {
   "cell_type": "code",
   "execution_count": 2,
   "metadata": {},
   "outputs": [],
   "source": [
    "import matplotlib.pyplot as plt"
   ]
  },
  {
   "cell_type": "code",
   "execution_count": null,
   "metadata": {},
   "outputs": [],
   "source": []
  }
 ],
 "metadata": {
  "kernelspec": {
   "display_name": "Python 3",
   "language": "python",
   "name": "python3"
  },
  "language_info": {
   "codemirror_mode": {
    "name": "ipython",
    "version": 3
   },
   "file_extension": ".py",
   "mimetype": "text/x-python",
   "name": "python",
   "nbconvert_exporter": "python",
   "pygments_lexer": "ipython3",
   "version": "3.8.5"
  }
 },
 "nbformat": 4,
 "nbformat_minor": 4
}
